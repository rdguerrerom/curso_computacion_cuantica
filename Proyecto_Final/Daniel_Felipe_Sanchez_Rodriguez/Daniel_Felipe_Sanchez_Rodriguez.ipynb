{
  "nbformat": 4,
  "nbformat_minor": 0,
  "metadata": {
    "colab": {
      "provenance": [],
      "authorship_tag": "ABX9TyO3uTnOjYCZd58MZxpQ7c8H",
      "include_colab_link": true
    },
    "kernelspec": {
      "name": "python3",
      "display_name": "Python 3"
    },
    "language_info": {
      "name": "python"
    }
  },
  "cells": [
    {
      "cell_type": "markdown",
      "metadata": {
        "id": "view-in-github",
        "colab_type": "text"
      },
      "source": [
        "<a href=\"https://colab.research.google.com/github/danielfsanches/curso_computacion_cuantica/blob/patch-5/Proyecto_Final/Daniel_Felipe_Sanchez_Rodriguez/Daniel_Felipe_Sanchez_Rodriguez.ipynb\" target=\"_parent\"><img src=\"https://colab.research.google.com/assets/colab-badge.svg\" alt=\"Open In Colab\"/></a>"
      ]
    },
    {
      "cell_type": "code",
      "execution_count": null,
      "metadata": {
        "id": "Eq58veFOnd9t"
      },
      "outputs": [],
      "source": []
    },
    {
      "cell_type": "markdown",
      "source": [
        "# Origen"
      ],
      "metadata": {
        "id": "nvx7-t2DnyPR"
      }
    },
    {
      "cell_type": "markdown",
      "source": [
        "# ¿Que es  la seguridad informatica?"
      ],
      "metadata": {
        "id": "CTSVP1Nbn3Pf"
      }
    },
    {
      "cell_type": "markdown",
      "source": [
        "la seguridad informatica es la rama  de la seguridad que se encarga de  de protegerlos sistemas informaticos de todo tipo de amenazas ya sean esternas como internas.\n",
        "\n",
        "Las amenazas externas son todas aquellas que atacan a el sistemas de manera remota o que proviene de fuentes externas,como por ejemplo los virus, robos de informacion, etc.\n",
        "\n",
        "En la seguridad informatica existen  4 pilares los cuales son la base de esta misma es decir de la seguridad informatica:\n",
        "\n",
        "-**Disponibilidad**: Los sistemas deben permitir el acceso a la información cuando el usuario lo requiera, sin perder de vista la privacidad.   \n",
        "\n",
        "-**Confidencialidad**. La información solo debe ser accesible para las personas autorizadas.\n",
        "\n",
        "-**Integridad**. Los sistemas deben garantizar la integridad de la información, sin errores ni modificaciones.\n",
        "\n",
        "-**Autenticación**. La información que procede de un usuario debe verificarse para garantizar que es quien dice ser.\n",
        "\n",
        "Sin embargo, la seguridad informática no se refiere únicamente a los ordenadores de tu empresa, sino a multitud de elementos y sistemas: redes informáticas, backup, dominios, direcciones email, servidores, redes VPN\n",
        "\n",
        "para implemantar un buen sistema de seguridad se debe llevar a cabo los siguientes puntos:\n",
        "Definir la estrategia de seguridad informática. En ella no puede faltar la protección de la información mediante contraseñas, cifrado de datos, uso de firewalls, antivirus, etc. Una buena forma de definir esta estrategia, es hacer una auditoría de ciberseguridad interna tipo “GAP Análisis” del SGSI (Sistema de Gestión de la Seguridad Interna) respecto a alguna normativa de seguridad como, por ejemplo, ISO27001\n",
        "Establecer políticas de seguridad. Deben estar orientadas a proteger la información y los activos de la compañía. Entre las medidas que se pueden tomar se encuentran: política de contraseñas segura y actualizada, protección de datos o limitación de acceso a la información. Este paso se simplifica enormemente si has realizado la Auditoría GAP Análisis que indicábamos en el paso anterior.\n",
        "Diseñar un plan de acción. La empresa debe tener un plan de respuesta ante incidentes de seguridad para actuar rápidamente en caso de que se produzca un ataque. Puedes hacerlo por tu cuenta o contratar un servicio gestionado por profesionales que se encarguen de ello.\n",
        "Implementar el plan de acción. Llevar a la práctica las medidas establecidas para proteger los datos de la empresa frente a posibles amenazas. Los planes hay que probarlos y hacer simulacros periódicos para asegurarte de que el plan funciona.\n",
        "Monitorear y evaluar el plan de acción. Verificar que se está siguiendo el plan y que se está cumpliendo los objetivos de seguridad. Esta tarea es engorrosa, pues se trata de medir y evaluar si los controles para verificar el estado de ciberseguridad funcionan y, en su caso, poder tomar acciones correctivas. Afortunadamente, existen en el mercado herramientas de cibercumplimiento que lo hacen de forma automática.\n",
        "Esto no es todo. También debemos definir y aplicar una serie de medidas. Sigue leyendo para descubrir de qué se trata.\n",
        "\n",
        " \n",
        "\n",
        "Consejos y medidas de seguridad informática\n",
        "“El único sistema completamente seguro es aquel que está apagado, encerrado en un bloque de cemento y sellado en una habitación rodeada de alambradas y guardias armados”. La frase la pronunció Stewart Kirkpatrick, abogado canadiense.\n",
        "\n",
        "Teniendo en cuenta que no nos queda más remedio que afrontar los riesgos de ciberseguridad con medidas sólidas, aquí te traemos algunas de las más recomendadas:\n",
        "\n",
        "-No abrir correos electrónicos de procedencia desconocida, ni descargar \n",
        "\n",
        "-archivos adjuntos de estos, o abrir archivos sospechosos.\n",
        "\n",
        "-Controlar el acceso a la información, estableciendo quién y cómo debe \n",
        "\n",
        "-autorizar el acceso. Asigna permisos según perfiles: gestiona la Identidad\n",
        "\n",
        "-Realizar copias de seguridad para proteger la información almacenada.\n",
        "\n",
        "-No visitar páginas web sospechosas.\n",
        "\n",
        "-Cifrar la información sensible. Por ejemplo: datos personales y bancarios\n",
        "\n",
        "-No descargar programas sospechosos.\n",
        "\n",
        "-Evitar compartir información personal o confidencial sin verificar su procedencia.\n",
        "\n",
        "-Utilizar contraseñas seguras robustas con doble factor de autenticación y no compartirlas con otros miembros de la organización.\n",
        "\n",
        "-Activar los cortafuegos y el antivirus.\n",
        "\n",
        "-Mantener actualizados los programas y el sistema operativo.\n",
        "\n",
        "-Evitar el uso de redes inalámbricas no protegidas.\n",
        "\n",
        "-Implementar un software integral de seguridad.\n",
        "\n",
        "-Conocer la política de seguridad y privacidad del proveedor.\n",
        "Definir los servicios cloud permitidos\n",
        "\n",
        "ALGORITMO DE GROVER\n",
        "\n",
        "este algoritmo es uno de los usados en la computacion cuantica para la  la búsqueda en una secuencia no ordenada de datos con N componentes en un tiempo O (N1/2), y con una necesidad adicional de espacio de almacenamiento de O(logN) (véase notación O). Fue inventado por Lov K. Grover en 1996.\n",
        "\n",
        "En una búsqueda normal de un dato, si tenemos una secuencia desordenada se debe realizar una inspección lineal, que necesita un tiempo de O (N), por lo que el algoritmo de Grover es una mejora bastante sustancial, evitando, además, la necesidad de la ordenación previa. La ganancia obtenida es cuadrática, lo que contrasta con otras mejoras de los algoritmos cuánticos que obtienen mejoras de orden exponencial sobre sus contrapartidas clásicas.\n",
        "\n",
        "Al igual que otros algoritmos de naturaleza cuántica, el algoritmo de Grover es un algoritmo de carácter probabilístico, por lo que produce la respuesta correcta con una determinada probabilidad de error, que, no obstante, puede obtenerse tan baja como se desee por medio de iteraciones.\n",
        "\n",
        "Aplicaciones: \n",
        "las aplicaciones que suele tener este tipo de algoritmo es  la búsqueda en una secuencia, se podría describir de una manera más adecuada como la \"inversión de una función\". Así, si tenemos la función y=f (x), que puede ser evaluada en un computador cuántico, este algoritmo nos permite calcular el valor de x cuando se nos da como entrada el valor de y. Invertir una función puede relacionarse con la búsqueda en una secuencia, si consideramos que la misma es una función que produce el valor de y como la posición ocupada por el valor x en dicha secuencia.\n",
        "\n",
        "El algoritmo de Grover también se puede utilizar para el cálculo de la media y la mediana de un conjunto de números, y para resolver otros problemas de naturaleza análoga. También se puede utilizar para resolver algunos problemas de naturaleza NP-completa, por medio de inspecciones exhaustivas en un espacio de posibles soluciones. Esto resulta en una apreciable mejora sobre soluciones clásica\n",
        "\n"
      ],
      "metadata": {
        "id": "mEHi85CzrlOj"
      }
    },
    {
      "cell_type": "markdown",
      "source": [
        "# ¿Como?"
      ],
      "metadata": {
        "id": "RDv85Zc_QPS3"
      }
    },
    {
      "cell_type": "markdown",
      "source": [
        "\n",
        "Para dar un inicio a este proyecto realizare pruebas con algunos conceptos vistos en clase (Q-bits, puertas lógicas, operaciones básicas ) , también realizare pruebas con los algoritmos que ya se encuentran planteados por sus ponentes principales, después se tratara de hacer una implementación de estos mismos  con un enfoque hacia la seguridad de la información, esto se realizara uniendo las operaciones  y algoritmos básicos que se maneja en la encriptación y desencriptación que usa la seguridad a los algoritmos cuánticos . logrando así un hibrido entre estas dos para dar como resultado un nuevo algoritmo de seguridad con un refuerzo mas centrado gracias a la computación cuántica."
      ],
      "metadata": {
        "id": "2fqSShFTohY9"
      }
    },
    {
      "cell_type": "markdown",
      "source": [
        "# ¿Cuándo?"
      ],
      "metadata": {
        "id": "zCtZGAeAQgBp"
      }
    },
    {
      "cell_type": "markdown",
      "source": [
        "\n",
        "Para la creación de este algoritmo hibrido se ha dispuesto de un tiempo de 5 meses como un Max, dando como fecha de finalización la fecha de el 15 de diciembre como una fecha máxima es decir lo estipulado en días equivaldrían a 130 días contando con los días festivos"
      ],
      "metadata": {
        "id": "zPUgzfXTQc_2"
      }
    },
    {
      "cell_type": "markdown",
      "source": [
        "# ¿Dónde?"
      ],
      "metadata": {
        "id": "5rlDSJhuQsZd"
      }
    },
    {
      "cell_type": "markdown",
      "source": [
        "\n",
        "Esta implementación de algoritmo hibrido entre computación cuántica y seguridad informática se realizará bajo un ambiente o lenguaje Python, debido a que este es el que mejor maneja por no decir que es el único lenguaje que se adapta para la realización de este mismo así que por eso es el más óptimos, se pasara o usar el ambienté del que dispone IBM para el uso de Q-bits para ver que su realización fue todo un éxito, además de usar el entorno por así decirlo que nos frece Google colab  para la digitación del código que será usado  "
      ],
      "metadata": {
        "id": "eLZtcpUHQpum"
      }
    },
    {
      "cell_type": "markdown",
      "source": [
        "# conclusion"
      ],
      "metadata": {
        "id": "IvoJV3-ZfaGB"
      }
    },
    {
      "cell_type": "markdown",
      "source": [
        "se logra hacer una implentacion de encriptacion lastimosamente no se lobgra lo planeado de la hibridad de codigos debido a que es una teoria en proceso y no ha sido implementado por nadie haste el dia de hoy asi que se postula una posible solucion para esta hibridacion"
      ],
      "metadata": {
        "id": "T1tq-Si0gSqS"
      }
    },
    {
      "cell_type": "markdown",
      "source": [
        "Biliografia\n",
        "https://www.grupocibernos.com/blog/que-es-la-seguridad-informatica-y-como-implementarla\n",
        "\n",
        "https://www.thenewnow.es/innovacion/seguridad-la-computacion-cuantica/"
      ],
      "metadata": {
        "id": "ieh41nfYnHeo"
      }
    },
    {
      "cell_type": "markdown",
      "source": [
        "implementacion"
      ],
      "metadata": {
        "id": "rz0koONZvT-b"
      }
    },
    {
      "cell_type": "code",
      "source": [
        "import pandas as pd\n",
        "import numpy as np\n",
        "from copy import deepcopy"
      ],
      "metadata": {
        "id": "JB1lRI9Eay_u"
      },
      "execution_count": 5,
      "outputs": []
    },
    {
      "cell_type": "code",
      "source": [
        "print(\"Posiciones de los indices del mensaje\")\n",
        "pd.DataFrame([\n",
        "    ['m', 'e', 'n', 's', 'a', 'j', 'e', ' ', 'e', 'n', 'v', 'i', 'a', 'd', 'o', ' '],\n",
        "    ['6D', '65', '6E', '73', '61', '6A', '65', '20', '65', '6E', '76', '69', '61', '64', '6F', '20']\n",
        "])"
      ],
      "metadata": {
        "colab": {
          "base_uri": "https://localhost:8080/",
          "height": 129
        },
        "id": "fzbPspBacb97",
        "outputId": "ed3fcbda-5252-479e-b8b2-42b8dfbd7ad0"
      },
      "execution_count": 6,
      "outputs": [
        {
          "output_type": "stream",
          "name": "stdout",
          "text": [
            "Posiciones de los indices del mensaje\n"
          ]
        },
        {
          "output_type": "execute_result",
          "data": {
            "text/plain": [
              "   0   1   2   3   4   5   6   7   8   9   10  11  12  13  14  15\n",
              "0   m   e   n   s   a   j   e       e   n   v   i   a   d   o    \n",
              "1  6D  65  6E  73  61  6A  65  20  65  6E  76  69  61  64  6F  20"
            ],
            "text/html": [
              "\n",
              "  <div id=\"df-b6f9e93d-e242-43db-9178-f90c56080d3f\">\n",
              "    <div class=\"colab-df-container\">\n",
              "      <div>\n",
              "<style scoped>\n",
              "    .dataframe tbody tr th:only-of-type {\n",
              "        vertical-align: middle;\n",
              "    }\n",
              "\n",
              "    .dataframe tbody tr th {\n",
              "        vertical-align: top;\n",
              "    }\n",
              "\n",
              "    .dataframe thead th {\n",
              "        text-align: right;\n",
              "    }\n",
              "</style>\n",
              "<table border=\"1\" class=\"dataframe\">\n",
              "  <thead>\n",
              "    <tr style=\"text-align: right;\">\n",
              "      <th></th>\n",
              "      <th>0</th>\n",
              "      <th>1</th>\n",
              "      <th>2</th>\n",
              "      <th>3</th>\n",
              "      <th>4</th>\n",
              "      <th>5</th>\n",
              "      <th>6</th>\n",
              "      <th>7</th>\n",
              "      <th>8</th>\n",
              "      <th>9</th>\n",
              "      <th>10</th>\n",
              "      <th>11</th>\n",
              "      <th>12</th>\n",
              "      <th>13</th>\n",
              "      <th>14</th>\n",
              "      <th>15</th>\n",
              "    </tr>\n",
              "  </thead>\n",
              "  <tbody>\n",
              "    <tr>\n",
              "      <th>0</th>\n",
              "      <td>m</td>\n",
              "      <td>e</td>\n",
              "      <td>n</td>\n",
              "      <td>s</td>\n",
              "      <td>a</td>\n",
              "      <td>j</td>\n",
              "      <td>e</td>\n",
              "      <td></td>\n",
              "      <td>e</td>\n",
              "      <td>n</td>\n",
              "      <td>v</td>\n",
              "      <td>i</td>\n",
              "      <td>a</td>\n",
              "      <td>d</td>\n",
              "      <td>o</td>\n",
              "      <td></td>\n",
              "    </tr>\n",
              "    <tr>\n",
              "      <th>1</th>\n",
              "      <td>6D</td>\n",
              "      <td>65</td>\n",
              "      <td>6E</td>\n",
              "      <td>73</td>\n",
              "      <td>61</td>\n",
              "      <td>6A</td>\n",
              "      <td>65</td>\n",
              "      <td>20</td>\n",
              "      <td>65</td>\n",
              "      <td>6E</td>\n",
              "      <td>76</td>\n",
              "      <td>69</td>\n",
              "      <td>61</td>\n",
              "      <td>64</td>\n",
              "      <td>6F</td>\n",
              "      <td>20</td>\n",
              "    </tr>\n",
              "  </tbody>\n",
              "</table>\n",
              "</div>\n",
              "      <button class=\"colab-df-convert\" onclick=\"convertToInteractive('df-b6f9e93d-e242-43db-9178-f90c56080d3f')\"\n",
              "              title=\"Convert this dataframe to an interactive table.\"\n",
              "              style=\"display:none;\">\n",
              "        \n",
              "  <svg xmlns=\"http://www.w3.org/2000/svg\" height=\"24px\"viewBox=\"0 0 24 24\"\n",
              "       width=\"24px\">\n",
              "    <path d=\"M0 0h24v24H0V0z\" fill=\"none\"/>\n",
              "    <path d=\"M18.56 5.44l.94 2.06.94-2.06 2.06-.94-2.06-.94-.94-2.06-.94 2.06-2.06.94zm-11 1L8.5 8.5l.94-2.06 2.06-.94-2.06-.94L8.5 2.5l-.94 2.06-2.06.94zm10 10l.94 2.06.94-2.06 2.06-.94-2.06-.94-.94-2.06-.94 2.06-2.06.94z\"/><path d=\"M17.41 7.96l-1.37-1.37c-.4-.4-.92-.59-1.43-.59-.52 0-1.04.2-1.43.59L10.3 9.45l-7.72 7.72c-.78.78-.78 2.05 0 2.83L4 21.41c.39.39.9.59 1.41.59.51 0 1.02-.2 1.41-.59l7.78-7.78 2.81-2.81c.8-.78.8-2.07 0-2.86zM5.41 20L4 18.59l7.72-7.72 1.47 1.35L5.41 20z\"/>\n",
              "  </svg>\n",
              "      </button>\n",
              "      \n",
              "  <style>\n",
              "    .colab-df-container {\n",
              "      display:flex;\n",
              "      flex-wrap:wrap;\n",
              "      gap: 12px;\n",
              "    }\n",
              "\n",
              "    .colab-df-convert {\n",
              "      background-color: #E8F0FE;\n",
              "      border: none;\n",
              "      border-radius: 50%;\n",
              "      cursor: pointer;\n",
              "      display: none;\n",
              "      fill: #1967D2;\n",
              "      height: 32px;\n",
              "      padding: 0 0 0 0;\n",
              "      width: 32px;\n",
              "    }\n",
              "\n",
              "    .colab-df-convert:hover {\n",
              "      background-color: #E2EBFA;\n",
              "      box-shadow: 0px 1px 2px rgba(60, 64, 67, 0.3), 0px 1px 3px 1px rgba(60, 64, 67, 0.15);\n",
              "      fill: #174EA6;\n",
              "    }\n",
              "\n",
              "    [theme=dark] .colab-df-convert {\n",
              "      background-color: #3B4455;\n",
              "      fill: #D2E3FC;\n",
              "    }\n",
              "\n",
              "    [theme=dark] .colab-df-convert:hover {\n",
              "      background-color: #434B5C;\n",
              "      box-shadow: 0px 1px 3px 1px rgba(0, 0, 0, 0.15);\n",
              "      filter: drop-shadow(0px 1px 2px rgba(0, 0, 0, 0.3));\n",
              "      fill: #FFFFFF;\n",
              "    }\n",
              "  </style>\n",
              "\n",
              "      <script>\n",
              "        const buttonEl =\n",
              "          document.querySelector('#df-b6f9e93d-e242-43db-9178-f90c56080d3f button.colab-df-convert');\n",
              "        buttonEl.style.display =\n",
              "          google.colab.kernel.accessAllowed ? 'block' : 'none';\n",
              "\n",
              "        async function convertToInteractive(key) {\n",
              "          const element = document.querySelector('#df-b6f9e93d-e242-43db-9178-f90c56080d3f');\n",
              "          const dataTable =\n",
              "            await google.colab.kernel.invokeFunction('convertToInteractive',\n",
              "                                                     [key], {});\n",
              "          if (!dataTable) return;\n",
              "\n",
              "          const docLinkHtml = 'Like what you see? Visit the ' +\n",
              "            '<a target=\"_blank\" href=https://colab.research.google.com/notebooks/data_table.ipynb>data table notebook</a>'\n",
              "            + ' to learn more about interactive tables.';\n",
              "          element.innerHTML = '';\n",
              "          dataTable['output_type'] = 'display_data';\n",
              "          await google.colab.output.renderOutput(dataTable, element);\n",
              "          const docLink = document.createElement('div');\n",
              "          docLink.innerHTML = docLinkHtml;\n",
              "          element.appendChild(docLink);\n",
              "        }\n",
              "      </script>\n",
              "    </div>\n",
              "  </div>\n",
              "  "
            ]
          },
          "metadata": {},
          "execution_count": 6
        }
      ]
    },
    {
      "cell_type": "code",
      "source": [
        "def get_hexa(ch: str) -> str:\n",
        "  \"\"\"\n",
        "  Return the hexadecimal representation of a character\n",
        "  params:\n",
        "    ch: character to convert to hexadecimal\n",
        "  \"\"\"\n",
        "  return format(ord(ch), \"x\").upper()"
      ],
      "metadata": {
        "id": "cq8TU8d9cp5Z"
      },
      "execution_count": 8,
      "outputs": []
    },
    {
      "cell_type": "code",
      "source": [
        "def get_bin_from_hex(ch_hex: str) -> str:\n",
        "  \"\"\"\n",
        "  return 4 bit binary representation of a hexadecimal character\n",
        "  params:\n",
        "    ch_hex: hexadecimal character to represent in 4 bit binary\n",
        "  \"\"\"\n",
        "  if len(ch_hex) != 1:\n",
        "    raise ValueError(f\"The argument {ch_hex} must have a length of one\")\n",
        "  ch_hex = ch_hex.upper()\n",
        "  try:\n",
        "    return bin(int(ch_hex, 16))[2:].zfill(4)\n",
        "  except ValueError:\n",
        "    raise ValueError(f\"{ch_hex} is not a valid hexadecimal value\")"
      ],
      "metadata": {
        "id": "x-obqItqc9vh"
      },
      "execution_count": 9,
      "outputs": []
    },
    {
      "cell_type": "code",
      "source": [
        "def fgb(hex_value: str) -> str:\n",
        "  \"\"\"\n",
        "  Return a 8 bit binary representation of a couple of given hexadecimal values\n",
        "  \"\"\"\n",
        "  if len(hex_value) != 2:\n",
        "    raise ValueError(\"The argument must have a length of two\")\n",
        "  return \"\".join([get_bin_from_hex(hex_value[0]), get_bin_from_hex(hex_value[1])])"
      ],
      "metadata": {
        "id": "ahY0I_nldE6x"
      },
      "execution_count": 10,
      "outputs": []
    },
    {
      "cell_type": "code",
      "source": [
        "def bin_to_hex(bin_val: str) -> str:\n",
        "  \"\"\"\n",
        "  Return the hexadecimal representation of 4bit binary value\n",
        "  params:\n",
        "    bin_val: 4bit binary value to represent in hexadecimal\n",
        "  \"\"\"\n",
        "  if len(bin_val) != 4:\n",
        "    raise ValueError(\"The argument must have a length of four\")\n",
        "  return hex(int(bin_val, 2))[2:].upper()"
      ],
      "metadata": {
        "id": "gkrSzrHOdMzp"
      },
      "execution_count": 11,
      "outputs": []
    },
    {
      "cell_type": "markdown",
      "source": [
        "S-box\n",
        "```\n",
        "{'0': {'0': '63', '1': '7С', '2': '77', '3': '7В', '4': 'F2', '5': '6B', '6': '6F', '7': 'С5', '8': '30', '9': '01', 'А': '67', 'B': '2В', 'С': 'FE', 'D': 'D7', 'Е': 'АВ', 'F': '76'}, '1': {'0': 'СА', '1': '82', '2': 'С9', '3': '7D', '4': 'FA', '5': '59', '6': '47', '7': 'F0', '8': 'AD', '9': 'D4', 'А': 'А2', 'B': 'АF', 'С': '9C', 'D': 'А4', 'Е': '72', 'F': 'C0'}, '2': {'0': 'В7', '1': 'FD', '2': '93', '3': '26', '4': '36', '5': '3F', '6': 'F7', '7': 'CC', '8': '34', '9': 'А5', 'А': 'Е5', 'B': 'F1', 'С': '71', 'D': 'D8', 'Е': '31', 'F': '15'}, '3': {'0': '04', '1': 'C7', '2': '23', '3': 'C3', '4': '18', '5': '96', '6': '05', '7': '9А', '8': '07', '9': '12', 'А': '80', 'B': 'Е2', 'С': 'ЕВ', 'D': '27', 'Е': 'В2', 'F': '75'}, '4': {'0': '09', '1': '83', '2': '2C', '3': '1А', '4': '1B', '5': '6E', '6': '5А', '7': 'A0', '8': '52', '9': '3B', 'А': 'D6', 'B': 'B3', 'С': '29', 'D': 'ЕЗ', 'Е': '2F', 'F': '84'}, '5': {'0': '53', '1': 'D1', '2': '00', '3': 'ED', '4': '20', '5': 'FC', '6': 'B1', '7': '5В', '8': '6А', '9': 'CB', 'А': 'ВЕ', 'B': '39', 'С': '4А', 'D': '4C', 'Е': '58', 'F': 'CF'}, '6': {'0': 'D0', '1': 'ЕF', '2': 'АА', '3': 'FB', '4': '43', '5': '4D', '6': '33', '7': '85', '8': '45', '9': 'F9', 'А': '02', 'B': '7F', 'С': '50', 'D': '3C', 'Е': '9F', 'F': 'А8'}, '7': {'0': '51', '1': 'АЗ', '2': '40', '3': '8F', '4': '92', '5': '9D', '6': '38', '7': 'F5', '8': 'BC', '9': 'B6', 'А': 'DA', 'B': '21', 'С': '10', 'D': 'FF', 'Е': 'F3', 'F': 'D2'}, '8': {'0': 'CD', '1': '0C', '2': '13', '3': 'EC', '4': '5F', '5': '97', '6': '44', '7': '17', '8': 'С4', '9': 'А7', 'А': '7E', 'B': 'ЗD', 'С': '64', 'D': '5D', 'Е': '19', 'F': '73'}, '9': {'0': '60', '1': '81', '2': '4F', '3': 'DC', '4': '22', '5': '2А', '6': '90', '7': '88', '8': '46', '9': 'ЕЕ', 'А': 'B8', 'B': '14', 'С': 'DE', 'D': '5E', 'Е': '0B', 'F': 'DB'}, 'A': {'0': 'ЕО', '1': '32', '2': '3A', '3': '0A', '4': '49', '5': '06', '6': '24', '7': '5С', '8': 'С2', '9': 'D3', 'А': 'АС', 'B': '62', 'С': '91', 'D': '95', 'Е': 'Е4', 'F': '79'}, 'B': {'0': 'Е7', '1': 'С8', '2': '37', '3': '6D', '4': '8D', '5': 'D5', '6': '4Е', '7': 'А9', '8': '6C', '9': '56', 'А': 'F4', 'B': 'ЕА', 'С': '65', 'D': '7А', 'Е': 'АЕ', 'F': '08'}, 'C': {'0': 'ВА', '1': '78', '2': '25', '3': '2E', '4': '1C', '5': 'A6', '6': 'В4', '7': 'C6', '8': 'Е8', '9': 'DD', 'А': '74', 'B': '1F', 'С': '4B', 'D': 'BD', 'Е': '8B', 'F': '8А'}, 'D': {'0': '70', '1': 'ЗЕ', '2': 'B5', '3': '66', '4': '48', '5': '03', '6': 'F6', '7': '0E', '8': '61', '9': '35', 'А': '57', 'B': 'В9', 'С': '86', 'D': 'C1', 'Е': '1D', 'F': '9Е'}, 'E': {'0': 'E1', '1': 'F8', '2': '98', '3': '11', '4': '69', '5': 'D9', '6': '8Е', '7': '94', '8': '9В', '9': '1E', 'А': '87', 'B': 'Е9', 'С': 'СЕ', 'D': '55', 'Е': '28', 'F': 'DF'}, 'F': {'0': '8C', '1': 'A1', '2': '89', '3': 'ОD', '4': 'BF', '5': 'E6', '6': '42', '7': '68', '8': '41', '9': '99', 'А': '2D', 'B': '0F', 'С': 'B0', 'D': '54', 'Е': 'ВВ', 'F': '16'}}\n",
        "```"
      ],
      "metadata": {
        "id": "nKJxj9agdbA7"
      }
    },
    {
      "cell_type": "code",
      "source": [
        "a = {'0': {'0': '63', '1': '7С', '2': '77', '3': '7В', '4': 'F2', '5': '6B', '6': '6F', '7': 'С5', '8': '30', '9': '01', 'А': '67', 'B': '2В', 'С': 'FE', 'D': 'D7', 'Е': 'АВ', 'F': '76'}, '1': {'0': 'СА', '1': '82', '2': 'С9', '3': '7D', '4': 'FA', '5': '59', '6': '47', '7': 'F0', '8': 'AD', '9': 'D4', 'А': 'А2', 'B': 'АF', 'С': '9C', 'D': 'А4', 'Е': '72', 'F': 'C0'}, '2': {'0': 'В7', '1': 'FD', '2': '93', '3': '26', '4': '36', '5': '3F', '6': 'F7', '7': 'CC', '8': '34', '9': 'А5', 'А': 'Е5', 'B': 'F1', 'С': '71', 'D': 'D8', 'Е': '31', 'F': '15'}, '3': {'0': '04', '1': 'C7', '2': '23', '3': 'C3', '4': '18', '5': '96', '6': '05', '7': '9А', '8': '07', '9': '12', 'А': '80', 'B': 'Е2', 'С': 'ЕВ', 'D': '27', 'Е': 'В2', 'F': '75'}, '4': {'0': '09', '1': '83', '2': '2C', '3': '1А', '4': '1B', '5': '6E', '6': '5А', '7': 'A0', '8': '52', '9': '3B', 'А': 'D6', 'B': 'B3', 'С': '29', 'D': 'ЕЗ', 'Е': '2F', 'F': '84'}, '5': {'0': '53', '1': 'D1', '2': '00', '3': 'ED', '4': '20', '5': 'FC', '6': 'B1', '7': '5В', '8': '6А', '9': 'CB', 'А': 'ВЕ', 'B': '39', 'С': '4А', 'D': '4C', 'Е': '58', 'F': 'CF'}, '6': {'0': 'D0', '1': 'ЕF', '2': 'АА', '3': 'FB', '4': '43', '5': '4D', '6': '33', '7': '85', '8': '45', '9': 'F9', 'А': '02', 'B': '7F', 'С': '50', 'D': '3C', 'Е': '9F', 'F': 'А8'}, '7': {'0': '51', '1': 'АЗ', '2': '40', '3': '8F', '4': '92', '5': '9D', '6': '38', '7': 'F5', '8': 'BC', '9': 'B6', 'А': 'DA', 'B': '21', 'С': '10', 'D': 'FF', 'Е': 'F3', 'F': 'D2'}, '8': {'0': 'CD', '1': '0C', '2': '13', '3': 'EC', '4': '5F', '5': '97', '6': '44', '7': '17', '8': 'С4', '9': 'А7', 'А': '7E', 'B': 'ЗD', 'С': '64', 'D': '5D', 'Е': '19', 'F': '73'}, '9': {'0': '60', '1': '81', '2': '4F', '3': 'DC', '4': '22', '5': '2А', '6': '90', '7': '88', '8': '46', '9': 'ЕЕ', 'А': 'B8', 'B': '14', 'С': 'DE', 'D': '5E', 'Е': '0B', 'F': 'DB'}, 'A': {'0': 'ЕО', '1': '32', '2': '3A', '3': '0A', '4': '49', '5': '06', '6': '24', '7': '5С', '8': 'С2', '9': 'D3', 'А': 'АС', 'B': '62', 'С': '91', 'D': '95', 'Е': 'Е4', 'F': '79'}, 'B': {'0': 'Е7', '1': 'С8', '2': '37', '3': '6D', '4': '8D', '5': 'D5', '6': '4Е', '7': 'А9', '8': '6C', '9': '56', 'А': 'F4', 'B': 'ЕА', 'С': '65', 'D': '7А', 'Е': 'АЕ', 'F': '08'}, 'C': {'0': 'ВА', '1': '78', '2': '25', '3': '2E', '4': '1C', '5': 'A6', '6': 'В4', '7': 'C6', '8': 'Е8', '9': 'DD', 'А': '74', 'B': '1F', 'С': '4B', 'D': 'BD', 'Е': '8B', 'F': '8А'}, 'D': {'0': '70', '1': 'ЗЕ', '2': 'B5', '3': '66', '4': '48', '5': '03', '6': 'F6', '7': '0E', '8': '61', '9': '35', 'А': '57', 'B': 'В9', 'С': '86', 'D': 'C1', 'Е': '1D', 'F': '9Е'}, 'E': {'0': 'E1', '1': 'F8', '2': '98', '3': '11', '4': '69', '5': 'D9', '6': '8Е', '7': '94', '8': '9В', '9': '1E', 'А': '87', 'B': 'Е9', 'С': 'СЕ', 'D': '55', 'Е': '28', 'F': 'DF'}, 'F': {'0': '8C', '1': 'A1', '2': '89', '3': 'ОD', '4': 'BF', '5': 'E6', '6': '42', '7': '68', '8': '41', '9': '99', 'А': '2D', 'B': '0F', 'С': 'B0', 'D': '54', 'Е': 'ВВ', 'F': '16'}}"
      ],
      "metadata": {
        "id": "JHhYVbL2c1pv"
      },
      "execution_count": 13,
      "outputs": []
    },
    {
      "cell_type": "code",
      "source": [
        "s_box = pd.DataFrame(a).T"
      ],
      "metadata": {
        "id": "PdmN2EvKdmv3"
      },
      "execution_count": 14,
      "outputs": []
    },
    {
      "cell_type": "code",
      "source": [
        "# Reemplazando caracteres tomados por Python en idioma Ruso a español\n",
        "\n",
        "s_box.index = [i.replace(\"З\", \"3\").replace('А', \"A\").replace('В', 'B').replace('C', 'C').replace('D', 'D').replace('Е', 'E').replace('F', 'F') for i in s_box.index]\n",
        "s_box = s_box.replace(\"З\", \"3\", regex=True).replace('А', \"A\", regex=True).replace('В', 'B', regex=True).replace('C', 'C', regex=True).replace('D', 'D', regex=True).replace('Е', 'E', regex=True).replace('F', 'F', regex=True)"
      ],
      "metadata": {
        "id": "z2O_GR8mO1Dd"
      },
      "execution_count": null,
      "outputs": []
    },
    {
      "cell_type": "code",
      "source": [
        "print(\"Tabla S-Box directa\")\n",
        "s_box"
      ],
      "metadata": {
        "colab": {
          "base_uri": "https://localhost:8080/",
          "height": 551
        },
        "id": "sPyVLgYHP9XV",
        "outputId": "56caecde-7c71-4fa7-8569-1e5d5f90794a"
      },
      "execution_count": null,
      "outputs": [
        {
          "output_type": "execute_result",
          "data": {
            "text/plain": [
              "    0   1   2   3   4   5   6   7   8   9   А   B   С   D   Е   F\n",
              "0  63  7С  77  7B  F2  6B  6F  С5  30  01  67  2B  FE  D7  AB  76\n",
              "1  СA  82  С9  7D  FA  59  47  F0  AD  D4  A2  AF  9C  A4  72  C0\n",
              "2  B7  FD  93  26  36  3F  F7  CC  34  A5  E5  F1  71  D8  31  15\n",
              "3  04  C7  23  C3  18  96  05  9A  07  12  80  E2  EB  27  B2  75\n",
              "4  09  83  2C  1A  1B  6E  5A  A0  52  3B  D6  B3  29  E3  2F  84\n",
              "5  53  D1  00  ED  20  FC  B1  5B  6A  CB  BE  39  4A  4C  58  CF\n",
              "6  D0  EF  AA  FB  43  4D  33  85  45  F9  02  7F  50  3C  9F  A8\n",
              "7  51  A3  40  8F  92  9D  38  F5  BC  B6  DA  21  10  FF  F3  D2\n",
              "8  CD  0C  13  EC  5F  97  44  17  С4  A7  7E  3D  64  5D  19  73\n",
              "9  60  81  4F  DC  22  2A  90  88  46  EE  B8  14  DE  5E  0B  DB\n",
              "A  EО  32  3A  0A  49  06  24  5С  С2  D3  AС  62  91  95  E4  79\n",
              "B  E7  С8  37  6D  8D  D5  4E  A9  6C  56  F4  EA  65  7A  AE  08\n",
              "C  BA  78  25  2E  1C  A6  B4  C6  E8  DD  74  1F  4B  BD  8B  8A\n",
              "D  70  3E  B5  66  48  03  F6  0E  61  35  57  B9  86  C1  1D  9E\n",
              "E  E1  F8  98  11  69  D9  8E  94  9B  1E  87  E9  СE  55  28  DF\n",
              "F  8C  A1  89  ОD  BF  E6  42  68  41  99  2D  0F  B0  54  BB  16"
            ],
            "text/html": [
              "\n",
              "  <div id=\"df-a816ea91-39c0-4874-9af3-4dd626a2b695\">\n",
              "    <div class=\"colab-df-container\">\n",
              "      <div>\n",
              "<style scoped>\n",
              "    .dataframe tbody tr th:only-of-type {\n",
              "        vertical-align: middle;\n",
              "    }\n",
              "\n",
              "    .dataframe tbody tr th {\n",
              "        vertical-align: top;\n",
              "    }\n",
              "\n",
              "    .dataframe thead th {\n",
              "        text-align: right;\n",
              "    }\n",
              "</style>\n",
              "<table border=\"1\" class=\"dataframe\">\n",
              "  <thead>\n",
              "    <tr style=\"text-align: right;\">\n",
              "      <th></th>\n",
              "      <th>0</th>\n",
              "      <th>1</th>\n",
              "      <th>2</th>\n",
              "      <th>3</th>\n",
              "      <th>4</th>\n",
              "      <th>5</th>\n",
              "      <th>6</th>\n",
              "      <th>7</th>\n",
              "      <th>8</th>\n",
              "      <th>9</th>\n",
              "      <th>А</th>\n",
              "      <th>B</th>\n",
              "      <th>С</th>\n",
              "      <th>D</th>\n",
              "      <th>Е</th>\n",
              "      <th>F</th>\n",
              "    </tr>\n",
              "  </thead>\n",
              "  <tbody>\n",
              "    <tr>\n",
              "      <th>0</th>\n",
              "      <td>63</td>\n",
              "      <td>7С</td>\n",
              "      <td>77</td>\n",
              "      <td>7B</td>\n",
              "      <td>F2</td>\n",
              "      <td>6B</td>\n",
              "      <td>6F</td>\n",
              "      <td>С5</td>\n",
              "      <td>30</td>\n",
              "      <td>01</td>\n",
              "      <td>67</td>\n",
              "      <td>2B</td>\n",
              "      <td>FE</td>\n",
              "      <td>D7</td>\n",
              "      <td>AB</td>\n",
              "      <td>76</td>\n",
              "    </tr>\n",
              "    <tr>\n",
              "      <th>1</th>\n",
              "      <td>СA</td>\n",
              "      <td>82</td>\n",
              "      <td>С9</td>\n",
              "      <td>7D</td>\n",
              "      <td>FA</td>\n",
              "      <td>59</td>\n",
              "      <td>47</td>\n",
              "      <td>F0</td>\n",
              "      <td>AD</td>\n",
              "      <td>D4</td>\n",
              "      <td>A2</td>\n",
              "      <td>AF</td>\n",
              "      <td>9C</td>\n",
              "      <td>A4</td>\n",
              "      <td>72</td>\n",
              "      <td>C0</td>\n",
              "    </tr>\n",
              "    <tr>\n",
              "      <th>2</th>\n",
              "      <td>B7</td>\n",
              "      <td>FD</td>\n",
              "      <td>93</td>\n",
              "      <td>26</td>\n",
              "      <td>36</td>\n",
              "      <td>3F</td>\n",
              "      <td>F7</td>\n",
              "      <td>CC</td>\n",
              "      <td>34</td>\n",
              "      <td>A5</td>\n",
              "      <td>E5</td>\n",
              "      <td>F1</td>\n",
              "      <td>71</td>\n",
              "      <td>D8</td>\n",
              "      <td>31</td>\n",
              "      <td>15</td>\n",
              "    </tr>\n",
              "    <tr>\n",
              "      <th>3</th>\n",
              "      <td>04</td>\n",
              "      <td>C7</td>\n",
              "      <td>23</td>\n",
              "      <td>C3</td>\n",
              "      <td>18</td>\n",
              "      <td>96</td>\n",
              "      <td>05</td>\n",
              "      <td>9A</td>\n",
              "      <td>07</td>\n",
              "      <td>12</td>\n",
              "      <td>80</td>\n",
              "      <td>E2</td>\n",
              "      <td>EB</td>\n",
              "      <td>27</td>\n",
              "      <td>B2</td>\n",
              "      <td>75</td>\n",
              "    </tr>\n",
              "    <tr>\n",
              "      <th>4</th>\n",
              "      <td>09</td>\n",
              "      <td>83</td>\n",
              "      <td>2C</td>\n",
              "      <td>1A</td>\n",
              "      <td>1B</td>\n",
              "      <td>6E</td>\n",
              "      <td>5A</td>\n",
              "      <td>A0</td>\n",
              "      <td>52</td>\n",
              "      <td>3B</td>\n",
              "      <td>D6</td>\n",
              "      <td>B3</td>\n",
              "      <td>29</td>\n",
              "      <td>E3</td>\n",
              "      <td>2F</td>\n",
              "      <td>84</td>\n",
              "    </tr>\n",
              "    <tr>\n",
              "      <th>5</th>\n",
              "      <td>53</td>\n",
              "      <td>D1</td>\n",
              "      <td>00</td>\n",
              "      <td>ED</td>\n",
              "      <td>20</td>\n",
              "      <td>FC</td>\n",
              "      <td>B1</td>\n",
              "      <td>5B</td>\n",
              "      <td>6A</td>\n",
              "      <td>CB</td>\n",
              "      <td>BE</td>\n",
              "      <td>39</td>\n",
              "      <td>4A</td>\n",
              "      <td>4C</td>\n",
              "      <td>58</td>\n",
              "      <td>CF</td>\n",
              "    </tr>\n",
              "    <tr>\n",
              "      <th>6</th>\n",
              "      <td>D0</td>\n",
              "      <td>EF</td>\n",
              "      <td>AA</td>\n",
              "      <td>FB</td>\n",
              "      <td>43</td>\n",
              "      <td>4D</td>\n",
              "      <td>33</td>\n",
              "      <td>85</td>\n",
              "      <td>45</td>\n",
              "      <td>F9</td>\n",
              "      <td>02</td>\n",
              "      <td>7F</td>\n",
              "      <td>50</td>\n",
              "      <td>3C</td>\n",
              "      <td>9F</td>\n",
              "      <td>A8</td>\n",
              "    </tr>\n",
              "    <tr>\n",
              "      <th>7</th>\n",
              "      <td>51</td>\n",
              "      <td>A3</td>\n",
              "      <td>40</td>\n",
              "      <td>8F</td>\n",
              "      <td>92</td>\n",
              "      <td>9D</td>\n",
              "      <td>38</td>\n",
              "      <td>F5</td>\n",
              "      <td>BC</td>\n",
              "      <td>B6</td>\n",
              "      <td>DA</td>\n",
              "      <td>21</td>\n",
              "      <td>10</td>\n",
              "      <td>FF</td>\n",
              "      <td>F3</td>\n",
              "      <td>D2</td>\n",
              "    </tr>\n",
              "    <tr>\n",
              "      <th>8</th>\n",
              "      <td>CD</td>\n",
              "      <td>0C</td>\n",
              "      <td>13</td>\n",
              "      <td>EC</td>\n",
              "      <td>5F</td>\n",
              "      <td>97</td>\n",
              "      <td>44</td>\n",
              "      <td>17</td>\n",
              "      <td>С4</td>\n",
              "      <td>A7</td>\n",
              "      <td>7E</td>\n",
              "      <td>3D</td>\n",
              "      <td>64</td>\n",
              "      <td>5D</td>\n",
              "      <td>19</td>\n",
              "      <td>73</td>\n",
              "    </tr>\n",
              "    <tr>\n",
              "      <th>9</th>\n",
              "      <td>60</td>\n",
              "      <td>81</td>\n",
              "      <td>4F</td>\n",
              "      <td>DC</td>\n",
              "      <td>22</td>\n",
              "      <td>2A</td>\n",
              "      <td>90</td>\n",
              "      <td>88</td>\n",
              "      <td>46</td>\n",
              "      <td>EE</td>\n",
              "      <td>B8</td>\n",
              "      <td>14</td>\n",
              "      <td>DE</td>\n",
              "      <td>5E</td>\n",
              "      <td>0B</td>\n",
              "      <td>DB</td>\n",
              "    </tr>\n",
              "    <tr>\n",
              "      <th>A</th>\n",
              "      <td>EО</td>\n",
              "      <td>32</td>\n",
              "      <td>3A</td>\n",
              "      <td>0A</td>\n",
              "      <td>49</td>\n",
              "      <td>06</td>\n",
              "      <td>24</td>\n",
              "      <td>5С</td>\n",
              "      <td>С2</td>\n",
              "      <td>D3</td>\n",
              "      <td>AС</td>\n",
              "      <td>62</td>\n",
              "      <td>91</td>\n",
              "      <td>95</td>\n",
              "      <td>E4</td>\n",
              "      <td>79</td>\n",
              "    </tr>\n",
              "    <tr>\n",
              "      <th>B</th>\n",
              "      <td>E7</td>\n",
              "      <td>С8</td>\n",
              "      <td>37</td>\n",
              "      <td>6D</td>\n",
              "      <td>8D</td>\n",
              "      <td>D5</td>\n",
              "      <td>4E</td>\n",
              "      <td>A9</td>\n",
              "      <td>6C</td>\n",
              "      <td>56</td>\n",
              "      <td>F4</td>\n",
              "      <td>EA</td>\n",
              "      <td>65</td>\n",
              "      <td>7A</td>\n",
              "      <td>AE</td>\n",
              "      <td>08</td>\n",
              "    </tr>\n",
              "    <tr>\n",
              "      <th>C</th>\n",
              "      <td>BA</td>\n",
              "      <td>78</td>\n",
              "      <td>25</td>\n",
              "      <td>2E</td>\n",
              "      <td>1C</td>\n",
              "      <td>A6</td>\n",
              "      <td>B4</td>\n",
              "      <td>C6</td>\n",
              "      <td>E8</td>\n",
              "      <td>DD</td>\n",
              "      <td>74</td>\n",
              "      <td>1F</td>\n",
              "      <td>4B</td>\n",
              "      <td>BD</td>\n",
              "      <td>8B</td>\n",
              "      <td>8A</td>\n",
              "    </tr>\n",
              "    <tr>\n",
              "      <th>D</th>\n",
              "      <td>70</td>\n",
              "      <td>3E</td>\n",
              "      <td>B5</td>\n",
              "      <td>66</td>\n",
              "      <td>48</td>\n",
              "      <td>03</td>\n",
              "      <td>F6</td>\n",
              "      <td>0E</td>\n",
              "      <td>61</td>\n",
              "      <td>35</td>\n",
              "      <td>57</td>\n",
              "      <td>B9</td>\n",
              "      <td>86</td>\n",
              "      <td>C1</td>\n",
              "      <td>1D</td>\n",
              "      <td>9E</td>\n",
              "    </tr>\n",
              "    <tr>\n",
              "      <th>E</th>\n",
              "      <td>E1</td>\n",
              "      <td>F8</td>\n",
              "      <td>98</td>\n",
              "      <td>11</td>\n",
              "      <td>69</td>\n",
              "      <td>D9</td>\n",
              "      <td>8E</td>\n",
              "      <td>94</td>\n",
              "      <td>9B</td>\n",
              "      <td>1E</td>\n",
              "      <td>87</td>\n",
              "      <td>E9</td>\n",
              "      <td>СE</td>\n",
              "      <td>55</td>\n",
              "      <td>28</td>\n",
              "      <td>DF</td>\n",
              "    </tr>\n",
              "    <tr>\n",
              "      <th>F</th>\n",
              "      <td>8C</td>\n",
              "      <td>A1</td>\n",
              "      <td>89</td>\n",
              "      <td>ОD</td>\n",
              "      <td>BF</td>\n",
              "      <td>E6</td>\n",
              "      <td>42</td>\n",
              "      <td>68</td>\n",
              "      <td>41</td>\n",
              "      <td>99</td>\n",
              "      <td>2D</td>\n",
              "      <td>0F</td>\n",
              "      <td>B0</td>\n",
              "      <td>54</td>\n",
              "      <td>BB</td>\n",
              "      <td>16</td>\n",
              "    </tr>\n",
              "  </tbody>\n",
              "</table>\n",
              "</div>\n",
              "      <button class=\"colab-df-convert\" onclick=\"convertToInteractive('df-a816ea91-39c0-4874-9af3-4dd626a2b695')\"\n",
              "              title=\"Convert this dataframe to an interactive table.\"\n",
              "              style=\"display:none;\">\n",
              "        \n",
              "  <svg xmlns=\"http://www.w3.org/2000/svg\" height=\"24px\"viewBox=\"0 0 24 24\"\n",
              "       width=\"24px\">\n",
              "    <path d=\"M0 0h24v24H0V0z\" fill=\"none\"/>\n",
              "    <path d=\"M18.56 5.44l.94 2.06.94-2.06 2.06-.94-2.06-.94-.94-2.06-.94 2.06-2.06.94zm-11 1L8.5 8.5l.94-2.06 2.06-.94-2.06-.94L8.5 2.5l-.94 2.06-2.06.94zm10 10l.94 2.06.94-2.06 2.06-.94-2.06-.94-.94-2.06-.94 2.06-2.06.94z\"/><path d=\"M17.41 7.96l-1.37-1.37c-.4-.4-.92-.59-1.43-.59-.52 0-1.04.2-1.43.59L10.3 9.45l-7.72 7.72c-.78.78-.78 2.05 0 2.83L4 21.41c.39.39.9.59 1.41.59.51 0 1.02-.2 1.41-.59l7.78-7.78 2.81-2.81c.8-.78.8-2.07 0-2.86zM5.41 20L4 18.59l7.72-7.72 1.47 1.35L5.41 20z\"/>\n",
              "  </svg>\n",
              "      </button>\n",
              "      \n",
              "  <style>\n",
              "    .colab-df-container {\n",
              "      display:flex;\n",
              "      flex-wrap:wrap;\n",
              "      gap: 12px;\n",
              "    }\n",
              "\n",
              "    .colab-df-convert {\n",
              "      background-color: #E8F0FE;\n",
              "      border: none;\n",
              "      border-radius: 50%;\n",
              "      cursor: pointer;\n",
              "      display: none;\n",
              "      fill: #1967D2;\n",
              "      height: 32px;\n",
              "      padding: 0 0 0 0;\n",
              "      width: 32px;\n",
              "    }\n",
              "\n",
              "    .colab-df-convert:hover {\n",
              "      background-color: #E2EBFA;\n",
              "      box-shadow: 0px 1px 2px rgba(60, 64, 67, 0.3), 0px 1px 3px 1px rgba(60, 64, 67, 0.15);\n",
              "      fill: #174EA6;\n",
              "    }\n",
              "\n",
              "    [theme=dark] .colab-df-convert {\n",
              "      background-color: #3B4455;\n",
              "      fill: #D2E3FC;\n",
              "    }\n",
              "\n",
              "    [theme=dark] .colab-df-convert:hover {\n",
              "      background-color: #434B5C;\n",
              "      box-shadow: 0px 1px 3px 1px rgba(0, 0, 0, 0.15);\n",
              "      filter: drop-shadow(0px 1px 2px rgba(0, 0, 0, 0.3));\n",
              "      fill: #FFFFFF;\n",
              "    }\n",
              "  </style>\n",
              "\n",
              "      <script>\n",
              "        const buttonEl =\n",
              "          document.querySelector('#df-a816ea91-39c0-4874-9af3-4dd626a2b695 button.colab-df-convert');\n",
              "        buttonEl.style.display =\n",
              "          google.colab.kernel.accessAllowed ? 'block' : 'none';\n",
              "\n",
              "        async function convertToInteractive(key) {\n",
              "          const element = document.querySelector('#df-a816ea91-39c0-4874-9af3-4dd626a2b695');\n",
              "          const dataTable =\n",
              "            await google.colab.kernel.invokeFunction('convertToInteractive',\n",
              "                                                     [key], {});\n",
              "          if (!dataTable) return;\n",
              "\n",
              "          const docLinkHtml = 'Like what you see? Visit the ' +\n",
              "            '<a target=\"_blank\" href=https://colab.research.google.com/notebooks/data_table.ipynb>data table notebook</a>'\n",
              "            + ' to learn more about interactive tables.';\n",
              "          element.innerHTML = '';\n",
              "          dataTable['output_type'] = 'display_data';\n",
              "          await google.colab.output.renderOutput(dataTable, element);\n",
              "          const docLink = document.createElement('div');\n",
              "          docLink.innerHTML = docLinkHtml;\n",
              "          element.appendChild(docLink);\n",
              "        }\n",
              "      </script>\n",
              "    </div>\n",
              "  </div>\n",
              "  "
            ]
          },
          "metadata": {},
          "execution_count": 11
        }
      ]
    },
    {
      "cell_type": "markdown",
      "source": [
        "## Mensaje: \"mensaje enviado \""
      ],
      "metadata": {
        "id": "p1GAUJHdAHj-"
      }
    },
    {
      "cell_type": "code",
      "source": [
        "message = \"mensaje enviado \"\n",
        "message_hexa = [get_hexa(i) for i in message]\n",
        "print(message_hexa)"
      ],
      "metadata": {
        "colab": {
          "base_uri": "https://localhost:8080/"
        },
        "id": "XBkofwU0eHBX",
        "outputId": "53e9c6a8-d830-4ca5-d0ba-0049a0f39e95"
      },
      "execution_count": 15,
      "outputs": [
        {
          "output_type": "stream",
          "name": "stdout",
          "text": [
            "['6D', '65', '6E', '73', '61', '6A', '65', '20', '65', '6E', '76', '69', '61', '64', '6F', '20']\n"
          ]
        }
      ]
    },
    {
      "cell_type": "code",
      "source": [
        "# Matrix de referencia\n",
        "\n",
        "ref_matrix = \"\"\"0 4 8 12\n",
        "1 5 9 13\n",
        "2 6 10 14\n",
        "3 7 11 15\"\"\".split(\"\\n\")\n",
        "ref_matrix = [i.split(\" \") for i in ref_matrix]\n",
        "ref_matrix"
      ],
      "metadata": {
        "colab": {
          "base_uri": "https://localhost:8080/"
        },
        "id": "6pnhTVTYh41P",
        "outputId": "6216dbec-54df-4334-8cea-c2f545733b54"
      },
      "execution_count": 16,
      "outputs": [
        {
          "output_type": "execute_result",
          "data": {
            "text/plain": [
              "[['0', '4', '8', '12'],\n",
              " ['1', '5', '9', '13'],\n",
              " ['2', '6', '10', '14'],\n",
              " ['3', '7', '11', '15']]"
            ]
          },
          "metadata": {},
          "execution_count": 16
        }
      ]
    },
    {
      "cell_type": "code",
      "source": [
        "# Matris de inicio\n",
        "\n",
        "init_matrix = deepcopy(ref_matrix)\n",
        "for i in range(4):\n",
        "  for j in range(4):\n",
        "    init_matrix[i][j] = message_hexa[int(init_matrix[i][j])]\n",
        "init_matrix"
      ],
      "metadata": {
        "colab": {
          "base_uri": "https://localhost:8080/"
        },
        "id": "WecLqUTFjWmO",
        "outputId": "3fc5126b-f266-424f-9846-984c32627a91"
      },
      "execution_count": 19,
      "outputs": [
        {
          "output_type": "execute_result",
          "data": {
            "text/plain": [
              "[['6D', '61', '65', '61'],\n",
              " ['65', '6A', '6E', '64'],\n",
              " ['6E', '65', '76', '6F'],\n",
              " ['73', '20', '69', '20']]"
            ]
          },
          "metadata": {},
          "execution_count": 19
        }
      ]
    },
    {
      "cell_type": "code",
      "source": [
        "# Matrix inversa\n",
        "\n",
        "inv_matrix = deepcopy(init_matrix)\n",
        "for i, iv in enumerate(inv_matrix):\n",
        "  for j, jv in enumerate(iv):\n",
        "    inv_matrix[i][j] = s_box[jv[0]].loc[jv[1]]\n",
        "inv_matrix"
      ],
      "metadata": {
        "colab": {
          "base_uri": "https://localhost:8080/"
        },
        "id": "LCOsTzI8ok4A",
        "outputId": "7eac97fb-ab19-4360-8046-d2b3510c5a57"
      },
      "execution_count": 18,
      "outputs": [
        {
          "output_type": "execute_result",
          "data": {
            "text/plain": [
              "[['F6', '47', 'B1', '47'],\n",
              " ['B1', '24', '8Е', '5А'],\n",
              " ['8Е', 'B1', '85', '42'],\n",
              " ['9А', '77', '90', '77']]"
            ]
          },
          "metadata": {},
          "execution_count": 18
        }
      ]
    },
    {
      "cell_type": "code",
      "source": [
        "# ShiftRows\n",
        "\n",
        "shifted_matrix = deepcopy(inv_matrix)\n",
        "for i, row in enumerate(shifted_matrix):\n",
        "  for _ in range(i):\n",
        "    row.append(row.pop(0))\n",
        "shifted_matrix"
      ],
      "metadata": {
        "colab": {
          "base_uri": "https://localhost:8080/"
        },
        "id": "yQC3sMpglPiW",
        "outputId": "3738b174-c10b-43b5-fe28-d532075e7001"
      },
      "execution_count": 20,
      "outputs": [
        {
          "output_type": "execute_result",
          "data": {
            "text/plain": [
              "[['F6', '47', 'B1', '47'],\n",
              " ['24', '8Е', '5А', 'B1'],\n",
              " ['85', '42', '8Е', 'B1'],\n",
              " ['77', '9А', '77', '90']]"
            ]
          },
          "metadata": {},
          "execution_count": 20
        }
      ]
    },
    {
      "cell_type": "code",
      "source": [
        "# Mix Columns\n",
        "\n",
        "transform_matrix = np.array([\n",
        "    [\"02\", \"03\", \"01\", \"01\"],\n",
        "    [\"01\", \"02\", \"03\", \"01\"],\n",
        "    [\"01\", \"01\", \"02\", \"03\"],\n",
        "    [\"03\", \"01\", \"01\", \"02\"],\n",
        "])\n",
        "transform_matrix"
      ],
      "metadata": {
        "colab": {
          "base_uri": "https://localhost:8080/"
        },
        "id": "lt7ZVk7B74Xm",
        "outputId": "d91e241f-d1d2-4fd0-ac33-834c0d0daff0"
      },
      "execution_count": 21,
      "outputs": [
        {
          "output_type": "execute_result",
          "data": {
            "text/plain": [
              "array([['02', '03', '01', '01'],\n",
              "       ['01', '02', '03', '01'],\n",
              "       ['01', '01', '02', '03'],\n",
              "       ['03', '01', '01', '02']], dtype='<U2')"
            ]
          },
          "metadata": {},
          "execution_count": 21
        }
      ]
    },
    {
      "cell_type": "code",
      "source": [
        "# Mezcla de columnas (Mix Columns) usando la transformación\n",
        "\n",
        "def shifted_trsf_matrix(tr: str, hx: str) -> str:\n",
        "  \"\"\"\n",
        "  Return the MixColumns inverse of a given 8bit hexadecimal value\n",
        "  params:\n",
        "    tr: transformation value\n",
        "    hx: hexadecimal value to transform \n",
        "  \"\"\"\n",
        "  if tr == \"01\":\n",
        "    return fgb(hx)\n",
        "  elif tr == \"02\":\n",
        "    bin_byte = fgb(hx)\n",
        "    shift_bit = bin_byte[1:]+\"0\"\n",
        "    if bin_byte[0] == \"0\":\n",
        "      return shift_bit\n",
        "    constant = \"00011011\"\n",
        "    return get_bin_from_hex(\n",
        "        hex(int(shift_bit[:4], 2) ^ int(constant[:4], 2))[2:]) + get_bin_from_hex(hex(int(shift_bit[4:], 2) ^ int(constant[4:], 2))[2:])\n",
        "  elif tr == \"03\":\n",
        "    bin_byte = fgb(hx)\n",
        "    shift_bit = bin_byte[1:] + \"0\"\n",
        "    op = get_bin_from_hex(hex(int(shift_bit[:4], 2) ^ int(bin_byte[:4], 2))[2:]) + get_bin_from_hex(hex(int(shift_bit[4:], 2) ^ int(bin_byte[4:], 2))[2:])\n",
        "    if bin_byte[0] == \"0\":\n",
        "      return  op\n",
        "    constant = \"00011011\"\n",
        "    return get_bin_from_hex(hex(int(op[:4], 2) ^ int(constant[:4], 2) )[2:]) + get_bin_from_hex(hex(int(op[4:], 2) ^ int(constant[4:], 2) )[2:])\n"
      ],
      "metadata": {
        "id": "6QEgGm5T90cT"
      },
      "execution_count": 22,
      "outputs": []
    },
    {
      "cell_type": "code",
      "source": [
        "\n",
        "# shifted_matrix = np.array([\n",
        "#     [\"87\", \"F2\", \"4D\", \"97\"],\n",
        "#     [\"6E\", \"4C\", \"90\", \"EC\"],\n",
        "#     [\"46\", \"E7\", \"4A\", \"C3\"],\n",
        "#     [\"A6\", \"8C\", \"D8\", \"95\"],\n",
        "# ])\n",
        "mixed_column_matrix = []\n",
        "for mc_i in range(4):\n",
        "  row = []\n",
        "  for mc_j in range(4):\n",
        "    aux = []\n",
        "    for it in range(4):\n",
        "      print(transform_matrix[mc_i][it], shifted_matrix[it][mc_j])\n",
        "      aux.append(\n",
        "          shifted_trsf_matrix(\n",
        "              transform_matrix[mc_i][it], \n",
        "              shifted_matrix[it][mc_j]\n",
        "              )\n",
        "          )\n",
        "    res = \"\"\n",
        "    # Perform xor, Odd time 1's => 1, Even time 1's => 0\n",
        "    print(aux)\n",
        "    for it in range(8):\n",
        "      if sum([\n",
        "          int(aux[0][it]),\n",
        "          int(aux[1][it]),\n",
        "          int(aux[2][it]),\n",
        "          int(aux[3][it])\n",
        "        ]) % 2 == 0:\n",
        "        res += \"0\"\n",
        "      else:\n",
        "        res += \"1\"\n",
        "    row.append(\n",
        "        bin_to_hex(res[:4])+bin_to_hex(res[4:])\n",
        "    )\n",
        "    print(\"Inverse: \" + bin_to_hex(res[:4])+bin_to_hex(res[4:]))\n",
        "  mixed_column_matrix.append(row)\n",
        "mixed_column_matrix"
      ],
      "metadata": {
        "colab": {
          "base_uri": "https://localhost:8080/",
          "height": 537
        },
        "id": "-VZ8NDaUNIMq",
        "outputId": "9a3bca4f-6939-4e70-e3ec-e6025f5cfa57"
      },
      "execution_count": 24,
      "outputs": [
        {
          "output_type": "stream",
          "name": "stdout",
          "text": [
            "02 F6\n",
            "03 24\n",
            "01 85\n",
            "01 77\n",
            "['11110111', '01101100', '10000101', '01110111']\n",
            "Inverse: 69\n",
            "02 47\n",
            "03 8Е\n"
          ]
        },
        {
          "output_type": "error",
          "ename": "ValueError",
          "evalue": "ignored",
          "traceback": [
            "\u001b[0;31m---------------------------------------------------------------------------\u001b[0m",
            "\u001b[0;31mValueError\u001b[0m                                Traceback (most recent call last)",
            "\u001b[0;32m<ipython-input-9-7a43a7951c42>\u001b[0m in \u001b[0;36mget_bin_from_hex\u001b[0;34m(ch_hex)\u001b[0m\n\u001b[1;32m     10\u001b[0m   \u001b[0;32mtry\u001b[0m\u001b[0;34m:\u001b[0m\u001b[0;34m\u001b[0m\u001b[0;34m\u001b[0m\u001b[0m\n\u001b[0;32m---> 11\u001b[0;31m     \u001b[0;32mreturn\u001b[0m \u001b[0mbin\u001b[0m\u001b[0;34m(\u001b[0m\u001b[0mint\u001b[0m\u001b[0;34m(\u001b[0m\u001b[0mch_hex\u001b[0m\u001b[0;34m,\u001b[0m \u001b[0;36m16\u001b[0m\u001b[0;34m)\u001b[0m\u001b[0;34m)\u001b[0m\u001b[0;34m[\u001b[0m\u001b[0;36m2\u001b[0m\u001b[0;34m:\u001b[0m\u001b[0;34m]\u001b[0m\u001b[0;34m.\u001b[0m\u001b[0mzfill\u001b[0m\u001b[0;34m(\u001b[0m\u001b[0;36m4\u001b[0m\u001b[0;34m)\u001b[0m\u001b[0;34m\u001b[0m\u001b[0;34m\u001b[0m\u001b[0m\n\u001b[0m\u001b[1;32m     12\u001b[0m   \u001b[0;32mexcept\u001b[0m \u001b[0mValueError\u001b[0m\u001b[0;34m:\u001b[0m\u001b[0;34m\u001b[0m\u001b[0;34m\u001b[0m\u001b[0m\n",
            "\u001b[0;31mValueError\u001b[0m: invalid literal for int() with base 16: 'Е'",
            "\nDuring handling of the above exception, another exception occurred:\n",
            "\u001b[0;31mValueError\u001b[0m                                Traceback (most recent call last)",
            "\u001b[0;32m<ipython-input-24-70852c82cc08>\u001b[0m in \u001b[0;36m<module>\u001b[0;34m\u001b[0m\n\u001b[1;32m     13\u001b[0m       \u001b[0mprint\u001b[0m\u001b[0;34m(\u001b[0m\u001b[0mtransform_matrix\u001b[0m\u001b[0;34m[\u001b[0m\u001b[0mmc_i\u001b[0m\u001b[0;34m]\u001b[0m\u001b[0;34m[\u001b[0m\u001b[0mit\u001b[0m\u001b[0;34m]\u001b[0m\u001b[0;34m,\u001b[0m \u001b[0mshifted_matrix\u001b[0m\u001b[0;34m[\u001b[0m\u001b[0mit\u001b[0m\u001b[0;34m]\u001b[0m\u001b[0;34m[\u001b[0m\u001b[0mmc_j\u001b[0m\u001b[0;34m]\u001b[0m\u001b[0;34m)\u001b[0m\u001b[0;34m\u001b[0m\u001b[0;34m\u001b[0m\u001b[0m\n\u001b[1;32m     14\u001b[0m       aux.append(\n\u001b[0;32m---> 15\u001b[0;31m           shifted_trsf_matrix(\n\u001b[0m\u001b[1;32m     16\u001b[0m               \u001b[0mtransform_matrix\u001b[0m\u001b[0;34m[\u001b[0m\u001b[0mmc_i\u001b[0m\u001b[0;34m]\u001b[0m\u001b[0;34m[\u001b[0m\u001b[0mit\u001b[0m\u001b[0;34m]\u001b[0m\u001b[0;34m,\u001b[0m\u001b[0;34m\u001b[0m\u001b[0;34m\u001b[0m\u001b[0m\n\u001b[1;32m     17\u001b[0m               \u001b[0mshifted_matrix\u001b[0m\u001b[0;34m[\u001b[0m\u001b[0mit\u001b[0m\u001b[0;34m]\u001b[0m\u001b[0;34m[\u001b[0m\u001b[0mmc_j\u001b[0m\u001b[0;34m]\u001b[0m\u001b[0;34m\u001b[0m\u001b[0;34m\u001b[0m\u001b[0m\n",
            "\u001b[0;32m<ipython-input-22-9c096dcad06e>\u001b[0m in \u001b[0;36mshifted_trsf_matrix\u001b[0;34m(tr, hx)\u001b[0m\n\u001b[1;32m     19\u001b[0m         hex(int(shift_bit[:4], 2) ^ int(constant[:4], 2))[2:]) + get_bin_from_hex(hex(int(shift_bit[4:], 2) ^ int(constant[4:], 2))[2:])\n\u001b[1;32m     20\u001b[0m   \u001b[0;32melif\u001b[0m \u001b[0mtr\u001b[0m \u001b[0;34m==\u001b[0m \u001b[0;34m\"03\"\u001b[0m\u001b[0;34m:\u001b[0m\u001b[0;34m\u001b[0m\u001b[0;34m\u001b[0m\u001b[0m\n\u001b[0;32m---> 21\u001b[0;31m     \u001b[0mbin_byte\u001b[0m \u001b[0;34m=\u001b[0m \u001b[0mfgb\u001b[0m\u001b[0;34m(\u001b[0m\u001b[0mhx\u001b[0m\u001b[0;34m)\u001b[0m\u001b[0;34m\u001b[0m\u001b[0;34m\u001b[0m\u001b[0m\n\u001b[0m\u001b[1;32m     22\u001b[0m     \u001b[0mshift_bit\u001b[0m \u001b[0;34m=\u001b[0m \u001b[0mbin_byte\u001b[0m\u001b[0;34m[\u001b[0m\u001b[0;36m1\u001b[0m\u001b[0;34m:\u001b[0m\u001b[0;34m]\u001b[0m \u001b[0;34m+\u001b[0m \u001b[0;34m\"0\"\u001b[0m\u001b[0;34m\u001b[0m\u001b[0;34m\u001b[0m\u001b[0m\n\u001b[1;32m     23\u001b[0m     \u001b[0mop\u001b[0m \u001b[0;34m=\u001b[0m \u001b[0mget_bin_from_hex\u001b[0m\u001b[0;34m(\u001b[0m\u001b[0mhex\u001b[0m\u001b[0;34m(\u001b[0m\u001b[0mint\u001b[0m\u001b[0;34m(\u001b[0m\u001b[0mshift_bit\u001b[0m\u001b[0;34m[\u001b[0m\u001b[0;34m:\u001b[0m\u001b[0;36m4\u001b[0m\u001b[0;34m]\u001b[0m\u001b[0;34m,\u001b[0m \u001b[0;36m2\u001b[0m\u001b[0;34m)\u001b[0m \u001b[0;34m^\u001b[0m \u001b[0mint\u001b[0m\u001b[0;34m(\u001b[0m\u001b[0mbin_byte\u001b[0m\u001b[0;34m[\u001b[0m\u001b[0;34m:\u001b[0m\u001b[0;36m4\u001b[0m\u001b[0;34m]\u001b[0m\u001b[0;34m,\u001b[0m \u001b[0;36m2\u001b[0m\u001b[0;34m)\u001b[0m\u001b[0;34m)\u001b[0m\u001b[0;34m[\u001b[0m\u001b[0;36m2\u001b[0m\u001b[0;34m:\u001b[0m\u001b[0;34m]\u001b[0m\u001b[0;34m)\u001b[0m \u001b[0;34m+\u001b[0m \u001b[0mget_bin_from_hex\u001b[0m\u001b[0;34m(\u001b[0m\u001b[0mhex\u001b[0m\u001b[0;34m(\u001b[0m\u001b[0mint\u001b[0m\u001b[0;34m(\u001b[0m\u001b[0mshift_bit\u001b[0m\u001b[0;34m[\u001b[0m\u001b[0;36m4\u001b[0m\u001b[0;34m:\u001b[0m\u001b[0;34m]\u001b[0m\u001b[0;34m,\u001b[0m \u001b[0;36m2\u001b[0m\u001b[0;34m)\u001b[0m \u001b[0;34m^\u001b[0m \u001b[0mint\u001b[0m\u001b[0;34m(\u001b[0m\u001b[0mbin_byte\u001b[0m\u001b[0;34m[\u001b[0m\u001b[0;36m4\u001b[0m\u001b[0;34m:\u001b[0m\u001b[0;34m]\u001b[0m\u001b[0;34m,\u001b[0m \u001b[0;36m2\u001b[0m\u001b[0;34m)\u001b[0m\u001b[0;34m)\u001b[0m\u001b[0;34m[\u001b[0m\u001b[0;36m2\u001b[0m\u001b[0;34m:\u001b[0m\u001b[0;34m]\u001b[0m\u001b[0;34m)\u001b[0m\u001b[0;34m\u001b[0m\u001b[0;34m\u001b[0m\u001b[0m\n",
            "\u001b[0;32m<ipython-input-10-01751965e84f>\u001b[0m in \u001b[0;36mfgb\u001b[0;34m(hex_value)\u001b[0m\n\u001b[1;32m      5\u001b[0m   \u001b[0;32mif\u001b[0m \u001b[0mlen\u001b[0m\u001b[0;34m(\u001b[0m\u001b[0mhex_value\u001b[0m\u001b[0;34m)\u001b[0m \u001b[0;34m!=\u001b[0m \u001b[0;36m2\u001b[0m\u001b[0;34m:\u001b[0m\u001b[0;34m\u001b[0m\u001b[0;34m\u001b[0m\u001b[0m\n\u001b[1;32m      6\u001b[0m     \u001b[0;32mraise\u001b[0m \u001b[0mValueError\u001b[0m\u001b[0;34m(\u001b[0m\u001b[0;34m\"The argument must have a length of two\"\u001b[0m\u001b[0;34m)\u001b[0m\u001b[0;34m\u001b[0m\u001b[0;34m\u001b[0m\u001b[0m\n\u001b[0;32m----> 7\u001b[0;31m   \u001b[0;32mreturn\u001b[0m \u001b[0;34m\"\"\u001b[0m\u001b[0;34m.\u001b[0m\u001b[0mjoin\u001b[0m\u001b[0;34m(\u001b[0m\u001b[0;34m[\u001b[0m\u001b[0mget_bin_from_hex\u001b[0m\u001b[0;34m(\u001b[0m\u001b[0mhex_value\u001b[0m\u001b[0;34m[\u001b[0m\u001b[0;36m0\u001b[0m\u001b[0;34m]\u001b[0m\u001b[0;34m)\u001b[0m\u001b[0;34m,\u001b[0m \u001b[0mget_bin_from_hex\u001b[0m\u001b[0;34m(\u001b[0m\u001b[0mhex_value\u001b[0m\u001b[0;34m[\u001b[0m\u001b[0;36m1\u001b[0m\u001b[0;34m]\u001b[0m\u001b[0;34m)\u001b[0m\u001b[0;34m]\u001b[0m\u001b[0;34m)\u001b[0m\u001b[0;34m\u001b[0m\u001b[0;34m\u001b[0m\u001b[0m\n\u001b[0m",
            "\u001b[0;32m<ipython-input-9-7a43a7951c42>\u001b[0m in \u001b[0;36mget_bin_from_hex\u001b[0;34m(ch_hex)\u001b[0m\n\u001b[1;32m     11\u001b[0m     \u001b[0;32mreturn\u001b[0m \u001b[0mbin\u001b[0m\u001b[0;34m(\u001b[0m\u001b[0mint\u001b[0m\u001b[0;34m(\u001b[0m\u001b[0mch_hex\u001b[0m\u001b[0;34m,\u001b[0m \u001b[0;36m16\u001b[0m\u001b[0;34m)\u001b[0m\u001b[0;34m)\u001b[0m\u001b[0;34m[\u001b[0m\u001b[0;36m2\u001b[0m\u001b[0;34m:\u001b[0m\u001b[0;34m]\u001b[0m\u001b[0;34m.\u001b[0m\u001b[0mzfill\u001b[0m\u001b[0;34m(\u001b[0m\u001b[0;36m4\u001b[0m\u001b[0;34m)\u001b[0m\u001b[0;34m\u001b[0m\u001b[0;34m\u001b[0m\u001b[0m\n\u001b[1;32m     12\u001b[0m   \u001b[0;32mexcept\u001b[0m \u001b[0mValueError\u001b[0m\u001b[0;34m:\u001b[0m\u001b[0;34m\u001b[0m\u001b[0;34m\u001b[0m\u001b[0m\n\u001b[0;32m---> 13\u001b[0;31m     \u001b[0;32mraise\u001b[0m \u001b[0mValueError\u001b[0m\u001b[0;34m(\u001b[0m\u001b[0;34mf\"{ch_hex} is not a valid hexadecimal value\"\u001b[0m\u001b[0;34m)\u001b[0m\u001b[0;34m\u001b[0m\u001b[0;34m\u001b[0m\u001b[0m\n\u001b[0m",
            "\u001b[0;31mValueError\u001b[0m: Е is not a valid hexadecimal value"
          ]
        }
      ]
    },
    {
      "cell_type": "code",
      "source": [
        "pd.DataFrame(mixed_column_matrix)"
      ],
      "metadata": {
        "colab": {
          "base_uri": "https://localhost:8080/",
          "height": 49
        },
        "id": "5tokwiD3xVo7",
        "outputId": "8ba2a435-619b-4b61-8e1b-b6d5157666d4"
      },
      "execution_count": 25,
      "outputs": [
        {
          "output_type": "execute_result",
          "data": {
            "text/plain": [
              "Empty DataFrame\n",
              "Columns: []\n",
              "Index: []"
            ],
            "text/html": [
              "\n",
              "  <div id=\"df-521f8a04-c1e9-4c1f-b64a-071eb86bf011\">\n",
              "    <div class=\"colab-df-container\">\n",
              "      <div>\n",
              "<style scoped>\n",
              "    .dataframe tbody tr th:only-of-type {\n",
              "        vertical-align: middle;\n",
              "    }\n",
              "\n",
              "    .dataframe tbody tr th {\n",
              "        vertical-align: top;\n",
              "    }\n",
              "\n",
              "    .dataframe thead th {\n",
              "        text-align: right;\n",
              "    }\n",
              "</style>\n",
              "<table border=\"1\" class=\"dataframe\">\n",
              "  <thead>\n",
              "    <tr style=\"text-align: right;\">\n",
              "      <th></th>\n",
              "    </tr>\n",
              "  </thead>\n",
              "  <tbody>\n",
              "  </tbody>\n",
              "</table>\n",
              "</div>\n",
              "      <button class=\"colab-df-convert\" onclick=\"convertToInteractive('df-521f8a04-c1e9-4c1f-b64a-071eb86bf011')\"\n",
              "              title=\"Convert this dataframe to an interactive table.\"\n",
              "              style=\"display:none;\">\n",
              "        \n",
              "  <svg xmlns=\"http://www.w3.org/2000/svg\" height=\"24px\"viewBox=\"0 0 24 24\"\n",
              "       width=\"24px\">\n",
              "    <path d=\"M0 0h24v24H0V0z\" fill=\"none\"/>\n",
              "    <path d=\"M18.56 5.44l.94 2.06.94-2.06 2.06-.94-2.06-.94-.94-2.06-.94 2.06-2.06.94zm-11 1L8.5 8.5l.94-2.06 2.06-.94-2.06-.94L8.5 2.5l-.94 2.06-2.06.94zm10 10l.94 2.06.94-2.06 2.06-.94-2.06-.94-.94-2.06-.94 2.06-2.06.94z\"/><path d=\"M17.41 7.96l-1.37-1.37c-.4-.4-.92-.59-1.43-.59-.52 0-1.04.2-1.43.59L10.3 9.45l-7.72 7.72c-.78.78-.78 2.05 0 2.83L4 21.41c.39.39.9.59 1.41.59.51 0 1.02-.2 1.41-.59l7.78-7.78 2.81-2.81c.8-.78.8-2.07 0-2.86zM5.41 20L4 18.59l7.72-7.72 1.47 1.35L5.41 20z\"/>\n",
              "  </svg>\n",
              "      </button>\n",
              "      \n",
              "  <style>\n",
              "    .colab-df-container {\n",
              "      display:flex;\n",
              "      flex-wrap:wrap;\n",
              "      gap: 12px;\n",
              "    }\n",
              "\n",
              "    .colab-df-convert {\n",
              "      background-color: #E8F0FE;\n",
              "      border: none;\n",
              "      border-radius: 50%;\n",
              "      cursor: pointer;\n",
              "      display: none;\n",
              "      fill: #1967D2;\n",
              "      height: 32px;\n",
              "      padding: 0 0 0 0;\n",
              "      width: 32px;\n",
              "    }\n",
              "\n",
              "    .colab-df-convert:hover {\n",
              "      background-color: #E2EBFA;\n",
              "      box-shadow: 0px 1px 2px rgba(60, 64, 67, 0.3), 0px 1px 3px 1px rgba(60, 64, 67, 0.15);\n",
              "      fill: #174EA6;\n",
              "    }\n",
              "\n",
              "    [theme=dark] .colab-df-convert {\n",
              "      background-color: #3B4455;\n",
              "      fill: #D2E3FC;\n",
              "    }\n",
              "\n",
              "    [theme=dark] .colab-df-convert:hover {\n",
              "      background-color: #434B5C;\n",
              "      box-shadow: 0px 1px 3px 1px rgba(0, 0, 0, 0.15);\n",
              "      filter: drop-shadow(0px 1px 2px rgba(0, 0, 0, 0.3));\n",
              "      fill: #FFFFFF;\n",
              "    }\n",
              "  </style>\n",
              "\n",
              "      <script>\n",
              "        const buttonEl =\n",
              "          document.querySelector('#df-521f8a04-c1e9-4c1f-b64a-071eb86bf011 button.colab-df-convert');\n",
              "        buttonEl.style.display =\n",
              "          google.colab.kernel.accessAllowed ? 'block' : 'none';\n",
              "\n",
              "        async function convertToInteractive(key) {\n",
              "          const element = document.querySelector('#df-521f8a04-c1e9-4c1f-b64a-071eb86bf011');\n",
              "          const dataTable =\n",
              "            await google.colab.kernel.invokeFunction('convertToInteractive',\n",
              "                                                     [key], {});\n",
              "          if (!dataTable) return;\n",
              "\n",
              "          const docLinkHtml = 'Like what you see? Visit the ' +\n",
              "            '<a target=\"_blank\" href=https://colab.research.google.com/notebooks/data_table.ipynb>data table notebook</a>'\n",
              "            + ' to learn more about interactive tables.';\n",
              "          element.innerHTML = '';\n",
              "          dataTable['output_type'] = 'display_data';\n",
              "          await google.colab.output.renderOutput(dataTable, element);\n",
              "          const docLink = document.createElement('div');\n",
              "          docLink.innerHTML = docLinkHtml;\n",
              "          element.appendChild(docLink);\n",
              "        }\n",
              "      </script>\n",
              "    </div>\n",
              "  </div>\n",
              "  "
            ]
          },
          "metadata": {},
          "execution_count": 25
        }
      ]
    }
  ]
}