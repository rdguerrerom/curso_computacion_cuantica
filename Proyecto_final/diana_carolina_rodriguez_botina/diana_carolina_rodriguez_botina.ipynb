{
  "nbformat": 4,
  "nbformat_minor": 0,
  "metadata": {
    "colab": {
      "provenance": [],
      "collapsed_sections": [
        "BXcmlxexQG3W",
        "cVQELNc-e7md",
        "RHSRJWVymTrw",
        "mrpFLHPZsaSq",
        "pzmVVLWJsIMD",
        "BXBeL80WN_nm",
        "KASIkbLdsvwj",
        "12G2HsLloaUR",
        "xmUNV74zXXp1",
        "rcfZuRMexnQ8"
      ]
    },
    "kernelspec": {
      "name": "python3",
      "display_name": "Python 3"
    },
    "language_info": {
      "name": "python"
    }
  },
  "cells": [
    {
      "cell_type": "code",
      "execution_count": 44,
      "metadata": {
        "id": "ZV7kws6Vk_Ec"
      },
      "outputs": [],
      "source": [
        "__authors__    = \"Diana Carolina Rodriguez Botina, PhD\"\n",
        "__codigo__   = [\"20212678016\"]\n",
        "__class__   = [\"Computación Cuántica,PhD\"]\n",
        "__copyright_amp__ = \"(c) Diana Carolina Rodriguez Botina\"\n",
        "__email__   = \"dcrodriguezb@correo.udistrital.edu.co\""
      ]
    },
    {
      "cell_type": "markdown",
      "source": [
        "# **Solución al problema de la factorización de enteros largos con el algoritmo de Shor al algoritmo de encriptación RSA**\n",
        "\n",
        "\n",
        "\n"
      ],
      "metadata": {
        "id": "oQFxV2m9qDEI"
      }
    },
    {
      "cell_type": "markdown",
      "source": [
        "# **Introduccion**"
      ],
      "metadata": {
        "id": "BXcmlxexQG3W"
      }
    },
    {
      "cell_type": "markdown",
      "source": [
        "**¿Qué es la computación cuántica?**\n",
        "\n",
        "La computacion cuantica representa una evolucion, un nuevo paradigma en la computacion ya que se usan calculos y operaciones computacionales los principios fundamentales de la mecanica cuantica.\n",
        "En la actualidad, la posibilidad de realizar mas eficientemente tareas como la factorizacion, es el principal motivo de la computacion cuantica para optimizarlo todo. Tipos de operaciones que juegan con tamaño y tiempo no son pensables para una computadora clasica, aqui es donde juega la computacion cuantica, usando las dos piedras angulares de la mecanica cuantica, la superposicion y el entrelazamiento que resultan  del carácter dual de\n",
        "las partículas, con aspectos ondulatorios y, a su vez, corpuscular.\n",
        "Por ende, los computadores cuanticos hacen calculos a traves de lenguaje de circuitos cuanticos, integrad os por puertas cuánticas, instrucciones y lógica de control clásica.\n",
        "Los circuitos cuánticos permiten expresar aplicaciones y algoritmos matemáticos complejos de manera abstracta que se pueden ejecutar en un ordenador cuántico, se utiliza para muchos fines entre esos esta la criptografia."
      ],
      "metadata": {
        "id": "vm85wWiJQKL2"
      }
    },
    {
      "cell_type": "markdown",
      "source": [
        "# **Descripcion del problema**"
      ],
      "metadata": {
        "id": "cVQELNc-e7md"
      }
    },
    {
      "cell_type": "markdown",
      "source": [
        "Hay muchos metodos de cifrado clasicos, como el RSA, algortimo que se centra su proposito en seguridad donde su dificultad radica en la factorizacion prima de grandes numeros.\n",
        "Esto implica que si n es\n",
        "un número entero positivo cualquiera, entonces por el teorema fundamental de la aritmética, tenemos que dicho número puede ser representado exactamente y con unicidad como un producto de potencias de números primos, esto es:\n",
        "\n",
        "$n={{p_1}^{a_1}}{{p_2}^{a_2}}...{{p_k}^{a_k}}=\\prod_{j=1}^{k} {{p_i}^{a_i}}$\n",
        "\n",
        "donde $p1 < p2 < ... < pk$ son primos y $α_i$ son enteros positivos. \n",
        "\n",
        "En efecto, cuando el valor de n (con n) es muy grande y cuya descomposición factorial está dada por dos primos de aproximadamente el mismo tamaño (con valores correspondientes de n superiores a 700 bits o  superiores a 200 dígitos decimales), no existe dentro del marco clásico un algoritmo que resuelva eficientemente el problema de su factorización, es decir, no hay actualmente un algoritmo que permita describir la complejidad relacionada al tiempo de ejecución en función de un tiempo polinomial (esto es $O(b^{k})$ para alguna constante k, siendo $b$ el número de bits correspondientes a $n$ en representación binaria), en este sentido y dentro del marco clásico el mejor tiempo asintótico de ejecución podemos encontrarlo en el Algoritmo\n",
        "CGCN (Criba General del Cuerpo de Números), a través de la forma canónica para $O$ dada por:\n",
        "\n",
        "$O(exp^{({(\\frac{64}{9}b)^\\frac{1}{3}}{.(log b)}^\\frac{2}{3}})$ o bien:\n",
        "\n",
        "$exp((\\sqrt[3]{\\frac{64}{9}}+ o(1)){(ln n)^\\frac{1}{3}} . {(lnln n)^\\frac{2}{3}})= L_n=[\\frac{1}{3},\\sqrt[3]{\\frac{64}{9}}]$\n",
        "\n",
        "para un $n > 0$ siendo $b$ el número de bits correspondientes a $n$ en notación binaria (esto es $b=log_2 n$ ). En efecto y cómo se puede observar, dicho tiempo asintótico de ejecución dado por la primera ecuación no es polinomico, de hecho esta imposibilidad técnica es la que da soporte solido a los sistemas de cifrado clásicos como el RSA, al asignar al cifrado de las claves publicas pares de números primos relativamente grandes.\n",
        "Por otro lado y en contraste a lo mencionado, aunque los algoritmos para la factorización de números grandes son ineficientes al correr en sistemas de cómputos ordinarios, este problema se soluciona fácilmente cuando la ejecución se efectúa en un computador cuántico a través del algoritmo de Shor, el cual a diferencia del RSA, puede romper el cifrado por descomposición prima en un tiempo polinómico notablemente pequeño, siendo específicos el tiempo de ejecución, se realizaría en solo $O((log n)^3), n > 0,$ lo cual es una diferencia notable en contraste a la ecuación mostrada al principio. En este sentido, se pretende realizar, un análisis más profundo de ambos casos, demostrando no solo los atributos del algoritmo de Shor como técnica para romper el RSA, sino también que las técnicas de cifrado actuales basadas en descomposición de primos fuertes llegarían a ser obsoletas."
      ],
      "metadata": {
        "id": "X1hm3nlofAdZ"
      }
    },
    {
      "cell_type": "markdown",
      "source": [
        "**Formulaciòn del Problema**\n",
        "\n",
        "¿Cómo y mediante qué mecanismos es posible desarrollar un análisis completo de la\n",
        "eficiencia del algoritmo de RSA de clave pública en contraste con el algoritmo de factorización prima Shor, que permita a su vez establecer una noción más amplia de la seguridad en los sistemas de cifrados?\n"
      ],
      "metadata": {
        "id": "fDPmG9Hd38aA"
      }
    },
    {
      "cell_type": "markdown",
      "source": [
        "# **¿Que?**\n"
      ],
      "metadata": {
        "id": "RHSRJWVymTrw"
      }
    },
    {
      "cell_type": "markdown",
      "source": [
        "**Algotirmo RSA**\n",
        "\n",
        "\n",
        "En criptografía, RSA (Rivest, Shamir y Adleman) es un sistema criptográfico de clave pública desarrollado en 1979, que utiliza factorización de números enteros. Es el primer y más utilizado algoritmo de este tipo y es válido tanto para cifrar como para firmar digitalmente.\n",
        "\n",
        "Se trata de un algoritmo de cifrado asimétrico, o de clave pública, y es uno de los más utilizados en la actualidad. De hecho, la mayor parte de los sitios web hoy integran seguridad SSL/TLS, y permiten la autenticación mediante RSA.\n",
        "\n",
        "La seguridad de este algoritmo radica en el problema de la factorización de números enteros. Los mensajes enviados se representan mediante números, y el funcionamiento se basa en el producto, conocido, de dos números primos grandes elegidos al azar y mantenidos en secreto. Actualmente estos primos son del orden de  $100^{300}$, y se prevé que su tamaño siempre crezca con el aumento de la capacidad de cálculo de los ordenadores.\n",
        "\n",
        "Como en todo sistema de clave pública, cada usuario posee dos claves de cifrado: una pública y otra privada. Cuando se quiere enviar un mensaje confidencial, el emisor busca la clave pública del receptor, cifra su mensaje con esa clave, y una vez que el mensaje cifrado llega al receptor, este se ocupa de descifrarlo usando su clave privada.\n",
        "\n",
        "En el caso de querer firmar (propiedades de autenticidad, integridad y no repudio), el emisor obtiene un hash del mensaje a firmar y lo procesa con su clave privada obteniendo así la firma; se envía el mensaje y la firma; el receptor recalcula el hash y descifra el hash original con la clave pública del emisor, validando así (o no) la firma del mensaje.\n",
        "\n",
        "Se cree que RSA será seguro mientras no se conozcan formas rápidas de descomponer un número grande en producto de primos. Aunque se cree que la computación cuántica podría proveer de una solución al problema de factorización, existen investigadores que dudan que dichos avances vayan a volver obsoletos estos algoritmos.\n",
        "\n",
        "RSA, al ser un cifrador asimétrico, trabaja con dos claves, una pública y una privada. Todo el contenido de texto plano, o contenido sin cifrar, que se haya encriptado con la clave pública, podrá ser descifrado mediante la clave privada, y viceversa, todo contenido cifrado con la clave privada podrá ser descifrado mediante la clave pública. $^{1}$"
      ],
      "metadata": {
        "id": "AYbkjyY5mpX3"
      }
    },
    {
      "cell_type": "markdown",
      "source": [
        "\n",
        "\n",
        "---\n",
        "\n",
        "\n",
        "**Algortimo Shor**\n",
        "\n",
        "El algoritmo de Shor es un algoritmo informático cuántico de tiempo polinomial para la factorización de enteros . De manera informal, resuelve el siguiente problema: Dado un número entero $N$, encuentra sus factores primos . Fue inventado en 1994 por el matemático estadounidense Peter Shor.\n",
        "En una computadora cuántica, factorizar un número entero $N$, El algoritmo de Shor se ejecuta en tiempo polinomial (el tiempo necesario es polinomio en $log N$, el tamaño del número entero dado como entrada). Específicamente, toma puertas cuánticas de orden $O((log N)^{2} (log log N)(log log log N))$ \n",
        " utilizando la multiplicación rápida, demostrando así que el problema de factorización de enteros puede resolverse de manera eficiente en una computadora cuántica y, en consecuencia, se encuentra en la **clase de complejidad BQP** . Esto es casi exponencialmente más rápido que el algoritmo de factorización clásico más eficiente conocido, el tamiz de campo numérico general , que funciona en tiempo sub-exponencial: $O (e^{1.9(log N)^{1/3}(log log N)^{2/3}})$ .\n",
        "\n",
        "La eficiencia del algoritmo de Shor se debe a la eficiencia de la transformada cuántica de Fourier y la exponenciación modular por cuadraturas repetidas.\n",
        "\n",
        "Si una computadora cuántica con una cantidad suficiente de qubits pudiera funcionar sin sucumbir al ruido cuántico y otros fenómenos de decoherencia cuántica , entonces el algoritmo de Shor podría usarse para romper los esquemas de criptografía de clave pública , como el esquema RSA ampliamente utilizado . RSA se basa en la suposición de que factorizar números enteros grandes es computacionalmente intratable. Hasta donde se sabe, esta suposición es válida para las computadoras clásicas (no cuánticas); no se conoce ningún algoritmo clásico que pueda factorizar números enteros en tiempo polinomial. Sin embargo, el algoritmo de Shor muestra que factorizar enteros es eficiente en una computadora cuántica ideal, por lo que puede ser factible derrotar a RSA construyendo una computadora cuántica grande. También fue un poderoso motivador para el diseño y la construcción de computadoras cuánticas y para el estudio de nuevos algoritmos de computadoras cuánticas. También ha facilitado la investigación sobre nuevos criptosistemas que son seguros de las computadoras cuánticas, denominados colectivamente criptografía post-cuántica .\n",
        "\n",
        "En 2001, un grupo de IBM demostró el algoritmo de Shor , que tuvo en cuenta 15 dentro 3x5, utilizando una implementación de RMN de una computadora cuántica con 7 qubits. Después de la implementación de IBM, dos grupos independientes implementaron el algoritmo de Shor usando qubits fotónicos , enfatizando que se observó un entrelazamiento de múltiples qubits al ejecutar los circuitos del algoritmo de Shor.\n",
        "En 2012, la factorización de 15 se realizó con qubits de estado sólido. Además, en 2012, la factorización de 21 se logró, estableciendo el récord del mayor entero factorizado con el algoritmo de Shor. En 2019 se intentó factorizar el número 35 utilizando el algoritmo de Shor en un IBM Q System One , pero el algoritmo falló debido a la acumulación de errores. Sin embargo, las computadoras cuánticas han calculado números mucho mayores utilizando otros algoritmos, específicamente el recocido cuántico.$^{2}$\n",
        "\n",
        "El algoritmo de Shor ha pasado a ser considerado un paradigma de los algoritmos cuánticos y, su fama, en cierta medida, se debe al trasfondo de su utilización. La descomposición en factores primos es la clave para atacar al RSA. El algoritmo de Shor pone de manifiesto que la venidera era de los computadores cuánticos dejará obsoletos los actuales sistemas criptográficos.\n",
        "\n"
      ],
      "metadata": {
        "id": "0wNfkzLgr7Oq"
      }
    },
    {
      "cell_type": "markdown",
      "source": [
        "# **¿Cuando y Donde?**"
      ],
      "metadata": {
        "id": "mrpFLHPZsaSq"
      }
    },
    {
      "cell_type": "markdown",
      "source": [
        "**RSA**$^6$\n",
        "\n",
        "El algoritmo fue descrito en 1977 por Ron Rivest, Adi Shamir y Leonard Adleman, del Instituto Tecnológico de Massachusetts (MIT); las letras RSA son las iniciales de sus apellidos. Clifford Cocks, un matemático británico que trabajaba para la agencia de inteligencia británica GCHQ, había descrito un sistema equivalente en un documento interno en 1973. Debido al elevado coste de las computadoras necesarias para implementarlo en la época su idea no trascendió. Su descubrimiento, sin embargo, no fue revelado hasta 1997 ya que era confidencial, por lo que Rivest, Shamir y Adleman desarrollaron RSA de forma independiente.\n",
        "\n",
        "El algoritmo fue patentado por el MIT en 1983 en Estados Unidos con el número 4.405.829. Esta patente expiró el 21 de septiembre de 2000. Como el algoritmo fue publicado antes de patentar la aplicación, esto impidió que se pudiera patentar en otros lugares del mundo. Dado que Cocks trabajó en un organismo gubernamental, una patente en Estados Unidos tampoco hubiera sido posible.\n",
        "\n",
        "Es un algoritmo puramente asimétrico, junto con DSA. Este algoritmo como su nombre lo indica, sirve para firmar (autenticar) y para cifrar información. Una desventaja del algoritmo DSA es que requiere mucho más tiempo de cómputo que RSA.\n",
        "\n",
        "El algoritmo consta de tres pasos: generación de claves, cifrado y descifrado"
      ],
      "metadata": {
        "id": "V-SxD2mbshvi"
      }
    },
    {
      "cell_type": "markdown",
      "source": [
        "**Shor**$^8$\n",
        "\n",
        "Peter Shor Williston (nacido el 14 de agosto de 1959) es un profesor estadounidense de matemáticas aplicadas en el MIT, famoso por su trabajo en computación cuántica, en particular por elaborar el algoritmo de Shor, un algoritmo cuántico de factorización exponencialmente más rápido que el mejor algoritmo conocido actualmente que se ejecuta en un ordenador clásico. En computación cuántica, el algoritmo de Shor es un algoritmo cuántico para descomponer en factores un número N en tiempo O((log N)3) y espacio O(logN), así nombrado por Peter Shor.\n",
        "El algoritmo de Shor fue aplicado en la práctica en 2001 por un grupo en IBM, que descompuso 15 en sus factores 3 y 5, usando una computadora cuántica con 7 qubits."
      ],
      "metadata": {
        "id": "QBVxOyhrsj7K"
      }
    },
    {
      "cell_type": "markdown",
      "source": [
        "#**¿Como?**"
      ],
      "metadata": {
        "id": "pzmVVLWJsIMD"
      }
    },
    {
      "cell_type": "markdown",
      "source": [
        "**Como trabaja el Algortimo RSA?**\n",
        "\n",
        "La seguridad de este sistema se basa en el problema de factorización de números enteros, el cual consiste en encontrar el valor de dos números primos grandes a partir de su producto.\n",
        "\n",
        "Conforme al avance de la tecnología, estos dos números deberían hacerse más y más grandes con el fin de dificultar la solución a dicho problema. De hecho, se cree que con el desarrollo de computación cuántica este se logrará resolver.$^{3}$\n",
        "\n",
        "![1.JPG](data:image/jpeg;base64,/9j/4AAQSkZJRgABAQEAYABgAAD/4RD6RXhpZgAATU0AKgAAAAgABAE7AAIAAAAQAAAISodpAAQAAAABAAAIWpydAAEAAAAgAAAQ0uocAAcAAAgMAAAAPgAAAAAc6gAAAAgAAAAAAAAAAAAAAAAAAAAAAAAAAAAAAAAAAAAAAAAAAAAAAAAAAAAAAAAAAAAAAAAAAAAAAAAAAAAAAAAAAAAAAAAAAAAAAAAAAAAAAAAAAAAAAAAAAAAAAAAAAAAAAAAAAAAAAAAAAAAAAAAAAAAAAAAAAAAAAAAAAAAAAAAAAAAAAAAAAAAAAAAAAAAAAAAAAAAAAAAAAAAAAAAAAAAAAAAAAAAAAAAAAAAAAAAAAAAAAAAAAAAAAAAAAAAAAAAAAAAAAAAAAAAAAAAAAAAAAAAAAAAAAAAAAAAAAAAAAAAAAAAAAAAAAAAAAAAAAAAAAAAAAAAAAAAAAAAAAAAAAAAAAAAAAAAAAAAAAAAAAAAAAAAAAAAAAAAAAAAAAAAAAAAAAAAAAAAAAAAAAAAAAAAAAAAAAAAAAAAAAAAAAAAAAAAAAAAAAAAAAAAAAAAAAAAAAAAAAAAAAAAAAAAAAAAAAAAAAAAAAAAAAAAAAAAAAAAAAAAAAAAAAAAAAAAAAAAAAAAAAAAAAAAAAAAAAAAAAAAAAAAAAAAAAAAAAAAAAAAAAAAAAAAAAAAAAAAAAAAAAAAAAAAAAAAAAAAAAAAAAAAAAAAAAAAAAAAAAAAAAAAAAAAAAAAAAAAAAAAAAAAAAAAAAAAAAAAAAAAAAAAAAAAAAAAAAAAAAAAAAAAAAAAAAAAAAAAAAAAAAAAAAAAAAAAAAAAAAAAAAAAAAAAAAAAAAAAAAAAAAAAAAAAAAAAAAAAAAAAAAAAAAAAAAAAAAAAAAAAAAAAAAAAAAAAAAAAAAAAAAAAAAAAAAAAAAAAAAAAAAAAAAAAAAAAAAAAAAAAAAAAAAAAAAAAAAAAAAAAAAAAAAAAAAAAAAAAAAAAAAAAAAAAAAAAAAAAAAAAAAAAAAAAAAAAAAAAAAAAAAAAAAAAAAAAAAAAAAAAAAAAAAAAAAAAAAAAAAAAAAAAAAAAAAAAAAAAAAAAAAAAAAAAAAAAAAAAAAAAAAAAAAAAAAAAAAAAAAAAAAAAAAAAAAAAAAAAAAAAAAAAAAAAAAAAAAAAAAAAAAAAAAAAAAAAAAAAAAAAAAAAAAAAAAAAAAAAAAAAAAAAAAAAAAAAAAAAAAAAAAAAAAAAAAAAAAAAAAAAAAAAAAAAAAAAAAAAAAAAAAAAAAAAAAAAAAAAAAAAAAAAAAAAAAAAAAAAAAAAAAAAAAAAAAAAAAAAAAAAAAAAAAAAAAAAAAAAAAAAAAAAAAAAAAAAAAAAAAAAAAAAAAAAAAAAAAAAAAAAAAAAAAAAAAAAAAAAAAAAAAAAAAAAAAAAAAAAAAAAAAAAAAAAAAAAAAAAAAAAAAAAAAAAAAAAAAAAAAAAAAAAAAAAAAAAAAAAAAAAAAAAAAAAAAAAAAAAAAAAAAAAAAAAAAAAAAAAAAAAAAAAAAAAAAAAAAAAAAAAAAAAAAAAAAAAAAAAAAAAAAAAAAAAAAAAAAAAAAAAAAAAAAAAAAAAAAAAAAAAAAAAAAAAAAAAAAAAAAAAAAAAAAAAAAAAAAAAAAAAAAAAAAAAAAAAAAAAAAAAAAAAAAAAAAAAAAAAAAAAAAAAAAAAAAAAAAAAAAAAAAAAAAAAAAAAAAAAAAAAAAAAAAAAAAAAAAAAAAAAAAAAAAAAAAAAAAAAAAAAAAAAAAAAAAAAAAAAAAAAAAAAAAAAAAAAAAAAAAAAAAAAAAAAAAAAAAAAAAAAAAAAAAAAAAAAAAAAAAAAAAAAAAAAAAAAAAAAAAAAAAAAAAAAAAAAAAAAAAAAAAAAAAAAAAAAAAAAAAAAAAAAAAAAAAAAAAAAAAAAAAAAAAAAAAAAAAAAAAAAAAAAAAAAAAAAAAAAAAAAAAAAAAAAAAAAAAAAAAAAAAAAAAAAAAAAAAAAAAAAAAAAAAAAAAAAAAAAAAAAAAAAAAAAAAAAAAAAAAAAAAAAAAAAAAAAAAAAAAAAAAAAAAAAAAAAAAAAAAAAAAAAAAAAAAAAAAAAAAAAAAAAAAAAAAAAAAAAAAAAAAAAAAAAAAAAAAAAAAAAAAAAAAAAAAAAAAAAAAAAAAAAAAAAAAAAAAAAAAAAAAAAAAAAAAAAAAAAAAAAAAAAAAAAAAAAAAAAAAAAAAAAAAAAAAAAAAAAAAAAAAAAAAAAAAAAAAAAAAAAAAAAAAAAAAAAAAAAAAAAAAAAAAAAAAAAAAAAAAAAAAAAAAAAAAAAAAAAAAAAAAAAAAAAAAAAAAAAAAAAAAAAAAAAAAAAAAAAAAAAAAAAAAAAAAAAAAAAAAAAAAAAAAAAAAAAAAAAAAAAAAAAAAAAAAAAAAAAAAAAAAAAAAAAAAAAAAAAAAAAAAAAAAAAAAAAAAAAAAAAAAAAAAAAAAAAAAAAAAAAAAAAAAAAAAAAAAAAAAAAAAAAAAAAAAAAAAAAAAAAAAAAAAAAAAAAAAAAAAAAAAAAAAAAAAAAAAAAAAAAAAAAAAAAAAAAAAAAAAAAAAAAAAAAAAAAAAAAAAAAAAAAAAAAAAAAAAAAAAAAAAAAAAAAAAAAAAAAAAAAAAAAAAAAAAAAAAAAAAAAAAAAAAAAAAAAAAAAAAAAAAAAAAAAAAAAAAAAAAAAAAAAAAAAAAAAAAAAAAAAAAAAAAAAAAAAAAAAAAAAAAAAAAAAAAAAAAAAAAAAAAAAAAAAAAAAAAAAAAAAAAAAAAAAAAAAAAAAAAAAAAAAAAAAAAAAAAAAAAAAAAAAAAAAAAAAAAAAAAERJQU5BIFJPRFJJR1VFWgAABZADAAIAAAAUAAAQqJAEAAIAAAAUAAAQvJKRAAIAAAADOTAAAJKSAAIAAAADOTAAAOocAAcAAAgMAAAInAAAAAAc6gAAAAgAAAAAAAAAAAAAAAAAAAAAAAAAAAAAAAAAAAAAAAAAAAAAAAAAAAAAAAAAAAAAAAAAAAAAAAAAAAAAAAAAAAAAAAAAAAAAAAAAAAAAAAAAAAAAAAAAAAAAAAAAAAAAAAAAAAAAAAAAAAAAAAAAAAAAAAAAAAAAAAAAAAAAAAAAAAAAAAAAAAAAAAAAAAAAAAAAAAAAAAAAAAAAAAAAAAAAAAAAAAAAAAAAAAAAAAAAAAAAAAAAAAAAAAAAAAAAAAAAAAAAAAAAAAAAAAAAAAAAAAAAAAAAAAAAAAAAAAAAAAAAAAAAAAAAAAAAAAAAAAAAAAAAAAAAAAAAAAAAAAAAAAAAAAAAAAAAAAAAAAAAAAAAAAAAAAAAAAAAAAAAAAAAAAAAAAAAAAAAAAAAAAAAAAAAAAAAAAAAAAAAAAAAAAAAAAAAAAAAAAAAAAAAAAAAAAAAAAAAAAAAAAAAAAAAAAAAAAAAAAAAAAAAAAAAAAAAAAAAAAAAAAAAAAAAAAAAAAAAAAAAAAAAAAAAAAAAAAAAAAAAAAAAAAAAAAAAAAAAAAAAAAAAAAAAAAAAAAAAAAAAAAAAAAAAAAAAAAAAAAAAAAAAAAAAAAAAAAAAAAAAAAAAAAAAAAAAAAAAAAAAAAAAAAAAAAAAAAAAAAAAAAAAAAAAAAAAAAAAAAAAAAAAAAAAAAAAAAAAAAAAAAAAAAAAAAAAAAAAAAAAAAAAAAAAAAAAAAAAAAAAAAAAAAAAAAAAAAAAAAAAAAAAAAAAAAAAAAAAAAAAAAAAAAAAAAAAAAAAAAAAAAAAAAAAAAAAAAAAAAAAAAAAAAAAAAAAAAAAAAAAAAAAAAAAAAAAAAAAAAAAAAAAAAAAAAAAAAAAAAAAAAAAAAAAAAAAAAAAAAAAAAAAAAAAAAAAAAAAAAAAAAAAAAAAAAAAAAAAAAAAAAAAAAAAAAAAAAAAAAAAAAAAAAAAAAAAAAAAAAAAAAAAAAAAAAAAAAAAAAAAAAAAAAAAAAAAAAAAAAAAAAAAAAAAAAAAAAAAAAAAAAAAAAAAAAAAAAAAAAAAAAAAAAAAAAAAAAAAAAAAAAAAAAAAAAAAAAAAAAAAAAAAAAAAAAAAAAAAAAAAAAAAAAAAAAAAAAAAAAAAAAAAAAAAAAAAAAAAAAAAAAAAAAAAAAAAAAAAAAAAAAAAAAAAAAAAAAAAAAAAAAAAAAAAAAAAAAAAAAAAAAAAAAAAAAAAAAAAAAAAAAAAAAAAAAAAAAAAAAAAAAAAAAAAAAAAAAAAAAAAAAAAAAAAAAAAAAAAAAAAAAAAAAAAAAAAAAAAAAAAAAAAAAAAAAAAAAAAAAAAAAAAAAAAAAAAAAAAAAAAAAAAAAAAAAAAAAAAAAAAAAAAAAAAAAAAAAAAAAAAAAAAAAAAAAAAAAAAAAAAAAAAAAAAAAAAAAAAAAAAAAAAAAAAAAAAAAAAAAAAAAAAAAAAAAAAAAAAAAAAAAAAAAAAAAAAAAAAAAAAAAAAAAAAAAAAAAAAAAAAAAAAAAAAAAAAAAAAAAAAAAAAAAAAAAAAAAAAAAAAAAAAAAAAAAAAAAAAAAAAAAAAAAAAAAAAAAAAAAAAAAAAAAAAAAAAAAAAAAAAAAAAAAAAAAAAAAAAAAAAAAAAAAAAAAAAAAAAAAAAAAAAAAAAAAAAAAAAAAAAAAAAAAAAAAAAAAAAAAAAAAAAAAAAAAAAAAAAAAAAAAAAAAAAAAAAAAAAAAAAAAAAAAAAAAAAAAAAAAAAAAAAAAAAAAAAAAAAAAAAAAAAAAAAAAAAAAAAAAAAAAAAAAAAAAAAAAAAAAAAAAAAAAAAAAAAAAAAAAAAAAAAAAAAAAAAAAAAAAAAAAAAAAAAAAAAAAAAAAAAAAAAAAAAAAAAAAAAAAAAAAAAAAAAAAAAAAAAAAAAAAAAAAAAAAAAAAAAAAAAAAAAAAAAAAAAAAAAAAAAAAAAAAAAAAAAAAAAAAAAAAAAAAAAAAAAAAAAAAAAAAAAAAAAAAAAAAAAAAAAAAAAAAAAAAAAAAAAAAAAAAAAAAAAAAAAAAAAAAAAAAAAAAAAAAAAAAAAAAAAAAAAAAAAAAAAAAAAAAAAAAAAAAAAAAAAAAAAAAAAAAAAAAAAAAAAAAAAAAAAAAAAAAAAAAAAAAAAAAAAAAAAAAAAAAAAAAAAAAAAAAAAAAAAAAAAAAAAAAAAAAAAAAAAAAAAAAAAAAAAAAAAAAAAAAAAAAAAAAAAAAAAAAAAAAAAAAAAAAAAAAAAAAAAAAAAAAAAAAAAAAAAAAAAAAAAAAAAAAAAAAAAAAAAAAAAAAAAAAAAAAAAAAAAAAAAAAAAAAAAAAAAAAAAAAAAAAAAAAAAAAAAAAAAAAAAAAAAAAAAAAAAAAAAAAAAAAAAAAAAAAAAAAAAAAAAAAAAAAAAAAAAAAAAAAAAAAAAAAAAAAAAAAAAAAAAAAAAAAAAAAAAAAAAAAAAAAAAAAAAAAAAAAAAAAAAAAAAAAAAAAAAAAAAAAAAAAAAAAAAAAAAAAAAAAAAAAAAAAAAAAAAAAAAAAAAAAAAAAAAAAAAAAAAAAAAAAAAAAAAAAAAAAAAAAAAAAAAAAAAAAAAAAAAAAAAAAAAAAAAAAAAAAAAAAAAAAAAAAAAAAAAAAAAAAAAAAAAAAAAAAAAAAAAAAAAAAAAAAAAAAAAAAAAAAAAAAAAAAAAAAAAAAAAAAAAAAAAAAAAAAAAAAAAAAAAAAAAADIwMjI6MTI6MTMgMjE6NDc6MTcAMjAyMjoxMjoxMyAyMTo0NzoxNwAAAEQASQBBAE4AQQAgAFIATwBEAFIASQBHAFUARQBaAAAA/+ELImh0dHA6Ly9ucy5hZG9iZS5jb20veGFwLzEuMC8APD94cGFja2V0IGJlZ2luPSfvu78nIGlkPSdXNU0wTXBDZWhpSHpyZVN6TlRjemtjOWQnPz4NCjx4OnhtcG1ldGEgeG1sbnM6eD0iYWRvYmU6bnM6bWV0YS8iPjxyZGY6UkRGIHhtbG5zOnJkZj0iaHR0cDovL3d3dy53My5vcmcvMTk5OS8wMi8yMi1yZGYtc3ludGF4LW5zIyI+PHJkZjpEZXNjcmlwdGlvbiByZGY6YWJvdXQ9InV1aWQ6ZmFmNWJkZDUtYmEzZC0xMWRhLWFkMzEtZDMzZDc1MTgyZjFiIiB4bWxuczpkYz0iaHR0cDovL3B1cmwub3JnL2RjL2VsZW1lbnRzLzEuMS8iLz48cmRmOkRlc2NyaXB0aW9uIHJkZjphYm91dD0idXVpZDpmYWY1YmRkNS1iYTNkLTExZGEtYWQzMS1kMzNkNzUxODJmMWIiIHhtbG5zOnhtcD0iaHR0cDovL25zLmFkb2JlLmNvbS94YXAvMS4wLyI+PHhtcDpDcmVhdGVEYXRlPjIwMjItMTItMTNUMjE6NDc6MTcuOTAxPC94bXA6Q3JlYXRlRGF0ZT48L3JkZjpEZXNjcmlwdGlvbj48cmRmOkRlc2NyaXB0aW9uIHJkZjphYm91dD0idXVpZDpmYWY1YmRkNS1iYTNkLTExZGEtYWQzMS1kMzNkNzUxODJmMWIiIHhtbG5zOmRjPSJodHRwOi8vcHVybC5vcmcvZGMvZWxlbWVudHMvMS4xLyI+PGRjOmNyZWF0b3I+PHJkZjpTZXEgeG1sbnM6cmRmPSJodHRwOi8vd3d3LnczLm9yZy8xOTk5LzAyLzIyLXJkZi1zeW50YXgtbnMjIj48cmRmOmxpPkRJQU5BIFJPRFJJR1VFWjwvcmRmOmxpPjwvcmRmOlNlcT4NCgkJCTwvZGM6Y3JlYXRvcj48L3JkZjpEZXNjcmlwdGlvbj48L3JkZjpSREY+PC94OnhtcG1ldGE+DQogICAgICAgICAgICAgICAgICAgICAgICAgICAgICAgICAgICAgICAgICAgICAgICAgICAgICAgICAgICAgICAgICAgICAgICAgICAgICAgICAgICAgICAgICAgICAgICAgICAgCiAgICAgICAgICAgICAgICAgICAgICAgICAgICAgICAgICAgICAgICAgICAgICAgICAgICAgICAgICAgICAgICAgICAgICAgICAgICAgICAgICAgICAgICAgICAgICAgICAgICAKICAgICAgICAgICAgICAgICAgICAgICAgICAgICAgICAgICAgICAgICAgICAgICAgICAgICAgICAgICAgICAgICAgICAgICAgICAgICAgICAgICAgICAgICAgICAgICAgICAgIAogICAgICAgICAgICAgICAgICAgICAgICAgICAgICAgICAgICAgICAgICAgICAgICAgICAgICAgICAgICAgICAgICAgICAgICAgICAgICAgICAgICAgICAgICAgICAgICAgICAgCiAgICAgICAgICAgICAgICAgICAgICAgICAgICAgICAgICAgICAgICAgICAgICAgICAgICAgICAgICAgICAgICAgICAgICAgICAgICAgICAgICAgICAgICAgICAgICAgICAgICAKICAgICAgICAgICAgICAgICAgICAgICAgICAgICAgICAgICAgICAgICAgICAgICAgICAgICAgICAgICAgICAgICAgICAgICAgICAgICAgICAgICAgICAgICAgICAgICAgICAgIAogICAgICAgICAgICAgICAgICAgICAgICAgICAgICAgICAgICAgICAgICAgICAgICAgICAgICAgICAgICAgICAgICAgICAgICAgICAgICAgICAgICAgICAgICAgICAgICAgICAgCiAgICAgICAgICAgICAgICAgICAgICAgICAgICAgICAgICAgICAgICAgICAgICAgICAgICAgICAgICAgICAgICAgICAgICAgICAgICAgICAgICAgICAgICAgICAgICAgICAgICAKICAgICAgICAgICAgICAgICAgICAgICAgICAgICAgICAgICAgICAgICAgICAgICAgICAgICAgICAgICAgICAgICAgICAgICAgICAgICAgICAgICAgICAgICAgICAgICAgICAgIAogICAgICAgICAgICAgICAgICAgICAgICAgICAgICAgICAgICAgICAgICAgICAgICAgICAgICAgICAgICAgICAgICAgICAgICAgICAgICAgICAgICAgICAgICAgICAgICAgICAgCiAgICAgICAgICAgICAgICAgICAgICAgICAgICAgICAgICAgICAgICAgICAgICAgICAgICAgICAgICAgICAgICAgICAgICAgICAgICAgICAgICAgICAgICAgICAgICAgICAgICAKICAgICAgICAgICAgICAgICAgICAgICAgICAgICAgICAgICAgICAgICAgICAgICAgICAgICAgICAgICAgICAgICAgICAgICAgICAgICAgICAgICAgICAgICAgICAgICAgICAgIAogICAgICAgICAgICAgICAgICAgICAgICAgICAgICAgICAgICAgICAgICAgICAgICAgICAgICAgICAgICAgICAgICAgICAgICAgICAgICAgICAgICAgICAgICAgICAgICAgICAgCiAgICAgICAgICAgICAgICAgICAgICAgICAgICAgICAgICAgICAgICAgICAgICAgICAgICAgICAgICAgICAgICAgICAgICAgICAgICAgICAgICAgICAgICAgICAgICAgICAgICAKICAgICAgICAgICAgICAgICAgICAgICAgICAgICAgICAgICAgICAgICAgICAgICAgICAgICAgICAgICAgICAgICAgICAgICAgICAgICAgICAgICAgICAgICAgICAgICAgICAgIAogICAgICAgICAgICAgICAgICAgICAgICAgICAgICAgICAgICAgICAgICAgICAgICAgICAgICAgICAgICAgICAgICAgICAgICAgICAgICAgICAgICAgICAgICAgICAgICAgICAgCiAgICAgICAgICAgICAgICAgICAgICAgICAgICAgICAgICAgICAgICAgICAgICAgICAgICAgICAgICAgICAgICAgICAgICAgICAgICAgICAgICAgICAgICAgICAgICAgICAgICAKICAgICAgICAgICAgICAgICAgICAgICAgICAgICAgICAgICAgICAgICAgICAgICAgICAgICAgICAgICAgICAgICAgICAgICAgICAgICAgICAgICAgICAgICAgICAgICAgICAgIAogICAgICAgICAgICAgICAgICAgICAgICAgICAgICAgICAgICAgICAgICAgICAgICAgICAgICAgICAgICAgICAgICAgICAgICAgICAgICAgICAgICAgICAgICAgICAgICAgICAgCiAgICAgICAgICAgICAgICAgICAgICAgICAgICAgICAgICAgICAgICAgICAgICAgICAgICAgICAgICAgICAgICAgICAgICAgICAgICAgICAgICAgICAgICAgICAgICAgICAgICAKICAgICAgICAgICAgICAgICAgICAgICAgICAgIDw/eHBhY2tldCBlbmQ9J3cnPz7/2wBDAAcFBQYFBAcGBQYIBwcIChELCgkJChUPEAwRGBUaGRgVGBcbHichGx0lHRcYIi4iJSgpKywrGiAvMy8qMicqKyr/2wBDAQcICAoJChQLCxQqHBgcKioqKioqKioqKioqKioqKioqKioqKioqKioqKioqKioqKioqKioqKioqKioqKioqKir/wAARCAFvApMDASIAAhEBAxEB/8QAHwAAAQUBAQEBAQEAAAAAAAAAAAECAwQFBgcICQoL/8QAtRAAAgEDAwIEAwUFBAQAAAF9AQIDAAQRBRIhMUEGE1FhByJxFDKBkaEII0KxwRVS0fAkM2JyggkKFhcYGRolJicoKSo0NTY3ODk6Q0RFRkdISUpTVFVWV1hZWmNkZWZnaGlqc3R1dnd4eXqDhIWGh4iJipKTlJWWl5iZmqKjpKWmp6ipqrKztLW2t7i5usLDxMXGx8jJytLT1NXW19jZ2uHi4+Tl5ufo6erx8vP09fb3+Pn6/8QAHwEAAwEBAQEBAQEBAQAAAAAAAAECAwQFBgcICQoL/8QAtREAAgECBAQDBAcFBAQAAQJ3AAECAxEEBSExBhJBUQdhcRMiMoEIFEKRobHBCSMzUvAVYnLRChYkNOEl8RcYGRomJygpKjU2Nzg5OkNERUZHSElKU1RVVldYWVpjZGVmZ2hpanN0dXZ3eHl6goOEhYaHiImKkpOUlZaXmJmaoqOkpaanqKmqsrO0tba3uLm6wsPExcbHyMnK0tPU1dbX2Nna4uPk5ebn6Onq8vP09fb3+Pn6/9oADAMBAAIRAxEAPwD0jx38VJfCPi+28P2Ph+51e6uLYXCrbnLYyR0x/s1kD4xeJcf8k21v/v23+FGv/wDJ1Ggf9gZv/Q3r2CgDx/8A4XF4l/6JrrX/AH7b/Cj/AIXF4l/6JrrX/ftv8K9gooA8f/4XF4l/6JrrX/ftv8KP+FxeJf8Aomutf9+2/wAK9gooA8f/AOFxeJf+ia61/wB+2/wo/wCFxeJf+ia61/37b/CvYKKAPH/+FxeJf+ia61/37b/Cj/hcXiX/AKJrrX/ftv8ACvYKKAPH/wDhcXiX/omutf8Aftv8KP8AhcXiX/omutf9+2/wr2CigDx//hcXiX/omutf9+2/wo/4XF4l/wCia61/37b/AAr2CigDx/8A4XF4l/6JrrX/AH7b/Cj/AIXF4l/6JrrX/ftv8K9gooA8f/4XF4l/6JrrX/ftv8KP+FxeJf8Aomutf9+2/wAK9gooA8f/AOFxeJf+ia61/wB+2/wo/wCFxeJf+ia61/37b/CvYKKAPH/+FxeJf+ia61/37b/Cj/hcXiX/AKJrrX/ftv8ACvYKKAPH/wDhcXiX/omutf8Aftv8KP8AhcXiX/omutf9+2/wr2CigDx//hcXiX/omutf9+2/wo/4XF4l/wCia61/37b/AAr2CigDx/8A4XF4l/6JrrX/AH7b/Cj/AIXF4l/6JrrX/ftv8K9gooA8f/4XF4l/6JrrX/ftv8KP+FxeJf8Aomutf9+2/wAK9grN17W7Lw7otzqmpyeXb26bmIHJ9APUmgDzH/hcXiX/AKJrrX/ftv8ACj/hcXiX/omutf8Aftv8K3IPHfiy5t1vbbwDdvZP8ybruNZWXsdp6fSu6+2RR2iXF4y2qsASJnC7T6E0AeU/8Li8S/8ARNda/wC/bf4Uf8Li8S/9E11r/v23+Fetm7t1hEzXEQiOMOXG056c0RXVvO7pDPFIyfeVHBK/X0oA8k/4XF4l/wCia61/37b/AAo/4XF4l/6JrrX/AH7b/CvWpb21gkSOa5hjdzhVeQAt9B3pZLq3hYLLPEjFSwDOASB1P0oA8k/4XF4l/wCia61/37b/AAo/4XF4l/6JrrX/AH7b/CvWG1CySFJXu4Fjk+45lUBvoc81NvQLuLLtxnOeMUAeQ/8AC4vEv/RNda/79t/hR/wuLxL/ANE11r/v23+Fen3WpINMuLnT3guniRiFEo2kjsW6Cqt9rbaf4XbUp4A04hDC3SUEM56KG6Yz3oA86/4XF4l/6JrrX/ftv8KP+FxeJf8Aomutf9+2/wAK9M0m7nGjW9xrMtvHM6gyGNwI1J7Anr6VfjureaRo4Z4pHT7yq4JX6igDyT/hcXiX/omutf8Aftv8KP8AhcXiX/omutf9+2/wr2DI9a53xB4qg0h9OFuI7v7ZfJZt5cgPlkgnJx9OlAHA/wDC4vEv/RNda/79t/hR/wALi8S/9E11r/v23+Fesy3dtaqv2m4ih3HA8xwuT+NTBgwypBHqDQB5B/wuLxL/ANE11r/v23+FH/C4vEv/AETXWv8Av23+FetT3dvbAfaLiKLccLvcLk+2ayLjxCLbxhY6IId32u3ebzd33dpAxj8aAPPP+FxeJf8Aomutf9+2/wAKP+FxeJf+ia61/wB+2/wr1pby1e4MCXMLTL1jEgLD8OtPSeKVnWOVHZDhwrAlT6H0oA8i/wCFxeJf+ia61/37b/Cj/hcXiX/omutf9+2/wr1xbmB1dkmjYISGIcHaR1z6UkF1b3SF7aeOZQcFo3DD9KAPJP8AhcXiX/omutf9+2/wo/4XF4l/6JrrX/ftv8K9aivLaeVo4biKSRPvKjglfqKmoA8f/wCFxeJf+ia61/37b/Cj/hcXiX/omutf9+2/wr2CigDx/wD4XF4l/wCia61/37b/AAo/4XF4l/6JrrX/AH7b/CvYKKAPH/8AhcXiX/omutf9+2/wo/4XF4l/6JrrX/ftv8K9gooA8f8A+FxeJf8Aomutf9+2/wAKP+FxeJf+ia61/wB+2/wr2CigDx//AIXF4l/6JrrX/ftv8KP+FxeJf+ia61/37b/CvYKKAPH/APhcXiX/AKJrrX/ftv8ACj/hcXiX/omutf8Aftv8K9gooA8f/wCFxeJf+ia61/37b/Cj/hcXiX/omutf9+2/wr2CigDx/wD4XF4l/wCia61/37b/AAo/4XF4l/6JrrX/AH7b/CvYKKAPH/8AhcXiX/omutf9+2/wo/4XF4l/6JrrX/ftv8K9gooA8f8A+FxeJf8Aomutf9+2/wAKP+FxeJf+ia61/wB+2/wr2CigDx//AIXF4l/6JrrX/ftv8KP+FxeJf+ia61/37b/CvYKKAPH/APhcXiX/AKJrrX/ftv8ACj/hcXiX/omutf8Aftv8K9gooA8f/wCFxeJf+ia61/37b/Cj/hcXiX/omutf9+2/wr2CigDx/wD4XF4l/wCia61/37b/AAqtffHPV9Lg+06r4C1WzttwVppgVUEnjkivaa8x/aA/5JTcf9fcP/oVAHoWn3Qv9Nt7sDYJ41kCk9MjNFV/Dv8AyLOm/wDXtH/6CKKAPM9f/wCTqNA/7Azf+hvXsFeL+LdQs9M/ae0K51G6htYF0dgZJnCKMu/c16V/wnPhT/oY9L/8DE/xoA3qKwf+E58Kf9DJpX/gZH/jR/wnPhT/AKGTSv8AwMj/AMaAN6isH/hOfCn/AEMmlf8AgZH/AI0f8Jz4U/6GTSv/AAMj/wAaAN6isH/hOfCn/QyaV/4GR/40f8Jz4U/6GTSv/AyP/GgDeorB/wCE58Kf9DJpX/gZH/jR/wAJz4U/6GTSv/AyP/GgDeorB/4Tnwp/0Mmlf+Bkf+NH/Cc+FP8AoZNK/wDAyP8AxoA3qKwf+E58Kf8AQyaV/wCBkf8AjR/wnPhT/oZNK/8AAyP/ABoA3qKwf+E58Kf9DJpX/gZH/jR/wnPhT/oZNK/8DI/8aAN6isH/AITnwp/0Mmlf+Bkf+NH/AAnPhT/oZNK/8DI/8aAN6isH/hOfCn/QyaV/4GR/40f8Jz4U/wChk0r/AMDI/wDGgDeorB/4Tnwp/wBDJpX/AIGR/wCNH/Cc+FP+hk0r/wADI/8AGgDeorB/4Tnwp/0Mmlf+Bkf+NH/Cc+FP+hk0r/wMj/xoA3qKwf8AhOfCn/QyaV/4GR/40f8ACc+FP+hk0r/wMj/xoA3qKwf+E58Kf9DJpX/gZH/jR/wnPhT/AKGTSv8AwMj/AMaAN6uE+L1pPceBWlt4WnWzu4LqaJBkvGjgsMd+K3f+E58Kf9DJpX/gZH/jTX8a+FJFKt4j0ogjBBvI/wDGgDkfGfjOK58Hf2x4R8XWFmYIGl8ksjNKccJtJyD2xXHeJpdT8ReKdIh1aXTFhl0mOeJNWZkhklP38Y4LfWu/VPhct/8AbVn8OC4zu3+dF19cZ61f1XWPh/rdusGrapoV3GvKrLcxnb9OeKAPMrjRZ7D4ZapYy6tYXNvLqtsIo9MnLpbAuoKg9jnnFdPN4a03wh8SPCL+H4TatqAnhutrkiYKgYFs9Tmuhgvvh1b6b/Z8GoaDHabxJ5SXEYUsDkHr1Bq3ceJPBV1eWt1ca5o7zWhJgc3ceY8jBxz6UAeMNpd14g1fXpdYu/D8d4l5Ih/tWdo54UB+QqMgAYxgiuqk8PprPiDwPpev3aanGunTGaSGQmO4wRjnuOlddqU/w11i8F3qd74fupx/y0knjJP1OeauJr3gWO5triPWdFWS1jMcDLdRjy1PUDmgDzzxpZaZc+Ln0Cz07Q7WPSbGMedq1wyLsbJAjUHnHc1labqM118I9Et9VvW/sr+2ntb6eN2Ci3DttBbqF6D6V6hqt/8ADvWruK51TUNBu54hhJJbiMkD0zmpItX8AQ6ZJp0eqaGLOVizwfaY9jEnJ4zQBhX+k+DtL8G+IT4RezEz6a5lW0nD/LtOCQCfzrAht9I1TxNoNl4ylQaYuhxSWkdzJsieX+L2Jxiu1sbn4b6baXFtY32gQQ3IKzKlxGN4PY80/UL/AOHeq2MNnqOo6FcW8AAiSS5jOwe3PFAHmV4sH/CD+KdO0W6kfQ4tWt47KSOQlVy67wjegPSutm8M6Z4R+IHhCXQoDayX7SwXRDk+coj3ZbPU5710Y1X4frpK6Yup6GtkjBlgW5jCgg5Bxn1qzP4m8FXNza3E+uaPJNaEtA5u48xkjBxz6UAR/Eye7t/hvq8lgzrKIlBaP7yoXUOR/wABJrzPVNM8Fadq/gs+FbmA3U1/GZEt59/mLtPzOM9cnqfU16xJ4z8JSxNHL4h0h0YEMrXcZBHp1rDtT8M7KUSWl34fhcSiYMk8YIcdD19zQB534hsbvXviV4gh1WbRVa3kVbWLWJWTEO370fIGM9TXqPwztLmw8D21td6jbakY5HCT2khkj2buFDHrjpUWr3/w616RH1jUNBvHT7rS3EZI/HNXrHxT4M02zS1sNc0a3gj+7HHdRqo/AGgDgbay8Na54+8Uj4gTQG7troR2UN7NsVLbaCGQEjvnmtvUJLLT/HWiS2H76zt9HnaLy23bkGCMHvwK1NWvfhzrs6Tavf6DdyxjCvLcRkgenWrQ8QeB1uIJ11rRRJbxmKIi6jGxD/COelAHhl1II7XTPEmmJoWnST30TxR21y73mGkAIbnrg8g16b4l1xfAHi6+1SbItdXsC6KOhuUGAPxyK0wnwwWaSZLnw6ssjB3cTRAkg5z19a0NT1vwHrKQJqmr6LcrbyCSISXUZ2MOhHNAHnPi/TNR0X4eeGbKaaOGPUL3zdUluWYRFnBYCRhyFycVN4U8PPYavqDLr2gWNpPpkqTQ6VcE7Tj5ZSCeMetekXvinwXqFm9pfa5o08Egw0cl1Gyn8M1n6XJ8OtNEy6Tc6DF5q7ZfLlj+ZT2PPT2oA43wnb+H/DnirRLM22mXl7dFo4NR0y8MjsQuS0iZ6H1z1r2quL01Ph/o94bvS5tDtZz/AMtI5YwfzzxW5/wl3h3/AKDmnf8AgUn+NAGxRmsSTxl4aiUGTX9NUepukH9aj/4Tnwr/ANDJpX/gYn+NAG/mjNYH/Cc+FP8AoZNL/wDAyP8Axo/4Tnwp/wBDJpf/AIGR/wCNAG/mjNYH/Cc+FP8AoZNL/wDAyP8Axo/4Tnwp/wBDJpf/AIGR/wCNAG/mjNYH/Cc+FP8AoZNL/wDAyP8Axo/4Tnwp/wBDJpf/AIGR/wCNAG/mjNYH/Cc+FP8AoZNL/wDAyP8Axo/4Tnwp/wBDJpf/AIGR/wCNAG/mjNYH/Cc+FP8AoZNL/wDAyP8Axo/4Tnwp/wBDJpf/AIGR/wCNAG/mjNYH/Cc+FP8AoZNL/wDAyP8Axo/4Tnwp/wBDJpf/AIGR/wCNAG/mjNYH/Cc+FP8AoZNL/wDAyP8Axo/4Tnwp/wBDJpf/AIGR/wCNAG/mjNYH/Cc+FP8AoZNL/wDAyP8Axo/4Tnwp/wBDJpf/AIGR/wCNAG/mjNYH/Cc+FP8AoZNL/wDAyP8Axo/4Tnwp/wBDJpf/AIGR/wCNAG/mjNYH/Cc+FP8AoZNL/wDAyP8Axo/4Tnwp/wBDJpf/AIGR/wCNAG/mjNYH/Cc+FP8AoZNL/wDAyP8Axo/4Tnwp/wBDJpf/AIGR/wCNAG/mjNYH/Cc+FP8AoZNL/wDAyP8Axo/4Tnwp/wBDJpf/AIGR/wCNAG/mvMP2gD/xam4/6+4f/Qq7D/hOfCn/AEMml/8AgYn+NedfHHxRoOp/DOe207WbC6na6hIihuFdiA3oDQB6h4d/5FnTf+vaP/0EUUnhwg+GNNI5H2aP/wBBFFAHi/xP0Gw8R/tDaNp2rRedbSaTuZNxHR3rX/4Un4I/6Bjf9/WqLxl/yc3oX/YHb/0N69EoA4D/AIUn4I/6Bjf9/mo/4Un4I/6Bjf8Af5q7+igDgP8AhSfgj/oGN/3+aj/hSfgj/oGN/wB/mrqX8UaKmtx6QdRt/t8h2rbh8vnGcYrW70AcB/wpPwR/0DG/7/NR/wAKT8Ef9Axv+/zV3zusaM7sFVRkknAArCtfG3hu91D7FaazaS3BbasaycsfQetAHPf8KT8Ef9Axv+/zUf8ACk/BH/QMb/v81d9nPSq91qFtZNCLqZYjPJ5UQb+JvSgDif8AhSfgj/oGN/3+aj/hSfgj/oGN/wB/mrvs0tAHAf8ACk/BH/QMb/v81H/Ck/BH/QMb/v8ANXfc+1NlmSCF5ZiFjjUs5PYDvQBwf/Ck/BH/AEDG/wC/zUf8KT8Ef9Axv+/zV3VtcxXdtHcW7iSKRdysO49akz+NAHA/8KT8Ef8AQMb/AL/NR/wpPwR/0DG/7/NXfZozQBwP/Ck/BH/QMb/v81H/AApPwR/0DG/7/NXf5pMmgDgf+FJ+CP8AoGN/3+aj/hSfgj/oGN/3+au5u7uCxs5bq6kWKGJdzu3QD1p8MyTwpNCweN1DKR3FAHB/8KT8Ef8AQMb/AL/NR/wpPwR/0DG/7/NXf5ozQBwH/Ck/BH/QMb/v81H/AApPwR/0DG/7/NXfZozQBwP/AApPwR/0DG/7/NR/wpPwR/0DG/7/ADV2N3rFpZ6ja2MrMbm6J8uNFycDqT6D3q9mgDgP+FJ+CP8AoGN/3+aj/hSfgj/oGN/3+au/+tGaAOA/4Un4I/6Bjf8Af5qP+FJ+CP8AoGN/3+au+zRk0AcD/wAKT8Ef9Axv+/zUf8KT8Ef9Axv+/wA1d9mlzQBwH/Ck/BH/AEDG/wC/zUf8KT8Ef9Axv+/zV39GaAOA/wCFJ+CP+gY3/f5qP+FJ+CP+gY3/AH+au/qtZahbajC8tlMsqI5jYr2YHBFAHE/8KT8Ef9Axv+/zUf8ACk/BH/QMb/v81d9mlzQBwH/Ck/BH/QMb/v8ANR/wpPwR/wBAxv8Av81d9nHWlBoA4D/hSfgj/oGN/wB/mo/4Un4I/wCgY3/f5q7+igDgP+FJ+CP+gY3/AH+aj/hSfgj/AKBjf9/mrv6KAOA/4Un4I/6Bjf8Af5qP+FJ+CP8AoGN/3+au/pM0AcD/AMKT8Ef9Axv+/wA1H/Ck/BH/AEDG/wC/zV34NFAHAf8AClPBH/QMb/v61ch4C+GXhjWfif4p0i/smezsFQ26CQjbk8817dXn/wALf+S2eN/9yP8AnQBvf8KE8A/9Ap/+/wC1H/ChPAP/AECn/wC/7f416SOlBoA+bvjF8MPC/hXTdFl0ayaFrq/WGXMhOV9K10+EHg9o1J09skZP71q2P2hf+QP4c/7Cq/yroIv9Wn+6KxqtrY56zaehxP8Awp7wd/0Dm/7+tR/wp/wd/wBA5v8Av61dzRWPMzDnl3OG/wCFP+Dv+gc3/f1qP+FP+Dv+gc3/AH9aus1LV9P0e38/U7yG1jzgNK2M1WsfE+jalbzTWOowTpApeUo2dijuad5DvPuc5/wp/wAHf9A5v+/rUf8ACnvB3/QOb/v61dpb3Ed1bxz27B4pFDKw6EetSZpc0hc8u5w//CnvB3/QOb/v61H/AAp7wd/0Dm/7+tXc5ozRzMOeXc4b/hT/AIO/6Bzf9/Wo/wCFP+Dv+gc3/f1q7j61gr438Ntdm2/ti2EwfYVZsYb0p80mNSkzF/4U/wCDv+gc3/f1qP8AhT/g7/oHN/39auyuryCyspLu5kVII13s56YqAavajSF1OdjBasgfdKu0gHpkUXkHNLucp/wp/wAHf9A5v+/rUf8ACn/B3/QOb/v61dsrh0VkIKsMgjuKpy61YQrcmS5RRaECb/YJ6ZovIOaXc5X/AIU/4O/6Bzf9/Wo/4U/4O/6Bzf8Af1q7dWDqGU5DDINLmjmYc0u5w/8Awp7wd/0Dm/7+tR/wp7wd/wBA5v8Av61dyDRS5mLnl3OG/wCFPeDv+gc3/f1qP+FPeDv+gc3/AH9au5oo5mHPLucN/wAKe8Hf9A5v+/rUf8Ke8Hf9A5v+/rV3NFHMw55dzhv+FPeDv+gc3/f1qP8AhT3g7/oHN/39au5oo5mHPLucN/wp/wAHf9A5v+/rVynxG+Hfhzw94Ra/0yzaO4WeNQxkJ4Jr2OuE+MX/ACT6X/r5i/8AQquMm2i4ybkkey+GkCeF9MVRgC1jA/75FFO8O/8AIs6b/wBe0f8A6CKK6TsPKPGX/Jzehf8AYHb/ANDevRK878Zf8nN6F/2B2/8AQ3r0SgAoooPSgDz7xdp9pafEHwbNbW0cUs1/OZHVQC/7k9TXoIrhfEXgTWdd8QwanF4oltRZyNLZwi1RhCSu089+PWumOn6kbXT4xqzCS3cNcyeUv+kjHIx/Dn2oAXxJpkms+GtQ06CXyZLqBo1f+6SK4eyv18Mwafa+KfCMNnFE6QpqFsVkQPnAYjG5cmvQdQtWvtPnto7ma1aVComhOHjPqPeuNb4e6hf3FuviHxVfanY28qyratGiB2HI3EDJoAxPFnjrVX8X3uj6TfzaZb2CoGlg043TSuy557KBkfWlXXdQ17RfDVxq8LR3UWtCFnMRiEoAOHCnkZGP1rqNa8DyXeuSavoWs3OjXk6LHcGFVdJgvQlW7gd6m/4Q+WSy0yG81e5vJrK8F2Z5wC0h5+XjAA5oA4PVfH+u6hreo/2XqU2nW9jcPBDDFpZuBMV4Jd+2T2HStz/hKfEniSPRNM0lo9Gv761a5u55od5iCnaQqH1PrWneeAbpNVu7zw54gvNHS9kMtxbxoroznqy7hwTVjVPAxvrXTnttavbbVdPTZHqIKs8gPUOMYIPpxQBR1jUvEvhbw1Db3GoW+qare3iWtrdNAI1TcfvMoODjmrdvZ+KNH0jVJ9b16HVEFo7xgWixGNwpPY8j61JN4IbUvDMmm69rN5qFw0onS8O1HhdfulABxin6b4U1O3tb6HVvEl5qYuLdoEEyKFjBBGcAcnnrmgDnY9c8Ra1/Ymh6HfQ6dPNpwvLq8aAOQOAFVOnJqOfxX4i0/wAM+I7O8uoZtX0eSIR3iRBVmV2GCV6A9q3Lz4f77XS30zV7jTtS023+zpeQqP3idwyngiiH4eQx+G9R0+bUri5u9SlWW5vpgCzspBAx2HHSgChBe+LND8QaNJrmr29/aas5hktkthH5DbdwKtnJHbmsnxf4v1ey169XSvEhRbM8WcGlGdQQMlXk7H6dK77VfDy6nPpEpnMf9mz+cAFzv+UjB/OufvfhzNLf6i1h4hvbGw1KRpbi0iVTl2HOGIyB7UAUtS8Ta/q1v4SPh+4ispdZhZ5Wkj3hPkBzj2zXbaXDeadoyx6vfG/uIlZpLgRCPf1P3R04rIsPBkdknh1Vu2YaHC0S/L/rcrtyfTpXTkAjDDIPUUAeO6vfeL/EPw81XxGNTtY9NnhkC6YbccRZxnzM53d66C51PXLo6D4d8O3kWnyzWAuJ7t4hIVQADaFPGTRd/Cp5rK80q18R31to1yWYWChSqE84z1255xWxq3gn7fFps1hqlxp2padF5UV3CASy45DKeCOOlAGEviLxZZaXr+ku8Oo6xpojaG6jgxvjcj5ig4yBnj2rT8EX2pXF5PFqPiaHVwIw3kNZfZ5Ymz6dxU1j4EkstLvlGvX51S+kWSXUgVEmV6ADGAvtUnh/wbPpevPrOrazcare+T5EbyIqKiZzjC9T7mgCDxzqet2epaBZeHbiO3m1C5kidpUDLjZnOPbrVXRNT8QaZ4g1bQte1GLUnhsheW90kAiIzkFSBx1FdJq+grqur6RfNOYzpszyqgGd+5duM9qafDkb+LZtbeYnzrMWjQ7eMZJzn8aAOXGsXQ+F0HifdGNXkt0VrrYNx+fp6d6l13UPEt34v07R9C1KKxjudNM80skAk2ndjIB71BL8LZ5bJ9N/4SW+GkrJ5kNntXbGd2cE9SB6V1Q8PKPE9trHnnNvZG0EWOCN2c5oA4ayvvHmqRatZJrlnby6HKyNdC0DG7IG4Ar0Xj0qPV/iNqkuh6AllIbO71O3M1xcRWpuDHjghU9zXdad4bXT7rW5VuC39rTNKw2/6vK7ce9Y8nw6i/sPS7W01O4tL/S1K299CAGweoIPBBoA5mz8a+IE8J+IzPczXE1jbCa1v5bH7OSc/dKng4rQvdW8X6J4et7y61O3ub/V5Ibe1gFuFjtWfqxPVsD1rbPgm+uvDup6bq/iK71CTUIvK8ySNVWIeqqMVp654Xtde8ORaTdTSR+TsaKeI7XjkTowoA5yy1HxT4c8U2uk69qUGsx6jBI0DrbiFo5VGdpx1B9ap+HNY8R3OtW7ax4kht5JJSsmkz6f5fHPCSdzW3pHgSe11Q6nrWvXmq3qQtBbySBVECnqQB/F71BH8Pr2bUrSbWfE9/qNrZzieGCREU7h03MBk9aANbx3qd5o/gu+vtMcR3UQUxswBAJYDn865tdQ8XeHr7SL3XNWttRsdTnS3ktUthGYGYZUqwOT+NbvxHtJb7wHqNtBG8jyBAEjGWPzjpWfpXgGdb7T7rV9evtRtrHD2tpMFCxtjgkgZYj3oArWF14r17xlrVraaxFZ6bp16qAfZ1d3G0Epk9B79eayx4m18eGbaTTLiGO8n1yW0DPENpTcw5A+ld9ougLpGp6teLO0h1K5+0FSMbDtC4/SsiDwHHBZ20AvmP2fUmv92wfMWYnb+tAGF53jq38Uf8I22v2szXVv9pW/NmA0ABwVCA4P40f8Jf4g0/w7e2FxNBd61DqQ06K7MYVG3dHKjjgHpXavoSv4ui1wzENHbGARbeCCc5zWVe+ArTULbV4bm5lU6hdC6jki+VreQAbSp9sUAZtlfeJ/Dnimx0vxBqkOsw6lG5idbcQtFIozjjqDVHw9rXiS51yA6z4jhtZJJir6TNYeWMZ+6snc/wA63NI8DT2urjU9b1281e6iiaG2aRQggBHJAH8XvVZfh7eXGpWkms+J7/UbOznFxDbyKgJdfu7mAycUAdbZDURd3f29oGgMg+zCJSGC4/i981zHj7Vdbsb7QbPw9cR282oXTwu0qBlwFznHt1rp7K1u7e6u5Lm9NxFK4aGMoF8lcfdz359a5H4iaNca1q/hmC3e4hC3kjNcW/3ofk4b86AHaDqXiDSvGv8AwjniTUIdUW6tDd291HAImXa2GUgcd67iuW8O+DZNJ1mbWNW1a41fUZI/JSaYBRHHnO0ADAz3q/4mOrHT4YtCYx3ElwitJgHYmcsTn2oA0dSvBp2l3N4y7hBE0mPXAzivLb3VfHdt4Rj8UPrVp5N2yP8AYVtl/cRswxh+5Ar1aaBLi1eC4AdJEKOD3BGDXlnib4e32m+F5ILXXdRvNPt5Ua204gEJ844JAyQOwoA9Ut2L20btyzICfyqSorUFbWIHg7B/KpaACvP/AIW/8ls8b/7kf869Arz/AOFv/JbPG/8AuR/zoA9nHSg0DpQaAPHf2hf+QP4c/wCwqv8AKugi/wBWn+6K5/8AaF/5A/hz/sKr/Kugi/1af7orCsc1cfSGlpKxOc4eO1g1j4pagmqxrOtjbR/ZopOVG7ktg/lW1r+m2Np4b1ea2tIYZWspQWRApI2mma/4UXVr6LUrG/n0zUoV2rcwY+Zf7rA8EVFaeF9QWxv4dV8Q3eoNdwNAN6KqRgjGQoHXmr3NLo5q/wBburDw3oNvYa2dPd7NXeOKxNzI/A7dh71Jp/izWr/wVd3yzb7vS7oea/k7DPEDzlT904/lWxc+B5d1jNpesz6fdWtsLV5Y0VhKg9QRwau+H/CUWiWd/bvdy3ovpC8jTD5jkYOfWm3Gw242K0viGe/8Uafa6ZNi0jtTe3hUA7lI+RPbPJriZfHuv3zzahY380KI7CGxj0wyI6g9DJ6mu+8K+EIvDEd2PtL3b3LD55ByqDgJ9BWefAt5azyroviO90+ylcu1siq20nrtJGRQnEE4nU6ddPfaVb3MsZieWMOyEY2kjkV5FpoutS8J6lpFl4ae8nnvLhUvmChEJkPOevFexQReRbRxF3l2KFLvyW46k1m+HNDXw9pj2izGbfcST7iuMb2zj8M0k7CjKxj6d9oPiCPw/qTrc21vp0TtG6gguDgn9Kxtf1S7vvBvjBJ5BItndtDAuANqjGBxXSa74Vn1PV4tT0zVrjS7tYvJd4lVg6ZzjB/nVOLwBFF4a1bRzqE0q6lMZWmkGXXOM5PfpRdDutzOivfFHh6bSLvV9St72xvnSCS1jgCeTuHy7W6tiodSvZrD/hMrq2KrLHNDtLKGHRR0Na+n+BJIdQs5NS1y71G1sGDW1tMFwhAwCSOWxVu+8HpfQ6zGbtl/tVkYkJ/q9uPz6U7oLxMuW/8AEPiHXp9N0LUodLgsIozNM0AlaR2GcYPQU/xRqup6Lothbz69FbX8hIklisTK8oH91O3uaual4Nlm1JdR0XWbnSrpolimMShllUdCVI6+9Go+DJryLT5Ydbu4dSsVZVvSFZnDdQQRildXC8blHwP4l1PW7XVLK4nE93ZECG4mtzDv3DjcnbBrsrMXIs4vt5jNxt/eGMYXPtmue0LwhJok2pXCarPc3V+o3TzKCysBjPp+FdDZRTQWcUVzObiVVw0pXG8+uKmVuhMrdCeiiipICiiigAooooASuE+MX/JPpf8Ar5i/9Cru64T4xf8AJPpf+vmL/wBCq47ouHxI9n8O/wDIs6b/ANe0f/oIoo8O/wDIs6b/ANe0f/oIorrO48o8Zf8AJzehf9gdv/Q3r0SvO/GX/Jzehf8AYHb/ANDevRKACiiigAoozRQAUUUUAFFFHXpQAUUUUAFFFFABRRRQAUUUUAFFFFABRRRQAUUUUAFFGc9KKACiiigAooooAKKKKACiiigAxRRRQAUUUUAFFFFABRRRQAUUUUAFFFFABRRRQAUUUUAFef8Awt/5LZ43/wByP+degV5/8Lf+S2eN/wDcj/nQB7OOlBoHSg0AeO/tC/8AIH8Of9hVf5V0EX+rT/dFc/8AtC/8gfw5/wBhVf5V0EX+rT/dFYVjmrj6KKKwOcMUUUZoAKMUZooAKKKKACjFFFABRRRQAUYozRmmAUUUUgCiijNABRRmigAooooAKKKKAErhPjF/yT6X/r5i/wDQq7uuE+MX/JPpf+vmL/0Krjui4fEj2fw7/wAizpv/AF7R/wDoIoo8O/8AIs6b/wBe0f8A6CKK6zuPKPGX/Jzehf8AYHb/ANDevRK878Zf8nN6F/2B2/8AQ3r0SgAo7UUUAcRrPirxXpP2q+PhmN9KtCxkb7T+9aNerhQMYxziuu069i1LTba9t8+XcRLImfQjNcBr3irTfE+rXHh9dastO0y3fZqE89ykbzHvEgJBx6t+Fd3BdabZ2VnHFdW0cEgWO1/eqBJxwFOeePSgCW/vYNOsZry7cJBAhkdj2AGTXF23izxbqsK32j+F4W06TmI3NzslkXsQuOM1veN9Pn1XwTq1nZjdPLbMEX+8euKyvDvj7wy3hq1+06ra2UsMSxzW1xIEkjZRgjaeTQB0cmsWljYwzazcW+mtIoJS5mVMHHIyTzVPxF4hXR9BTUrRY7tHmjjUh8qwdwMgj61w/jrUbLVfE9laZ0W3iNh9ojvtXj3I6sx+VFJAzxn1rC0Odn+F2pw+ek0Vvr6JCYkKJt3oflU8gZJwKAPZbvVdP05YzqN9bWnmD5RPMqZPtk81KL21aaOJbmEyTIXjQOMuo6kDuPevM3Hhx/iPro8dm13hIfsH29gIjFs52E8ZznPer15f6LpHi7wvfQ3ENtoxsp4ILhm2xgkqVG49OAetAHb32qQW1nfPDLFLPaQNK8IkBYYBIyB0ziqWmeJbS48M2OrapcW1gt1Esn76UIoJ7ZOK4+w1Wz1fX/G1zp063FuLIKJU5VsRnOD3FYF3dQTaR4W0u4XSLfdpvmi91dd0Q7bVBIGaAPYf7SsfsP20Xlv9lxnz/NXZj/ezii21KxvJJI7O9t55IiBIsUqsUz0zg8V4npT+Z8MvGlolzDPbxXaLE1shSPDFCdgJ4FemW/hfwzp3hlYbi2tbW2lWIzSu3l+YwIKlmyMnPv3oA6mqD69o8bIsmq2KmRiiBrlBuYHBA55IPGKvKBsAXkY4ryDSPCukX3gHxDqF7Zxz3ZuLspM4y0e1zjaf4emeKAPYM8Z7UZrJ8KyvP4S0uSUlne1jJJ7/AC1wXizS9cuPE13JZ6P4muIWYbZLPWY4Ym4/hQnigD1Oobi7t7OMSXc8cCMwUNI4UEnoMnua4TwBYaraarcPqWm67aIYwFfUtTW5QnPQBTwfepPjD5Q8Cr9p3iH7db+Zs+9t384x3xQB2dpqmn38skVjfW1zJGcSJDMrlPqAeKNR1GHTLQ3NwsjRKQGMaFyo9SBzivM7YeGl8f8Ahr/hBTbGVhJ9t+xkEeTs48zHQ7sdea9L1HT49TszbTPIsTEFhG5UsPTI7GgDK8NeK7TxJFm0y7DdueNSY1wxAG7pk9cCtq6vLaxt2nvbiG2hXrJNIEUfieKxPC/hK28MwbbVipbdvSMkI2WyDt9ccZrn/iH9i/4Sbw2viIqNDMk3neZ/qvNwNm/tjr14oA7e11OwvXCWd7b3DFA+IpVc7T0PB6e9Wq8v8Ef2GPivri+GPKNiLOIfuD+63ZOdvbGfTivUKACiiigAooooAKKKKACiiigAooooAKKKKACiiigAooooAKKKKACiiigAooooAK8/+Fv/ACWzxv8A7kf869Arz/4W/wDJbPG/+5H/ADoA9nHSg0DpQaAPHf2hf+QP4c/7Cq/yroIv9Wn+6K5/9oX/AJA/hz/sKr/Kugi/1af7orCsc1cfSGlpDWJzhmisbxZ4gj8MeGLzVJcEwp+7Un7zngD864P4Pajr3iF77WNY1Cea3VvLiiY/Lk8n8qtRurl8raueq0tJQWxyelQQLRSBgehB+hoDA0BZi0UUUgCiiigBKO9IfumvA/A3jHX9Q+KkWn3mpzy2pnkXy2bjAziqUW1ctRclc9+opCwXrx9aAwboQfpSIFptOrxz4o654g8HeL7HUbO/mOm3OCbcn5cqfmX8RTjG7sVGPM7HsVLVPStRh1bSbW/tmzFcRiRSPcVcpCYUUUUhBRRRQAlcJ8Yv+SfS/wDXzF/6FXd1wnxi/wCSfS/9fMX/AKFVx3RcPiR7P4d/5FnTf+vaP/0EUUeHf+RZ03/r2j/9BFFdZ3HlHjL/AJOb0L/sDt/6G9eiV534y/5Ob0L/ALA7f+hvXolABRRRQBjTeEPDtxM8s+h6fJI7Fmd7ZCWJ6knFXzplk0dvG1pAUtWDQKYxiIgYBX0q1RQAYrNuPDmi3V39qudKs5Z/+erwKW/PFaVFAFK90fTdRWMX9hbXIi/1YliDbPpnpSjSNOWGSJbG3EcsnmugiGGf+8R68DmrlFAFK/0bTdUCDUrC2utn3fOiDY/OnXWk2F9aLa3lnBPbrjbFJGGVcdMA9Kt0UAU4dJ0+2WRbeyt4lkTY4SMAMuMYPtimXGhaVd2sVtdadazQQ/6uN4VKp9Bjir9FAFJdH05YJoVsbcRTkGVBGNr4xjI79KmuLK2u7f7PdQRzQ8Hy5FBXjpxU9FAABgYHSq8en2kNrJbxW0SQyFi8aoArZ65HvViigBkUMcEKxQIscajCqowAPYU/FFFABisPxX4ffxHpUFmk6w+Vdw3BLKW3BG3EfjW5RQBSs9H07T5ZJLGxtreSQ/O8UQUv9cVdoooAKgvLK21C2a3vreK4hbrHKgZT+BqeigDntO8LRab4tn1a0MMNtJaJbJbRR7Qm0k59O9dDRRQAUUUUAFFFFABRRRQAUUUUAFFFFABRRRQAUUUUAFFFFABRRRQAUUUUAFFFFABXn/wt/wCS2eN/9yP+degV5/8AC3/ktnjf/cj/AJ0AezjpQaB0oNAHjv7Qv/IH8Of9hVf5V0EX+rT/AHRXP/tC/wDIH8Of9hVf5V0EX+rT/dFYVjmrj6SlpKxOc8h+P2oPDoen2KMQJpS7D1xXU/CayWz+HGnbRhpgZWPrk1y/x+095tB0++RSRDKUY+mRXUfCS+W9+HGn7SC0IMTD0wa1+xobf8u1Y7WuW+JMskHw51iSF2R1hBDKcEfMK6muT+J//JNNZ/64j/0IVnHdGcd0eHeA28Y+IprvStB1KSJZFDzzyyH5F7c9efalOq+Kfh544WzvdRlmdHXzF81mSRT35rrf2egPM1k98IM/nXO/Gf8A5Kl/2xhro3k0dV05OJ9G20wnt45VGA6Bh+NS1U0r/kEWn/XFP5Va5zXNbU5HuLRXlsnxfnTx+3hwaXGVF39n87zDnr1xXqOabi1uNxcdxG+6fpXyz4T1e00H4nNqWoPst7eaZmIGSevA96+pm+6fpXyfougL4m+IEukvKYjcTShXHZhkitKdne5rStZ3Oyiu/Evxc8VbrKWbT9Kt25ZGIWNfw6sa9w0TSIND0uKytmd1QcvIxZmPck14J4T8Tar8LPEsui69CxsXf94oHT/bX1FfQdje2+o2cV1ZSrNBKu5HQ5BFKpcVQsV5p8crJbnwGJyMvbTqyn0B4Nel15n8dL5bbwIluT89xcKAPYcmphfmRFP40SfBDUXvfACwyMWNrO0Yz2HUV6RXnHwR017H4fpNIpU3czSDI7dAf0r0eie4T+JhRRRUEBRRRQAlcJ8Yv+SfS/8AXzF/6FXd1wnxi/5J9L/18xf+hVcd0XD4kez+Hf8AkWdN/wCvaP8A9BFFHh3/AJFnTf8Ar2j/APQRRXWdx5R4y/5Ob0L/ALA7f+hvXoled+Mv+Tm9C/7A7f8Aob16JQAUUUGgAoryjx/HpmjXFzcT+INaj1eVTJZpG7eWjH7q4A2gZ9a9I0SS6k0KxfUWVrpoEMpUggtjmgC/RWT4o1c6D4X1DU0UO9tCzop6Fuw/M1ymmeAp9U02HUta8Q6s+pXCCVnguDGkeecKvTAz3z0oA9Bormdc8QXXhm3tba30y61Z/L+aczJGOOOWP8R9Kw9b8WR+IPAH9oab51rLHqEUE0TMN0bCQBlJFAHoVFclqfjd7XWZNK0bRrrWLq2RWufJcIsW4ZALHqSOcVeg8TiXWNL0+Sxmgl1C1e4xMQGi24ypHPPPrQBv0VzV/wCIBcN4h0uKJopdPs2fzt/UshIx9KydN8UXek+BdElj0y41Sae2Us4lVFXj+JmPU0Ad3RXHR/EOzk8H6hrYsplfTm2XFozjcrZH8Q4PWrWn+Lrm806W/uNAvre2Up5PR5Jgx67R0x15oA6eimlj5RZRk7cgetcPd+PNasr+C2ufB9wn2ibyo2F4hJ56gAZ96AO6oqC4uo7SzkurnKxxoXfAyQB6etcqfil4XH/Lzcf+Akn+FAHY0VR0jV7TXNOS+092eByQpZCp4OOh5rD1W7lvviBpmkRSMkFtE17OFON5+6gPtkk0AdVRXGah49nt9fvtI03w/d6jcWO0uYpAq7SM5JPf271u+HdftvEmjrf2iSRAsUkilGHjcHlT7g0Aa1FQteWyzCFriESnjyy43flTNRs3v9OmtY7ma0aVdomgIDp7jPegCzRXB/DiGWz1LxPYSXlxdpa6j5cb3Em9sbFNaNvcy6Z8SbnT3lZ7XVLUXUSsc+XIp2sB9Rg0AdXRWP4l1C703TVnsCrTbxthaMv5v+yMdD79q574bazqWqaNAupjyfLhGyJkYu/P3y54OfQUAdzRXKeLruabVtF0O2kaL7dcb52Q4PlJyRn3OBT9b8YnS9YTSdM0m51W9EfmyRwsFESdMkn+VAHUUVz/AIU8VR+KYLuSOzmtDazmF45z82R147VtS3ltBIEmuIo3PRXcAmgCaio54zNbvGkjRl1IDr1X3Fef+EbOfSPihrumyaleX0SWVvKGupdx3MWyfagD0SiuU1W7l0nx/pcgkY2upxtbSxk8B1+ZW/EEiuroAKKKKACiiigAooooAKKKKACiiigAooooAK8/+Fv/ACWzxv8A7kf869Arz/4W/wDJbPG/+5H/ADoA9nHSg0DpQaAPHf2hf+QP4c/7Cq/yroIv9Wn+6K5/9oX/AJA/hz/sKr/Kugi/1af7orCsc1cfSGlorE5zH8VaDD4m8N3elz8ecnyN/dYcg/nXBfCHSfEHhqa/0rWLCWK1Zt8UxwV3dD+Yr1XFGBTUrKxSlZWEqpqmm2usaZNYX8fm2867XTPUVcxRikJaGF4e8IaN4X846Lai387G/DE5xVfWvAXh/X9U/tDVLETXOAu/cRwOldLijFPmd7hzO9xkMawwrHGMIihVHoBSTMUid1XcVUkKOpPpUmKMUhHjfgL4f6jceN7zxJ4mtWhKztJBG+MsxPB/AV7HS4oxTcmypSchDytczp/w+8OaXrK6rY2Iju1YsJAx6nrXT0YpXYrtGHr/AIQ0XxOYjrNks7RZ2tnBH41Z0LQLDw7Zm00qNooCd2wuSAfbNaeKKLu1gu7WCvHfid4d8Q+MvGFjY2tjKul2+FM5+6SfvNXsVGKcZWdxxlyu5U0ywh0rS7extlCxQRhFA9hVsUYopCvcKKKKQgooooASuE+MX/JPpf8Ar5i/9Cru64T4xf8AJPpf+vmL/wBCq47ouHxI9n8O/wDIs6b/ANe0f/oIoo8O/wDIs6b/ANe0f/oIorrO48o8Zf8AJzehf9gdv/Q3r0SvO/GX/Jzehf8AYHb/ANDevRKACiiigDg/ENz4s1GG90pPCdpOkwaKO8kuwUCngMVxnPtW7plvf+HtB0fTY4DfsgSG4lEm3ywBy3PUdsVv0UAZ+u6TFrmg3mmTkrHdQtGWH8OR1rkNP1Hx1o1hFpcvhu31JrdRHHepdiNZFHQlSMg+td/RQB5r4v8AD2sap4gstQutDi1u1+xiNrL7WYkgmzkt/tAjAz7VS0nwVrNn4J1TT3sIbeabWluooIXyixhkPBPYYPXmvV6KAOCmsvEfhjxXqWoaJpMer2eqbJGjNwInhkVduMnqDUut2viMaloniKy0uG6vbaF4rqxE+3AfB+Vj1wQK7iigDgNI0rxDc33ia+1iwjtX1G1CW8SSh8HYRtJ9eaxtQ8Iaz9h8P/aNGXWLa0sfImsDdeUEl/v+h44r1iigDybTfBWsW3g3xTY/2XBZy6hcRyW1tBJlQo25AJ+h616RcS3Vho0Zs7M3c8YRfJDhPQE59hk1o0UANZmEJZVywXIXPU+lec6de+LI9em1DUvCb3M8kmyKT7YoS3iz0Ve3qT1NekUUAVru3e7sJYFle3eWMqJExlCe4zXFn4c6n/0O2sn8I/8A4mu9ooAztC0ybSNKjs7i/m1B0JJnnA3Nk55wAKwNQT+zfijYX0vEOo2jWm7sJFO4D8Rn8q7Co5YI5ihlRX2NuXI6H1oA81jvtf0/4ieJZtC0qLVI2aFXiaYRMjbAQckcj2rqvBGiXmi6HINU2C8u7h7mZIzlUZznaPXFbcGn2tteXF1BAkc9wQZZAOXwMDNWRQBjT+E9DudbXV5tPia/VgyzHOQR3rRv5p7fT5prS3NzMiFkhDbd59M9qsUUAec+DW8TWXibVZNR8Ntb2+rXnnmX7UreSNoGMDr0rWAGq/FfzYfmh0mx8uVh2lkOdv4KAfxrsDUccEULSNHGqtI25yBjcfU0APKg8EA/WorSzgsbWO3tIliijG1FA6CpqKAOO8XKbHxR4e1pv9RDO1tM3ZBIMA/mMVDq1nr2i+Mptc0HTY9VgvbdYZoWnETRsvRge4rs5YY54zHNGsiHqrDIqTGBgUAcL8NPthOvNqaRpdNqDNIkZyqEgcD1xXQ6p4T0TWr6O91PT47i4jACSN1UDpWha6fa2Ukz2sCxNO/mSlR99vU1ZoAY5McLGNNxVflUdzjgV5tpb+KoviNe6zP4WaO3voYbcj7Wp8sIT83v16V6ZRQBx/iBDqvj3QbGP5vsQe8nI/gGNq/mc12A5qMQRiZpQiiRgAzgDJA6c1JQAUUUUAFFFFABRRRQAUUUUAFFFFABRRRQAV5/8Lf+S2eN/wDcj/nXoFef/C3/AJLZ43/3I/50AezjpQaB0oNAHjv7Qv8AyB/Dn/YVX+VdBF/q0/3RXP8A7Qv/ACB/Dn/YVX+VdBF/q0/3RWFY5q4+iiisDnCiiigAooooAKKKKACiiigAooooAKKKKACiiigAooooAKKKKACiiigAooooASuE+MX/ACT6X/r5i/8AQq7uuE+MX/JPpf8Ar5i/9Cq47ouHxI9n8O/8izpv/XtH/wCgiijw7/yLOm/9e0f/AKCKK6zuPKPGX/Jzehf9gdv/AEN69Erzvxl/yc3oX/YHb/0N69EoAKKKKACisnxD4n0rwtZx3OtXIgjlkESYBJZvYCtVGDqGXoRkUALRTJ54raCSa4dY4o1LO7HAUDqTXLWPxN8K6jqMdna6luklfZExhcJI3oGxigDrKKTNU7/V7TTGtVvJNhupRDFgZyx7fpQBdoooz60AFFJn14pk8621tJPJnZGhdsDJwBnpQBJRUFpdx31nFcwZ8uVQy7l2nB9jU/rQAUUZ4zmjNABRR9ORR9eKACij68UmaAFoozRQAUUUZ554oAKKrpf2sl/LZJOjXMKK8kQPzKpzgn64qxmgAoozmjPSgAooHNUl1a0bWn0oSf6WkImKY6LnGc0AXaKP50Z+lABRRRmgAopM0tABRRmj9KACijPT3pM0ALRRmjNABRVKz1a0vr68s7aTdNZOEnUjG0kZFXc0AFFIDmloAKKKKACvP/hb/wAls8b/AO5H/OvQK8/+Fv8AyWzxv/uR/wA6APZx0oNA6UGgDx39oX/kD+HP+wqv8q6CL/Vp/uiuf/aF/wCQP4c/7Cq/yroIv9Wn+6KwrHNXH0UUVgc4UUUUAFFFFABRRRQAUUUUAFFFFABRRRQAUUUUAFFFFABRRRQAUUUUAFFFFACVwnxi/wCSfS/9fMX/AKFXd1wnxi/5J9L/ANfMX/oVXHdFw+JHs/h3/kWdN/69o/8A0EUUeHf+RZ03/r2j/wDQRRXWdx5R4y/5Ob0L/sDt/wChvXoled+Mv+Tm9C/7A7f+hvXolABQTgEntzRR160AeH+N/E+ia7pGu3d1qMH2mEpa2Fqx+ZVWZC747E7fyFeyaVfW2o6Xb3VjOk8EiApIh4aszXvBmj69pFxYzWkUP2gqWliiUOMMG6/h+tXZtIVo7KO0nks4rSQOI4MKrgD7pHpQAeINLGu+Hb7TGkMQuoWi8wfw5HWuMXVdb8GWdlD4k0qwn0uOSO3W7tGwyEnarFD746V3d/ZJqGnzWkzuizJsLRttYfQ+tcpH8NbR7yCTUtX1PUYbdxJHb3M5ZARyCR3/ABoA5nxP4o1zUPGuo6Xpq6slnp6xqP7MiVmdmXdlie3PAqVdQ1rUNG8Nt4jt54buLWhGGnQI8iAHaxHY4rr9b8D2eraqdTtby8029ZAkktpIV8xR03djj1qSPwbapYafbSXd1P8AYbr7Uss8hdnfnqT25oA85vvFPiXW9a1V7Ea3FFZ3clvbLp0CNGNhxl88k+1by6x4l8QyaFos9xJoV3cWbXN7IqASEqdu1c9M9a3dR+H9pd6rcX+n6jf6W902+4S0mKLI394j196n1PwNYalp9hALm8guLAYgvI5iJV9ct3z70AZPiCfWvCnhu2srfWHu7y/v47WK9ukGYAx5PHBPpV+PR9W0DR9UuLjxDdaj/okjIJlXKOFJ3Aj+VWP+EHsLjw5NpGpXN3qCSyCQzXEpMisOhU9se1JpnguPTra8im1bUL4XUBg/0mYuEUjHA6Z560AcxbalrfiK40PQ7bVpNPWTTBe3NzGAZJTkDaCeg5yar3Wva7p3hzxRpkuptcXmkyQrb3xADlXZcBsdxzXVX3w/0+8sdOjiurq0udNj8qC7t5Nsmz0J7ilg8AaZb+HLzSVluH+3SLLc3Mj7pJXBBBJP0oAxguv+Hdf0K4vNen1GLVJTDcW8qAKpK5BTA4xisbxb4i1J9c1FtCv9cnFixUiztlNvCwGSpY/e969I1HQbfUZtNkld1bTpvOj29ztxz+dYV98N7C91G9uI9Q1C2hv3MlxaQzFY5GIwTigDFvNb1vXoPBh06/bTpNWhd7lkUH+AHgdM13+k2UmnaZFbTXkt86ZzPNjc/OecVl2fg+ysl0MRyyn+xYmjgz/ECMc10HX/AD0oA8603XtQk+DGo6pLeOb2NbnbMx+YFZGA/kKfql1reo6v4ZsNO1WSzF7YvJcSqAWOFHIB78/zqzffCzSrz7bGL++isrxmdrOOciIO3U4+vOK6FPDdsmp6beh5PM06BoIwejA46/lQBjeD59TtPEWsaFqWoyaklp5bwzygb9rjocVT+JXiXU9Jm0nTNHW5EmoSPvktUDShVGcIDxmurtdEgtdfvdWjZzNeIiup6Db0qDxF4YsfE1rFHe+ZHJbv5kFxC5WSJvUEUAcDo2teKLez1yK8j1UWcenvNb3OoRqskco7Ajr/APWqVG8SaVoWi+IrnxFPctPJCk1oyL5RR+OB1zyOfrXVWPgiO1s76G61bUb43kJgZriYtsU/3R0Bq9d+GbW78P2ekvJIIbRomRgeTsII/lQBxcOgXV78YtZki1q9tgtvbzFY2GGUlvkPsMfrWPqXinxJrXiDVVsP7ajgsLlreBdNhVlyvd88kk9q9C1TwZBqHiCLWbfULuxuljWOTyJMCVVOQGH41W1L4f2d3qs+oWGo3+lzXJzcCzmKLKf7xHr70Ac5JqnirVIfCttLczaPfXnnJd5QbjtH3sdAT1/Grkttrd54nXwtb+Iru3hs7QTzXWFM07MTgZ7Ae1dPD4UtYrjSphPcSPpYcRtK+5n3DB3E8movEPgy01++iv1urrT76JDGLi1k2MV9D6igCp4H1PUZ31XStXuvts2mXPkrdEYMi4yM44yK5vxb4jl8O/EqSW3hDS3NjHAksmRFAWc/O57Cu68OeG7Lw1p7W1gZHMkhklmmbc8jnqWPc0XHhqxu9buNRul803Fr9leJhlCuc0ATaHZT2Wmot5ftfzyfO8zEYJP90dh7Vxw/t3xRrutS2mvTaXBpc3kwQQqvzELks+fWuw0PRk0KxNnBcTTQKxMSyncYlP8ACD6Viaz4As9S1W41CC+vrGS5XFzHazFFnwP4h6+9AHO2Wv6u3w/0K7nvme6m1iOCaZf40LMCPpxXS6tqlzb/ABF0eyjmZbeSzmkkhH8RBGCazvDfg6O7+HCaFq0M1ttmZkw2HjIYlWB9av6P4As9K1yDV3v729vIY2i8y5l3ZU9vbGP1oA88PinxZrb3WpWI1wFJnS3js4Ea3AViADnk9Oa9f0i8ubjw9a3eoQNDctAHlixyrY5Fc9c/Diya+mn07U9S02K4cyS29rOVQseuB2z7V1ttbrbWkUCMzLGoUFjkkD1PegDz/wAMweIfF1qPEEniSeyV7hxFZwIvloitja2eSeK3dE1C6n8d+IbOeZnhtxAYkPRcpk4+pqt/wrmxh1KS4sNR1Cxgll857O3nKxM2cnjsD7VY1nwLaatrH9pR397YzvGI5vsspTzVHY/40Acld+INZb4cy3dnfsLxtZEEcx5+Uy4A9xVq4tPFOn+LLHRovE800eqQPJLLJGpaEr12emc45roYPAGm2/hqPRIpZhbR3a3andlgwfcB+da9zocF1r1lqru4mtI3iQA8EN1z+VAHBXOra3o/hrxbYS6pLc3Gl+Wba7kADgNjg464zUs7+IfDLaJq9xr8uoxahcxW9xaSIoT94OCmOeK2PF/hbzPD/iSWwSW4utUSMGFf9kjp+FJpHw6sLS7sb25u766FmA1va3ExaOFsdh7UAZI1JNK1HxvdPdyWm24iCyxJvYEoANq9zWf4W8Sa1beNdPsLx9Yks9REn/IUhVDuUZBTHP4V2154J06+XV1uHlYarIkkm1sFGUYBU9ulVNN+HtpY61ZarNqV9e3VmWEb3Eu8YIxjHagDo7C3vYZbpr66W4WSbdAAm3y0x933+tXao2GnvYzXbvdzXH2ibzQspz5QxjavtV6gAooooAK8/wDhb/yWzxv/ALkf869Arz/4W/8AJbPG/wDuR/zoA9nHSg9KB0ooA8a/aJlSLQvD0krBUXU1LMTgAYqSPxz4XEaj+3rDIAz++FeleIPC2jeKrOO116xjvYY33okmcA+tc9/wpvwF/wBC5a/r/jUSgpbmc6anucx/wnXhf/oPWH/f8Uf8J14X/wCg9Yf9/wAV0/8AwpvwF/0Llr+v+NH/AApvwF/0Llr+v+NR7JEexRzH/CdeF/8AoPWH/f8AFH/CdeF/+g9Yf9/xXT/8Kb8Bf9C5a/r/AI0f8Kb8Bf8AQuWv6/40eyQexRzH/CdeF/8AoPWH/f8AFH/CdeF/+g9Yf9/xXT/8Kb8Bf9C5a/r/AI0f8Kb8Bf8AQuWv6/40/ZIPYo5j/hOvC/8A0HrD/v8Aij/hOvC//QesP+/4rp/+FN+Av+hctf1/xo/4U34C/wChctf1/wAaPZIPYo5j/hOvC/8A0HrD/v8Aij/hOvC//QesP+/4rp/+FN+Av+hctf1/xo/4U34C/wChctf1/wAaPZIPYo5j/hOvC/8A0HrD/v8Aij/hOvC//QesP+/4rp/+FN+Av+hctf1/xo/4U34C/wChctf1/wAaXskHsUcx/wAJ14X/AOg9Yf8Af8Uf8J14X/6D1h/3/FdP/wAKb8Bf9C5a/r/jR/wpvwF/0Llr+v8AjT9kg9ijmP8AhOvC/wD0HrD/AL/ij/hOvC//AEHrD/v+K6f/AIU34C/6Fy1/X/Gj/hTfgL/oXLX9f8aPZIPYo5j/AITrwv8A9B6w/wC/4o/4Trwv/wBB6w/7/iun/wCFN+Av+hctf1/xo/4U34C/6Fy1/X/Gj2SD2KOY/wCE68L/APQesP8Av+KP+E68L/8AQesP+/4rp/8AhTfgL/oXLX9f8aP+FN+Av+hctf1/xo9kg9ijmP8AhOvC/wD0HrD/AL/rR/wnXhf/AKD1h/3/AFrp/wDhTfgL/oXLX9f8aP8AhTfgL/oXLX9f8aPZIPYo5j/hOvC//QesP+/60f8ACdeF/wDoPWH/AH/Wun/4U34C/wChctf1/wAaP+FN+Av+hctf1/xo9kg9ijmP+E68L/8AQesP+/61xvxS8U6Fqngl7bT9VtLmdriIiOKUMSAa9Z/4U34C/wChctf1/wAaB8HfAasGXw7bAg5B5/xoVNIapJO50nhznwzpv/XtH/6CKK0ILeO2t44YVCRxqFVR2AorU2PGPGX/ACc3oX/YHb/0N69Erzvxl/yc3oX/AGB2/wDQ3r0SgAooooAKKKKACjAoooAKMUUUAFFQ3l3DYWU13dOI4YEMkjnsAMmuI/4WragW0kuhapBb3k8cNrcSxBUm3tgHrx1z70Ad7RXL6743t9I1NdMs9NvdVvtgleG0QHy19WJPHtSah47tdP0ixupNNv2u75ikGniL98zDrkZ4A9aAOporgfDPiqXWvH2qiSG8s4rewiZ7S6Xa0bZbJx/Wrvh3WL2XwxfeIWgnv3uZ3kt7WJufLB2qFz7DNAHY0Vx2jePLjVfEiaPceHL+xlaMyO8zKQi9icdM12NABRVHW5Hh0DUJIm2ulrKykdiEJBrl/DPi1T4d8P2eJdS1S5tInlVCD5YKjLu3b+ZoA7aiuX0q/uLXx1qmkXErSRSxJeW4Y52A8Mv0yM/jW5qmq2WjWLXmpTiC3UgFyM/SgC5iiuV/4WT4TP8AzGIv++G/wrpba4iu7WO4t23xSqHRh3B6UAS0V5744ttS07XNH1ODW7sRXGqwW/2MELEFIOfc9O9dtqOoxaZbCeZJnDOsYESFiCT1x6UAXKKaDxkdxmuBuLbUtJ+KGipLrd5eQ6gLhngkIEaBQpUAD60AegYopB0rG1bxbouiyGK9vFNwOltCDJKf+AjmgDao4rC0HXr7WrmVpNEudPslXMU10wV5T/1zHKj6ms74iX1xp2j6ZJazvCz6taxuyHGULcg+1AHXUVi6f4jh1bWJrTToHnt7fIlvBxHv/ur/AHjWjf6jZ6ZbGfULqK2i6b5XCigCzgUVyTeOft86weGdHvNVywDXBXyYFHc726/QCuqZisRbbuYLnaO5x0oAfRXCy/EW8ttQt7W58JalEbibyo3Z0IPvjrjvXdDoOMUAFGKKKACiiigAoxRRQAYoxRRQAYooooAKKKKACvP/AIW/8ls8b/7kf869Arz/AOFv/JbPG/8AuR/zoA9nHSigdKKACiiigAooooAKKKKACiiigAooooAKKKKACiiigAooooAKKKKACiiigAooooAKKKKACiiigAooooAKKKKAPFPGX/Jzehf9gdv/AEN69Erzvxl/yc3oX/YHb/0N69EoAKKKKACiiigAooooAKKKKAMvxNpZ1rwvqOmrIImubdkVz0U44z7V5Trev6zqGj+H9FvNHhtXi1K0Vp0uVkEpVxzGo5x3z2Fe0soZCrDIIwRWBp3gbw5pWpi/sdKgiuFJKuATsz6DtQBh6jBrfhvxpeazpmjnWLTUIUWRIpQkkTqMd+oNN1yDxBLd6H4pttFD3doJEuNM84bgj9CrdMjArvfr6UZB6c9uKAOA8OWmuaj431nV9X0o6bDeWEcMSGQOeC3Ujvzmn+F7690n4bXFtp1m15qWlO9sLcHBLBuD+RB+ld5UUdtBDJLLDEqPMQzkD7x96AOK8G6hqKXggv8Aw1fW890S91qFw6EM2PbkDsBXS69r0ehRWrvbvcPc3C26Ih5ye/4VrVFLbwzNGZolkMbbkLDO046igCtrEL3Og38MKlpJbaRFXuSVIxXBeD/DuqeCrPTri1tHuIL2GNdQticyQSbQN6nuPb8q9KHT+uKD09KAOQsl/tD4p393D/qbCyS2Zh/fYliPwGK3fEGl3GsaU9paXpspGYETCIPjHseKvQ2sNs0pgiWMyOXcqMbmPc+pqXNAHnv/AArzXP8AobH69PsMdd3ZQPa2EMEsvnPGgVpNuNxA647VPmjNAHnXxDudZvL7TbTTPDt3dx2GoQ3huEZdrhQcqB6810t34nax0Kyv7zTJo5budIBaFhvVmPf+db9Ry28U7RmaNXMbb0LDO1umR74NAEgOV9M15r4h1LXZPHumX9r4VvprfSvPjLK6/vt4ABHp0r0rFB46n8aAGQSNLbxyPGY2ZQSjdVPpXMan4BsLzV5NX024uNL1STlrm3bO76qeDXUhgehB+hpSwGM8Z6UAYegxeJLa4lt9fnsryBV/dXUEZjkY+jLkgfUVm/EjRLjxD4ds7K3geYHUYHlCNgrGG+Y59ga6+kPFAHKeFbLUvDlwdBuIDPp0Y3Wd6gGQv9yQeo9e9aviHwzpniixW01i386NG3xkMQUb1BrWPB9qUHIyOR60AcdDoPijQXRdE1eLUbIEA2uox/Mq/wCzIvP4EV1sjskDOELOFLbQepx0qTpSdaAPNtL1nXTrz3+seEb+a5kfy4X8xPLtos8AD9Sepr0odBSZA780tABRRmigAoozRmgAoozRmgAoopCwHUj86AFooBzSBgehB+hoAWij8KQsB178D3oAWvP/AIW/8ls8b/7kf869Arz/AOFv/JbPG/8AuR/zoA9nHSigdKKACiiigAooooAKKKKACiiigAooooAKKKKACiiigAooooAKKKKACiiigAooooAKKKKACiiigAooooAKKKKAPFPGX/Jzehf9gdv/AEN69Erzvxl/yc3oX/YHb/0N69EoAKKKKACiiigAooooAKKKD0oApavqcekaVNeyoZBHgBB1diQAPxJArnH8Xajaai9jeabC1yRGsKwz7g0kmcKSQMYCkk+1dDrNj/aWkz2myKQSgArMDtPOe3IPvWLpXgmzgsrmPU0WaW5lWRtjN+7KjC4Yndkeue9AEs2u6rDcR2JsbX7cY2nb9+fLWMdyducnpjFM8HXF5PpkE0sKeVdK9wzmTLKzOSFx6YxzV658JaNdxQxz2pYQo0akSMCVbqCQcsCeeat2OkWWmvmzh8s+UsQAY8KowAPSgDC1XxZeWpu5LCxint7SZLd3kl2s8jMBhRjsSKr3HjW8trd7t9OiNs10bS3xIxeVxnnAHC/Kx/CprnwaL7xIl9OLdIFuBcER7t0rgfLlc7QfcDPFbUvh7TZ9MSwkt8wJJ5iAMQyvk/MG6g8n86AMRPGMzaQZ5YIbe785o1jl8zbKqgEsoC7scjtVVPFmo6jLpV1YpDDaNZyXd2jsc7VOOOPrjp0roLjwppF1BbxTWxK24YRkSMGw33gTnJzxnNOXwxpKNbFLXZ9lhMEYViB5Z/hPPI9jQBhWHji7vnLR6Q7RvC0sSoG3cdFbKgc+xNNu/EusXdhbLp6WkV5LepCV3t8oxuYEFQRx7d63YPCukW9vLBHbt5cgwQ0rHaOuFJPyj6YpB4U0hbVYFtiAs3nbxIwcv/eLZyTjjrQA7U9WuNPSyt47dJ7+7bYke/aikDLEnGcD6Vm33iXU7RbmMWFsZ7G3NxdbpyEVecBTt5JA74rb1LRrLVo4kvoi/ktujZXKsp9mBBFVbnwro93LFJPZqxiRUChiFZV6BhnDAe+aAMS78a3yLcXNnpaSW1u0Cvvl2uzSFRtAx1G4VPL4svre3uklsIjeR3cVtFGkpKuXweuOwyT9K3G0PT3Rla3GHnW4YZPMi4wfwwPyoOhae1ytw0AMi3H2kMSf9ZtK7vyJoAwE8W6qsh+0aZbrHHfLZyMk5O4k4yo28475xUp8WziSC5NlH/Z09w0CP5v7xiAx3bcdPlPetsaHYBEXyBiO4+1Lyf8AWc/N+pqtH4U0eK6knS0G+QMDlyQu7720ZwufagDP0jxPf317p63dhFDDfxSSRFZSzKExyRjvkd6h8TeI7qODVrXTbaN1s4hHPLJJtIeRRtCjHJwwNdFFpNnBPbzRQhXtoTDEf7qHGR+g/Kqd94U0fUb9ry7tN8zlS5DsA5X7pIBwSMdaAMaw15LCID7MiwQ3MdlJcM3JIQbmP0bIq1D4ia/urM/YNyTtLLblj85jQfK+P9o/zrTuPDel3WmzWE9qHt5pjPIhY/M5O4nP1qabRrCdlMturbYTABk4CHt+lAHPw+MrprZmnsYluXkSKK2EpDh2zgPlRjgHkZ6UN4s1ATrYLp0MmoG7FuVWY+XjbuLZxnj0xWovhLR1tJbf7MWWVlZnaRi+V+6dxORjtzVm00DTbFoGtbYI0BYo24k5b7xJ7k+poAzfEFxdyQ6XpjMsU2oz+XO0ZPyoo3OAffAH0Jqi/ivUIpo0stMhltWvjYwkzEMxCn5sY6Dac1017psN9NaSy7lktJfNjZeOcEYPtg1HHoenxG3McABtpWli+YnazZyffqaAMGTxXO2hvJKtvbXv2h4FQuzBtvVlwpPp2qtH40+weHtIuhatKt8zRBWky/mdjyOVJ78Y4ren8K6RcxRRyW2BCzshV2Ujf97kHJB7ihPCmjJD5Qs1KCIQqGYnYgOcL6c88UAZt94kls57tmsI5Lq1t4c4c8ySMfkz6Ywc1Xl8XatBNeJPpdviymijlZbgkHzApAX5fvDdXQnQdOZ5GaDc0siSuSx+ZkACn8ABStoenuZd0APnTi4k+Y/M46H9KAMiXxXcC7Z4LKNrFLz7G0hlxIz5wcLjoD71oapq9xb6jBp2m26XF3MjSfvX2IijuTg96fH4a0qPVTqKWqi4LmTO47Q56tt6Z9+tSajoWn6rLFJfQl5IeFcOVOD1BI6g+lAGJe+K761S4kGnwtHYtGl3mY53sR8qcc43D0qGbxhqK3I+y6ZFLbPffYoyZsOzYJzjHQYOa3JPDOkzakL6W0VpgVbljtJHQlehI9amTRLBDCVgGYJmnjOTw7Zy36mgDGtvE9zcy21pNaxxXE93LbuY5NyqqLkuMjnnHFUrXxTdlorPS7NbglJ5WluJzwiNgMTg9Tn8q3rnwvpN3DHHNbcRyPKpV2Uhm+9yDnB9Kfa+HNLs0KW1qI18j7PgMf8AV5Jx+ZNAFf8A4SPZ4Vi1eS2IeULthDdWY4Az9a57+17uTxVcHUrOEvGILNYklLpuclyenUA/pXYXGj2N1pX9mzwBrUKFEeTwB0wexHrVWy8LaTp7h7W12sJvP3FyxL7du45PJx60AZ9t4sNxILdbZRcRzSrOm7iKOMkFvxquPE1xbadp8sOnQwRXaea7SOwjUk8LkA8n3wK3YvD+mwXF9PFbKsmof8fDAnL8Y/D8Kjn8MaTcyQvNa7vJVVVd7BSF6ZXODj3oAzJPFdyt0WjsY2sUuxZu5l/eF84O1ccgH3rN1HXL/VdKjnjt44Im1FI7NlkJklIkxnGOhUGumXw1pSao2oLagXDMXzuO0MerBc4De/WnQeH7C2ls2hjKpZKVgj3ZVM9T9fegDS9a4D4W/wDJbPG/+5H/ADr0CvP/AIW/8ls8b/7kf86APZx0ooHSg9KACiuU8deP9P8AAOm297qsM0sc8vlKsIBOcVxf/DRWgDro2r/hBQNRb2PX6K8h/wCGivD/AP0BtY/78Un/AA0V4f8A+gNq/wD34pXQ+WXY9foryH/horw//wBAbWP+/FJ/w0V4f/6A2r/9+KLoOWXY9foryH/horQP+gNrH/gPR/w0VoH/AEBtY/8AAencOWXY9eoryH/horQP+gNrH/gPR/w0VoH/AEBtY/8AAei4csux69RXkP8Aw0VoH/QG1j/wHo/4aK0D/oDax/4D0XDll2PXqK8h/wCGitA/6A2sf+A9H/DRWgf9AbWP/Aei4csux69RXkP/AA0VoH/QG1j/AMB6P+GitA/6A2sf+A9Fw5Zdj16ivIf+GitA/wCgNrH/AID0f8NFaB/0BtY/8B6Lhyy7Hr1FeQ/8NFaB/wBAbWP/AAHo/wCGitA/6A2sf+A9Fw5Zdj16ivIf+GitA/6A2sf+A9H/AA0VoH/QG1j/AMB6Lhyy7Hr1FeQ/8NFaB/0BtY/8B6P+GitA/wCgNrH/AID0XDll2PXqK8h/4aK0D/oDax/4D0f8NFaB/wBAbWP/AAHouHLLsevUV5B/w0VoH/QG1f8A78U1v2jvDqY83StUjBYLueHA5o0Fys9hoqtZXi31jDdRAhJkDqCOxGaKBHjvjL/k5vQv+wO3/ob16JXnfjL/AJOb0L/sDt/6G9eiUAFFFB4FABRWXP4m0G1uGgudb06GZDtaOS7jVlPoQTmtJHWRQ0bBlYZBByDQA6imSypBE0szrHGgyzu2Ao9STwKyo/Fnh2WZYotf0t5GICqt5GSxPQAZoA2KKhhure5eVLeeKVoW2SqjhjG3XBx0OCDU1ABRjFBqF7mCO4SB5o0mlBKRs43NjqQOpoAmopBUU11bwSRRzzxRvM22JXcKZD1wB3OPSgCaigVFNcwW8kaTzRxNK22NXcKXPoM9T9KAJaKKKACiiigAooooAKKi+0wG6+zefH5+3f5W8b9vrjrjPepRQAUUUUAFFFFABRRRQAUUUUAFFFFABRRSMQqlmIAAyST0oAWio7e4huoVmtZo5om+7JGwZT9CKkoAKKKKACiiigAooooAKKKKACiiigAooooAK8/+Fv8AyWzxv/uR/wA69Arz/wCFv/JbPG/+5H/OgD2cdKD0oHSg0AeN/tDcaL4d/wCwov8AKtSNE8pPkXoO1Zn7Q3/IF8O/9hRf5VrR/wCrX6Cuat0PbytJqVxPLT+4v5Cjy0/uL+QqTFIa59T2LDPLT+4v5Cjy0/uL+QrD1zxQmlX0Wn2dlNqOoSrvW3gIBC+pJ4FMtfEl8bO8m1TQrmwNrC0w3urLIAM4BB61VmZe0he36G/5af3F/IUeWn9xfyFVtPv477S7e+OIlnjWQBj0yOmastIqgEsACcA560tS1ysPLT+4v5Cjy0/uL+QpWdVIDEAk4GT1pDIiuEZlDHoCeTSux6B5af3F/IUeWn9xfyFKa4hfiBdm3nvj4fuH023meKS6jlU42nBO3rTSb2InOMLX/I7by0/uL+Qo8tP7i/kKht72C4to545V2SIJFJP8JGajhvXkvJ4pIhHFHt8uUyAiTI9O1GpV0WvLT+4v5Cjy0/uL+QpWdVxuYDPAyetN8xQ4Uuu70zzRqPQXy0/uL+Qo8tP7i/kKHdUGXYKPc4rO03Wl1HUtSs1j2mxlWMsT97K5zRqLS9jR8tP7i/kKPLT+4v5ChZEYkK6sR1APSnUtR6DfLT+4v5Cjy0/uL+Qp9Lii7HYj8tP7i/kKPLT+4v5CpMUYouwsR+Wn9xfyFHlp/cX8hUmKMUXYWI/LT+4v5VxPxZVV8ByEKv8Ax8RdB/tV3NcR8W/+RCl/6+Iv/QqqD95HPiEvYyPbvDv/ACLOm/8AXtH/AOgiijw7/wAizpv/AF7R/wDoIorvPlDyjxl/yc3oX/YHb/0N69Erzvxl/wAnN6F/2B2/9DevRKACiiigDyK/0LVNF1TWdXvvCGlavYNctcGWZg1wI8c7QR2AzXqOkX1vqWj2t7ZDbbzxK8a4xtBHSuW1bwr4p1T7VZnxQkemXJYOgtB5oQ/wh8+nHSt+LSbnT7DTbHRrmOC3tCqyiWPeZIwMYBzwfegBni7/AJE3VvT7JJ/6Ca888HW5fT9J3fDKMqUj/wCJiXt/++8fe9/WvTtY086rol7YLJ5bXMLRByM7cjGa5XSPDfjfSrW0s18S6a9pbhU2f2cdxUds7uuO9AGEvihfCS+NdQKqz/2ysUYfO0M0acnHOB7UeHPidcXPiS1sLzVdP1SG6DZNpaSxNAQM87xhhXRXHw/S9t9djur0g6nfLewyRphrdlVQOvXlf1qfR/D3iO2vo31nXre8tYwR5UNkIy/GPmOT+lAHMzeMPGtx4TvfFmnRaemmqrvBaSKTLsBwHLZx2ziuj/teWbxR4aSSCBmvLOSVpTGN6HCn5T2HNeaa8ZbDTdT8I6Lrd5NG8zwwaV/Z7eaCW6eb02Z5+lerxeGZP7U0O+NwqjTbVoXj25LkgDOc9sUAZHgrWPFfiMpqF69jBpqTSxtGsZMkoUkAg5wvOK0vFV+1nr3hmEQQS/ab5kLSxhmjxGTlT2PHWr3hTQX8OaEmnyTrcMJZJN6rtHzMWxjPvWB4sukv/H/hfTLRZJLm1uWup8RnbFH5bAEtjHJ4oA3vFuuv4d8NXGoQRCadSscMZOAzsQAD+ea4bVH8UJ4m8KJ4laxmilvS6SWqlPLPlnKEE89evtXf+I9Di8R6DcaZPI0XmgFZV6owIKkfQiuYi8D6/c6zpN/rniJLz+y5t8cSW2wMNpHPP3unNAGHr/xSnj8Q39lYarp2mR2Ehj23VrLK07Ac8oMKO1d54Q1//hJ/C9pqhj8tpgQyjONwODjPbisa88F6vbazeXvhjWYbGO+k82eC5tRMofGCy88ZrqNKtLix0yG3vbr7XOi4ebYF3n6DpQBwr+IfGOo6r4ij0Y6fFbaRcsqtPGS0gChtnX9feoo/GXiuXRdP8TSQ2EOkXEsaPaYYy7Wbbv3dOvOK6vTPDL6fJ4gdrlZBq9w8ygJjy8oFweeelUm8FyH4f2fhz7Yu+28vM/lnDbGDdM96AKl5rnifWvEmoaf4UNjbwabsWSW6Qv5rsudoAIwPeqa+PdX1LRdLt9LtLeHW765ktpBMSYoTHne3uOOBWjqPg7WItcutS8Ma4unNfKouo5bfzVZlGAy8jBxUT/Dk22g6db6TqklvqWnzNcJfOm4yO339y9wc0AZujz6za/FC6/4SU2zy2+lbhPbAqsi7s52nOKafFnjJ/D7eLI4dP/shW8z7EVPmmHON27OM45xitvRPBup2via41rXdYTUZri1+zOiweWoGewz0rOPw51cae2hp4kK+H2fJtvs483ZnOzfnp+FAHbnUYv7H/tHnyRD534YzXnV14q8bx+F28Tomm/YJSDHalCZI0ZsBi2cE9OK9INlF/Z5s9v7ny/K2/wCzjFeYeJvB2u6T4Lu7Ma+Z9HtyrQ2ot8SkbxhS+eQKAOxh1+7fxzY6SfL+zz6Ubtvl537wvX0xWfN43l08eLJ79UeDRpVWFVGC2UBwT9TU2qeF9Q1G50rWNC1RdO1C2tfIZpIfMWSM4OCMjnNRaV8PmhsNftta1Jr/APtpxJJIE2Mp2gevqM0ActpnxWu31exFxqunX0V3Msb2ltaTJJDu6fOww2K9J8Ta2vh3w3d6oYjM0CZSPONzE4A/OsHS/C3iexuLeO48RwTWNuRhBZKJXUdAXz/Suj13RrfxBod1pl4WEVwmwleq+hH0NAGL4fPjOS6guNdl002cybmhgRg8Weg3ZOaqWnirUZ/hdd6/J5X2yFJmX5Pl+VyBx+FXNB0HxNp15ENU8RJfWMClUiFsEd+w3Nk5rEufhxrT6XfaLaeI1g0e5Z3SD7Nl03HO0tn7uaALOq+JfELatoWnaGtqZdTs2mkedTtjIx83HUc9KqWmueOtQutR0qI6XHd6W3767aNikuRkBVzwfeujj8LSR6/o2o/aVK6bZvbNHs5cnHOc8dKs6boD2Ot6zftOHGpMpVAmPLwuOTnmgDk7rxvrtxovhuXSbe2+26pO8EySAlVZRyQfQHmr2na5r1vrt54d8U/ZZZpLF7q2uLVSqso4ZSpJ5BrF13wtd6evhLSba/KXCX0zpdRx/cJUsOD+VdJpHg7UIdYutX8QauupahLbG1iaOHy0hjPUBc9SetAHOWGvz6D8LtHlt9T0/TjJuDS3qM+Rk/dReSa1vAnje68TwatbedaXt3YbfLuIUeKKbcuRlWGRyMGmzfDu9TS9GXT9Viiv9KDhJZLbzI3DHn5Cf61f8O+D9S0TVNY1KfV1u7vUoo1DtDtEbKCM4B6c9KAOmsGu30+FtRjijuygMyRMWRW7gE9RVmq9jHdRWEKX8yT3KoBLKibFdu5A7CrFABRRRQAUUUUAFFFFABRRRQAUUUUAFef/AAt/5LZ43/3I/wCdegV5/wDC3/ktnjf/AHI/50AezjpQaB0oNAHjn7Q3/IF8O/8AYUX+Va0f+rX6Csn9ob/kC+Hf+wov8q1o/wDVr9BXLWPbyvaQ+kNLSGuc9k4qK5g0r4n351ORYRe26fZpJDhTjqoJ4zntWzrt/aXHh3VYbe7gmkWzkZkjkDEDaecCr+o6TY6vD5OpWsdwg5Adc4+lV7Lw1o+nW80Nlp8MKTqUkCj7wPYmrumc/JUjdLZnAaiseqWeh6atlaTzR2Cy7r66aKMDA6AdTRoFvc6l4H1a0jkR5dOu/MtTBIXVSnICk9R1Fd/d+GdHv4YIrywilS3G2IMPuj0FT2OlWWmpJHY2yQpKcuqDAJquZWMlh5c2pyOl6ifFniSC/g+a30uz3YHQ3Djp9QBXHW+l32twXV9O+lLe+c264ub1kmhIPHHQYr2DT9JstJSRNOtkt1lfe4T+JvWqd34T0O+vftd1pkEk+clyvX6+tCmrilh5tJ31LumCYaTbC5kWWURKGkQ5DHHUGvOfDXh/Wdb8PXtqurLbabNe3CyQrDmQjzDn5s969PRFjQJGoVVGAAMYFRWVhbafAYbOJYo2dnKr/eJyT+dSpWN50VNq/Q4e58M2N/4+h0+6Ej2dtpiARbyA2GwM460y40f7dqHieytMo8KQPbAfwsq5X+Vd39htxqBvREv2gp5Zk77fSkisbeC6muYoVWafHmuOrY6U+Yh0N7HGaPqv/CX+INMm58rTrbzp1HacjGD7jmuR17F7HqOt2dvYWpjnYrNNesLjcD2X+leuafpFhpbTGwtkgM775Ng+83rVSbwloVxeSXMumW7TS53uV65601JXIlQnKNr6nJXCWmv+JNPtvE8uLT+zlmhjeTYksh+9k5GSBVfQJ9P0rT/GL2jvd2cMyqu2QkkbcYDf1ru7/wAP6XqVrDb31jFNFCMRqw+79KfaaFpllBPDa2UMcVxjzUVeG4xyPpQ5qw/YS5rnlemQy6N4o0Se3j060+1y7THZ3jSu6EfxA8fjXq9rZwQahdzxTu8kzAuhk3BMDsO1U7XwnodnKslrpsMTo/mKyryGrQg0+1trqe5ghCS3BBlYdWxSk03oVRpSpqzLOaWkpag6gooooGFFFFACd64j4t/8iFL/ANfEX/oVdv3riPi3/wAiFL/18Rf+hVUPiRzYj+DL0PbvDv8AyLOm/wDXtH/6CKKPDv8AyLOm/wDXtH/6CKK7z5M8o8Zf8nN6F/2B2/8AQ3r0SvO/GX/Jzehf9gdv/Q3r0SgAooooAKKKKACiiigAooooAb5abt21QfXHNOqjrl1LY+HtRu7cgS29rLLGSM4ZUJHH1FZGi+Kbd/D2hSarcbr/AFK2jcRxx5Z2Kgk7VHAz+FAHSmm7F3Z2rnHXHaqOs6mdJ01rzyDOkZHmKHVSF7kZ4OPTisPwR4ubxRauwiZhGW3zNhMnccAJ16Y5oA6yisfVtQNrrujW41BbYXUsim3aDebnCE4DfwY6571qySxwRtJM6xov3mZgAPxNAD6Kpf2zpn/QRtP+/wCv+NW45EmjV4nV0bkMpyCPrQA7NGa4bx3qnijRp7e90y7s4NM+0wwtG0O+WTe4B5PA613AOVB9qAForntU1e6/4S3TdG09lXejXF0xUHEY4C+xJ7+1M1Tx/wCHdHvrm0v74pcWzASxrE7FcjIPAPGO/SgDpKK5pviH4XW6t4P7VjZrjbsZFYplugLYwM+5qxrnjTQvDtxHBql6EmkXcI40aRgvqQoOB70AbtIwBGCM/WsiXxXokPh8a1Jfxf2e2NswOQx9AOufasHT/HMOuePLKw0a7WWwksZZZkaPa4dWUDORkcGgDtsUZrP1rXLLQLH7ZqTyJDuC5jiaQ5PsoJrGtPGmneJob2z8MXkn9owwGRBJbOu30zuAHJoA6misfwrrY8Q+G7XUcbZHXbKv92RThh+YNbFABRRRQAUUUUAIQDjIyR09qWiigAooooAKKKKACiiigAooooAKKKKACiiigAooooAK8/8Ahb/yWzxv/uR/zr0CvP8A4W/8ls8b/wC5H/OgD2cdKDQOlBoA8c/aG/5Avh3/ALCi/wAq1o/9Wv0FZP7Q3/IF8O/9hRf5VrR/6tfoK5ax7eV7SH0lLRWB7ImKMUtFACYopaKAExRS0UAIKWiigAooopAJijFLRTCwmKMUtFACYopaKACiiigAooooGFFFFACd64j4t/8AIhS/9fEX/oVdv3riPi3/AMiFL/18Rf8AoVVD4kc2I/gy9D27w7/yLOm/9e0f/oIoo8O/8izpv/XtH/6CKK7z5M8o8Zf8nN6F/wBgdv8A0N69Erzvxl/yc3oX/YHb/wBDevRKACiiigAooooAKKKKACiiigDM8Sqz+E9XVFLM1lMAoGSTsNeeeA7a48Jx6bNrUEl1DqVrCsN8yEvbHYP3LDsvofzr1YjIwaTaMYxxQBBc2dvfRLHdxJKgYOA4yMjoaqaToFjo8YFrGDJ8w80gBiCxOOO3NaeKKAON8Xf8j54L/wCvq44/7Ymt7xFYzal4furS2t7S5llXCxXoPlNz/FjnFV5PC1tP4si1+5urmaW3jKW9u7/uoSRgsB6mtygDx/8A4Vzr3/QreCf++J/8a9Q0OzlsNCs7WeC2t5YYwrRWmfKQ+i55xWhRigDzn4ra/aQafb6WUuXuhdW9xiK2d12LICeQMZwDxXbaLrFrrmlx32nmTyXJA82Jo24OOh57VfKqeoB/CgKAMDgUAcg4Nr8X1ll4W80vy4j/ALSOS36EVF4f05H8e+LJ7i0B8x4VVnT7y+UMgE9RXU3mlWl/c2txcxkzWj+ZC6sQVOMHp29quYHpigDyODSfL/Z/uY0siLjLNtER3lhPwcYz0rQbUYfCnjTUL7XdPuZ4NQtovs9xFbmXGFwYzgcc816XtGMY49KCoPUZoA8aj0u+tPDOn6xcaXObGLWXvX08Jl0hbIVtvsTnHvWxpGpW+vfGG01LTdMuLe1GlyRm4lgMfmNvU9CO1em7RjGOPSgKB0GKAMLxh4iXw1oL3pt5LiRmEcaJGX+Y9yBzgVjeCNb0OdbkW0tzNfsnn3l1cWrxb8dcFgAAOgA6V25APUZqve2Fvf2M1pcKTDMhRwrFSQeoyOaAOV+F0MieDzPIpVbq7nnjU/3GkJB/Ec12VR21tFZ2sdvbII4olCIo6ADtUlABRRRQAUUUUAFFFFABRRRQAUUUUAFFFFABRRRQAUUUUAFFFFABRRRQAV5/8Lf+S2eN/wDcj/nXoFef/C3/AJLZ43/3I/50AezjpQaB0oNAHjn7Q3/IF8O/9hRf5VrR/wCrX6Csn9ob/kC+Hf8AsKL/ACrWj/1a/QVy1j28r2kPooorA9oKKKKACkzS0x2CIWY4CjJNAmyreavYadIkd9eQwO/KrI4BIq0jh1DKQVIyCO9eAxTy/ED4zqJGL2kEhIXsI0/xNe/KAqgLwAMAVco8py0K7q300Q7NZ7a9paXhtG1C3FwG2mIyDdn0xV89a8Qv9E0xviy90+vwLOb0N9lMbbs+maIxUh16zp2t1PcAcilNIv3RS1B0lG11nTr25a3tb2CWZc5RHBIx7VdBrwPxl5vgT4sw6rZ/LDOwmZR0IPDCvdrS4S6tYp4jlJUDqfYjNVKNrNHLRrOpKUXuieiiipOsKKKKACiiigAooooAKKKKAE71xHxb/wCRCl/6+Iv/AEKu371xHxb/AORCl/6+Iv8A0Kqh8SObEfwZeh7d4d/5FnTf+vaP/wBBFFHh3/kWdN/69o//AEEUV3nyZ5R4y/5Ob0L/ALA7f+hvXoled+Mv+Tm9C/7A7f8Aob16JQAUUUUAFFFFABRWL4xdo/BmrPGxVltJCCD0O2sHw5aw2WmR30WgG1mjs/MFy0gbeduenvQB3FFcdpnibVZI9DutRhtlttX+QJHu3xttLA5J5HBq54qlaPVfD21yqtf4bB6jYaAOloriIfGlz/bdlCNl3YXtw0CXCQMig8kEMSd3TFbPivWbrRNOtpbGGOaWe8itwshwMOcUAb1NdlRC7sFVRkknAA9a4rV/F2q6Hb6vFdwW813ZwR3ELRghXV3C4Iz1FL4gv76WxisLyWGSe5TzmtIIHcsgIOCQw+XIwc9aAO0RldQyMGVhkEHg06uKs/F91qVjotvpdrFDeagshYS52QrGcHgcnnAAp2uXfiCHxJ4ctYby3hNw0wmVUYpIVUEZGent60AdnRXCQ+ILmxvtQtbWGNr251c2qNIzbARGGLEZ447CtrU9Tv8AStKQ3txbreSS7I/LhZ/M46Bc5z+OOKAOhorlNB8T6hq+m6hixDXthdCBoz+7DggNuwc44bp7VreItbGg+HbjUnj8xolG2PPViQAPzNAGrRXBjxXd3ltfWU7RTeZp00qz28MiCJgp4O79DVWw8Y3ENjY6bbSwxvDp0UsktxHI+9mXhRt6fWgD0aiuPsvFeo61NYW+m20VvNNam5n+0q3yAHbtA46kHms6HxHdanfaFNeQIk/227iIR2AGxTz156d6APQaK5/wnqupa5pEWpX6wRRzJ8kcQORz1Jz7VVk8UXSaT4iuhFHv0ud44gejAAEZoA6qiuLk8Ta1PqGqQWEFqI7CziuS0gJ3lkLFeD7da3k1Iah4SOoqmFmszKFz0+TOKANaiue0bVI7T4fWupTKdkViJWTcSeFzjJ5rI0Xxtd3+oacsyQyR3/WOGKTdb8ZG5mGDQB3FFcLp3i/V5tO07U7yC1Wzur37IyJneMsQGH5dKr2nibVdH0bXNU1S4S7itr14YotrBslwqjOeFGfSgD0KiuItfGd4ftsciw3LRWD3ccsMMiIrKD8jbutPi8S63MukW4jtFu9VjMy5DbYUVQSTzyckUAdpRWJ4c1mfVEvYL2NI7uxuDby+Xnax6gjPqKxb/wAU6uLPWNR06C1NppsrQqkud8hXAZs54HtQB2tFcxaeJbm4utZieOMCwtI54zzyWj3kH8ay38dXEj2NtEbe3mlsUupZJIndctnCgLz26mgDu6KyfD+rS654ehvzCbeaRSCjqcBhx35xxWHa+Mrq5tNNhaCNNRluXhvIucRCPO84z7DH1oA7KivP9O+IFxeyWdwIont7u4EQt44pPMjUnActjb9aNU17U7/w3rtxNFAlpZXDQKq7g8m2QAHIPHWgD0CivLbyPUbi98S3801vIthCqxo6vlUMWSFIbg+9dDDr+p3Dzw6RDbiHTrSN5fOLEyMybto54GO9AHY0VyWgeKrvVdS023nhjRbvTjduUB4bftwPaqDePZ/sthHtgiuLyadTI6O6RpG2M4GSSaAO8orC8La5LrljcPcRbJLedoi6oyrKB0ZQ3ODmt2gAooooAK8/+Fv/ACWzxv8A7kf869Arz/4W/wDJbPG/+5H/ADoA9nHSg0DpQaAPHP2hv+QL4d/7Ci/yrWj/ANWv0FZP7Q3/ACBfDv8A2FF/lWtH/q1+grlrHt5XtIfRRRWB7QUUUUAFZniORofDOpSR8MttIR/3ya0zVa+theafPbP92aNkP4jFC3ImrxaPEPgRGs3ifUp5OZEgGCfdua93r5/+GEzeHPincaXd/u/O3wYPqDkV9ADrWtX4jhwD/dcvmFfN+p/8l0k/7CI/pX0gTXzfqf8AyXWT/sIj+lFLqTj9oep9ID7opTSDoKWsj0uh4x8fYl/4lUvAf51/CvQvh9K8/gLSXkyWEAGT7V5b8bL06l4s0/Sbf55IlA2j+8x6V7J4e07+yfD1jYd4IVU/XHNbS0po82h72KnJGnRRRWJ6YUUUUAFFFFABRRRQAUUUUAJ3riPi3/yIUv8A18Rf+hV2/euI+Lf/ACIUv/XxF/6FVQ+JHNiP4MvQ9u8O/wDIs6b/ANe0f/oIoo8O/wDIs6b/ANe0f/oIorvPkzyjxl/yc3oX/YHb/wBDevRK878Zf8nN6F/2B2/9DevRKACiiigAooooAqapYR6ppVzYzsyx3MbRsy9QCMVm2nh+5t7b7LLq9xcWwhMPlOiYxjHUDNW/EV01l4dv7lGdGigZwydRgdvepra7A0eK6l3sPJV2wu5jx6DqfpQBSTw3bJZ6TbCSTbpbhoufvEKV5/A1Z1LSIdUmspJ2YG0l85Ap6nBGD7c1SXxfp7OFFvqQJOOdPmGP/HateINV/sfw1fakq7mggLop7tjj9cUAZNv4FtIJLALe3TwadP5trAzDbHwRjpkjnvmrHjHRZ9d02ztrfjy7+GZyH2sqq2SQexFZvig6pp/w3ku49UmS8tbUSPKoH7xuOvHTrXVpPGlpE88qpvVeXYDPFAGFN4Mtbq1vkvbu5uZr1UWSdyAyojBgowAAMireoeHI7zUIr2K8uLSdIfs7vCR+8j9DkH86k0XXrfWrN5oTGHWWSMR+YCTsYjP44rKtPGv9oakdMt7GQX8O83kbci2A6Ekfe3cYA60ATR+CbK30yxtbW4uIJtPdnt7lGG9N33hyMEH3q1eeHBeLYu+oXIu7F2eK5ypf5hggjGMY7YrK0DXdcvr/AFCK507YI3byhI2ASMcZGdvXPNMXxJqerx6zZ21ottJp8eRdwzb080c7AcDJwOaANGTwfZyxzlriYTy3f2tZ1IDRyBQMjtUt14a+2WtutxqN091bzebFc5XcrYx0xjGD6Vkaj4hub/StG/s2UwzXkL3UpX+GNEyfzYgVN4Q8Uya1Y2VvAr3siQg3t2ThI3I+7nu3qO3egC9ZeE4tPt9QS2vrtZdQnE8s+/59wABwe2dv61q6jptvquly2F8pkhmTawzg/XPY96t0UAYsPh90tZ4LrU7u6SWBoQJdvygjHYDJ9zVdfB9vbfZ30+8uLOaGBbdpItp8xF6ZBBGfeuiooA5fW9DuhLZ3mmfaZLyCMxNMkyo7qecHIIPP5VBoPgv7Lp+nHUXIubSeacKjZAMoIIJ74Brr6KAKWkaZFo+lQWFuzNHCu1WY5JrH1HwXbX8l+BeXMFvqB3XFvGw2s+PvcjI6CulooAxoPDdtBcX8yvIWvrdIJAT0CqVBH4Glm06Sw8KNp2nRm4aO3MEQd8E/LgEmtiigDK0fSfsfhS10m9Cy7LYQygE4bjBqHS/Dp0lokh1G7ktYBtit5CpVR2GcZIHua26KAMCPwlZx6LaaYssvlWt0LlWJGSwYnB9uaa3g+0ddQhlmmezv3MklscbVfIO4HGQcjPWuhooAxYvDzCxubW61O7uo54Wg/eFRtUjHYDJx3NNu/C1tcWmnpHPNbz6cMW1zGRvUYwQcjBBrcooAztG0aHRbWSKB5JXmkMs00hy0jnqTWF4g8Gm60/VRpd1PGb7MjWoYCN5OOemR74PNddRQBzU3hCK6zKbq4tpLi0W2ukhYYlAGBnI4Iz2qT/hEbeEWb2F3cWk9rbi2E0e0l4xyAwIIPNdDRQBDaQG1tUiMskxUYLyHLN9ayLTwnYWfii61yMuZrlcGIn92p4yQOxOOa3aKAMHT/C6aXIiWd/dR2aOXS0ypRc84zjOM9s0r+FbSTRtQ04ySCK+mM0jZGQSwbA/EVu0UAYp8M2pi1SPzJMamgSU5+6Au3j8KrXnhGN2lls7u4t3lthBMkZGJgowucjg9sjFdHRQByemeEGXStJae4ms7+ytzAzwMDuQ9VOQfSp4fBVlb6faQW1xcQzWcjvBcqQXXecsDkYIPvXS0UAVNPs3srfy5Lma5bOTJLjJ/IAYq3RRQAUUUUAFef/C3/ktnjf8A3I/516BXn/wt/wCS2eN/9yP+dAHs46UGgdKDQB45+0N/yBfDv/YUX+Va0f8Aq1+grJ/aG/5Avh3/ALCi/wAq1o/9Wv0FctY9vK9pD6KKKwPaCiiigBD0pKdSUCPP/E3wz/tjxZBr2nXosp0Ks42Z3MDwa72IMI1EhDNgZIHU0/FFNybVmZQpQg24rcxPFmo6ppWhvc6JZG9ugwCxAZyK8n8IeBfEOseOxr/iG0a0jE3nv5mAXbsAK9z5oxk5qlNpWRnUw6qzUpPRdAHSg9KWioOnoefaf8NGXx2/iXV75bt/MMiRbMAN2/Ku/FLiim5N7mdOlGnfl6i0UUUjUKKKKACiiigAooooAKKKKAE71xHxb/5EKX/r4i/9Crt+9cR8W/8AkQpf+viL/wBCqofEjmxH8GXoe3eHf+RZ03/r2j/9BFFHh3/kWdN/69o//QRRXefJnlHjL/k5vQv+wO3/AKG9eiV534y/5Ob0L/sDt/6G9eiUAFFFFABRRRQBi+LxJJ4VvoIIZZpbiIwxpGu4lm6fQe9XrS0/4k0NrcA8QqjgHHb1p+pX8Ol6bcX10WENvGZH2jJwBzisyw8V2F/dx20cV1E80RltzNFtE6jrt55IyODg80AOXwnpSMGWKYEHI/0h/wDGrOuaUuseH73TS2wXELRhv7pxwfwIFVrPxRZ3WqLp8sFzaXMgJjW4VQHx1wVY/kcVDZeMLTUrOS606zvrmGMsCyRKOQcEDLAE5FAFbVNH1bxB4HTS5WhsbieARXIdN+0jGduD6iteHTDcabHb63HbXjpjpF8nHQ4OaTR9fs9aaeO2EkU1uQJYZlAZM8joSCD6g0zWPEEOinN1aXckQXc00KKyqB1z8wP5A0AV9B8K2ehWz/Z4Lc3PmSOkwiAK7mJA9cDOKpaZ4Om0zWItWi1BnvpWb7e7DK3CnoAP4cdqnm8TINesljnjOm3FhLdtMR2XBBz6Yp9t40066vLW3WG7ikvFd4DLDtDqoyW69KANLVLKe40u6g02ZbO5nUhZ9udrHvjuawbTQtX0bwtc6dbG1nYwlIhEhVmduC7Ek56k1ZTX4pJrHVWuZBp9+y21rbrHyZGBO5ufRTSx+N9LlkG2O68r7QbZrgw4jSTOME57nj/CgCDSvCcllcTNLKnlrp6WNtjkqMEsxHux/QUeH/BzeGntzpl2Ej2BbuHb8kzAffA/hb371uanqtvpNvHPd7/KeVYt6jIUscAn0Gcc1BceIbaHULixihnubi2hWaVYFBwGJAHJHPGfpQBq0Zrlr7xjDJ4e1W405XivdPjDPDcJhlz0PGQQeehqe58ZafY5S4W4laGFJbqSGLckAYZy3oO/AOBQB0VFYs3imxj1SPT4Y57m5kiWZVgTcChON2cj+lWdW1u20eOI3IkklnbZDDCm55GxnAH+OKANGisCXxnpUGnfa5/tEYFytq8TRfvEkbopX/DNVNV8cQ2eg397Z2NzJc2TokltKm1huIAY89MHqD1oA6qisGTxZbQrbpLZXv2udDItosQaQKOrHBwBn3pJfGWlxQ6e6+fN/aBcQJFFliyjlSD0PNAG/RXOyeNtMindHiuwkLiOebycxwOf4WOevIzjOK2by/trCwlvbqQJbxJvZ/QUAWc0Vya+MRP4jsbVYprW2lt5Z5ftUWwhVwQw9utX7Dxbp+oXMEMUd1GtyD9mlmh2pPj+6c/zxQBu5orC1/WZNK1LSIg8aQXU7JM0nG1QuevbpV/StWg1i2a4s0l8gMVSR02iT3X1HvQBeooooAKKKKACiiigAooooAKKKKACiiigAooooAKKKKACiiigArz/AOFv/JbPG/8AuR/zr0CvP/hb/wAls8b/AO5H/OgD2cdKDQOlBoA8c/aG/wCQL4d/7Ci/yrWj/wBWv0FZP7Q3/IF8O/8AYUX+Va0f+rX6CuWse3le0h9FFFYHtBRRRQAUUUUAFFFFABRRRQAUUUUAFFFFABRRRQAUUUUAFFFFABRRRQAUUUUAJ3riPi3/AMiFL/18Rf8AoVdv3riPi3/yIUv/AF8Rf+hVUPiRzYj+DL0PbvDv/Is6b/17R/8AoIoo8O/8izpv/XtH/wCgiiu8+TPKPGX/ACc3oX/YHb/0N69Erzvxl/yc3oX/AGB2/wDQ3r0SgAooooAKKKKAMPxmjSeC9XRASzWrgYGex7VhwaNresDTHu1t7GOws3WGWKUu0jyIFBxtG0ADOMnmu3ZQwwwyD1BpQAOlAHA6V4V1SDW9Gup7GytV08Os0sc5keclcbslRjnt79anh8Lanb+A7fTE8k3MN207w+YVSZDIWKFgMjIPpXb4oxQByfhbQL3TNe1S/urW1tIrxIhHBbuW2FQQQSQM9etReIPDup3+tXM0Nva3kFzaiGM3EpH2VucsFwQ2c+o6V2NGKAOAi8F3zaVptpdyRosGiy2Uzo2drsAAQO44qpYXN9rHivQIJI7YjT4Jlma2kZxgqFDElRtz/d5r0rFNWNEJKIqk9cDGaAODh8M6+LTRdOkjtFtdKvxMZlmJaZAGAO3b8pG7pk5q5/wi9/8A8IddaaBF9okv/tC/Odu3zg/XHXArssUYoAzta0satoF1YMQGliIQn+Fv4T+BFcja+EtcPhe7a9lgfWLu6SadVkIjkjTAEe7qBtH613+KMUAeeDwfqkg8QOLSzsxqVnFFDBDKWCMpOcnaM9etW7nw/rtt/atvpsVpNDrEKo8k0xU27eWI2ONp3DAyBkV3GKMUAczo3huXSdejmDK9tFpsVorE/MWUnnHpR4t8PXGr3Gn3tkqSzWMjEwPK0YkVhg4ZclT74NdNiigDiJfCdzNp9v5Nhb2k39pw3Uy/aWl3KmeSxXk+2Km13wvfalca80BiUX1vAsG5jy8ZyQeOBx15rscZooA4bUfDuqXusW2tGxhaYW32aaz+2smADkMsgXn3BWrVt4Xnt9Q0CeC2gtY7F55J40lLbS4GMEj5uc88V1+KKAOGuvDWtpbaro9nHayWGqXLTG6klIeFWILDYF+Y+nIroda0VtS8MS6XDJscxqI3bplcEZ/KtjFGKAOHuvD+t67qVvJq0FrZQJZTWriCcyNlgBu+6PypfD/hW7sbixTUNMtj9g+5dLeu+SBgFYyoAOPeu3oxQBy3jPwsfFR023k4toZmech9rAFcAr75rU0CHUrXTxa6t5TNAdkc0XAlQdCR2NauKMUAFFFFABRRRQAUUUUAFFFFABRRRQAUUUUAFFFFABRRRQAUUUUAFef/AAt/5LZ43/65x/zr0CvP/hb/AMls8b/9c4/50Aezig0CigDxz9ob/kC+Hf8AsKL/ACrWj/1a/QVk/tDf8gXw7/2FF/lWrF/q1+grmrHt5XtIkopKK5z2RaKSigBaKSigBaKSigBaKSigBaKSigBaKSigBaKSigBaKSigBaKSigBaKSigBaKSigA71xHxb/5EKX/r4i/9Crt64f4tn/igpf8Ar4i/9CqoL3kc+J/gy9D2/wAO/wDIs6b/ANe0f/oIoo8O/wDIs6b/ANe0f/oIorvPkzxz4p3OoaJ8cNK1220a81K3h0zy2FtGTyXfjNL/AMLfvv8AoR9a/wC+P/rV7qVB6gH8KNq/3R+VAHhX/C373/oR9b/74/8ArUf8Lfvf+hH1v/vj/wCtXuu1f7o/Kjav90flQB4V/wALfvf+hH1v/vj/AOtR/wALfvf+hH1v/vj/AOtXuu1f7o/Kjav90flQB4V/wt+9/wChH1v/AL4/+tR/wt+9/wChH1v/AL4/+tXuu1f7o/Kjav8AdH5UAeFf8Lfvf+hH1v8A74/+tR/wt+9/6EfW/wDvj/61e67V/uj8qNq/3R+VAHhX/C373/oR9b/74/8ArUf8Lfvf+hH1v/vj/wCtXuu1f7o/Kjav90flQB4V/wALfvf+hH1v/vj/AOtR/wALfvf+hH1v/vj/AOtXuu1f7o/Kjav90flQB4V/wt+9/wChH1v/AL4/+tR/wt+9/wChH1v/AL4/+tXuu1f7o/Kjav8AdH5UAeFf8Lfvf+hH1v8A74/+tR/wt+9/6EfW/wDvj/61e67V/uj8qNq/3R+VAHhX/C373/oR9b/74/8ArUf8Lfvf+hH1v/vj/wCtXuu1f7o/Kjav90flQB4V/wALfvf+hH1v/vj/AOtR/wALfvf+hH1v/vj/AOtXuu1f7o/Kjav90flQB4V/wt+9/wChH1v/AL4/+tR/wt+9/wChH1v/AL4/+tXuu1f7o/Kjav8AdH5UAeFf8Lfvf+hH1v8A74/+tR/wt+9/6EfW/wDvj/61e67V/uj8qNq/3R+VAHhX/C373/oR9b/74/8ArUf8Lfvf+hH1v/vj/wCtXuu1f7o/Kjav90flQB4V/wALfvf+hH1v/vj/AOtR/wALfvf+hH1v/vj/AOtXuu1f7o/Kjav90flQB4V/wt+9/wChH1v/AL4/+tR/wt+9/wChH1v/AL4/+tXuu1f7o/Kjav8AdH5UAeFf8Lfvf+hH1v8A74/+tR/wt+9/6EfW/wDvj/61e67V/uj8qNq/3R+VAHhX/C373/oR9b/74/8ArUf8Lfvf+hH1v/vj/wCtXuu1f7o/Kjav90flQB4V/wALfvf+hH1v/vj/AOtR/wALfvf+hH1v/vj/AOtXuu1f7o/Kjav90flQB4V/wt+9/wChH1v/AL4/+tR/wt+9/wChH1v/AL4/+tXuu1f7o/Kjav8AdH5UAeFf8Lfvf+hH1v8A74/+tR/wt+9/6EfW/wDvj/61e67V/uj8qNq/3R+VAHhX/C373/oR9b/74/8ArUf8Lfvf+hH1v/vj/wCtXuu1f7o/Kjav90flQB4V/wALfvf+hH1v/vj/AOtR/wALfvf+hH1v/vj/AOtXuu1f7o/Kjav90flQB4V/wt+9/wChH1v/AL4/+tR/wt+9/wChH1v/AL4/+tXuu1f7o/Kjav8AdH5UAeFf8Lfvf+hH1v8A74/+tR/wt+9/6EfW/wDvj/61e67V/uj8qNq/3R+VAHhX/C373/oR9b/74/8ArVP8F5L/AFD4jeKdYvNKu9OivYozGtyhB6+te3bV/uj8qAAOgAoAUdKD0oooA8f/AGgrS9uPD2iyWFlPeNb34kaOFCxwB7Vyi/EfUFRR/wAIZrHAx/qz/hX0UQD1GaNi/wB0flUyipbnRRxFSimoM+dv+Fk6h/0Jesf9+j/hR/wsnUP+hM1n/v0f8K+idq/3R+VG1f7o/Ko9lA3/ALQr9z52/wCFk6h/0Jms/wDfo/4Uf8LJ1D/oTNZ/79H/AAr6J2r/AHR+VG1f7o/Kj2UA/tCv3Pnb/hZOof8AQl6x/wB+j/hR/wALJ1D/AKEvWP8Av0f8K+idq/3R+VG1f7o/Kj2UA/tCv3Pnb/hZOof9CXrH/fo/4Uf8LJ1D/oS9Y/79H/Cvonav90flRtX+6Pyo9lAP7Qr9z52/4WTqH/Ql6x/36P8AhR/wsnUP+hL1j/v0f8K+idq/3R+VG1f7o/Kj2UA/tCv3Pnb/AIWTqH/Ql6x/36P+FH/CydQ/6EvWP+/R/wAK+idq/wB0flRtX+6Pyo9lAP7Qr9z52/4WTqH/AEJesf8Afo/4Uf8ACydQ/wChL1j/AL9H/Cvonav90flRtX+6Pyo9lAP7Qr9z52/4WTqH/Ql6x/36P+FH/CydQ/6EvWP+/R/wr6J2r/dH5UbV/uj8qPZQD+0K/c+dv+Fk6h/0Jesf9+j/AIUf8LJ1D/oS9Y/79H/Cvonav90flRtX+6Pyo9lAP7Qr9z52/wCFk6h/0Jesf9+j/hR/wsnUP+hL1j/v0f8ACvonav8AdH5UbV/uj8qPZQD+0K/c+dv+Fk6h/wBCXrH/AH6P+FH/AAsnUP8AoS9Y/wC/R/wr6J2r/dH5UbV/uj8qPZQD+0K/c+dv+Fk6h/0Jesf9+j/hR/wsnUP+hL1j/v0f8K+idq/3R+VG1f7o/Kj2UA/tCv3Pnf8A4WTqH/Qmax/36P8AhWB4w8Tar4o0A6Zb+E9Wgd5kbe8RIAB+lfU+xf7o/KjYv90flTVKKIlja0k4t6MztARovDunpIrK626AgjkHAorSorQ4z//Z)\n",
        "\n",
        "Imagen 1. Generacion de claves $^{1}$\n",
        "\n",
        "![2.JPG](data:image/jpeg;base64,/9j/4AAQSkZJRgABAQEAYABgAAD/4RD6RXhpZgAATU0AKgAAAAgABAE7AAIAAAAQAAAISodpAAQAAAABAAAIWpydAAEAAAAgAAAQ0uocAAcAAAgMAAAAPgAAAAAc6gAAAAgAAAAAAAAAAAAAAAAAAAAAAAAAAAAAAAAAAAAAAAAAAAAAAAAAAAAAAAAAAAAAAAAAAAAAAAAAAAAAAAAAAAAAAAAAAAAAAAAAAAAAAAAAAAAAAAAAAAAAAAAAAAAAAAAAAAAAAAAAAAAAAAAAAAAAAAAAAAAAAAAAAAAAAAAAAAAAAAAAAAAAAAAAAAAAAAAAAAAAAAAAAAAAAAAAAAAAAAAAAAAAAAAAAAAAAAAAAAAAAAAAAAAAAAAAAAAAAAAAAAAAAAAAAAAAAAAAAAAAAAAAAAAAAAAAAAAAAAAAAAAAAAAAAAAAAAAAAAAAAAAAAAAAAAAAAAAAAAAAAAAAAAAAAAAAAAAAAAAAAAAAAAAAAAAAAAAAAAAAAAAAAAAAAAAAAAAAAAAAAAAAAAAAAAAAAAAAAAAAAAAAAAAAAAAAAAAAAAAAAAAAAAAAAAAAAAAAAAAAAAAAAAAAAAAAAAAAAAAAAAAAAAAAAAAAAAAAAAAAAAAAAAAAAAAAAAAAAAAAAAAAAAAAAAAAAAAAAAAAAAAAAAAAAAAAAAAAAAAAAAAAAAAAAAAAAAAAAAAAAAAAAAAAAAAAAAAAAAAAAAAAAAAAAAAAAAAAAAAAAAAAAAAAAAAAAAAAAAAAAAAAAAAAAAAAAAAAAAAAAAAAAAAAAAAAAAAAAAAAAAAAAAAAAAAAAAAAAAAAAAAAAAAAAAAAAAAAAAAAAAAAAAAAAAAAAAAAAAAAAAAAAAAAAAAAAAAAAAAAAAAAAAAAAAAAAAAAAAAAAAAAAAAAAAAAAAAAAAAAAAAAAAAAAAAAAAAAAAAAAAAAAAAAAAAAAAAAAAAAAAAAAAAAAAAAAAAAAAAAAAAAAAAAAAAAAAAAAAAAAAAAAAAAAAAAAAAAAAAAAAAAAAAAAAAAAAAAAAAAAAAAAAAAAAAAAAAAAAAAAAAAAAAAAAAAAAAAAAAAAAAAAAAAAAAAAAAAAAAAAAAAAAAAAAAAAAAAAAAAAAAAAAAAAAAAAAAAAAAAAAAAAAAAAAAAAAAAAAAAAAAAAAAAAAAAAAAAAAAAAAAAAAAAAAAAAAAAAAAAAAAAAAAAAAAAAAAAAAAAAAAAAAAAAAAAAAAAAAAAAAAAAAAAAAAAAAAAAAAAAAAAAAAAAAAAAAAAAAAAAAAAAAAAAAAAAAAAAAAAAAAAAAAAAAAAAAAAAAAAAAAAAAAAAAAAAAAAAAAAAAAAAAAAAAAAAAAAAAAAAAAAAAAAAAAAAAAAAAAAAAAAAAAAAAAAAAAAAAAAAAAAAAAAAAAAAAAAAAAAAAAAAAAAAAAAAAAAAAAAAAAAAAAAAAAAAAAAAAAAAAAAAAAAAAAAAAAAAAAAAAAAAAAAAAAAAAAAAAAAAAAAAAAAAAAAAAAAAAAAAAAAAAAAAAAAAAAAAAAAAAAAAAAAAAAAAAAAAAAAAAAAAAAAAAAAAAAAAAAAAAAAAAAAAAAAAAAAAAAAAAAAAAAAAAAAAAAAAAAAAAAAAAAAAAAAAAAAAAAAAAAAAAAAAAAAAAAAAAAAAAAAAAAAAAAAAAAAAAAAAAAAAAAAAAAAAAAAAAAAAAAAAAAAAAAAAAAAAAAAAAAAAAAAAAAAAAAAAAAAAAAAAAAAAAAAAAAAAAAAAAAAAAAAAAAAAAAAAAAAAAAAAAAAAAAAAAAAAAAAAAAAAAAAAAAAAAAAAAAAAAAAAAAAAAAAAAAAAAAAAAAAAAAAAAAAAAAAAAAAAAAAAAAAAAAAAAAAAAAAAAAAAAAAAAAAAAAAAAAAAAAAAAAAAAAAAAAAAAAAAAAAAAAAAAAAAAAAAAAAAAAAAAAAAAAAAAAAAAAAAAAAAAAAAAAAAAAAAAAAAAAAAAAAAAAAAAAAAAAAAAAAAAAAAAAAAAAAAAAAAAAAAAAAAAAAAAAAAAAAAAAAAAAAAAAAAAAAAAAAAAAAAAAAAAAAAAAAAAAAAAAAAAAAAAAAAAAAAAAAAAAAAAAAAAAAAAAAAAAAAAAAAAAAAAAAAAAAAAAAAAAAAAAAAAAAAAAAAAAAAAAAAAAAAAAAAAAAAAAAAAAAAAAAAAAAAAAAAAAAAAAAAAAAAAAAAAAAAAAAAAAAAAAAAAAAAAAAAAAAAAAAAAAAAAAAAAAAAAAAAAAAAAAAAAAAAAAAAAAAAAAAAAAAAAAAAAAAAAAAAAAAAAAAAAAAAAAAAAAAAAAAAAAAAAAAAAAAAAAAAAAAAAAAAAAAAAAAAAAAAAAAAAAAAAAAAAAAAAAAAAAAAAAAAAAAAAAAAAAAAAAAAAAAAAAAAAAAAAAAAAAAAAAAAAAAAAAAAAAAAAAAAAAAAAAAAAAAAAAAAAAAAAAAAAAAAAAAAAAAAAAAAAAAAAAAAAAAAAAAAAAAAAAAAAAAAAAAAAAAAAAAAAAAAAAAAAAAAAAAAAAAAAAAAAAAAAAAAAAAAAAAAAAAAAAAAAAAAAAAAAAAAAAAAAAAAAAAAAAAAAAAAAAAAAAAAAAAAAAAAAAAAAAAAAAAAAAAAAAAAAAAAAAAAAAAAAAAAAAAAAAAAAAAAAAAAAAAAAAAAAAAAAAAAAAAAAAAAAAAAAAAAAAAAAAAAAAAAAAAAAAAAAAAAAAAAAAAAAAAAAAAAAAAAAAAAAAAAAAAAAAAAAAAAAAAAAAAAAAAAAAAAAAAAAAAAAAAAAAAAAAAAAAAAAAAAAAAAAAAAAAAAAAAAAAAAAAAAAAAAAAAAAAAAAAAAAAAAAAAAERJQU5BIFJPRFJJR1VFWgAABZADAAIAAAAUAAAQqJAEAAIAAAAUAAAQvJKRAAIAAAADMzgAAJKSAAIAAAADMzgAAOocAAcAAAgMAAAInAAAAAAc6gAAAAgAAAAAAAAAAAAAAAAAAAAAAAAAAAAAAAAAAAAAAAAAAAAAAAAAAAAAAAAAAAAAAAAAAAAAAAAAAAAAAAAAAAAAAAAAAAAAAAAAAAAAAAAAAAAAAAAAAAAAAAAAAAAAAAAAAAAAAAAAAAAAAAAAAAAAAAAAAAAAAAAAAAAAAAAAAAAAAAAAAAAAAAAAAAAAAAAAAAAAAAAAAAAAAAAAAAAAAAAAAAAAAAAAAAAAAAAAAAAAAAAAAAAAAAAAAAAAAAAAAAAAAAAAAAAAAAAAAAAAAAAAAAAAAAAAAAAAAAAAAAAAAAAAAAAAAAAAAAAAAAAAAAAAAAAAAAAAAAAAAAAAAAAAAAAAAAAAAAAAAAAAAAAAAAAAAAAAAAAAAAAAAAAAAAAAAAAAAAAAAAAAAAAAAAAAAAAAAAAAAAAAAAAAAAAAAAAAAAAAAAAAAAAAAAAAAAAAAAAAAAAAAAAAAAAAAAAAAAAAAAAAAAAAAAAAAAAAAAAAAAAAAAAAAAAAAAAAAAAAAAAAAAAAAAAAAAAAAAAAAAAAAAAAAAAAAAAAAAAAAAAAAAAAAAAAAAAAAAAAAAAAAAAAAAAAAAAAAAAAAAAAAAAAAAAAAAAAAAAAAAAAAAAAAAAAAAAAAAAAAAAAAAAAAAAAAAAAAAAAAAAAAAAAAAAAAAAAAAAAAAAAAAAAAAAAAAAAAAAAAAAAAAAAAAAAAAAAAAAAAAAAAAAAAAAAAAAAAAAAAAAAAAAAAAAAAAAAAAAAAAAAAAAAAAAAAAAAAAAAAAAAAAAAAAAAAAAAAAAAAAAAAAAAAAAAAAAAAAAAAAAAAAAAAAAAAAAAAAAAAAAAAAAAAAAAAAAAAAAAAAAAAAAAAAAAAAAAAAAAAAAAAAAAAAAAAAAAAAAAAAAAAAAAAAAAAAAAAAAAAAAAAAAAAAAAAAAAAAAAAAAAAAAAAAAAAAAAAAAAAAAAAAAAAAAAAAAAAAAAAAAAAAAAAAAAAAAAAAAAAAAAAAAAAAAAAAAAAAAAAAAAAAAAAAAAAAAAAAAAAAAAAAAAAAAAAAAAAAAAAAAAAAAAAAAAAAAAAAAAAAAAAAAAAAAAAAAAAAAAAAAAAAAAAAAAAAAAAAAAAAAAAAAAAAAAAAAAAAAAAAAAAAAAAAAAAAAAAAAAAAAAAAAAAAAAAAAAAAAAAAAAAAAAAAAAAAAAAAAAAAAAAAAAAAAAAAAAAAAAAAAAAAAAAAAAAAAAAAAAAAAAAAAAAAAAAAAAAAAAAAAAAAAAAAAAAAAAAAAAAAAAAAAAAAAAAAAAAAAAAAAAAAAAAAAAAAAAAAAAAAAAAAAAAAAAAAAAAAAAAAAAAAAAAAAAAAAAAAAAAAAAAAAAAAAAAAAAAAAAAAAAAAAAAAAAAAAAAAAAAAAAAAAAAAAAAAAAAAAAAAAAAAAAAAAAAAAAAAAAAAAAAAAAAAAAAAAAAAAAAAAAAAAAAAAAAAAAAAAAAAAAAAAAAAAAAAAAAAAAAAAAAAAAAAAAAAAAAAAAAAAAAAAAAAAAAAAAAAAAAAAAAAAAAAAAAAAAAAAAAAAAAAAAAAAAAAAAAAAAAAAAAAAAAAAAAAAAAAAAAAAAAAAAAAAAAAAAAAAAAAAAAAAAAAAAAAAAAAAAAAAAAAAAAAAAAAAAAAAAAAAAAAAAAAAAAAAAAAAAAAAAAAAAAAAAAAAAAAAAAAAAAAAAAAAAAAAAAAAAAAAAAAAAAAAAAAAAAAAAAAAAAAAAAAAAAAAAAAAAAAAAAAAAAAAAAAAAAAAAAAAAAAAAAAAAAAAAAAAAAAAAAAAAAAAAAAAAAAAAAAAAAAAAAAAAAAAAAAAAAAAAAAAAAAAAAAAAAAAAAAAAAAAAAAAAAAAAAAAAAAAAAAAAAAAAAAAAAAAAAAAAAAAAAAAAAAAAAAAAAAAAAAAAAAAAAAAAAAAAAAAAAAAAAAAAAAAAAAAAAAAAAAAAAAAAAAAAAAAAAAAAAAAAAAAAAAAAAAAAAAAAAAAAAAAAAAAAAAAAAAAAAAAAAAAAAAAAAAAAAAAAAAAAAAAAAAAAAAAAAAAAAAAAAAAAAAAAAAAAAAAAAAAAAAAAAAAAAAAAAAAAAAAAAAAAAAAAAAAAAAAAAAAAAAAAAAAAAAAAAAAAAAAAAAAAAAAAAAAAAAAAAAAAAAAAAAAAAAAAAAAAAAAAAAAAAAAAAAAAAAAAAAAAAAAAAAAAAAAAAAAAAAAAAAAAAAAAAAAAAAAAAAAAAAAAAAAAAAAAAAAAAAAAAAAAAAAAAAAAAAAAAAAAAAAAAAAAAAAAAAAAAAAAAAAAAAAAAAAAAAAAAAAAAAAAAAAAAAAAAAAAAAAAAAAAAAAAAAAAAAAAAAAAAAAAAAAAAAAAAAAAAAAAAAAAAAAAAAAAAAAAAAAAAAAAAAAAAAAAAAAAAAAAAAAAAAAAAAAAAAAAAAAAAAAAAAAAAAAAAAAAAAAAAAAAAAAAAAAAAAAAAAAAAAAAAAAAAAAAAAAAAAAAAAAAAAAAAAAAAAAAAAAAAAAAAAAAAAAAAAAAAAAAAAAAAAAAAAAAAAAAAAAAAAAAAAAAAAAAAAAAAAAAAAAAAAAAAAAAAAAAAAAAAAAAAAAAAAAAAAAAAAAAAAAAAAAAAAAAAAAAAAAAAAAAAAAAAAAAAAAAAAAAAAAAAAAAAAAAAAAAAAAAAAAAAAAAAAAAAAAAAAAAAAAAAAAAAAAAAAAAAAAAAAAAAAAAAAAAADIwMjI6MTI6MTMgMjE6NTA6NTkAMjAyMjoxMjoxMyAyMTo1MDo1OQAAAEQASQBBAE4AQQAgAFIATwBEAFIASQBHAFUARQBaAAAA/+ELImh0dHA6Ly9ucy5hZG9iZS5jb20veGFwLzEuMC8APD94cGFja2V0IGJlZ2luPSfvu78nIGlkPSdXNU0wTXBDZWhpSHpyZVN6TlRjemtjOWQnPz4NCjx4OnhtcG1ldGEgeG1sbnM6eD0iYWRvYmU6bnM6bWV0YS8iPjxyZGY6UkRGIHhtbG5zOnJkZj0iaHR0cDovL3d3dy53My5vcmcvMTk5OS8wMi8yMi1yZGYtc3ludGF4LW5zIyI+PHJkZjpEZXNjcmlwdGlvbiByZGY6YWJvdXQ9InV1aWQ6ZmFmNWJkZDUtYmEzZC0xMWRhLWFkMzEtZDMzZDc1MTgyZjFiIiB4bWxuczpkYz0iaHR0cDovL3B1cmwub3JnL2RjL2VsZW1lbnRzLzEuMS8iLz48cmRmOkRlc2NyaXB0aW9uIHJkZjphYm91dD0idXVpZDpmYWY1YmRkNS1iYTNkLTExZGEtYWQzMS1kMzNkNzUxODJmMWIiIHhtbG5zOnhtcD0iaHR0cDovL25zLmFkb2JlLmNvbS94YXAvMS4wLyI+PHhtcDpDcmVhdGVEYXRlPjIwMjItMTItMTNUMjE6NTA6NTkuMzgzPC94bXA6Q3JlYXRlRGF0ZT48L3JkZjpEZXNjcmlwdGlvbj48cmRmOkRlc2NyaXB0aW9uIHJkZjphYm91dD0idXVpZDpmYWY1YmRkNS1iYTNkLTExZGEtYWQzMS1kMzNkNzUxODJmMWIiIHhtbG5zOmRjPSJodHRwOi8vcHVybC5vcmcvZGMvZWxlbWVudHMvMS4xLyI+PGRjOmNyZWF0b3I+PHJkZjpTZXEgeG1sbnM6cmRmPSJodHRwOi8vd3d3LnczLm9yZy8xOTk5LzAyLzIyLXJkZi1zeW50YXgtbnMjIj48cmRmOmxpPkRJQU5BIFJPRFJJR1VFWjwvcmRmOmxpPjwvcmRmOlNlcT4NCgkJCTwvZGM6Y3JlYXRvcj48L3JkZjpEZXNjcmlwdGlvbj48L3JkZjpSREY+PC94OnhtcG1ldGE+DQogICAgICAgICAgICAgICAgICAgICAgICAgICAgICAgICAgICAgICAgICAgICAgICAgICAgICAgICAgICAgICAgICAgICAgICAgICAgICAgICAgICAgICAgICAgICAgICAgICAgCiAgICAgICAgICAgICAgICAgICAgICAgICAgICAgICAgICAgICAgICAgICAgICAgICAgICAgICAgICAgICAgICAgICAgICAgICAgICAgICAgICAgICAgICAgICAgICAgICAgICAKICAgICAgICAgICAgICAgICAgICAgICAgICAgICAgICAgICAgICAgICAgICAgICAgICAgICAgICAgICAgICAgICAgICAgICAgICAgICAgICAgICAgICAgICAgICAgICAgICAgIAogICAgICAgICAgICAgICAgICAgICAgICAgICAgICAgICAgICAgICAgICAgICAgICAgICAgICAgICAgICAgICAgICAgICAgICAgICAgICAgICAgICAgICAgICAgICAgICAgICAgCiAgICAgICAgICAgICAgICAgICAgICAgICAgICAgICAgICAgICAgICAgICAgICAgICAgICAgICAgICAgICAgICAgICAgICAgICAgICAgICAgICAgICAgICAgICAgICAgICAgICAKICAgICAgICAgICAgICAgICAgICAgICAgICAgICAgICAgICAgICAgICAgICAgICAgICAgICAgICAgICAgICAgICAgICAgICAgICAgICAgICAgICAgICAgICAgICAgICAgICAgIAogICAgICAgICAgICAgICAgICAgICAgICAgICAgICAgICAgICAgICAgICAgICAgICAgICAgICAgICAgICAgICAgICAgICAgICAgICAgICAgICAgICAgICAgICAgICAgICAgICAgCiAgICAgICAgICAgICAgICAgICAgICAgICAgICAgICAgICAgICAgICAgICAgICAgICAgICAgICAgICAgICAgICAgICAgICAgICAgICAgICAgICAgICAgICAgICAgICAgICAgICAKICAgICAgICAgICAgICAgICAgICAgICAgICAgICAgICAgICAgICAgICAgICAgICAgICAgICAgICAgICAgICAgICAgICAgICAgICAgICAgICAgICAgICAgICAgICAgICAgICAgIAogICAgICAgICAgICAgICAgICAgICAgICAgICAgICAgICAgICAgICAgICAgICAgICAgICAgICAgICAgICAgICAgICAgICAgICAgICAgICAgICAgICAgICAgICAgICAgICAgICAgCiAgICAgICAgICAgICAgICAgICAgICAgICAgICAgICAgICAgICAgICAgICAgICAgICAgICAgICAgICAgICAgICAgICAgICAgICAgICAgICAgICAgICAgICAgICAgICAgICAgICAKICAgICAgICAgICAgICAgICAgICAgICAgICAgICAgICAgICAgICAgICAgICAgICAgICAgICAgICAgICAgICAgICAgICAgICAgICAgICAgICAgICAgICAgICAgICAgICAgICAgIAogICAgICAgICAgICAgICAgICAgICAgICAgICAgICAgICAgICAgICAgICAgICAgICAgICAgICAgICAgICAgICAgICAgICAgICAgICAgICAgICAgICAgICAgICAgICAgICAgICAgCiAgICAgICAgICAgICAgICAgICAgICAgICAgICAgICAgICAgICAgICAgICAgICAgICAgICAgICAgICAgICAgICAgICAgICAgICAgICAgICAgICAgICAgICAgICAgICAgICAgICAKICAgICAgICAgICAgICAgICAgICAgICAgICAgICAgICAgICAgICAgICAgICAgICAgICAgICAgICAgICAgICAgICAgICAgICAgICAgICAgICAgICAgICAgICAgICAgICAgICAgIAogICAgICAgICAgICAgICAgICAgICAgICAgICAgICAgICAgICAgICAgICAgICAgICAgICAgICAgICAgICAgICAgICAgICAgICAgICAgICAgICAgICAgICAgICAgICAgICAgICAgCiAgICAgICAgICAgICAgICAgICAgICAgICAgICAgICAgICAgICAgICAgICAgICAgICAgICAgICAgICAgICAgICAgICAgICAgICAgICAgICAgICAgICAgICAgICAgICAgICAgICAKICAgICAgICAgICAgICAgICAgICAgICAgICAgICAgICAgICAgICAgICAgICAgICAgICAgICAgICAgICAgICAgICAgICAgICAgICAgICAgICAgICAgICAgICAgICAgICAgICAgIAogICAgICAgICAgICAgICAgICAgICAgICAgICAgICAgICAgICAgICAgICAgICAgICAgICAgICAgICAgICAgICAgICAgICAgICAgICAgICAgICAgICAgICAgICAgICAgICAgICAgCiAgICAgICAgICAgICAgICAgICAgICAgICAgICAgICAgICAgICAgICAgICAgICAgICAgICAgICAgICAgICAgICAgICAgICAgICAgICAgICAgICAgICAgICAgICAgICAgICAgICAKICAgICAgICAgICAgICAgICAgICAgICAgICAgIDw/eHBhY2tldCBlbmQ9J3cnPz7/2wBDAAcFBQYFBAcGBQYIBwcIChELCgkJChUPEAwRGBUaGRgVGBcbHichGx0lHRcYIi4iJSgpKywrGiAvMy8qMicqKyr/2wBDAQcICAoJChQLCxQqHBgcKioqKioqKioqKioqKioqKioqKioqKioqKioqKioqKioqKioqKioqKioqKioqKioqKir/wAARCADiApQDASIAAhEBAxEB/8QAHwAAAQUBAQEBAQEAAAAAAAAAAAECAwQFBgcICQoL/8QAtRAAAgEDAwIEAwUFBAQAAAF9AQIDAAQRBRIhMUEGE1FhByJxFDKBkaEII0KxwRVS0fAkM2JyggkKFhcYGRolJicoKSo0NTY3ODk6Q0RFRkdISUpTVFVWV1hZWmNkZWZnaGlqc3R1dnd4eXqDhIWGh4iJipKTlJWWl5iZmqKjpKWmp6ipqrKztLW2t7i5usLDxMXGx8jJytLT1NXW19jZ2uHi4+Tl5ufo6erx8vP09fb3+Pn6/8QAHwEAAwEBAQEBAQEBAQAAAAAAAAECAwQFBgcICQoL/8QAtREAAgECBAQDBAcFBAQAAQJ3AAECAxEEBSExBhJBUQdhcRMiMoEIFEKRobHBCSMzUvAVYnLRChYkNOEl8RcYGRomJygpKjU2Nzg5OkNERUZHSElKU1RVVldYWVpjZGVmZ2hpanN0dXZ3eHl6goOEhYaHiImKkpOUlZaXmJmaoqOkpaanqKmqsrO0tba3uLm6wsPExcbHyMnK0tPU1dbX2Nna4uPk5ebn6Onq8vP09fb3+Pn6/9oADAMBAAIRAxEAPwD0r4qfEXV/A+peH7DQdHi1W61l5o0ieQqQybMAfXf+lYX/AAsL4uf9Ezj/APAn/wCvT/jF/wAlV+F3/X/c/wDtGvYRQB43/wALC+Ln/RM4/wDwJ/8Ar0f8LC+Ln/RM4/8AwJ/+vXslFAHjf/Cwvi5/0TOP/wACf/r0f8LC+Ln/AETOP/wJ/wDr17JRQB43/wALC+Ln/RM4/wDwJ/8Ar0f8LC+Ln/RM4/8AwJ/+vXslFAHjf/Cwvi5/0TOP/wACf/r0f8LC+Ln/AETOP/wJ/wDr17JRQB43/wALC+Ln/RM4/wDwJ/8Ar0f8LC+Ln/RM4/8AwJ/+vXslFAHjf/Cwvi5/0TOP/wACf/r0f8LC+Ln/AETOP/wJ/wDr17JRQB43/wALC+Ln/RM4/wDwJ/8Ar0f8LC+Ln/RM4/8AwJ/+vXslFAHjf/Cwvi5/0TOP/wACf/r0f8LC+Ln/AETOP/wJ/wDr17JRQB43/wALC+Ln/RM4/wDwJ/8Ar0f8LC+Ln/RM4/8AwJ/+vXslFAHjf/Cwvi5/0TOP/wACf/r0f8LC+Ln/AETOP/wJ/wDr17JRQB43/wALC+Ln/RM4/wDwJ/8Ar0f8LC+Ln/RM4/8AwJ/+vXslFAHjf/Cwvi5/0TOP/wACf/r0f8LC+Ln/AETOP/wJ/wDr17JRQB43/wALC+Ln/RM4/wDwJ/8Ar0f8LC+Ln/RM4/8AwJ/+vXslFAHjf/Cwvi5/0TOP/wACf/r0f8LC+Ln/AETOP/wJ/wDr17JRQB43/wALD+Ln/RM4/wDwJ/8Ar0f8LD+Ln/RM4/8AwJ/+vXofjLxVD4R0UXslvJd3E0q29raxHDTyt91Qe3uewFYemav8S3v7Z9X8MaOtjM4Ei21+3nQKe5yNrY9BQBzH/Cw/i5/0TOP/AMCf/r0f8LD+Ln/RM4//AAJ/+vXT+JfiGnhPRdf1DUpdOmNjOIbK2huMSSMVU7ZM/dbJzgfw1P4T8bC70Fb7xTqWhQSTO5hNhdF4iigZ+ZupGeaAOR/4WF8XP+iZx/8AgT/9ej/hYXxc/wCiZx/+BP8A9evSJ/Gvhm2sIL2412wjtrkEwytOoWQA4JHryCK0f7UsBpp1D7ZB9jCbzceYNm313dKAPJv+Fh/Fz/omcf8A4E//AF6P+FhfFz/omcf/AIE//XrsX8e2d94z0HStCurPULPUUuTNPDJvMZiUMAMHvnvW3deK9A07UU0+/wBZsre8cgCCSdVY56cZoA8z/wCFhfFz/omcf/gT/wDXo/4WF8XP+iZx/wDgT/8AXr2IuoQuWG3Gc+1VodWsLjTDqMF5DJZhWYzq4KALnJz7YNAHk3/Cwvi5/wBEzj/8Cf8A69H/AAsP4uf9Ezj/APAn/wCvXr9vcw3drHcW0qywyqHR1OQwPQiuc8TeOdI0XT9TSHU7GTVbO1kmSzeYbmZVJAIzntQBwf8AwsP4uf8ARM4//An/AOvR/wALC+Ln/RM4/wDwJ/8Ar16TZeIrOPwpYazrVzb2EdzaxTO0km1FZ1DEAk+9WrLxBpGpaa+oWGp2txZx5Lzxygov1PagDyz/AIWF8XP+iZx/+BP/ANej/hYXxc/6JnH/AOBP/wBevUNK8TaJrskiaNq1pevH99YJgxX8qZB4r0C61U6ZbazYy3wOPs6TqXz6YzQB5l/wsP4uf9Ezj/8AAn/69H/Cw/i5/wBEzj/8Cf8A69dH4m+JCeFPDGq6lqEumXFzDdm3sbaG5I807lXDk9Cu7LY6AVoeG/GsE3h+C78T6rokFzMJJV+xXRaExq2Mhm64yM+9AHGf8LC+Ln/RM4//AAJ/+vR/wsP4uf8ARM4//An/AOvXpNz408NWdvbz3Wu2EMV0geBnuFAkU9COeR71oT6pYQaab+a8gSzC7jcNIAmPXd0oA8m/4WH8XP8Aomcf/gT/APXo/wCFh/Fz/omcf/gT/wDXrs4vHVtqPjXSdK0W4s76xvrW4me4hk3lGjK4HBx/F/KtmbxXoFrqo0y51mxiviQBbvOofPpjNAHmf/Cwvi5/0TOP/wACf/r0f8LC+Ln/AETOP/wJ/wDr17JnPSigDxv/AIWF8XP+iZx/+BP/ANej/hYXxc/6JnH/AOBP/wBevZKKAPG/+FhfFz/omcf/AIE//Xo/4WF8XP8Aomcf/gT/APXr2SigDxv/AIWF8XP+iZx/+BP/ANej/hYXxc/6JnH/AOBP/wBevZKKAPG/+FhfFz/omcf/AIE//Xo/4WF8XP8Aomcf/gT/APXr2SigDxv/AIWF8XP+iZx/+BP/ANej/hYXxc/6JnH/AOBP/wBevZKKAPG/+FhfFz/omcf/AIE//Xo/4WF8XP8Aomcf/gT/APXr2SigDxv/AIWF8XP+iZx/+BP/ANej/hYXxc/6JnH/AOBP/wBevZKKAPG/+FhfFz/omcf/AIE//Xo/4WF8XP8Aomcf/gT/APXr2SigDxv/AIWF8XP+iZx/+BP/ANej/hYXxc/6JnH/AOBP/wBevZKKAPG/+FhfFz/omcf/AIE//Xo/4WF8XP8Aomcf/gT/APXr2SigDxv/AIWF8XP+iZx/+BP/ANej/hYXxc/6JnH/AOBP/wBevZKKAPG/+FhfFz/omcf/AIE//Xo/4WF8XP8Aomcf/gT/APXr2SigDxv/AIWF8XP+iZx/+BP/ANej/hYXxc/6JnH/AOBP/wBevZKKAPG/+FhfFz/omcf/AIE//XqpqnxW+J+jaZPqOp/DuG3tLdN8srXJwq+vWvb64r4wf8kh8Sf9eZ/mKANfwXr0ninwVpWuXEKwSX9uszRochSeworJ+EX/ACR/wx/2D46KAOR+MP8AyVX4X/8AX/c/+0a9irxX44X9rpnxG+Gt7fzLBbQXly8kr9FH7nk13H/C2vAf/Q0af/32f8KAOyorjf8AhbfgP/oaNP8A++z/AIUf8Lb8B/8AQ0af/wB9n/CgDsqK43/hbfgP/oaNP/77P+FH/C2/Af8A0NGn/wDfZ/woA7KiuN/4W34D/wCho0//AL7P+FH/AAtvwH/0NGn/APfZ/wAKAOyorjf+Ft+A/wDoaNP/AO+z/hR/wtvwH/0NGn/99n/CgDsqK43/AIW14D/6GjT/APv4f8KP+Ft+A/8AoaNP/wC+z/hQB2VFcb/wtvwH/wBDRp//AH2f8KP+Ft+A/wDoaNP/AO+z/hQB2VFcb/wtvwH/ANDRp/8A32f8KP8AhbfgP/oaNP8A++z/AIUAdlRXG/8AC2/Af/Q0af8A99n/AAo/4W34D/6GjT/++z/hQB2VFcb/AMLb8B/9DRp//fZ/wo/4W34D/wCho0//AL7P+FAHZUVxv/C2/Af/AENGn/8AfZ/wo/4W34D/AOho0/8A77P+FAHZUVxv/C2/Af8A0NGn/wDfZ/wo/wCFt+A/+ho0/wD77P8AhQB2VFcb/wALb8B/9DRp/wD32f8ACj/hbfgP/oaNP/77P+FAHZUVxv8AwtvwH/0NGn/99n/Cj/hbfgP/AKGjT/8Avs/4UAdlRXG/8Lb8B/8AQ0af/wB9n/Cj/hbfgP8A6GjT/wDvs/4UAUvirFcQ22g65BbyXUWh6rHeXMMS7mMW1kYgd8bs/hWjZfFLwZqM1tb2OvW1xcXTBIoIyS5YnGCMcVC3xY8BNnPijTiD6uf8KrRfEj4bQzGWLXdISQ9XUAE/jigDhPFFtBN4Z+KDTxpI0esQMhZc7SVh6Z6dTXUeKfD2lXfxF8G2E1hbmzRbmX7OIwELBAQSBwecHp2FazfE34cusiv4h0pllbdIDzvPvxz0H5U8/FL4fNMkr+JdNaSMYVi2Sv0OKAOL+IV3bWvjaHR1uPD/AIbtbexWSO+1DTxOZgztmOMH5QBjJHX5q5ixLyfByEX5ku9Fs/FitqIigMYazD5Y+WPupkqdvYV6vP8AEz4c3TK1z4h0qUocqXw2D+IpU+J3w8jieNPEelqshJdQeGJ6k8c/jQBx1lfeEb/46eGZvBQtmUWV2J5rRMRN+74HAA3D88YrJtb7wXZeGvFFh42ig/4SKW9uTJHPHmebcx8kxnGSMFcYr0SL4k/DeAoYNf0mMx52FeCueuOKWT4lfDia4WaXX9JeVfuyNyy/QkUAbngaG+h8A6JHq+77atnGJt/Xdt715pqi3Wna7qPwzto3W31y+S7tJFHypaSZa5X22sjf9/BXcD4teAwP+Ro0/wD77P8AhXJ6J4p8H2ni+78R698QrHVbx4jbWaeWIktIS24qAM7mJxljzxigD1iG3W1tUgt1CJGgRF7AAYAr50N14Nt/hNrml+IIIv8AhLw92bqOSMm6efzGKuDjO3bt5HGBXr5+LXgPHHimw/77P+FVX+JHw3kmaSXX9JaRhtZ25JHpnFAHA+OILtrPwBcT6jb6bpSaYoe6u7MXMEUxjTbvQ8DIyAT0qLS9G0K80Lxa1/43sbuwvYIY7mXTNP8AJit2EmVcqpwxJwCOOO9ejt8UPh49uIH8R6Y0IAXyyflx6YxSRfEz4cwQmKDxBpUcZ6ovAP4YoA4fTNbivTrOjeGItC1DUn0K5Nrq2hW7Q7HC4SN1JIBJIIw3bpWt8PNT+HA0fQNPtY7KPXVVFMEkP+krchfnZuM5zk5robf4mfDm0BFr4g0qEMckR/Ln8hQvxM+HKXBuE8QaSsx6yD7x/HGaAOB160t7j4d+LnnhSR4/E0QRnXJXNzCDj6jIrpvEPh3Sbz41eFrKexga0h0y7lS32ARlgyYyvQ8nP1Ga2D8TPhy0bxt4g0opI291J4Zs5yRjk5Ap5+KXw9adZm8S6aZVBVX3cgHqM4oA4Px3fW6/EC80hrvw94bgsrKEQ3N/pguJbxW3HbHn5QqnIwOcn3rK0uRW+C/haXXC1zotp4gk/tD90QvkLJKF3J2QNt47YFenTfEz4dXEivP4h0qRk5Vn5K/TIpV+J3w7WFoV8RaWImySmflOevGMUAcjo134Vvvjtpk/gsW5hOlTrPNaJtidgRgDHBYDqR2KjtXMW114Ot/hbrGleJYIj4zeW5E8UkZN1LcmRjGynGSMbMEelepxfEr4cQMjQa/pMZQEKU4256449hSv8Svhw9wJ31/SWmXpI3LD8cUAdP4ZS8i8J6Smqkm+WyhFySeTJsG79c1qVxg+LXgIDH/CUaf/AN9n/Cl/4W34D/6GjT/++z/hQB2VFcb/AMLb8B/9DRp//fZ/wo/4W34D/wCho0//AL7P+FAHZUVxv/C2/Af/AENGn/8AfZ/wo/4W34D/AOho0/8A77P+FAHZUVxv/C2/Af8A0NGn/wDfZ/wo/wCFt+A/+ho0/wD77P8AhQB2VFcb/wALb8B/9DRp/wD32f8ACj/hbfgP/oaNP/77P+FAHZUVxv8AwtvwH/0NGn/99n/Cj/hbfgP/AKGjT/8Avs/4UAdlRXG/8Lb8B/8AQ0af/wB9n/Cj/hbfgP8A6GjT/wDvs/4UAdlRXG/8Lb8B/wDQ0af/AN9n/Cj/AIW34D/6GjT/APvs/wCFAHZUVxv/AAtvwH/0NGn/APfZ/wAKP+Ft+A/+ho0//vs/4UAdlRXG/wDC2/Af/Q0af/32f8KP+Ft+A/8AoaNP/wC+z/hQB2VFcb/wtvwH/wBDRp//AH2f8KP+Ft+A/wDoaNP/AO+z/hQB2VFcb/wtvwH/ANDRp/8A32f8KP8AhbfgP/oaNP8A++z/AIUAdlRXG/8AC2/Af/Q0af8A99n/AAo/4W34D/6GjT/++z/hQB2VFcb/AMLb8B/9DRp//fw/4Uf8Lb8B/wDQ0af/AN/D/hQB2Wa4r4vn/i0PiT/rzP8AMU//AIW14D/6GjT/APvs/wCFcp8T/iV4O1X4Za7Y6d4hsri5ntSsUSOSWORx0oA6n4Rf8kf8Mf8AYPjopPg+yv8AB7wyVIOLFAfqMg0UAcJ8fLC11Px18OrK/hWe3nurpJI26MD5PFav/Co/Ah/5lu1/76f/AOKql8bf+SlfDT/r9uf/AGjXoA6V4+YVJxklF2O7CxTi7nGf8Ki8Cf8AQt2v/fT/APxVH/CovAn/AELdr/30/wD8VXZ0hrzPbVP5mdfs49jjf+FR+BP+hbtf++n/APiqP+FReBP+hbtf++n/APiqbP8AFvwdbXDQz6k6OrlCDbydR2HHNb3h7xPpfii1luNGnaaOJtjkxsuDj3Aq3KvFXbZPLB6JGH/wqPwJ/wBC3a/99P8A/FUf8Kj8Cf8AQt2v/fT/APxVdlTJpo7aF5p5FjjjUs7scBQOpNT7Wp/MyuSHY5D/AIVF4E/6Fu1/76f/AOKo/wCFReBP+hbtf++n/wDiq7CGaOeBJoXV45FDI6nIYHoQaf060va1f5mHJDscDqXwY8GXtl5NppMNlJvVvOj3McAgkct0IGPxq3/wqLwJj/kW7X/vp/8A4quzpk0qwwvLKdsaKWY46Acmn7era3Mw9nDscf8A8Kj8Cf8AQt2v/fT/APxVH/CovAn/AELdr/30/wD8VWxf+MNB0vR7bVNQ1KOCzuseRIytmTIzwoGentWraXUN7ZwXdq/mQzxrLG2MblIBB59QabqVkrtsXLB9Dkv+FReBP+hbtf8Avp//AIqj/hUfgT/oW7X/AL6f/wCKrsufal71Ptqn8zHyQ7HGf8Kj8Cf9C3a/99P/APFUf8Ki8Cf9C3a/99P/APFV1Fvqlnd311Z204e4tConTBGzIyM8elW6bq1V9phyQfQ4z/hUXgT/AKFu1/76f/4qj/hUXgT/AKFu1/76f/4quzqC8vLewtJLq+mSC3iXc8shwFHqTQqtV7SYckF0OT/4VH4E/wChbtf++n/+Ko/4VH4E/wChbtf++n/+KqzYfErwhqeoRWVjrkMtxO22JNjrvPoCRiuqpynWh8TYlGD2Rxn/AAqLwJ/0Ldr/AN9P/wDFUf8ACovAn/Qt2v8A30//AMVXZ0ZqfbVP5mPkh2OM/wCFReBP+hbtf++n/wDiqP8AhUXgT/oW7X/vp/8A4quyz+dLmj21T+Zh7OPY4z/hUXgT/oW7X/vp/wD4qj/hUXgT/oW7X/vp/wD4quzzSZo9tU/mYezj2ON/4VF4E/6Fu1/76f8A+Ko/4VH4E/6Fu1/76f8A+Krss0fWj21T+ZhyQ7HG/wDCo/Af/Qt2v/fT/wDxVH/Co/An/Qt2v/fT/wDxVdXe3sGn2U13dv5cEKl5H2k7R9AM1maz4w0Hw/HbPrGopbC6GYQyMS445wAT3FUp1ns2Llguhj/8Ki8Cf9C3a/8AfT//ABVH/CovAn/Qt2v/AH0//wAVXT2ep2uovcLZy+YbWUwzDYRtfAOOR71c70nVqr7THyQ7HGf8Ki8Cf9C3a/8AfT//ABVH/CovAn/Qt2v/AH0//wAVXZ0UvbVP5mHs49jjP+FReBP+hbtf++n/APiqP+FReBP+hbtf++n/APiq7Oij21T+Zh7OPY4z/hUXgT/oW7X/AL6f/wCKo/4VF4E/6Fu1/wC+n/8Aiq7Oij21T+Zh7OPY4z/hUfgT/oW7X/vp/wD4qvNPh/4H8Nat8TfGWnajpEM9pYXLJbRMWxGPMIwOfQV76a8g+F3/ACWLx/8A9fb/APoxq6aNWbpzu3t+pnOEeeOh1v8AwqLwJ/0Ldr/30/8A8VR/wqLwJ/0Ldr/30/8A8VXZ0Vze2qfzM09nHscZ/wAKi8Cf9C3a/wDfT/8AxVH/AAqLwJ/0Ldr/AN9P/wDFV0et65YeHtMbUNVlaK2VgpZULck+gFcuPjB4LZiq6m5YdR9mk4/Sri68ldNktU1uiX/hUXgT/oW7X/vp/wD4qj/hUfgT/oW7X/vp/wD4quvgnS4top4TujlQOpIxkEZFP6VHtan8zK9nHscb/wAKj8Cf9C3a/wDfT/8AxVH/AAqLwJ/0Ldr/AN9P/wDFV1kt7bW9zBbzzxxz3BIhjZhukIGTgd8Dmps03Vqrqw5IPocb/wAKi8Cf9C3a/wDfT/8AxVH/AAqLwJ/0Ldr/AN9P/wDFV2dH1pe2qfzMPZx7HGf8Kj8Cf9C3a/8AfT//ABVH/Co/An/Qt2v/AH0//wAVXUanqdro+mXGoajL5VrbpvkkIJwOmeKsqwdFZeQwBHHrT9rVte7DkhtY47/hUXgT/oW7X/vp/wD4qj/hUXgT/oW7X/vp/wD4quz+lFL21T+ZhyQ7HGf8Ki8Cf9C3a/8AfT//ABVH/CovAn/Qt2v/AH0//wAVXZ/54pKPbVP5mHJHscb/AMKi8Cf9C3a/99P/APFUf8Kj8Cf9C3a/99P/APFV1d9ewadYzXl5J5cECGSRsZwo6nFVdK1/Tda0NNX065WWydWcS4IACkg5z6YP5VXtKzXMmxckFoc9/wAKj8Cf9C3a/wDfT/8AxVH/AAqLwJ/0Ldr/AN9P/wDFVvaB4j0vxRpz32iXIubdJTEzhSPmABI5+orVpOrVTs2xqEHsjjP+FReBP+hbtf8Avp//AIqj/hUXgT/oW7X/AL6f/wCKrs+1ITil7ap/Mw5Idjjf+FReBP8AoW7X/vp//iqP+FReBP8AoW7X/vp//iq7Oj/PSj21T+ZhyQ7HGf8ACovAn/Qt2v8A30//AMVR/wAKi8Cf9C3a/wDfT/8AxVdlmjNHtqn8zDkj2ON/4VF4E/6Fu1/76f8A+Ko/4VF4E/6Fu1/76f8A+Krsv89KM/jR7ap/Mw5Idjjf+FReBP8AoW7X/vp//iqP+FR+A/8AoW7X/vp//iq6g6lajVl00yEXRgM+3acbN23OenWsO1+Inhm9nmjs9SE5hdUdo4nKgswUc455NUp1mrpsXLDsU/8AhUfgT/oW7X/vp/8A4qj/AIVF4E/6Fu1/76f/AOKrshyPwzRU+2qfzMfJDscb/wAKi8Cf9C3a/wDfT/8AxVH/AAqLwJ/0Ldr/AN9P/wDFV2dFHtqn8zD2cexxn/CovAn/AELdr/30/wD8VR/wqLwJ/wBC3a/99P8A/FV2dFHtqn8zD2cexxn/AAqLwJ/0Ldr/AN9P/wDFUf8ACovAn/Qt2v8A30//AMVXZ0Ue2qfzMPZx7HGf8Kj8Cf8AQt2v/fT/APxVc58Qfhn4O0r4f6xfafoNvBcwW5eORWfKnI5616tXJfFH/kl2v/8AXqf5itaVao5r3nuiakI8r0Og+ECqnwe8MhQADYofxOTRS/CL/kj/AIY/68Eor6Y8g4v42/8AJSfhp/1+3P8A7Rr0AdK8/wDjb/yUn4af9ftz/wC0a9AHSvEzL44+h6GE+FhRRSDpXlHYcV8Qj/xMPCfPH9tQ59Ohrldf8U+ItU8W6tZ6YdegtdNlEEf9k6ek+5toJLlu/PAr0nW9Ag1ubTpLiWSM6fdLdJsH3mXsfasvVvAkF9rM2qabquoaPdXOBcmykws2OMkEEZxxmu6nWgklIwlB390wp9b8SwfDm28TX7yafe6U7Pd2t5H5QvYgcYIP3WYY24/i471EbrU/FXwu8Q65PqTwR6hbO9tbQlSLaNOdh9WbBB9M11D+C7aeHS7e+vry9ttPlM/lXMnmfaJezOT1weg6dKntvCllaTassLuLTVQTNaceWrEYZl9Mg80vaU0tA5ZM4uOTV/BvwwhvYNamvri/S0gtftSKEtC/GRgDIwe/oPetBG8Q+D/FmiWup+IJNastXkeCSO4gSNoZAu4MpUDjjnNaln4Ato/D95ompanfalYXCoscdw4BtgmSuxgM8cHPsKXRvAVtpmtQapfapqGrXVrG0dqb2XcIA3XaPUjjPWm6lN3vb7v62BRkT+O9bvdE8Oq2lFFvLq5itYpHGVjLtjcR3xVaz0bXdBs7+5v/ABRcaqv2SRvLmt0TZIASGUqPbpW9rmiWXiHSJdN1NC9vJg/KcMpByrA9iDWRpHg1tOW4W517VNRWWBrdFupdyxqepAA5PueayhKChbr+ZTTucFc2ereJJvAN4/iC8t7i7tOWjVSVkEZJkHHU5x9BXQR2/iPWvHmt6ZD4knstP09bXHlxIzuzRgnkjgE5JrorXwfaWsegIk8rjQ4ykOcfOCu3n8KvWOhwWPiDU9Vjlcy6kYvMU4wuxdox+HWtJV09uz/MlQaZ5b4s8Wa1DqGs33h7VdduY9NeTAt9LRrKLy85R5DyQMcntXR3Wsaz4s1fRtL0nUjosVxpSancTRRq7tuAwg3cAc8mrd98MLO8/tCJNX1O3sL9pJJbCKbEQd8knHXGTnb0NXb/AMA2d3Z6UtrqF5YXulW62sF7bOBIYwoG1uxBx0q5VKVlboJRmcppOoal4Xfx7e31yuo3mnxxukxTb5uI/lLAdPfFTTS+KvC9jo/iG+8SNqcV5cQR3dg9uioFlOP3ZUZyM/pXUaL4C03R4dViaa4vk1ZQLsXT7zJ8pU5PXnP6VS074Z2Npe2cl3qupahaWEgks7K5n3RRMPunHfHbNL2tO7f9PToHLJHVW8N8mpXklzcJJaSBPs0Sx4aPAO/Ld8nH0xXIfEtEuZPC9lfY/s661iNLoMflcBWKqfbIH5V11tZSQ6leXT3ksyXATZA+NkO0HO3vzkZ+lR67odj4j0mTTtUi82CQhuDhlYdGB7Eetc8ZxjO/Q0abRdNvCYkjMKGNMbFKjC46Y+lP+lcjp/gWayvYZpvFGt3cMDhkt5LjCnHQMQMsPrWnoVrq8esa5datOxt7i6UWNvuBEUSoBu46bjk4pSjF6qVxxuuhj+KrvV9Q8Xab4a0fUzpSzW8l1cXKRq8hVSAFUNxyTyaytP1DxBp9z4ysdS1lr59M08SWs+wIRmJmDEAYDdPbj3rqfEnhK38RTWtyLu60+/syfIu7R9roG+8PQg46GsPwr4VbSPFniKK4S6urS8ghDXV4xY3LFSHyx68HGOwAreM4ez6f0zOSlzEep67qMPwp8O6lHest5djTxLNxlzJs3/nk1leMvFGu3HjS50TSv7YhtbKFHdtKsVnd2bJ+Yt0HHHrWsvwosRBb2smtapNaWc8c1pbSzApDsYEADv0xz0Ga2Nd8FW+saqup2mo3ukaj5Yie4sn2mRAcgMDwcdqqM6MX94NTaIvh7qWuajoMv/CRW13FPBO0cUl3b+TJNGMEMV6Z7cVEden0Lxzqtlq9yTYz2P8AaFmz4AQJxIgP4g/nW9oej/2LYfZ2vru/dm3tNdyl2P8AgPas7xh4KsvGMNml7NNbvayMyyQnDMjLtdD/ALLDrWKlT9o+bZlOMuXQ47U/Fmv6Z4B0m5U3L6lr18RGYoBJJBE25gqJ0LbQAAe+aPC+teKodUuba/i12bT5LKWQXOq2CwNBKq5G0rwQfTtxXea74asNf0aPTrpXiSFle3khYo8Dr91lPYjJqjpXg57CSeS717VNRMsLRBbmb5VDdTtHBPuf61p7Wnyu61J5ZN7nIWUnicfDGXxVf+JJ5Jm01nitkhRUQ4+VicZLd/So7/RdS1b4maTJF4kvbJ7nSTKjRIn7nAQMq5HRiMmu8/4RW2/4Qf8A4RjzpPs32X7N5uPnK46/WpI/DlvFrljqgmkMtlZm0RT0ZSQc/Xij28Ve24OD6nn0HiLxBpmjappqaq15f/8ACQDS7a9ukX9ypC5bAwM8niuvsdM1XwxZX97rPiua/to7ZpGa6t0XyWAJ3/LjI9qkm8B6VdWWrWl20ssep3pvWYNtaGTAAKEdCMcGm6d4IS3tLy21TWdS1eG7t2tmS7myqoRg4AHX3PNEqkJarT5CUZI8/wBM8Y69ZeINFna8169sNSvobWSTUtMS3gdZThWRhz3yPUV69DDfrqtxLPco9k6KIYRHhkYZ3Et3zxXIw/DC2SbTmutc1W9XS7qK4tIribKx+WQQuPfAGTzXWwWMsWr3N417NLHMiqtu2NkZGfmHuf6VFeUJfB2LgpJ6l2iiiuU1CiiigYn+NeQfC7/ksXj/AP6+2/8ARjV6/wD415B8Lv8AksXj/wD6+2/9GNXVR/hz9P1MZ/HE9gooorlNgrzeTVm0DxL4+1aOMyvZ2UUyp6kIcZ9s9a9IrEj8MWS6prF3MWnGrxLFPDIPl2hSuPxBNb0qihe5nONzy/TfEnjdbuxv0h8R3rTSRm4trjSlS2MbEbirDkYByD7Vv+LfFGr+FfFH9j297DP/AG8B9hedwDYPuCksO6c5BPcYrZsPh4NOuIBB4i1r7BbuGjsjc/IoByFz1I4AwTjFX38E6ZdNq76luvZtWwsskuN0aDlUTH3QCAfrz2rpdWlzbGSjK1jkfGHh/UZvGXgq2j8RXsUpS4i85FQsHWPLSdOpBAPbAq9fvr+qeMYvCNhr81hFp+mpdXN8Ikea5ZmKgYIwBxnjua3NU8FpqulaZbTareRXumNut7+JgJRxtOexyMZ+lRar4Eh1JrG7Gr39rqtpbi2/tGBwss0ec4fjB5yfxqVUg0r/AJByyG+A9X1O6fWdH1u5F7daNeC3F4EC+ejKGUkDjcM4OKoeIX17UviVHoek65Jpdo2lieVo41ds+YRlQe/bmum8N+GrLwxp8ltYvLM80pmuLiZ90k8h6sx/AVzPiDwpca78TEuxPfafHDpQWK/tW27JPNOVz0PB6Goi4Oo30KafJYwtZ1HUz4B8daDrV4NQn0hEVL0oFaVJFDLuA4yOlXfGWtX6ana6dpOp62k8dqkklrpGnLOy56M7N06cD2roYvh/p8XhPUtE+03Uraplru9lbfLKx7k/pinar4Fh1DVhqFnq2o6ZO0KwTmzl2+ci8DPHB68itI1aaZLjKxxzeMPEN/8ADWxuYbhrbVRr0enPLLEFL/vNvzp2J4yB71v6e2u+HfH1npmp67JrFpqdtNJiaFEMUkeD8u3sQcY5q7afDzTbLRIdKguLjyIdVXVFLNli6sG2knqMjr1rcutDhu/EdhrDyus1jHLHGg6MHABz+VTKrTu0lpqPll18jgIpvFniDQ9S8U2niRtPW2lm+zWCwIYtkRIw7EZycc4rtNGvtR1yw0TV4po4LSa3Ml3bmMkuzL8uG/hwc/Wse9+GNjdXN2INV1Kz0+9kMl1p8E22KVict9Ae+K6UaT5V5pz2l1LbW1jG0f2SPGyUEADPfjHGO5qas4NWX/DaDipJ6lLxx/yIetf9ecg/SvMrWefRdN/4RC1DqPEkVvcWLAHCeYAlwM9sbd3/AAKvX9W06PV9IutPmZkjuYzEzL1AIINJZ6RaWdrZReUkz2UQihmkQF0GADg9s45xU06sYQa31HKLk7o5D4UW0dppfiG3hUKkOv3aIAOgAQV3M8ogt5JmyRGhY49hmuTu/C99pXhzVLTwvcyJd6pqDXbTFlUweYw3kZ64A4FdaisqKGO4gYJPepqtOXPfqVFNKx4/c33jG7+Gt344i8Tm3eaF549PSBPKij3EABsZ3ADOT34rso9Vvj458PWLXLG3udJlmlj4w8gKYb9TWB4r+GENv4U1eHRbzVJLZo3kt9IjlJh8w88L1xnnHTNdLqPg+PXNN0iZry70vULCBVjubdtroCoDKQRyOOh710TnSa3XUySkZ114pvdKvvGt0ztcxaTbpLbwdlbyye3YnGa4/TPEnjdbnT9Qii8RXzzyRme2m0pUtmjYjdtZfmGBkg16JongbT9HGqB5ri/GqqFu/tbbzJ8pU5PuD0qpYfDxdOngWDxHrX2G3YNFZfacIoByFzjJXtg9qFUpRTSBqbZv+I4b6fw1fx6TO0F75JaCRRyGHI6/TB+tcn/wl1z4iPhOx0mZobjUf9LvioBMUMQw6n03OQo/Gu+Fc14e8Dad4b17UtVs3lklveFSQ/LAm4uyJ6Ascn3Fc8JQUXzfI0kpXOA1PxX4n1rXtV/sw+IILaxunt4F0rTVnjJUcl2bnPsO1a1zrHivVB4NtRcy6Hfaktyt6HgG4bAPm2N0PcD3rodQ8AQXGrXOoaVq+o6RJeMHuUs5cJKw/i2kYB6citCPwpbpe6Nctd3M0mkLIsbTPvaXeu0lieSeK6JVqVlZGajLW7ObvI9Xj15vDja/duv9gvK1yUXeZPNPzYxjOOK5LRbHWtE+GmgazZeKb9IpZ4ENlsj8sK8uCM4z616zPoFvP4kOstLIJjYmyKD7uwtuz9eaojwVZ/8ACH2Hh37RN9nsnidJONxKNuAP40o1opJfoP2ephufEHi7xXrVtYa/LodjpEqQKlvAjvI5QMWbd0HPApnjbVNR02HS9LTWdUbUWhLTJpOnrPLPtwC5B4Rc/qa2dX8CW+o61Jq2narf6Rd3Cqtw1lLtE4AwCwPfHGetGp+BYb77BNaatqVjeWMH2dbuKbMksfGQ5bqcjOfWkp0+aLf3WFyy5XYy/AOu63r+ha1Y3M08Wo2ExggnvrYJIMpuUyRjuM9B1ru7ZZUtYkuXEkyoBI6jAZsckDtzXN6N4Jt9DsdXt7DUbwSao/mPcyPukR9u3cCe/Ga6O1iaCzhieVpmjjVTI/3nIGMn3NY1pRlK8TWCaVmS0UUVgaBRRRQAVyXxR/5Jdr//AF6n+Yrra5L4o/8AJLtf/wCvU/zFa0v4i9UZ1PhZ0Pwi/wCSP+GP+vBKKPhF/wAkf8Mf9eCUV9WeMcX8bf8AkpPw0/6/bn/2jXoA6V5/8bf+Sk/DT/r9uf8A2jXoA6V4mZfHH0PQwnwsKKKK8o7QooooAKSg1wvxZl1AeHtKt9JvJbO4vNYt7fzYmwwDB+PzxV04c81EmT5Vc7qivLfEviu+1T4d6XbabcPbavfhxcPE3zQrApaY59cqF/4FXS6XPrl38O9IbSTHJf3VvGHurh+IQV5cjqx9B6961dBqN2yFUvsdbmlrk9N0LXPDuowtaanLrFjOQLuK9cCSNu8sbYx9UP4GquoeIE0j4pXY1K++z6dDoCTsjt8oc3DLkL3OABUqjzOydx89lqdtRWboepzavpq3s2nz2CykmKKfG9k7MQPu5646+tUNW8d+G9D1F7HVdUjt7mMAtGyMSMjI6Co5JN2SK5l1OhpKwtG8beHvEF8bPR9SjupwpcoqsOB35HvUHj7xHP4Z8IXF9YRLLeyOlvaq/wB3zHYKCfpnOO+MU1Tk5cttQ5la6Olorh4PAGpKqXFz4y1k33DPJG6iPd7IRjb2rtJJBDbtJIeEUsx+gpThFOydxKTtcfRXE6D4hlt/AGo+L9SMtwk3m3qQq33YVyFVc9OFH4mq6/Fezjkt5L/QdYs7O8XFndPACtw+MhFUHOT29a09jNt2J51bU76iuU0bx5bajc6ha6npt5olzYW/2uSG+UAtByN64PIBGPrVCy+KNrcXNq13oeq2Om30gitdSuIgIpCfukgHIB7euaXsanRD9pE7rNLXH6r8QoLHXrnTLHRtT1U2QBvp7OIMltkZweck45wKX4XajNq3w8s725nkuHlmuCJJDlivnOBn8MCh0ZRjzsOdN2R19Fcfrfj4aV4km0O00TUNUvkt0uFS0UEFWJByT90Db1PrViDVk8b+CbuXS2utOuWEkW2QbZbadDnBx6MBn1FL2Ulq0HMjp+lLWL4S1o+IvCWnaoy7XuIQZF/uuOGH5g1tVEk4ysy07q4UUUVIwooooAKKKKACiiigAooooAKKKKAE/wAa8g+F3/JYvH//AF9t/wCjGr1//GvIPhd/yWLx/wD9fbf+jGrqo/w5+n6mM/jiewUUUVymwUUUUAFFFIaBBRXA3z6p4x8canolpqtxpWl6PFEJ2tMCS4lkBIG49FAHPvXQaD4eufD5uWGsahqkbqPLgvHVvLYc/K2B1z3raVOMVq9SFK70N80lcXJ4d8UX8j6xNrZsdTVt1tYxHdaxKP4H7uT3bt26c3fEepyWvhS1utXgntJnuYEkitJxlHLgcN3XPP0pOnqkmCkzqKKY8iwws8h2qiksfQCuU/4Wl4M/6DkP/ft/8KlQlL4VcpyS3OupKoaPruneILH7Zo9ytzAHKb1BHI7c1wHxL1HV9P8AF2kSaPdSoLS1lvpbdGws6xOpZSO/ybqcKTnPk2JlKyuendKK8m+JfiO+vGtT4evpbe0sYre8uJIXx5pnmRI0PttLt+VeryOsUTuxwqgk/wA6qVJxSb3YRmpNj6TNcVoXiCWHwTqfizUPNuFmeW5SDdwsSfKirnpwoP1NVl+LFlG1tNf6HrFrY3gxa3ckAKzvtyFAznJ7etP2M27RDnSO/pK5TRPHlvqN7e2eq6ZfaHc2lt9raO+QDdDnG8EE+nIrPtPinaXFxayXGh6rZ6VeyiK21OeICJyThScHIBPQ1Psaj6BzxO7orktY8fR6frs+l2Gi6lq8loqteSWUQZbfcMgHJBJxzgUnwz1OTWPBi3ss8lwJLuco8hO4p5h29fam6Mox5mCmm7HXUVyWt+PU0jxHLodto2oanfLbrOkdooO4EnqScKBjqfWp7TV4/G3g29ewF1ptyVkgZJBtltpl7HHocUvZSST6Bzq9jpxRWN4R1h9e8J2GoTjbPJEBMvo44b9Qa2aiScXZlp3VwoooqRhRRRQAUUUUAFFFFABRRRQAUUUUAFcl8Uf+SXa//wBep/mK62uS+KP/ACS7X/8Ar1P8xWtL+IvVGdT4WdD8Iv8Akj/hj/rwSij4Rf8AJH/DH/XglFfVnjHF/G3/AJKT8NP+v25/9o16AOlef/G3/kpPw0/6/bn/ANo16AOleJmXxx9D0MJ8LCiiivKO0KKKKACuU8e6Ve6rDoK2EDTG21u2uZQD92Nd2WP0zXV0YqoS5ZXJaurHEXHgC3srrxBqtjLLPc6haSRQWzABYC/Lbf8AeYCt/wAJ2c9h4P0u0vIzHPDbIkiH+EgcitfFLVSqynGzEopPQK878U+B7rxF8Rv7SiZrb7NpMf2O7xuRbhZ3bay9xg8/WvRKTFFOo6croJR5lZmXoF9qN9pgOtae1hfRsY5kDBkcj+ND3U9eeR096x9d8H6lq+rSXlr4lnsInVQIEtY3C4GOrc11mPU0tCqNS5kHKrWZy3h3wlqOi6mbq88QzalGUK+TJaxxjORzlee361a8a+Gz4q8K3OmRTi3uCVmt5iOElQ7lJ9sjB+tb9GM0e0k5KXYOVJWOGt/FHjdYo7W48D77xcK866giwMf7+cZx3xXZ3ERuLKWH7pkjK/TIxUuKXFOdRSd0rAo2R5tpVncX3wQv/D9tEXv7O2n09oehLrkD8wQfoa2Na0a+utP8Hxw25ZrDUbaW4Ax+7RYnVj+BI/OusitYYJJXhiVHmbdIyjG84xk+9SY/Gr9s0213J5NNThvEPhi91rxpfsiGO0uvDr2QuM/KJTNkKfw5/GsaW18Ya/o2m+F7/wAOx2EVrLD9q1H7SrRskRByigZycfhmvU6THvTWIa6A6aZ54tv4o8JeJdbGjaCusWerz/aoJ/tKx+RIVCssgI+7kZyO3v01/hnpN/ofgCysNXh8m7jkmMiDpzK7Aj2IIP411gGKMen4VEqzlG1gjTs7nMWWl3cfxP1TU3hItJ9OghSXjDMrsSPwBFVdEWTwxo3ia/1eIwQ/brm7Un+JD0I+vpXYkVFc2kF5C0N1Ek0TEFkcZBwcj9aPau1n5fgPlMD4faZPpPgLS7a8XbcGLzZF9C5LY/8AHq6WjFFZzlzNspKysFFFFSUFFFFABRRRQAUUUUAFFFFABRRRQAn+NeQfC7/ksXj/AP6+2/8ARjV6/wD415B8Lv8AksXj/wD6+2/9GNXVR/hz9P1MZ/HE9gooorlNgooooAKKKKAOE1TTtf8ADXjS88QeHNOTWLPU4o1vbITCKVHjyFdCRgjBIxW74d1fW9VmnbV/D50e3RR5RkulkkkbvlVHy/nW7ilxWzq8ys0Qo2YVxvxNdB4YtYy6h5NRtQik8t+9XoK7Ks+/0HTNUvrO81C0juJ7Ji1u78+WTjkDpngVNKSjJNjkrouyIZYHRW2FlIDAZKnHWuE/4V3rP/Q6XX/gDDXfUUQqSjsJxUtzJ8O6Pc6Lpn2W81J9Rk8wt5zxLGcHHGF4rK1XR7q8+JOj3wty9jFYXEM0nZS2MD8a6vHrRj1oVSSk5dWDirWPNNW+Hb6R8P8AUNM0VptQubq+t5hvwGWNJkIQeyqDXo1xF59tLETjzEK5+vFSkUmKcqspLUFFLY840m0ubv4N6loFvEX1CyjnsDCOu8E7R+KlT+NauuaLfXWkeFobe3LNZXlvJOo/5ZqqkE/ga66O1himlliiVHmYNIyjBcgYGfw/lUmKt1nfT1J5O5xniLw3d614xkZVKWk+hTWZn7JIz5A/rXOvZeMda8O6d4QvvD0dnFbtCl1qf2lWjaOMjlFHOSFHHavVcUYojXaS02D2aPP3i8S+FfFmtTaNoI1q01iRJ4pFuViMMgQKVfI6cZyK1fhtpOoaJ4Njs9ZiWK8W4mZ1X7p3SE5Hsa6w0hGaUqzlG1v6QKFnc5m00y7j+J2pam8BFpNp8MSS8YZgzEj9RVXQ4ZfDtl4ovtWT7PA15LdKxP3o9o5H5V2GMCo7m1hvLd4LqNZYX+9G4yD9RS9o3o9tPwHyHP8Aw9sJtP8AAunpdqUnmUzyIf4S5LY/WuloAwKKzlLmk2UlZWCiiipKCiiigAooooAKKKKACiiigAooooAK5L4o/wDJLtf/AOvU/wAxXW1yXxR/5Jdr/wD16n+YrWl/EXqjOp8LOh+EX/JH/DH/AF4JRR8Iv+SP+GP+vBKK+rPGOL+Nv/JSfhp/1+3P/tGvQB0rz/42/wDJSfhp/wBftz/7Rr0AdK8TMvjj6HoYT4WFFFFeUdoUUUUAFFFFABRRRQAUUUUAFFFFABRRRQAUUUUAFFFFABRRRQAUUUUAFFFFABRRRQAUUUUAFFFFABRRRQAUUUUAFFFFABRRRQAn+NeQfC7/AJLF4/8A+vtv/RjV6/8A415B8Lv+SxeP/wDr7b/0Y1dVH+HP0/Uxn8cT2CiiiuU2CiiigAooooAKKKKACiiigAooooAKKKKACiiigAooooAKKKKACiiigAooooAKKKKACiiigAooooAKKKKACiiigAooooAKKKKACuS+KP8AyS7X/wDr1P8AMV1tcl8Uf+SXa/8A9ep/mK1pfxF6ozqfCzofhF/yR/wx/wBeCUUfCL/kj/hj/rwSivqzxji/jb/yUn4af9ftz/7Rr0AdK8/+Nv8AyUn4af8AX7c/+0a9AHSvEzL44+h6GE+FhRRRXlHaFFQXd7a2EPnX11DbRf8APSaQIv5mnwzw3MKy20qTRsMq8bBgfoRT5Xa5N1exJRSA0tIYUUf/AK6TrQMWij270lAhaKKQ896AFoqL7TB9p+zedH5+3f5W8btvrjrj3qTNAC0UdqKACijrzUUlxDFNFDLNGksxIiRmAZ8cnA749qAJaKB39utFABRUc9zBbRiS5mjhQsFDSMFBJOAMnuTTyaOgC0UlGaBi0UmaOtAC0UUmaAFooqpY6nZ6kZ/sM6zC3laGRlzhXXqM98Hg4oFct0UUUDCiiigAooooAKKKKAE/xryD4Xf8li8f/wDX23/oxq9f/wAa8g+F3/JYvH//AF9t/wCjGrqo/wAOfp+pjP44nsFFFFcpsFFJkDrVWbVNPgvFtJ762iuW+7A8yhz9FJzTSvsTdIt0UlLmkMKKTPGaM80b7DFooooEFFJRmgYtFGaiguIbqES200c0ZJAeNgw44PIoES0UmaXp1oGFFFFAgoqKK6gnaVYJ45WhfZIEcHY39046HkcVLRtuMKKOtRC4gNybcTxmdVDmLeNwXOM464oES0Uh4ooAWikzxS0AFFFJ15oAWij0x3qrqGo2ml2Ml5fzrBbx43Ox6Z4H48imk2BaopqMGUMvQjI4xTqQBRRRQMKKKKACiiigArkvij/yS7X/APr1P8xXW1yXxR/5Jdr/AP16n+YrWl/EXqjOp8LOh+EX/JH/AAx/14JRR8Iv+SP+GP8ArwSivqzxji/jb/yUn4af9ftz/wC0a9AHSvP/AI2/8lJ+Gn/X7c/+0a9AHSvEzL44+h6GE+FhSUtHf0ryjtPOrDRbHxl8QvENx4igW9j0mZLWztpvmSMFAzPt6EknrTtI0638JfFV9I0UGHTdR017trRWOyKRHVdwHbIatPWPCOqJ4hm13wnq8emXVyirdRTw+bDNt4VsZGGA4z7VQ+H9hfvq+r6h4qWdtfR/szu0e2EQ5yvlHoVPU+9egpLlve6tsc+t7Imh8Yai/wAHD4pZYvtwt3kAC/JuEhUcfQVS8afEdtCvtP0u3urGwnuLQXMt1eq7IgOAFCqCSep5wMVBc/DbxC/h668OW3iOGPRGLGCH7L+8ALbgjPnlQfzrc17wZe3epWWraFqMVlqVtbfZZDPAJYp48g4K9uR1qV7GLV3vcT52tBnw88bHxfb38U8lvPNYSqpuLUOI5lYEhgGAIPB4pniPxD4ii8eWnh7w7HZsLnT3uWluc4iKvjdx1+nqa3PDematp1vOddv7a8nlcMDbWwhVAB0xk569a5LxNp+q33xisW0PUBp93DokjpK8W9G/fAbGHGQQSfwBqYqDrO2w3dQ1JR421m08PeKoNVgtl1vw9GshaLLQzLIpZGAPsDke1b+ua/dabY6HLb+WWvrqGGXIzgOMnHvWfpvgJ/7J11fEGofbtS15Ql3cxx7FVVXaiqvYDJP41STwR4oupdJGs+I4Lq30u4jkiiitdm9VGMscnJxVP2Ld/wCtg98zvFXxRaw8V3ujWOpaXpi6ftWSa+jkkMzsNxChBwADjJqxZ/EjUdf8PaQNCs7c6vqVzJbFpGbyY/LHzSDjJGMEcZ5rU1bwXqyeJLzWPC2qW1m2obPtUF5aiZGZVCh15GDgc+uKdf8AgvVbzSdNlXWo49d06Zpo7xLYLE27IKmMH7uOMZqr0LKwrT1MrRbnWIfitcjxMtsJrfSd3n2udkibyc7TyCMciubf42TyQPqkF9pAgDFk0l1lM7oD037dobHOOnvXc6F4P1a28VT634i1aHUZLi0+zNFHB5aIM9FGemKoWfgTxLosI07QfEFnFpaMfJW4sBJNEpOdobIzjsTVKdFv3uyFyzWx3C6hCdHXUvmEJg8/J6hdu7+Vch4f1jxp4gjtNaig0u30q6cMlrJu83yc4zuHG7HOPwrtGtlezNtL86GPy2yOoxg1xujeEfE2hPBp9j4jgOh28gMcMlpumEe7Ozfn8M46Vy03HlZo7qxk+MviFe+H9cuII9a0G3EA3JaTeZJLIMZ+YqDsJ6Vbu9Zi1vW/AGsKvlR3SXE5U9swA/pS3Xw/1lNU1ZtJ1m0trLVZWlm8yyDzoWGCFcnp6ccVo6f4Jms7fwnG91HJ/YMTxy/If326MJx6dM810OVFRVnr/wAAj377FTR9c8Y+JguraTDptvpLSskMNxvMssauVLFhwp4OBW1o2u3V/wCNPEmlTiMW+mC18naOf3kZZsnvyOKx9P8AB3iTQpjZaF4igi0bzjIkE9p5ksSs25kV89Mk444zVjU/CWuL4ru9Z8M61DYHUYoo7yOe383cYxhXU5GDg4qX7NvdWK96xgatrt14g+Ha3d6EEsevrANgwNqXW0foBVrxv45vPD2tG3h1nQrJEjV0guhI80mR/EFB2D0P41bsfh9d2ngaLQX1FJZY9SF6bgofmHneZgj1pb7wNq//AAk+o6jo2r2trBqjK1wJrMSyxkIEOxyeOB371UZUb2ZMua2hWm8e6rqHh3wpqHh+yga412UxNDO2FUhWydw5wCpPuBTNX8S+KdI1Gx0i+vtFsp7iJpW1C6DRwOQwAjXJxu+pzV/RfAVxpWk+FLR7yOQ6DPLLIwUjzd4cAD0++OvpWn4l0fxDqM3/ABJtVsobZk2y217ZiZWPr1qb0VKytYdpNHP+KfiBfeF9H0iC/k0yLU9RL5uS7tbxovO/CgsScjA9fzqX4f8AxAfxNrV7pFzdWV/JbwidLuyR0R1LbSCrDggkevWkX4ZTW+h6Yljq/latps0s0Vy0AMR8w/Onl9AnoB0rf8NaRr1jPNN4g1O0uy6hY47W0EKpzyScknP9KJ+wVNqO4RU76kHjvxDceHtLgnt9Q0uwEjlWm1BmPvhEXlz7elc7oHxNutV8L+IbiCO11K90UIyyWiusU6uCQcEbgRtbIx2rf8YeEbzXdT0vVdKvbe1vdNEqoLq3E0TrIADlexG0YNUtE8Fa3pFz4gvP7djN/qy25SdLYKImjDA/JnBX5sAe1EHS9mr7hLn5tBPD+u65qWn3lxd6loeo2otHfdpspLwvjIUjP1546Vd8H3N43gvw3Jp1jbLbzRK1yA5XylKk7lHOTu9fzqjYeBtXfXZNW13VbOa4FpLaxizs/JD+YMEyHJLYwMDtzW1ouianomg6HplteQGOxRY7otGT5qhcfLzwc81NRwt7o4p31OhopO9LXGbBRRRQMKKKKACiiigBP8a8g+F3/JYvH/8A19t/6MavX/8AGvIPhd/yWLx//wBfbf8Aoxq6qP8ADn6fqYz+OJ7BRRRXKamL4v1SfRfBesalZj/SLWzlkiOPusFOD+Bwfwrl/D/w18M33g21fUtPjvry+tknuL2UkytI67twbqOTx9K7u7tIb6yntLuMSwTxtHIh6MrAgj8jXmms+H/HHhPwvNb+GNbF7p1uuEtzb5uo4c/MEbOGKjpxmuujJNcqdmZT0dw8P+KtTsPBuhxtKLmRvES6M80w3F4d7LuH+1hRzXYXuu3Nt8QdN0YBDaXFjPcSkr8wKFQOfTk1mT+CrPUPAGnaZoU8lg9pLFe2lxNGSyzKd251OCScnP1pNK8Ia4vjG21/xFrMF9JFaSWxhht/LQBipGBk+nJPXj0q5eyk2yVzI468+M073F1c2eo6RbQ20rJHY3KStNMFJGSyjapOOOvavWdI1GPWNFtNQiBSO6hSUK3UBhnn/PauNj8C+INIlmtvDmuWcGmyytIkV3YiaSEsckK2eRnpnpXdWsTwWsUUr+a6IFZ9u3djvjoKit7Jpcg4KXU82s/FXjnUvD91rdnZ6YtpYyzho5Qwe5WN2BI7LgDHuQa6O38WyahrnhhLRVWz1mwku3DD5lwqMoz2+8a43wr4Y8R6n4Qmg03X0stOvrq6W4hltt7xjznU+W2eAVAOPUk9667VvBlz5Oht4Y1BNPutFiMEDTReYjRFQpUjIP8ACK1mqXw6CXNuh8/i5tP1zxKl8qmy0eyjuV2jDNlSSM984AFcHafGi4820vLq/wBImt7iVFk06BJfOhViOQ5XazDPI6cHBNdppPga7S612bxJqa6kdbt1hnKx+XtwpB2jsOePpVfS/BvijSzbWKeIbKTS7Yqq79PBnaNT90vnGcDGcUR9grpifOySfX/FGs6/qdv4Yh09bPSpBDIbwtuuJNu4qCPugZxmud0vxqfCXwjsL+SKKO6vb6SFFuGPlxM0jFi5AJwAD09q6W88Ia9ba/f3nhjXotPttTYPdQy23mlHAwWQ5GCR+tQxfDgjwLZaI2osl7p9z9qtb5UyVkDEgkHrkHBFHNSUVfbQOWW5Q8FfEqXWPFkWiXl/p+p/aYXkjuLCOSPy2Xkq6uO46EV1HjHxFdaDZ2MGlWyXOpaldLaW0crFUBILFmPoAP5VD4e0PxJaal9o1/VrC6hWMqsVpYiLLH+Itk/l71a8WeGm8SafbpbXjWF9ZXC3NpdKN3lyAEcjuCCQRWUnT9qrbFJS5dSvYT+KLHTb+XxFLpD+XFvgmjZo0Dc5D56Dpz9a5HQfihPceLLDSrvVNI1SO+lMIGnpIrQtgkHLDDDjHFdI3hfxBrHh7VNN8U65Bci9hEUX2W28tYuc7jydxNZlt4A12TUdFuNU1myki0m6WWOC1shCGUKRycnnkew5rSPsldzaJanfQoWHiGXw4vjCezt1ury48SG2tYWO0NI8ceCT2A610sN14v0zS9Su9fbS5UhspJo/swYFHVcgEHqPfiq0/wAPmu7LXYZr/wAqXUNV/tK1miX5rdwqBc568r+tX9K0TxJJHdQeKtatr+1mgaDyra18rO4YLE5OTiplKm1dWKSlfUqX3iq/tvhpo2vqkX2u9jsmkDL8uZdu7A/4FTXkeH4s6i8e0MmioV81tq53tjJ7D3rIb4deJptFs9GuvE0MmmafLC1vGtrtdkjYFVds84AxXQ6v4M/tnWNVuJ7ny7fUdLOnsEXDJkn5vToelP8Adx69xe8zj9L+Ks48UadY3mq6LqUd/dJatFp4k3QsxwrBiNrjOATnvW+mueLNW8Yazpmkrp8Nnps6K086szMCgbYFHU9efpVCH4ca+50SO+1uxa20e+t7mKK2sRFvEZz8xByWwPpya6/RtBl0vWtbvWnVl1KdZUVVx5YCBcH16UVJUY6x7Cipvc5bRfFviLW9ekjiu9DgEV00T6XNKRdKitgt65xz0x71leIPixLD4g1CysNU0rTY7CUw7L6OV3nYDnGwYUZ78njpW3qXgbxFrl5FHrGu2UtjFcJMjx2AW5UK24KJM8dAMjtUt14J1qy1q9vPC2r2lrBfy+dNb3lmJgkhABZTkYzjpVqVC92J8/Q3/CPiBfFPhay1dY/KNwh3ICTtIJBwT24riPGPxFvvD2uXUKaxoEYtjlLKTzJJpBjOGZQQjH0r0XSLS4sdKgt724W5uEXEkqRCMMc54UdOtcPc/DvWVutYi0vWrS30/VZpJpPMsg86lxyokz0z+VY0nSc5c2xc+bl0H6546vzb6A+lS6fpkGsWn2k3upsfKjOFIjzwMnPcip9Tvb+SHwsuuRWNzNcamFLWzM8TAKxR1z34yOozU7eF/EVp4c0jTNG1mziWysktp47qz82OYqANwGRjpUOlfDybTLDSYDqKyyWeqPqMxEWxCXBBSNR91QTwPrV/urKxNpHXWkt/JfXq3kEUdujqLZ0kLNIpGSWB+6c1cqnaR6gt9eNeTwyWzOptURMNGuOQx781crilvc6FsFFFFIYUUUUAFFFFABXJfFH/AJJdr/8A16n+Yrra5L4o/wDJLtf/AOvU/wAxWtL+IvVGdT4WdD8Iv+SP+GP+vBKKPhF/yR/wx/14JRX1Z4xxfxt/5KT8NP8Ar9uf/aNegDpXn/xt/wCSk/DT/r9uf/aNegDpXiZl8cfQ9DCfCwoooryjtA9OOtIBilooEFJ+lBrnvGXiceGNHWZY/OuJm8uFM4BPqfYf4U0jSlSnWqKnBXbOhP1ox+Fcnplp4tljhu7nVLUb8M1t9mwFHpuznpXV52r8x6UWsOrT9nLl5k/QXigH0qodUsgebuD/AL+Cp4Z4rhN0MqSL0yjZosZuMktUSZoJ5/wrjfiLr+o6Fp9pJpMipLNNsJZA2RjpzWe/jy5PgGK5h41h5Ba7Co4lBwTj6c/jSsd9LLsRVpRqw2k7f8P5HoXQnNGTjpz6VxvgPxFe6z4bub7VC08kMhA8qPkjGcADqab/AGh4wab+1PsMZst2P7O/5b7P72cfe9qdiJYKpCrKlJpOOm/XyO0zzjv2x3orj/HXiG/0jw5Z32mlreWa5RGEsfzBSrHBB6HIFasXijT/ALdb6a0xkv5IwxjjjLYyO5A4osZ/VavslVSunf8ADc26KxPFmrz6H4cuL21VXlXaq7hwpLAZPsM5rntI8X3VpLqsGr3MN8tpDHKk8C7QzOOEwO/+FFh0sJWq03Uhsv8Agf5neDkUVm6Cb99Jil1VwbqbLsgAAQHovHoO5qxqWo2+ladLe3rlIYhl2Ck47dBR5HPyS5+RavbQtZxSZPGK55PHfh95LZFvebkDYSjAZPYnGAfrXQ9fu/d7UWKqU6lP4429R1FFFIzCiiigYUUUUAGKKKKBBRRRQMKKKKACiiigAooooAT/ABryD4Xf8li8f/8AX23/AKMavX/8a8g+F3/JYvH/AP19t/6Mauqj/Dn6fqYz+OJ7BRRRXKbBRRRQITGKCcUtIO9MAzR1Hp715n4v8aaxo3jQWto6m0jjV5I/LBO3q3PXpUnjnx5d2D2sOgSrkwiaeTaG2hjhRz/npRax6sMpxM3TSt76uv8AgnpHX3oqjo11Jd6PaTzHMkkKsxA7kZqea+treTZNPGjY6M4BoPMcJKTh2JzRnnFQR31tPKI4p4nbrhXBNN1C9i07Tri9uDiKCNpGPsBmi1hKLbUerLP1/KjPX2rg9E1PxR4ugk1C0u7fS7TeRFGYPNL/AFORXQX97rGnaNCkdr9u1OT5AYlIjB/vMewosdVTCzp1PZykuba19v0NzNBOOvT6Vy+jXXiOxv0s/EcC3aTYMd3ap8sR7qwx096YdYvB8RhpZv4Psvk7/svlt5mcZzu24/WnYTws+ZxTTsr3Xby/4J1eaM9ax/FWrTaJ4cub60QNKgAXcMgEnGT7Cub0nxfd2l3qEGs3UF7Ha2y3C3EKbclsfJgdTk0uUKWDq1aTqR2/Hp/mjvO9LWXoDahLpEc+rOpuZ8yeWqgCME8Jx6D1q1qGoW+l2Mt5evsghG52AzgUWMHB87gtXtoWaO1c4vjvw6zwYvcfaPuExsAPYnGAfY10SnPNFrDqUqtP44teoo5FLRRSMwxRRRQMKKKKAExS4oooEFFFFAwooooAKKKKACiiigArkvij/wAku1//AK9T/MV1tcl8Uf8Akl2v/wDXqf5itaX8ReqM6nws6H4Rf8kf8Mf9eCUUfCL/AJI/4Y/68Eor6s8Y4v42/wDJSfhp/wBftz/7Rr0AdK8/+Nv/ACUn4af9ftz/AO0a9AHSvEzL44+h6GE+FhRRRXlHaFFFFACHpxXHfEbw9d63o9vLpy+ZcWcvmCP++uOce/SuxJ9aTGPu0zXD15YerGrDdHLaZ41tpoIIJrC/S7wEeL7M3yngHnpiullUywOECksCAHHHTv8A1qUAemKKLhVnCcuanG3zuebyeC9YaRiNI8MYJ/uS11vhbS7nSdLeG8ttPtnMpYLp4YRkYA53c54/lW307Un1p3uXVxM6seRnBfFKCWaw0xYIXk23QLbFJxx9KePAjReLZdX8xDZlWlWDnImK8nHT3rusDGMZpelFzeGY1adFUoaWv87nC/CeCWDw1Os8Twt9oPyuuD0Fd0BSKoXjpS/Wkc+KrvE1pVXpc4X4rQTXPhe0EEbu32xSdikkfI/PFZ/hHzfCuuyafrFm0j3mHiv1QncD0Vj2r0kqCAD25oPJwV/Gnc6qeYOOF+quN46+T1/yGTwQ3MDQ3EayRuMMrDIIriG0aO91a5t9JsltNP05S4Cx7ftFzj5fqF/ma7s8ijngikcdGvKknY8w8L/2h/wkGneT/aH2gLJ/an2gt5ef4cZ4+mK63x3HJL4J1FIkZ3aPgAZJ5FdDjjgc0ckYYU7nRVxrqV41uW3K9vnf+vI8n17T5B8LdCSC1kEysrMFQ7gSOterx/6tQf7opdoPagdSaBYnGSxEVFrZt/8AgTHUUUVJxhRRRQAUUUUAFFFFABRRRQAUUUUAFFFFABRRRQAn+NeQfC7/AJLF4/8A+vtv/RjV6/8A415B8Lv+SxeP/wDr7b/0Y1dVH+HP0/Uxn8cT2CiiiuU2CiiigApBx70tJgdqYmeb6jpjX/xdEc8Dtby2jIz7Pl+4w61l6v4IudA8FajJcMLu7mmiRDFubbEpGB0z69uwr1vGeSKUgY9RTuevHNa0ORR2SSa72dzN0BWTQLFGUqRAmQR0+Wuf8T+GtR1TWDcWlhok8ewDfepIZM8+nGK7IetFCdmefGvKNR1EcX4b8M6jpmsLcXWn6HBGEIMlksgk/wDHuK6XXNOOraHd2Cts+0RMgbHQkVfoouKVecqiqdUed+EdbfwrpZ0fXrG7ilgc+W8UBdXBPYj3ru7C6F7Zx3KxyRiQZCSrtYD3FWce3NGPXrSLxVeNeTqctpPV6/1+YHp1wK89AH/C8R3H2XJ/74r0EjcMHj6VhaX4TstM1ufVhNc3V3KCvm3MgYqD2GAPpTNMHXhRVTm3cWl8zamhiuYXinjWSNgQyMMg59q4mXRIbzWp7TSbFLWw08eY+1NonuCPlHQZC8H6mu64496Q88fnQmY0a8qN2jy/wv8Abxr2m+V/aAu8yf2n5+7yyM8Yzx9MV2XjZXm8HalHEjM5iwAoyT0re+g6cUpx6UXOirjXUrxrcu3+d/68jyHWdPl/4VNpCRWj+esgYqsZLAknr3r1mAEW8QPPyD+VSbQRjHFLRcnFYyWIiotW1k/vAUtAoqTiCiiigYUUUUAFFFFABRRRQAUUUUAFFFFABRRRQAVyXxR/5Jdr/wD16n+Yrra5L4o/8ku1/wD69T/MVrS/iL1RnU+FnQ/CL/kj/hj/AK8Eoo+EX/JH/DH/AF4JRX1Z4xxfxt/5KT8NP+v25/8AaNegDpXn/wAbf+Sk/DT/AK/bn/2jXoA6V4mZfHH0PQwnwsKQ9KWj8a8o7CjNq1rBrNvpjMxuriNpVRVyFUYySew5xVm5uEtbWW4mz5cKF3wMkADJ4rk9DY3PxO8Syy/ftYbe2iHohUucfiT+Vcr9l1jxNoPiDxM3im+sntZLqKCxicC2jji3DZInfIHJ6jORXVHD3e/Yyc7I9Q0zUbfV9KttQsizW91GJYywwSp6cVaryi0udRvPDfgTwzY6nNpMWqWbPcXdudspWOPOxCehPc9asfaNV8OSeKvD7a3e6jDbaQ17a3VzLunt2KsCpccnpkd+Kbw+7TF7TpY9PzRXk5s9c0HRfD/iaTxTql7cXE9tHcWk0ubd45MAgJ2bkfN1rUntNT8ZePNbsx4i1DR7XRPJjgg0+Tyy7uu7fJ/eGRgA8HnpzlfV+zVvQftPI7bSdYtdbt5Z7Au0cU8kDb1K4dDhhj61erxnTdc1TQPhDeTWMpnv5tZltvtMSrnLS4LDPy554z3NaPhNPF1j4qswbbxK+nTllvTrV3FOq/LwybTleQOOlVLC2TknsSquyPSNW1W10a0S5vSwjeVIRtXPzOwVf1NUbnxZpVtrB06aSTzFlSGSURkxo7j5EZuxPH5itHUtLs9Xtlt9Qh86JZUlVdxXDKcqeD2Iri/EuhSaamp3s93CujXF5DqE8ewmYum3EaAcHcUUfjWVOMJaPcuTktjsW1W1/tpNL3M100XnFVXOxc4G49snp60R6ray61NpSs32qGFZ3G35QrEgc/UGuBtNf1Hw/wD2zqN5pyXF5HCl/qu6ba0KEHbDGMYOxBz0yc131tp9l/aTavBERdXEKRtKWPzRg5Ubc47ntRUpqG+wRlcu/X60GuL8b3Wo3fiDQfDWm6lJpMeptK891DgSFY03bEPYk9x6fmmpWT+DPA+pm58SazdI5VYZ5WWa5jZiFCoxHJJPGemaFRbin1Yc+p2pqjpOr2mt2slzYFjGkzwtuUj5kYqR+YrzDwlqmuaR8RNM0u8PiAWOrQz5j125jnbdGoYNGVOV9CDxz7cJaahqEPhex0vTL06fLq/iG6tnvFA3RJvdjtz/ABHbgGtXhZJ8t/61JVW56/0orz/XNEv/AAj8P/EMtt4k1i+Y2ZeJry4LywuM5ZXGGGfT2q74r1Ge3s/C5t7uWJ7q/gV/LlIMoKnIOD8w+vpWfsOzuVzo6O31q0u9Yv8ATIWb7VYLG04KkAbxlcHPNXzxn2rze91GPSvFXju7muprRY7azCzW6B5EJQgbAe/PA96xfDmpa7ovjnRra4/4SRLLVWkikXXLmOYMQhYNGAcoeOlafVm1dMn2lnY9iFFcv8RNdvPDXgO/1HTAq3SBI4mIBEZZgu7B44zxmuM8OL4ysfE+myJa+KJrWeYJf/2vdwyxbCPvoFbKYODgduKinh3ODlcqVRRdj03StYtNYjuHsSxFvO1vJuUjDrwQKvZrj/h3/wAeWuD/AKjNz/6EKyr7TtV8RfEzWNMTxDqmmafBZW8hjsZyjFzuxtP8I45xycCl7JObV9A5rI9FqtqOoQaVp019evshgUsx9fb3PpXlNtZeItR8F6lrFz4u1OO40V54rVYJNizCI8Gcf8tCcd/T61qT3Oo+NvFFlobaxeaPZJo8eoTGxfy5p5HbGA3ZR6Dv+lrD6/FoS6jtsehabdvf6bBdSW0lq0yB/JlxuQehx3qG71i0sdUsbCdmE98WEICkg7Rk5PavMj4j16w0DWNCGrtNc2esQ6bDq0iguI5MHJPd1yRn6VbfQLvw98SfC8EviC/1aCUzuF1GUSyIwQAkN12nI4PTAqlh+rfoL2jPUqoX+r2mmXdjb3TOsl/L5MIVc5baWwfTgVyvhfUrmXSfGcl1ezSNaavepE0kzEwxqqlQpJ+VRzjHFY9jcz3vh/4a3N3NJcTSTBnllcszHyW5JJ61mqGru/6sU6h6gf8AODVKfVbW11a106dmSe8V2gyvyuUGSuemcc4xXmsNvrfivTdd8Sf8JbqGlzWN1cR2lrbyhIIUhPHmpj5s4yc//Wq54i1efVPhv4V8RugS/XUbKcBBjczPsZR7MGPFV9XtK19xc90elilpB0pa5DYKKKKBif415B8Lv+SxeP8A/r7b/wBGNXr/APjXkHwu/wCSxeP/APr7b/0Y1dVH+HP0/Uxn8cT2CiiiuU1E/U9qo6Zq1rrCzvYu0iQTNAz7cKzLwcZ6j3pNdu5bHw7qV3bjMtvayyxjGcsqkgfnXBPqVz4Z+AunXGjyrHcTQW8YuJBkRtM6hpD9NxP19a3p01JfMhyszvNQ1qz0y90+1u2YS6jOYIAqkguFLYJ7cA1oV5RqXh288PeOPBiTeI9Q1aKe/kZo9QkEjK4hb5kPUA5xt7HFW0sdW8Zan4gvW8UalpKaZdNbWltYzeWibFB3SD+POeh7Vq8OtLPp+pCqnplFeSHV9e8TW3gaOLV7jTptQa6iu5rU7RMETBbb90k4JBIOCc1p6Xean4S1rxPpEmqXms29lp0eoWr38nmyox3gqW6kZUH2qfq7WnNr/wAGw/aX2R3er6va6JpzXt+zLArKpZBk5Y4HH1NXFO5QR0xmvFtb0bVP+Fe2viK78V6hey6hJbyXNtNKGtmDupxGn8JGR09K1/G2ra5f+NR4f02PWxa21jHcyDRZ44JnZmIBLuQQoxjA759qv6snomT7Wx6pxWXceINOtNRu7O6n8qSztftc7MMKkWTk5/A1hfDuTxENKu7bxNBeoIJttnJfujTvER0cqSCQeM1q654VsNctdTWRWjuNRsmsnuAxJCHJHy528E+lY8kYTcZPQu7cbol0jxHY628kdqJopY0WUxzxFCUb7rAHsasabqtrqtk93Zs7wK7oHK8NtOCR6jrXB6nYasNVNnc3sK317Yi3mmsgwFtaIcyS89HbO1R2Jznitnwx4jNx/ZWnPpaWNjf2Jm08RyliIkwArDAwdrA8Z+uaudGPLzIlSezOl0jVLXWdLh1CxZmgmBKllwTg46fhVyqum6ba6Rp8Vjp0PlW0IOyPezbcnPUkk8muBs9P1Tx1rmtTz+JtU0qDTrxrW2tdNm8rbtAO5/7xOelZRgpNyTsi3LlPSKo6vrFroWnG+v2ZYA6plF3HLMFHA9zXBeN7i6k1Wx0Kzv8AxHd3sVmJZodFkjgZhnaJJJDjqR92saPWNR1f4R6lHrLTPc6frSWe+5KmUqskbDeV4LDfjPfFbxw90pXJdVXseyA5HH1petecNBqXjbxtrdg/iDUdHsdGMUUMGmzeTJKzoGMjt1I5wB0rSla+07x74X0yXU7m5Q2Nyszu5H2hlCYZ1HBbr2qHQ7PzGp6anX3NzHaWc11McRQxtI5HPCjJ/lUOlalb6vpNrqNkWNtdQrNEWGDtYZGR24NcfPfTz+JPG9q9zK8MGmxlImkLLGxiYnAJwD0rmWvZJPAvg/SrK5177TJpMcxtdElWF3QIBuaRugHpVRw99CXUSPYe9LXCfC/VtUvLPVtP1prxpdMu/KU3zK04UoGw7KSGIz1rN+IGra3ceLrbw7pSat9n+xm6nGjyxxTyHdgfO54Ue3PNSqEnU5G9ivaLlud/rGr2uhaVPqWoMwt4AN5VckZYKOB7kVcVgyhh0IzXj9y/iNPhj4ktPEMGopbRPAbGXU5UknKmRdysyk5xjqfWvV7himkyshKsIGKsDgg7fX8qVSiqat1/4YUJ31LRNHbtXiyQ+I7P4b6d4uj8Wao+oDytlvJLutyjOFwyfxNgg5JrpIrXVfCfjTSDL4g1LVYdWScXUF5KHRXVNwMQx8gyCMCreHt9pC9p5HZahrcNjqljpyQyXN1eMcRx4/doOrt6KOnrk1pg5/ma8ejj13UfAtx4+/4S2/t79RJPHZpKBaRojkCJo+/A6nnJ/GtmaXU/HHi+HTv7Y1DRLS30uC+MVhL5Ukssvqe6r0xjrTlh+z9fkJVDutO1i01S4vobQsXsbg28wZcYcAHA9eoq8Oa8YW41HS/hz8QZE1SWW/tb9kF9Cxjdiuxd2V6HA5x713ni+/nt9c8KR21zJEtzqWyRIpGUSr5bHBAPzDPPNTKg07L+tLlKehuWWsWmoalf2NszGawZVmBXABYZGD34q/XlGt63e+H38c3umOsN015aQRzuMiHzAqF+fQEmrzWmq+B/Fnh5B4l1LWbfWLg2t1b6hN5pDbciRP7oBHT0p/V7q9+n6XF7TU7vTNWtdVNyLVm32sxgmR12sjj2+nI9jV+uO0tjb/FzXbeEfurmwt7hx2WQFl/Mr/KuxrCpFRdkaRd0FFFFZlhXJfFH/kl2v/8AXqf5iutrkvij/wAku1//AK9T/MVrS/iL1RnU+FnQ/CL/AJI/4Y/68Eoo+EX/ACR/wx/14JRX1Z4xxfxt/wCSk/DT/r9uf/aNegDpXn/xt/5KT8NP+v25/wDaNegDpXiZl8cfQ9DCfCwoooryjsMD+xbm28dnWbTYbe6tPIu1LYYMhyjD16kH8KzNQ+F/h/UtRurmVr+KO8cvc2cF2yW8z/32jHBOefqK7KjFaqrNO6J5Uzmb3wFouoeHbDR51uFi07H2S4il2TwsBgMHGOaNN8BaTpmmalaRvdzyapGY7u7ubgyTyKQRgufQE47V01FL2s7WuHIr3Me98M2N/olppU7TfZ7R4njKsNxMZBXJx7Vn674A0jX9YGqSy31ldtGIppLC6aEzoOivjqO30/DHUUYoVSa2YcqZzll4E0Gy8Kz+HVtml0yeR5GhlfO0sc8EYIweh6+9Q6N4A0/RdShvU1HWL14ARDHe37ypFkY+VT7V1NFHtJtNN7hyoKoalo9vqs1pJd7mFpN56RZ+RnA+UsO+Oo96v0VCbTuimYGr+DtO1m7mnuXuY1uYlhuoYZdqXManIVxjpyemCQcVvBQoCqAFAwABjFLRTcpPRiSSMbxH4X03xTZR2+qJIDBIJYJ4HMcsL/3lYciqEPgDSU8P3ukXU1/fxXzK8015dtJKWXBUhzyCCARiuooqlUmlZMOVHJaX8OdJ0vXbPWRd6leahaeYEnvbxpmKsu3aSewBOAMdec1Zm8CaLc+HptGuI5ZbaS5e6DGTDxysxbcrDG3BPFdJRT9tUve4uSKOb0rwRpul2d7bSXF/qS30fkzNqF00zFMfdGeg5PSs60+Fuh2l1aXBu9VuXsZVktRc3rSLAB/CgPAX9eBXa0UKrNdQ5EYF74N0nUZdXe9jklGrxxx3KF8KAg+XbjkHv3rO074aaPp2sWWqG81S9vLFy0M17eNMVBUrt56DnPGOa7Cij207WuDirlXUNOtdW02ew1GBLi2uEKSRuOGBrnNJ+HWl6RqNvdxahrFwtqSbe3udQeSGLggbV9ga62ipjUlFWTBxTdzN0jRbXRI7mOyMhW5uXuJPMbPzMeccDii30S1tvEF7rEZk+1XkMcUoYgrhM4wMf7R71pUUuZ3uPlRiweF7C30G+0iNpvs188rS7nBYGQktg4461R1XwBpGrRafvkvrS506HyYLyyuTDOE4+UsOo/z3rqKKqNWcXow5Uzm4fAWgQ+FZvD/2RpLO4cyTNJIWkkkP/LQv13ZA5qrpXw40jStYtdVF1qV5fWuRHPe3bTNtIxt56Aegx+NddRR7apa1xciOR1P4a6Hqur3V/PJfxfbCGuraC7ZIJ2xgF0HBP6GtC38IabbWOiWsbT+XohDWuXGThSvzHHPB9q3qKPazas2HIjjdT+F+garqV1dSS6hbx3r+ZeWlreNHBct6ug6574q9rHhxtS1DQbWOOKLSNLnW6KKcEvGuIVA9ATn8BXSUU/bT0u9g5UAooorIoKKKKBif415B8Lv+SxeP/wDr7b/0Y1ev/wCNeQfC7/ksXj//AK+2/wDRjV1Uf4c/T9TGfxxPYKKKK5TUbJGskbRyDcjjDA9CK5jRPCgi8GzeGddijurBWeGEbs74Ccrn0Yf0BrqaMVcZtaC5U3c4zT/hhoun6pY6j9q1O7urCTfbvd3hl2DaV2Dd0XnoO+PSpdY+G+i6xqtxfmfUbKS7AF2lldtClyBx86jg111FV7ape9xckTFHhTS47jRpYImgGjK62kcbYUBl2kEd+PepR4esR4gu9YYO9xeWq2sqMQUMaknpjqdxzWrRU+0luPlRwp+EXhw4RptTa2SQSwWjXrNDbtnPyIeB6fQ1seIPBWmeIri3ubiS8s7y2TZFeWFwYJQvddy9s10VFU61S97i5EZPh/w5aeHLKS3s5rucyv5kk13O0sjtjGSxrWoorOTbd2VsZ9to1tbane3/AM8txfbRI0pDYVRgKOOB1496o6P4Q0/RbyO4tpLiUwRGC2SaQMtvGTkonA4zjk5PGK3qKrnltcnlQhFcpq/w60jVtXl1JbjUdOuLgAXJ0+8aAT4/vgdeK6yilGcobMbSe5y2rfD7SNWubS5E+oWFzbW4tRPY3bQvJEDnY5H3hmks/h7olj4futGtftCWd1eC9dfNywkG3gEjp8g65711VFX7aptcXIjmNb8BaVreqjUzPf6ffeWIpLjTrpoGlQdFfH3qXUvAmk6npWn2Tve2503i1ube5ZJ4xjH+s68101FL2s+4cqOZ0fwHpGhx6iti10TqUPlXTyzF3fggtuPO47j1yKhu/h1pFzY6ZbxXOo2Uml24tre6s7swzeWABtLL1HA7V1lFP2s73uHJEw/DXhLTPCi3i6SJlW8kEsolkL5YLjOTzk9STnmm+I/CGmeJ3t5r03Nvd2ufIu7OcwzR56gMO31reoqfaS5ua+o+VWscvD4B0uLQb3SpLnUbmO+ZWuJ7m6MsrFSCPmbOOnpXRvCsls0DZ2Mmw49MYqWjFEpyluCikYLeENOfwjD4cZp/sMIQKd/z/IQw5x6irl7odpf6ppt/OZPO00uYdpG35lwcjHPFaVFHPK97hyo4mf4U+HJr2WXN+lpNN58umpdsLWSTOcmPp/n8K0vEHgbS/EN7BeTS3ljeQJ5a3On3BgkKf3CR1FdJRVe2qb3FyI5vS/Aeh6ToeoaPb27vY6gSZ4ZXLZyoBwevbOc5zzVHT/hholhqNjem61S7nsJA9sbu8MoiAH3AD0Xnt6Cuyoo9tUtuHIjDm8I6VcjWFvIWuY9Y2/aopG+U4GBtxyOgOeuaoaH8PNH0LVotSSa/vrm3Qx2zX9004t1PBEYP3eOK6uikqs0rXDlRgaDo1za67rOr6js+06hKiRqjZ2QxghB9eST9a36KKmUnLVlJJBRRRUjCuS+KP/JLtf8A+vU/zFdbXJfFH/kl2v8A/Xqf5itaX8ReqM6nws6H4Rf8kf8ADH/XglFHwi/5I/4Y/wCvBKK+rPGOL+Nv/JSfhp/1+3P/ALRr0AdK89+PUOqR+J/A+raVo95qq6bPcyyx2sTMQP3OASAcZwfyrPPxc14cf8K11/8A74b/AOIrysdQqVZLkVztw9SMIu56lRXlv/C3Ne/6Jrr/AP3w3/xFH/C3Ne/6Jrr/AP3w3/xFef8AUq/8p0+3p9z1KivLf+Fu69/0TXX/APvhv/iKP+Fu69/0TXX/APvlv/iKPqVf+UPb0+56lRXlv/C3de/6Jrr/AP3y3/xFH/C3de/6Jrr/AP3y3/xFH1Kv/KHt6fc9Sory3/hbuvf9E11//vlv/iKP+Fu69/0TXX/++W/+Io+pV/5Q9vT7nqVFeW/8Ld17/omuv/8AfLf/ABFH/C3de/6Jrr//AHy3/wARR9Sr/wAoe3p9z1KivLf+Fu69/wBE11//AL5b/wCIo/4W7r3/AETXX/8Avlv/AIij6lX/AJQ9vT7nqVFeW/8AC3de/wCia6//AN8t/wDEUf8AC3de/wCia6//AN8t/wDEUfUq/wDKHt6fc9Sory3/AIW7r3/RNdf/AO+W/wDiKP8Ahbuvf9E11/8A75b/AOIo+pV/5Q9vT7nqVFeW/wDC3de/6Jrr/wD3y3/xFH/C3de/6Jrr/wD3y3/xFH1Kv/KHt6fc9Sory3/hbuvf9E11/wD75b/4ij/hbuvf9E11/wD75b/4ij6lX/lD29PuepUV5b/wt3Xv+ia6/wD98t/8RR/wt3Xv+ia6/wD98t/8RR9Sr/yh7en3PUqK8t/4W7r3/RNdf/75b/4ij/hbuvf9E11//vlv/iKPqVf+UPb0+56lRXlv/C3de/6Jrr//AHy3/wARR/wt3Xv+ia6//wB8t/8AEUfUq/8AKHt6fc9Sory3/hbuvf8ARNdf/wC+W/8AiKP+Fu69/wBE11//AL5b/wCIo+pV/wCUPb0+56lRXlv/AAt3Xv8Aomuv/wDfLf8AxFH/AAt3Xv8Aomuv/wDfLf8AxFH1Kv8Ayh7en3PUqK8t/wCFu69/0TXX/wDvlv8A4ij/AIW7r3/RNdf/AO+W/wDiKPqVf+UPb0+56lRXlv8Awt3Xv+ia6/8A98t/8RR/wt3Xv+ia6/8A98t/8RR9Sr/yh7en3PUqK8t/4W7r3/RNdf8A++W/+Io/4W7r3/RNdf8A++W/+Io+pV/5Q9vT7nqVFeW/8Ld17/omuv8A/fLf/EUf8Ld17/omuv8A/fLf/EUfU6/8oe3p9z1H/GvIPhd/yWLx/wD9fbf+jGq9/wALc14/80117/vlv/iK4nwl4l8Q+HvHHiTW28C61cjVpjIIUiYGHLFsE7OetdFPC1lCScd1+pnKtByTufRFFeW/8Lc17/omuv8A/fDf/EUf8Lc17/omuv8A/fDf/EVz/Uq/8pp7en3PUqK8t/4W5r3/AETXX/8Avhv/AIij/hbuvf8ARNdf/wC+W/8AiKPqVf8AlD29PuepUV5b/wALd17/AKJrr/8A3y3/AMRR/wALd17/AKJrr/8A3y3/AMRR9Sr/AMoe3p9z1KivLf8Ahbuvf9E11/8A75b/AOIo/wCFu69/0TXX/wDvlv8A4ij6lX/lD29PuepUV5b/AMLd17/omuv/APfLf/EUf8Ld17/omuv/APfLf/EUfUq/8oe3p9z1KivLf+Fu69/0TXX/APvlv/iKP+Fu69/0TXX/APvlv/iKPqVf+UPb0+56lRXlv/C3de/6Jrr/AP3y3/xFH/C3de/6Jrr/AP3y3/xFH1Kv/KHt6fc9Sory3/hbuvf9E11//vlv/iKP+Fu69/0TXX/++W/+Io+pV/5Q9vT7nqVFeW/8Ld17/omuv/8AfLf/ABFH/C3de/6Jrr//AHy3/wARR9Sr/wAoe3p9z1KivLf+Fu69/wBE11//AL5b/wCIo/4W7r3/AETXX/8Avlv/AIij6lX/AJQ9vT7nqVFeW/8AC3de/wCia6//AN8t/wDEUf8AC3de/wCia6//AN8t/wDEUfUq/wDKHt6fc9Sory3/AIW7r3/RNdf/AO+W/wDiKP8Ahbuvf9E11/8A75b/AOIo+pV/5Q9vT7nqVFeW/wDC3de/6Jrr/wD3y3/xFH/C3de/6Jrr/wD3y3/xFH1Kv/KHt6fc9Sory3/hbuvf9E11/wD75b/4ij/hbuvf9E11/wD75b/4ij6lX/lD29PuepUV5b/wt3Xv+ia6/wD98t/8RR/wt3Xv+ia6/wD98t/8RR9Sr/yh7en3PUqK8t/4W7r3/RNdf/75b/4ij/hbuvf9E11//vlv/iKPqVf+UPb0+56lRXlv/C3de/6Jrr//AHy3/wARR/wt3Xv+ia6//wB8t/8AEUfUq/8AKHt6fc9Sory3/hbuvf8ARNdf/wC+W/8AiKP+Fu69/wBE11//AL5b/wCIo+pV/wCUPb0+56lRXlv/AAt3Xv8Aomuv/wDfLf8AxFH/AAt3Xv8Aomuv/wDfLf8AxFH1Kv8Ayh7en3PUq5L4o/8AJLtf/wCvU/zFc1/wt3Xv+ia69/3y3/xFY/iz4geIfEnhPUNIj+HeuwNewmNZGjYhTnrjZ7VpTwddTTcSJ1oOL1PXvhF/yR/wx/14JRU3wstLix+FXh21vYZLeeKxRZIpF2sh9COxor6E8w6w9qKKKTEFFFFIQUUUUgCiiigAooooAKKKKACiiigAooooAKKKKACiiigAooooAKKKKACiiigAooooAKKKKACiiigAooooAKKKKACiiigAooooAKQdPxoopjFooooEFFFFIAooooAKKKKACiiigAooooAKKKKACiiigAooooAKKKKACiiigAooooAKKKKACiiigAooooAKKKKACiiigAooooAKKKKACg9KKKY0DdaKKKoZ/9k=)\n",
        "\n",
        "Imagen 2. Proceso de cifrado y descifrado$^{1}$"
      ],
      "metadata": {
        "id": "ex67Z9wasNcC"
      }
    },
    {
      "cell_type": "markdown",
      "source": [
        "\n",
        "\n",
        "---\n",
        "\n",
        "\n",
        "**Como trabaja el Algortimo Shor?**\n",
        "\n",
        "El problema que estamos tratando de resolver es, dado un número compuesto $N$, para encontrar un divisor no trivial de $N$ (un divisor estrictamente entre 1 y $N$). Antes de intentar encontrar tal divisor, se pueden usar algoritmos de prueba de primalidad relativamente rápidos para verificar que $N$ es de hecho compuesto.\n",
        "\n",
        "Nosotros necesitamos $N$ cualquiera (de lo contrario 2 es un divisor) y no debe ser ninguna potencia de un primo (de lo contrario, ese primo es un divisor), por lo que debemos verificar que no haya raíces enteras $\\sqrt[K]{N}$ por $2 \\leqslant K  \\leqslant  log_3(N)$ .\n",
        "\n",
        "Por tanto, podemos suponer que $N$ es el producto de dos enteros coprimos mayores que 2. Se deduce del Chinese remainder theorem que hay al menos cuatro raíces cuadradas distintas de 1 modulo $N$ (ya que hay dos raíces para cada ecuación modular). El objetivo del algoritmo es encontrar una raíz cuadrada $b$ de $1$ $ mod N$ que es diferente de $1$ y $-1$, porque entonces:\n",
        "\n",
        "$ b^{2}-1 = (b+1)(b-1)=mN$ \n",
        "\n",
        "para un número entero distinto de cero $m$ que nos da los divisores no triviales $gcd (N, b + 1)$} y $gcd (N, b-1)$de $N$. Esta idea es similar a otros algoritmos de factorización , como el tamiz cuadrático.\n",
        "\n",
        "A su vez, encontrar tal $b$ se reduce a encontrar un elemento $a$ de período par con una cierta propiedad adicional (como se explica a continuación, se requiere que la condición del Paso 6 de la parte clásica no se mantenga). El algoritmo cuántico se utiliza para encontrar el período de elementos elegidos al azar. $a$, ya que este es un problema difícil en una computadora clásica.\n",
        "\n",
        "El algoritmo de Shor consta de dos partes:\n",
        "\n",
        "1. Una reducción, que se puede hacer en una computadora clásica, del problema de factorización al problema de encontrar órdenes .\n",
        "2. Un algoritmo cuántico para resolver el problema de búsqueda de pedidos.\n",
        "\n",
        "**Parte Clàsica**\n",
        "\n",
        "1. Elige un número aleatorio $1 < a < N$.\n",
        "2. Calcular $gcd (a, N)$, el máximo común divisor de $a$ y $N$. Esto se puede hacer usando el algoritmo euclidiano .\n",
        "3. Si $gcd (a, N) \\neq 1$, entonces este número es un factor no trivial de $N$ , así que hemos terminado.\n",
        "4. De lo contrario, use la subrutina de búsqueda de períodos cuánticos (a continuación) para encontrar $r$, que denota el período de la siguiente función:\n",
        "$f(x)=a^{x} mod N$.\n",
        "\n",
        "  Este es el orden $r$ de $a$ en el grupo $ZN $ × $ Z_N ^t$ , que es el entero positivo más pequeño $r$ para cual $f(x + r) = f $, o $f(x+r)=a^{x+r}mod N \\equiv a^x mod N$. Según el teorema de Euler ,$r$ divide $\\varphi (N)$, dónde $\\varphi$ denota la función totient de Euler .\n",
        "5. Si $r$ es impar, vuelva al paso 1.\n",
        "6. Si $a^{r/2} \\equiv -1(mod N)$, vuelva al paso 1.\n",
        "7. De lo contrario, ambos $gcd (a ^ {r/2} + 1, N)$ y $gcd (a ^ {r/2} -1, N)$ son factores no triviales de $N$, así que hemos terminado.\n",
        "\n",
        "\n"
      ],
      "metadata": {
        "id": "l6gj9MxgsUbi"
      }
    },
    {
      "cell_type": "markdown",
      "source": [
        "# **Parte cuántica: subrutina de búsqueda de períodos Algoritmo Shor**$^2$"
      ],
      "metadata": {
        "id": "BXBeL80WN_nm"
      }
    },
    {
      "cell_type": "markdown",
      "source": [
        "![3.png](data:image/png;base64,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)"
      ],
      "metadata": {
        "id": "LZe3GO5JN4e_"
      }
    },
    {
      "cell_type": "markdown",
      "source": [
        "\n",
        "Los circuitos cuánticos utilizados para este algoritmo están diseñados a medida para cada elección de  $N$  y cada elección del azar $a$ utilizado en  $f(x)=a^{x} mod N$. Dado $N$ , encontrar  $Q=2^{q}$ tal que  $N^{2} \\leq Q< 2N^{2}$, lo que implica que  $\\dfrac{Q}{r}>N$. Los registros qubit de entrada y salida deben contener superposiciones de valores de $0$ a $Q-1$ y también lo han hecho $q$ qubits cada uno. El uso de lo que podría parecer el doble de qubits de los necesarios garantiza que hay al menos $N$  diferentes valores de $X$ que producen lo mismo $f(x)$, incluso cuando el período $r$ enfoque  $\\dfrac{N}{2}$.\n",
        "\n",
        "Proceder de la siguiente:\n",
        "\n",
        "1. Inicializar los registros para\n",
        "\n",
        "  $\\dfrac{1} {\\sqrt Q} \\sum _{x=0}^{Q-1}|x\\rangle =\\left({\\frac {1}{\\sqrt {2 }}}\\sum _{x_{1}=0}^{1}|x_{1}\\rangle \\right)\\otimes \\cdots \\otimes \\left({\\frac {1}{\\sqrt {2}} }\\sum _{x_{q}=0}^{1}|x_{q}\\rangle \\right)$\n",
        "\n",
        "  dónde $\\otimes$ denota el producto tensorial .\n",
        "\n",
        "\n",
        "  Este estado inicial es una superposición de $Q$ estados, y se obtiene fácilmente generando $q$qubits independientes , cada uno una superposición de $0$ y $1$ estados. Podemos lograr esto inicializando los qubits en la posición cero y luego aplicando la puerta Hadamard en paralelo a cada uno de los $q$qubits, donde $2 ^ {q} = Q$.\n",
        "\n",
        "2. Construir $f(x)$ como una función cuántica y aplicarlo al estado anterior, para obtener\n",
        "\n",
        "  $U_{f}|x,0^{q}\\rangle =|x,f(x)\\rangle $\n",
        "\n",
        "  $U_{f}{\\frac {1}{\\sqrt {Q}}}\\sum _{x=0}^{Q-1}|x,0^{q}\\rangle ={\\frac { 1}{\\sqrt {Q}}}\\sum _{x=0}^{Q-1}|x,f(x)\\rangle$\n",
        "\n",
        "  Esto sigue siendo una superposición de $Q$ estados. sin embargo, el $q+n$  qubits, es decir, el $q$ qubits de entrada y $n(>log_{2}(N))$ los qubits de salida, ahora están entrelazados o no son separables , ya que el estado no puede escribirse como un producto tensorial de estados de qubits individuales. Es importante destacar que el valor que contiene el $r$ que estamos buscando ahora se almacena en la fase de los qubits de entrada $X$ como resultado del \"retroceso de fase\", donde el uso de qubits como entradas de control a puertas unitarias altera la fase relativa de los qubits de control.\n",
        "\n",
        "3. Aplicar la transformada cuántica de Fourier inversa al registro de entrada. Esta transformada (operando sobre una superposición de  $Q=2^{q}$ estados) usa un $Q$-ésima raíz de la unidad como  $\\omega =e^{\\frac{2\\pi i}{Q}}$ para distribuir la amplitud de cualquier $|  x\\rangle$ Estado igualmente entre todos $Q$ de El  $|y\\rangle$ estados, y hacerlo de una manera diferente para cada $X$. Así obtenemos:\n",
        "\n",
        " ${U_{\\operatorname {QFT} }}(|x\\rangle )={\\frac {1}{\\sqrt {Q}}}\\sum _{y=0}^{Q-1}\\omega ^{xy}|y\\rangle$.\n",
        "\n",
        "  Esto conduce al estado final\n",
        " ${\\frac {1}{Q}}\\sum_{x=0}^{Q-1}\\sum_{y=0}^{Q-1}\\omega^{xy}|y, f( x)\\rangle$\n",
        "\n",
        "  Ahora, reordenamos esta suma como\n",
        " ${\\frac {1}{Q}}\\sum _{z=0}^{N-1}\\sum _{y=0}^{Q-1}\\left[\\sum _{x\\ en \\{0,\\ldots,Q-1\\};~f(x)=z}\\omega ^{xy}\\right]|y,z\\rangle$.\n",
        "\n",
        "  Esta es una superposición de muchos más de $Q$ estados, pero muchos menos de $Q^{2}$ estados, ya que hay menos de $Q$ valores distintos de $z = f (x)$. Dejar\n",
        "\n",
        "  * $\\omega =e^{\\frac {2\\pi i}{Q}}$ ser un q-ésima raíz de la unidad,\n",
        "  * $r$ ser el periodo de $f$,\n",
        "  * $x_ {0}$ ser el mas pequeño de los  $x\\in \\{0,\\ldots,Q-1\\}$ para cual $f (x) = z$ (tenemos  $x_{0} < r$), y\n",
        "  * escribir  $m-1=[\\frac {Q-x_{0}-1}{r}]$\n",
        "  * $b$ indexa estos $x$, corriendo desde $0$ a $m-1$, así que eso  $x_{0}+rb< Q$.\n",
        "\n",
        "  Luego $\\omega ^ {ry}$ es un vector unitario en el plano complejo ($\\omega$ es una raíz de unidad, y $r$ y $y$ son enteros), y el coeficiente de  ${\\dfrac {1}{Q}}\\left|y,z\\right\\rangle$ en el estado final es \n",
        "\n",
        " $\\sum _{x\\in \\{0,\\ldots, Q-1\\};~f(x)=z}\\omega ^{xy}=\\sum _{b=0}^{m- 1}\\omega ^{(x_{0}+rb)y}=\\omega ^{x_{0}y}\\sum _{b=0}^{m-1}\\omega ^{rby}$.\n",
        "\n",
        "  Cada término en esta suma representa un camino diferente hacia el mismo resultado , y se produce una interferencia cuántica , constructiva cuando los vectores unitarios $\\omega^{ryb}))$ apuntar en casi la misma dirección en el plano complejo, lo que requiere que $\\omega ^ {ry}$ punto a lo largo del eje real positivo.\n",
        "\n",
        "4. Realice una medición. Obtenemos algún resultado $y$ en el registro de entrada y algún resultado $z$ en el registro de salida. Como $f$ es periódica, la probabilidad de medir algún estado $ |y,z\\rangle$  es dado por\n",
        "\n",
        "  $\\mathrm {Pr} (|y,z\\rangle )=\\left|{\\frac {1}{Q}}\\sum _{x\\in \\{0,\\ldots,Q-1\\}; ~f(x)=z}\\omega ^{xy}\\right|^{2}={\\frac {1}{Q^{2}}}\\left|\\sum _{b=0}^{m -1}\\omega ^{(x_{0}+rb)y}\\right|^{2}={\\frac {1}{Q^{2}}}|\\omega ^{x_{0}y} |^{2}|\\sum _{b=0}^{m-1}\\omega ^{bry}|^{2}$\n",
        "${\\frac {1}{Q^{2}}}\\left|\\sum _{b=0}^{m-1}\\omega ^{bry}\\right|^{2}={ \\frac {1}{Q^{2}}}\\left|{\\frac {\\omega ^{mry}-1}{\\omega ^{ry}-1}}\\right|^{2}={\\frac{1}{Q^{2}}}{\\frac {\\sin ^{2}({\\frac {\\pi mry}{Q}})}{\\sin ^{2}({\\frac{\\ pi ry}{Q}})}}$\n",
        "\n",
        "  El análisis ahora muestra que esta probabilidad es mayor cuanto más se acerca el vector unitario $\\omega ^ {ry}$ está al eje real positivo, o al más cercano ${\\dfrac {yr}{Q}}$ es un número entero. A no ser que $r$ es un poder de 2, no será un factor de $Q$.\n",
        "\n",
        "5. Desde ${\\frac {yr}{Q}}$ está cerca de un número entero $c$, el valor conocido ${\\dfrac {y}{Q}}$ está cerca del valor desconocido $\\dfrac {c}{r}$. Realización de expansión de fracción continua [clásica] en $\\dfrac {y}{Q}$ nos permite encontrar aproximaciones $\\dfrac{d}{s}$ de ella que satisfacen dos condiciones:\n",
        "\n",
        "  a. $s< N$.\n",
        "\n",
        "  b. $\\left|{\\dfrac {y}{Q}}-{\\dfrac {d}{s}}\\right|<{\\dfrac {1}{2Q}}$.\n",
        "\n",
        "  Dadas estas múltiples condiciones (y asumiendo $\\dfrac{d}{s}$ es irreductible ),$s$ es muy probable que sea el período apropiado $r$, o al menos un factor de ello.\n",
        "\n",
        "6. Compruebe (clásicamente) si $f(x)=f(x+s)\\Leftrightarrow a^{s} \\equiv 1 mod N$. Si es así, hemos terminado.\n",
        "7. De lo contrario, (clásicamente) obtenga más candidatos para $r$ mediante el uso de múltiplos de $s$, o usando otro $s$ con $\\dfrac{d}{s}$ cerca $\\dfrac {y}{Q}$. Si algún candidato funciona, hemos terminado.\n",
        "8. De lo contrario, vuelva a intentarlo a partir del paso 1 de esta subrutina.\n"
      ],
      "metadata": {
        "id": "li0rlsdtOM7D"
      }
    },
    {
      "cell_type": "markdown",
      "source": [
        "**Obtención de factores del período**\n",
        "\n",
        "Los enteros menores que  $N$ y coprime con $N$ forman el grupo multiplicativo de números enteros módulo  $N$ , que es un grupo abeliano finito $G$. El tamaño de este grupo viene dado por$\\varphi (N)$. Al final del paso 3, tenemos un número entero $a$ en este grupo. Como el grupo es finito,$a$ debe tener un orden finito $r$, que es el entero positivo más pequeño tal que\n",
        "\n",
        "\n",
        "$a^{r}\\equiv 1 mod {N}$.\n",
        "\n",
        "Por lo tanto,  $N$ divide $a^{r}-1$ (también escrito $N\\mid a^{r}-1$). Supongamos que podemos obtener $r$ y eso es parejo. (Si $r$ es impar, luego en el paso 5, tenemos que reiniciar el algoritmo con un número aleatorio diferente $a$) Ahora $b\\equiv a^{r/2}mod {N}$ es una raíz cuadrada de 1 modulo  $N$ que es diferente de 1. Esto es porque $r$ es el orden de $a$ modulo  $N$, entonces $a^{r/2} \\not\\equiv 1 mod {N}$, o bien el orden de a en este grupo estaría $\\dfrac{r}{2}$. Si $a^{r/2}\\equiv -1 mod N$, luego en el paso 6, tenemos que reiniciar el algoritmo con un número aleatorio diferente $a$.\n",
        "\n",
        "\n",
        "Eventualmente, debemos alcanzar un $a$ de orden $r$ en $G$ tal que $b\\equiv a^{r/2}\\not \\equiv \\pm 1 bmod {N}$. Esto se debe a que tal $b$ es una raíz cuadrada de 1 modulo  $N$ otro que $1$ y $ -1$, cuya existencia está garantizada por el Chinese remainder theorem, como  $N$ no es un poder primordial.\n",
        "\n",
        "Afirmamos que $d = \\gcd (b-1, N)$ es un factor adecuado de  $N$, es decir, $d \\neq 1, N$. De hecho, si $d = N$, luego  $N$ divide $b-1$, así que eso $b\\equiv 1 mod {N}$, que va en contra de la construcción de $b$. Si, por otro lado,$d = \\gcd (b-1, N) = 1$, luego por la identidad de Bézout , hay enteros $u, v$ tal que\n",
        "\n",
        "$(b-1) u + Nv = 1$.\n",
        "\n",
        "Multiplicar ambos lados por $b+1$, obtenemos\n",
        "\n",
        "$(b^{2}-1)u+N(b+1)v=b+1$.\n",
        "\n",
        "Como  $N$ divide $b^{2}-1\\equiv a^{r}-1  modN$, encontramos eso  $N$ divide $ b+1$, así que eso $b\\equiv -1mod {N}$, contradiciendo de nuevo la construcción de b.\n",
        "\n",
        "Por lo tanto, d es el factor adecuado requerido de  $N$.\n",
        "\n",
        "\n",
        "---\n",
        "\n",
        "\n",
        "**Encontrar el período**\n",
        "\n",
        "El algoritmo de búsqueda de períodos de Shor se basa en gran medida en la capacidad de una computadora cuántica para estar en muchos estados simultáneamente.\n",
        "\n",
        "Los físicos llaman a este comportamiento una \" superposición \" de estados. Para calcular el período de una función $f$, evaluamos la función en todos los puntos simultáneamente.\n",
        "\n",
        "Sin embargo, la física cuántica no nos permite acceder a toda esta información directamente. Una medición arrojará solo uno de todos los valores posibles, destruyendo todos los demás. Si no fuera por el teorema de no clonación , primero podríamos medir $f(x)$ sin medir $x$, y luego hacer algunas copias del estado resultante (que es una superposición de estados que tienen el mismo $f(x)$). Medición $x$  en estos estados proporcionaría diferentes $x$ valores que dan lo mismo $f(x)$, lo que lleva al período. Debido a que no podemos hacer copias exactas de un estado cuántico , este método no funciona. Por lo tanto, tenemos que transformar cuidadosamente la superposición a otro estado que devolverá la respuesta correcta con alta probabilidad. Esto se logra mediante la transformada cuántica de Fourier .\n",
        "\n",
        "Por tanto, Shor tuvo que resolver tres problemas de \"implementación\". Todos ellos tuvieron que implementarse \"rápido\", lo que significa que se pueden implementar con una serie de puertas cuánticas que es polinomial en $log N$.\n",
        "\n",
        "1. Crea una superposición de estados. Esto se puede hacer aplicando puertas Hadamard a todos los qubits en el registro de entrada. Otro enfoque sería utilizar la transformada cuántica de Fourier (ver más abajo).\n",
        "\n",
        "2. Implementar la función $f$ como una transformación cuántica. Para lograr esto, Shor usó cuadratura repetida para su transformación de exponenciación modular. Es importante señalar que este paso es más difícil de implementar que la transformada cuántica de Fourier, ya que requiere qubits auxiliares y sustancialmente más puertas para lograrlo.\n",
        "\n",
        "3. Realice una transformada cuántica de Fourier. Mediante el uso de puertas de rotación controladas y puertas de Hadamard, Shor diseñó un circuito para la transformada cuántica de Fourier (con$ Q=2^{q}$) que usa solo $\\dfrac {q(q-1)}{2}=O\\!\\left((\\log Q)^{2}\\right)$ puertas.\n",
        "\n",
        "Después de todas estas transformaciones, una medición arrojará una aproximación al período $r$. Para simplificar, suponga que hay un $y$ tal que $\\dfrac {yr}{Q}$ es un entero. Entonces la probabilidad de mediry es 1. Para ver esto, notamos que entonces\n",
        "\n",
        "$e^{-{\\frac {2\\pi ibyr}{Q}}}=1$\n",
        "\n",
        "para todos los enteros $b$. Por tanto, la suma cuyo cuadrado nos da la probabilidad de medir $y$ estarán $\\dfrac{Q}{r}$, como $b$ toma aproximadamente $\\dfrac{Q}{r}$ valores y, por tanto, la probabilidad es $\\dfrac{1}{r^{2}}$. Existenr posibles valores de $y$ tal que $\\dfrac {yr}{Q}$ es un número entero, y también $r$ posibilidades para $f (x_ {0})$, entonces las probabilidades suman 1.\n",
        "\n",
        "**Nota: Otra forma de explicar el algoritmo de Shor es señalando que es solo el algoritmo de estimación de fase cuántica disfrazado.**\n",
        "\n"
      ],
      "metadata": {
        "id": "25xrxqGJcDfe"
      }
    },
    {
      "cell_type": "markdown",
      "source": [
        "\n",
        "---\n",
        "**Nota Adicional**\n",
        "\n",
        "Algoritmo de Euclides\n",
        "\n",
        "Para nuestra primera parte de la codificacion RSA, este algoritmo es un método que no solo sirve para calcular el máximo común divisor de dos números, sino que también puede ser implementado para computar enteros x y y de la forma $d= mcd(a,b)=ax+by$ (y que por lo tanto nos servirá  para calcular d como inverso de la ecuación en congruencias $e.d \\equiv 1(mod \\phi (n)))$. \n",
        "\n",
        "El algoritmo consiste específicamente en encontrar el $mcd(a,b)$, siendo $a>b>0$ y basándose en la existencia de $\\quad q_i$  y $\\quad r_i$  (los cuales forman una cantidad finita de enteros\n",
        "positivos menores que b) tales que cumplen con el siguiente cómputo:\n",
        "\n",
        "$a=\\quad q_1b$ $+ r_1$ donde $0< r_1 < b $;\n",
        "\n",
        "$b=\\quad q_2 r_1$ $+ r_2$ donde $0< r_2 < r_1$;\n",
        "\n",
        "$r_1=\\quad q_3 r_2$ $+ r_3$ donde $0< r_3 < r_2$;\n",
        "\n",
        ".\n",
        "\n",
        ".\n",
        "\n",
        ".\n",
        "$r_{k-3}=\\quad q_{k-1} r_{k-2}$ $+ r_{k-1}$ donde $0< r_{k-1} < r_{k-2}$;\n",
        "\n",
        "$r_{k-2}=\\quad q_k r_{k-1}$ $+ r_k$ donde $0< r_k < r_{k-1}$;\n",
        "\n",
        "$r_{k-1}=\\quad q_{k+1} r_k$ $+0$;\n",
        "\n",
        "Nótese que implementar el algoritmo con cada una de las operaciones anteriores implicaría\n",
        "el almacenamiento de cada uno de los $r_i$ , por lo cual no sería muy eficiente en cuanto al uso\n",
        "del espacio en memoria cuando los valores de $a$ a son muy grandes en comparación a los de $b$, pues esto implicaría un número considerablemente grande de $r_i$ a almacenar.Teniendo\n",
        "en cuenta esto, y siempre y cuando no se requieran los valores intermedios, el algoritmo puede ser expresado para calcular $mcd (a,b)$ de manera más formal y eficiente así:\n",
        "\n",
        "$Input: a , b $ enterospositivos mayores que $0$ \n",
        "Output: $mcd (a,b)$\n",
        "\n",
        "Funcion $mcd (a,b)$ {\n",
        "\n",
        "Si $b=0$ entonces:\n",
        "\n",
        " Retorne $a$;\n",
        "\n",
        "En otro caso:\n",
        " El resultado es $mcd ( b, a( $mod $ b) );$\n",
        "\n",
        "}\n"
      ],
      "metadata": {
        "id": "2DF6o0j50Uhd"
      }
    },
    {
      "cell_type": "markdown",
      "source": [
        "# **Librerias a ejecutar**"
      ],
      "metadata": {
        "id": "5KZU-Fggh8yi"
      }
    },
    {
      "cell_type": "code",
      "source": [
        "!pip install git+https://github.com/qiskit-community/qiskit-textbook.git#subdirectory=qiskit-textbook-src"
      ],
      "metadata": {
        "id": "-gO01VtStkBO"
      },
      "execution_count": null,
      "outputs": []
    },
    {
      "cell_type": "code",
      "source": [
        "#Importacion de Quiskit\n",
        "from qiskit import QuantumCircuit, ClassicalRegister, QuantumRegister\n",
        "from qiskit import execute, IBMQ\n",
        "from qiskit import BasicAer"
      ],
      "metadata": {
        "id": "J__3RHL1A_Pm"
      },
      "execution_count": 60,
      "outputs": []
    },
    {
      "cell_type": "markdown",
      "source": [
        "# **Implementacion Algortimo RSA**"
      ],
      "metadata": {
        "id": "KASIkbLdsvwj"
      }
    },
    {
      "cell_type": "markdown",
      "source": [
        "Realiza la encriptacion en **RSA**"
      ],
      "metadata": {
        "id": "zaZrIaNys0cj"
      }
    },
    {
      "cell_type": "code",
      "source": [
        "#Se utiliza el algoritmo de Euclides para determinar el mcd.\n",
        "def euc(a, b):\n",
        "    while b != 0:\n",
        "        a, b = b, a % b\n",
        "    return a"
      ],
      "metadata": {
        "id": "PtlWznhKpv5z"
      },
      "execution_count": 61,
      "outputs": []
    },
    {
      "cell_type": "code",
      "source": [
        "#Se realiza la prueba de que funciona el algoritmo de euclides\n",
        "euc(5,10)"
      ],
      "metadata": {
        "colab": {
          "base_uri": "https://localhost:8080/"
        },
        "id": "tWYRzgH_pyE8",
        "outputId": "754eb764-c196-4e9f-baff-da6a99801fa7"
      },
      "execution_count": 62,
      "outputs": [
        {
          "output_type": "execute_result",
          "data": {
            "text/plain": [
              "5"
            ]
          },
          "metadata": {},
          "execution_count": 62
        }
      ]
    },
    {
      "cell_type": "code",
      "source": [
        "#Se saca el multiplicativo inverso\n",
        "\n",
        "def multiplicativo_inverso(a, m):\n",
        "    a = a % m; \n",
        "    for x in range(1, m) : \n",
        "        if ((a * x) % m == 1) : \n",
        "            return x \n",
        "    return 1"
      ],
      "metadata": {
        "id": "v3eFppvIp1gG"
      },
      "execution_count": 63,
      "outputs": []
    },
    {
      "cell_type": "code",
      "source": [
        "#Validacion de que el numero sea primo\n",
        "def primo(num):\n",
        "    if num == 2:\n",
        "        return True\n",
        "    if num < 2 or num % 2 == 0:\n",
        "        return False\n",
        "    for n in range(3, int(num**0.5)+2, 2): # cool trick here...\n",
        "        if num % n == 0:\n",
        "            return False\n",
        "    return True"
      ],
      "metadata": {
        "id": "2mi9DNzNp4vY"
      },
      "execution_count": 64,
      "outputs": []
    },
    {
      "cell_type": "code",
      "source": [
        "#Se prueba si el numero es primo o no\n",
        "primo(13441)"
      ],
      "metadata": {
        "colab": {
          "base_uri": "https://localhost:8080/"
        },
        "id": "HJoWBhOfp7iu",
        "outputId": "d3d6788e-2cea-4c5f-e8e5-4b707ce2ef4d"
      },
      "execution_count": 65,
      "outputs": [
        {
          "output_type": "execute_result",
          "data": {
            "text/plain": [
              "True"
            ]
          },
          "metadata": {},
          "execution_count": 65
        }
      ]
    },
    {
      "cell_type": "code",
      "source": [
        "#Generacion de llave privada y publica\n",
        "\n",
        "def generacion_llaves(p, q):\n",
        "    if not (primo(p) and primo(q)):\n",
        "        raise ValueError('Ambos numeros deben ser primos.')\n",
        "    elif p == q:\n",
        "        raise ValueError('p y q no deben ser iguales')\n",
        "  \n",
        "    n = p * q\n",
        "\n",
        "    phi = (p-1) * (q-1)\n",
        "\n",
        "   #Elegir un número entero e tal que e y phi(n) sean coprimos o primos relativos\n",
        "    e = random.randrange(1, phi)\n",
        "\n",
        "    #Se usa el algoritmo de euclides para verificar que e y phi(n) son coprimos\n",
        "    g = euc(e, phi)\n",
        "    while g != 1:\n",
        "        e = random.randrange(1, phi)\n",
        "        g = euc(e, phi)\n",
        "\n",
        "    #Usar el algoritmo de euclides extendido para generar la llave privada de ≡ 1 (mod phi)\n",
        "    d = multiplicativo_inverso(e, phi)\n",
        "  \n",
        "    #Se retorna las llave publica(e,n) y la llave privada (d,n)\n",
        "    return ((e, n), (d, n))"
      ],
      "metadata": {
        "id": "3M3u8kE7qBX7"
      },
      "execution_count": 66,
      "outputs": []
    },
    {
      "cell_type": "code",
      "source": [
        "import random\n",
        "print(\"RSA Cifrado/Descifrado\")\n",
        "p = int(input(\"Ingrese un numero primo (17, 19, 23, etc): \"))\n",
        "q = int(input(\"Ingrese otro numero primo, diferente al anterior: \"))\n",
        "\n",
        "print(\"Generando las llaves publica/privada ahora...\")\n",
        "public, private = generacion_llaves(p, q)\n",
        "print(\"Su llave publica es:  \", public ,\" y su llave privada es:\", private)"
      ],
      "metadata": {
        "id": "FYfxmo3_qEg5"
      },
      "execution_count": null,
      "outputs": []
    },
    {
      "cell_type": "code",
      "source": [
        "def encriptar(pk, plaintext):\n",
        "    key, n = pk\n",
        "    cipher = [(ord(char) ** key) % n for char in plaintext]\n",
        "   #Se retorna el cifrado\n",
        "    return cipher"
      ],
      "metadata": {
        "id": "x6Ks8y0zqIX_"
      },
      "execution_count": 68,
      "outputs": []
    },
    {
      "cell_type": "code",
      "source": [
        "from IPython.core.interactiveshell import ListType\n",
        "message = input(\"Ingrese por favor un mensaje para cifrar con la llave publica: \")\n",
        "mensajes_encriptado = encriptar(public, message)\n",
        "print(\" El mensaje ecriptado es: \")\n",
        "print(''.join(map(lambda x: str(x), mensajes_encriptado)))"
      ],
      "metadata": {
        "id": "d9_JCBhdqLof"
      },
      "execution_count": null,
      "outputs": []
    },
    {
      "cell_type": "markdown",
      "source": [
        "***Descencriptar en RSA***\n",
        "\n",
        "Se realiza el descifrado con RSA para validar mas adelante el algoritmo shor.\n"
      ],
      "metadata": {
        "id": "26ojIkAJqOx6"
      }
    },
    {
      "cell_type": "code",
      "source": [
        "def decifrado(pk, ciphertext):\n",
        "    key, n = pk\n",
        "    plain = [chr((char ** key) % n) for char in ciphertext]\n",
        "    return ''.join(plain)"
      ],
      "metadata": {
        "id": "CiMRn1fvqVmz"
      },
      "execution_count": 70,
      "outputs": []
    },
    {
      "cell_type": "code",
      "source": [
        "print(\"Decifrar el mensaje con la llave publica \", public ,\" . . .\")\n",
        "print(\"El mensaje es:\")\n",
        "print(decifrado(private, mensajes_encriptado))"
      ],
      "metadata": {
        "id": "C3gTWSAGqY6d"
      },
      "execution_count": null,
      "outputs": []
    },
    {
      "cell_type": "markdown",
      "source": [
        "# **Implementacion Algoritmo Shor**"
      ],
      "metadata": {
        "id": "12G2HsLloaUR"
      }
    },
    {
      "cell_type": "code",
      "source": [
        "import sys\n",
        "import math\n",
        "import array\n",
        "import fractions\n",
        "import numpy as np\n",
        "\n",
        "\n",
        "def check_if_power(N):\n",
        "    b=2\n",
        "    while (2**b) <= N:\n",
        "        a = 1\n",
        "        c = N\n",
        "        while (c-a) >= 2:\n",
        "            m = int( (a+c)/2 )\n",
        "\n",
        "            if (m**b) < (N+1):\n",
        "                p = int( (m**b) )\n",
        "            else:\n",
        "                p = int(N+1)\n",
        "\n",
        "            if int(p) == int(N):\n",
        "                print('N es {0}^{1}'.format(int(m),int(b)) )\n",
        "                return True\n",
        "\n",
        "            if p<N:\n",
        "                a = int(m)\n",
        "            else:\n",
        "                c = int(m)\n",
        "        b=b+1\n",
        "\n",
        "    return False\n",
        "\n",
        "\n",
        "def get_value_a(N):\n",
        "\n",
        "    ok='0'\n",
        "    a=2\n",
        "\n",
        "    while math.gcd(a,N)!=1:\n",
        "        a=a+1\n",
        "\n",
        "    smallest_a = a\n",
        "    ok = input('Esta bien el numero {0} para a? Presione  0 si no, otro numero si si: '.format(a))\n",
        "    if ok=='0':\n",
        "        if(N==3):\n",
        "            print('El número {0} es el único que puede usar. Usar {1} como valor para a\\n'.format(a,a))\n",
        "            return a\n",
        "        a=a+1\n",
        "\n",
        "\n",
        "    while ok=='0':\n",
        "        \n",
        "\n",
        "        while math.gcd(a,N)!=1:\n",
        "            a=a+1\n",
        "  \n",
        "        ok = input('Está bien el número {0} para a? Presione 0 si no, otro número si es así: '.format(a))\n",
        "        if ok!='0':\n",
        "            break\n",
        "\n",
        "        a=a+1\n",
        "\n",
        "        if a>(N-1):\n",
        "            print('Rechazaste todas las opciones para el valor a, seleccionando la más pequeña\\n')\n",
        "            a=smallest_a\n",
        "            break\n",
        "\n",
        "    print('Usando {0} como valor para a\\n'.format(a))\n",
        "\n",
        "    return a\n",
        "\n",
        "\n",
        "\n",
        "def get_factors(x_value,t_upper,N,a):\n",
        "\n",
        "    if x_value<=0:\n",
        "        print('x_value es <= 0, no hay fracciones continuas\\n')\n",
        "        return False\n",
        "\n",
        "    print('Corriendo fracciones continuas para este caso\\n')\n",
        "\n",
        "#Calcular T y x/T\n",
        "\n",
        "    T = pow(2,t_upper)\n",
        "\n",
        "    x_over_T = x_value/T\n",
        "\n",
        "\n",
        "    i=0\n",
        "    b = array.array('i')\n",
        "    t = array.array('f')\n",
        "\n",
        "    b.append(math.floor(x_over_T))\n",
        "    t.append(x_over_T - b[i])\n",
        "\n",
        "    while i>=0:\n",
        "\n",
        "        if i>0:\n",
        "            b.append( math.floor( 1 / (t[i-1]) ) ) \n",
        "            t.append( ( 1 / (t[i-1]) ) - b[i] )\n",
        "\n",
        "        aux = 0\n",
        "        j=i\n",
        "        while j>0:    \n",
        "            aux = 1 / ( b[j] + aux )      \n",
        "            j = j-1\n",
        "        \n",
        "        aux = aux + b[0]\n",
        "\n",
        "        frac = fractions.Fraction(aux).limit_denominator()\n",
        "        den=frac.denominator\n",
        "\n",
        "        print('Número de aproximación {0} de fracciones continuas:'.format(i+1))\n",
        "        print(\"Numerador:{0} \\t\\t Denominador: {1}\\n\".format(frac.numerator,frac.denominator))\n",
        "\n",
        "        i=i+1\n",
        "\n",
        "        if (den%2) == 1:\n",
        "            if i>=15:\n",
        "                print('Volviendo porque ya he hecho demasiados intentos')\n",
        "                return False\n",
        "            print('Denominador impar, intentará la próxima iteración de fracciones continuas\\n')\n",
        "            continue\n",
        "\n",
        "        exponential = 0\n",
        "\n",
        "        if den<1000:\n",
        "            exponential=pow(a , (den/2))\n",
        "\n",
        "        if math.isinf(exponential)==1 or exponential>1000000000:\n",
        "            print('El denominador de la fracción continua es demasiado grande!\\n')\n",
        "            aux_out = input('Ingrese el número 1 si desea continuar buscando, otro si no lo desea: ')\n",
        "            if aux_out != '1':\n",
        "                return False\n",
        "            else:\n",
        "                continue\n",
        "\n",
        "        putting_plus = int(exponential + 1)\n",
        "\n",
        "        putting_minus = int(exponential - 1)\n",
        "    \n",
        "        one_factor = math.gcd(putting_plus,N)\n",
        "        other_factor = math.gcd(putting_minus,N)\n",
        "    \n",
        "        if one_factor==1 or one_factor==N or other_factor==1 or other_factor==N:\n",
        "            print('Encontré solo factores triviales, no lo suficientemente buenos\\n')\n",
        "            if t[i-1]==0:\n",
        "                print('Las fracciones continuas encontradas exactamente x_final/(2^(2n)) , función de salida\\n')\n",
        "                return False\n",
        "            if i<15:\n",
        "                aux_out = input('Ingrese el número 1 si desea continuar buscando, otro si no lo desea: ')\n",
        "                if aux_out != '1':\n",
        "                    return False       \n",
        "            else:\n",
        "                print('Volviendo porque ya he hecho demasiados intentos\\n')\n",
        "                return False         \n",
        "        else:\n",
        "            print('Los factores de {0} son {1} y {2}\\n'.format(N,one_factor,other_factor))\n",
        "            print('Encontrado los factores deseados!\\n')\n",
        "            return True\n",
        "\n",
        "def egcd(a, b):\n",
        "    if a == 0:\n",
        "        return (b, 0, 1)\n",
        "    else:\n",
        "        g, y, x = egcd(b % a, a)\n",
        "        return (g, x - (b // a) * y, y)\n",
        "def modinv(a, m):\n",
        "    g, x, y = egcd(a, m)\n",
        "    if g != 1:\n",
        "        raise Exception('El inverso modular no existe')\n",
        "    else:\n",
        "        return x % m\n",
        "\n",
        "def create_QFT(circuit,up_reg,n,with_swaps):\n",
        "    i=n-1\n",
        "\n",
        "  #Aplicar las puertas H y las fases C\n",
        "    while i>=0:\n",
        "        circuit.h(up_reg[i])        \n",
        "        j=i-1  \n",
        "        while j>=0:\n",
        "            if (np.pi)/(pow(2,(i-j))) > 0:\n",
        "                circuit.cp( (np.pi)/(pow(2,(i-j))) , up_reg[i] , up_reg[j] )\n",
        "                j=j-1   \n",
        "        i=i-1  \n",
        "\n",
        "    if with_swaps==1:\n",
        "        i=0\n",
        "        while i < ((n-1)/2):\n",
        "            circuit.swap(up_reg[i], up_reg[n-1-i])\n",
        "            i=i+1\n",
        "\n",
        "def create_inverse_QFT(circuit,up_reg,n,with_swaps):\n",
        "    if with_swaps==1:\n",
        "        i=0\n",
        "        while i < ((n-1)/2):\n",
        "            circuit.swap(up_reg[i], up_reg[n-1-i])\n",
        "            i=i+1\n",
        "    \n",
        "#Aplicar las puertas H y las fases C\n",
        "    i=0\n",
        "    while i<n:\n",
        "        circuit.h(up_reg[i])\n",
        "        if i != n-1:\n",
        "            j=i+1\n",
        "            y=i\n",
        "            while y>=0:\n",
        "                 if (np.pi)/(pow(2,(j-y))) > 0:\n",
        "                    circuit.cp( - (np.pi)/(pow(2,(j-y))) , up_reg[j] , up_reg[y] )\n",
        "                    y=y-1   \n",
        "        i=i+1\n",
        "\n",
        "\n",
        "def getAngles(a,N):\n",
        "    s=bin(int(a))[2:].zfill(N) \n",
        "    angles=np.zeros([N])\n",
        "    for i in range(0, N):\n",
        "        for j in range(i,N):\n",
        "            if s[j]=='1':\n",
        "                angles[N-i-1]+=math.pow(2, -(j-i))\n",
        "        angles[N-i-1]*=np.pi\n",
        "    return angles\n",
        "\n",
        "#Creación de una puerta de fase doblemente controlada\n",
        "def ccphase(circuit,angle,ctl1,ctl2,tgt):\n",
        "    circuit.cp(angle/2,ctl1,tgt)\n",
        "    circuit.cx(ctl2,ctl1)\n",
        "    circuit.cp(-angle/2,ctl1,tgt)\n",
        "    circuit.cx(ctl2,ctl1)\n",
        "    circuit.cp(angle/2,ctl2,tgt)\n",
        "\n",
        "#Creación del circuito que realiza la suma por a en el Espacio de Fourier\n",
        "def phiADD(circuit,q,a,N,inv):\n",
        "    angle=getAngles(a,N)\n",
        "    for i in range(0,N):\n",
        "        if inv==0:\n",
        "            circuit.p(angle[i],q[i])\n",
        "        else:\n",
        "            circuit.p(-angle[i],q[i])\n",
        "\n",
        "def cphiADD(circuit,q,ctl,a,n,inv):\n",
        "    angle=getAngles(a,n)\n",
        "    for i in range(0,n):\n",
        "        if inv==0:\n",
        "            circuit.cp(angle[i],ctl,q[i])\n",
        "        else:\n",
        "            circuit.cp(-angle[i],ctl,q[i])\n",
        "\n",
        "   \n",
        "def ccphiADD(circuit,q,ctl1,ctl2,a,n,inv):\n",
        "    angle=getAngles(a,n)\n",
        "    for i in range(0,n):\n",
        "        if inv==0:\n",
        "            ccphase(circuit,angle[i],ctl1,ctl2,q[i])\n",
        "        else:\n",
        "            ccphase(circuit,-angle[i],ctl1,ctl2,q[i])\n",
        "\n",
        "def ccphiADDmodN(circuit, q, ctl1, ctl2, aux, a, N, n):\n",
        "    ccphiADD(circuit, q, ctl1, ctl2, a, n, 0)\n",
        "    phiADD(circuit, q, N, n, 1)\n",
        "    create_inverse_QFT(circuit, q, n, 0)\n",
        "    circuit.cx(q[n-1],aux)\n",
        "    create_QFT(circuit,q,n,0)\n",
        "    cphiADD(circuit, q, aux, N, n, 0)\n",
        "    \n",
        "   \n",
        "    ccphiADD(circuit, q, ctl1, ctl2, a, n, 1)\n",
        "    create_inverse_QFT(circuit, q, n, 0)\n",
        "    circuit.x(q[n-1])\n",
        "    circuit.cx(q[n-1], aux)\n",
        "    circuit.x(q[n-1])\n",
        "    create_QFT(circuit,q,n,0)\n",
        "    ccphiADD(circuit, q, ctl1, ctl2, a, n, 0)\n",
        "\n",
        "def ccphiADDmodN_inv(circuit, q, ctl1, ctl2, aux, a, N, n):\n",
        "    ccphiADD(circuit, q, ctl1, ctl2, a, n, 1)\n",
        "    create_inverse_QFT(circuit, q, n, 0)\n",
        "    circuit.x(q[n-1])\n",
        "    circuit.cx(q[n-1],aux)\n",
        "    circuit.x(q[n-1])\n",
        "    create_QFT(circuit, q, n, 0)\n",
        "    ccphiADD(circuit, q, ctl1, ctl2, a, n, 0)\n",
        "    cphiADD(circuit, q, aux, N, n, 1)\n",
        "    create_inverse_QFT(circuit, q, n, 0)\n",
        "    circuit.cx(q[n-1], aux)\n",
        "    create_QFT(circuit, q, n, 0)\n",
        "    phiADD(circuit, q, N, n, 0)\n",
        "    ccphiADD(circuit, q, ctl1, ctl2, a, n, 1)\n",
        "\n",
        "\n",
        "def cMULTmodN(circuit, ctl, q, aux, a, N, n):\n",
        "    create_QFT(circuit,aux,n+1,0)\n",
        "    for i in range(0, n):\n",
        "        ccphiADDmodN(circuit, aux, q[i], ctl, aux[n+1], (2**i)*a % N, N, n+1)\n",
        "    create_inverse_QFT(circuit, aux, n+1, 0)\n",
        "\n",
        "    for i in range(0, n):\n",
        "        circuit.cswap(ctl,q[i],aux[i])\n",
        "\n",
        "    a_inv = modinv(a, N)\n",
        "    create_QFT(circuit, aux, n+1, 0)\n",
        "    i = n-1\n",
        "    while i >= 0:\n",
        "        ccphiADDmodN_inv(circuit, aux, q[i], ctl, aux[n+1], math.pow(2,i)*a_inv % N, N, n+1)\n",
        "        i -= 1\n",
        "    create_inverse_QFT(circuit, aux, n+1, 0)\n",
        "\n",
        "\n",
        "if __name__ == '__main__':\n",
        "\n",
        "\n",
        "\n",
        "    N = int(input('Por favor, inserte el número entero N: '))\n",
        "\n",
        "    print('el número de entrada fue: {0}\\n'.format(N))\n",
        "\n",
        "    if N==1 or N==0: \n",
        "       print('Por favor ponga una N diferente de 0 y de 1')\n",
        "       exit()\n",
        "  \n",
        "    if (N%2)==0:\n",
        "        print('N es par, ¡así que no tiene sentido!')\n",
        "        exit()\n",
        "\n",
        "    if check_if_power(N)==True:\n",
        "       exit()\n",
        "\n",
        "    print('No es un caso fácil, es necesario usar el circuito cuántico\\n')\n",
        "\n",
        "\n",
        "\n",
        "    a = get_value_a(N)\n",
        "\n",
        "    N=p\n",
        "    a=q\n",
        "\n",
        "    n = math.ceil(math.log(N,2))\n",
        "    \n",
        "    print('Número total de qubits utilizados: {0}\\n'.format(4*n+2))\n",
        "\n",
        "\n",
        "    aux = QuantumRegister(n+2)\n",
        "\n",
        "    up_reg = QuantumRegister(2*n)\n",
        "\n",
        "    down_reg = QuantumRegister(n)\n",
        "\n",
        "    up_classic = ClassicalRegister(2*n)\n",
        "\n",
        "\n",
        "    circuit = QuantumCircuit(down_reg , up_reg , aux, up_classic)\n",
        "    circuit.h(up_reg)\n",
        "    circuit.x(down_reg[0])\n",
        "\n",
        "\n",
        "    for i in range(0, 2*n):\n",
        "        cMULTmodN(circuit, up_reg[i], down_reg, aux, int(pow(a, pow(2, i))), N, n)\n",
        "\n",
        "    create_inverse_QFT(circuit, up_reg, 2*n ,1)\n",
        "\n",
        "    circuit.measure(up_reg,up_classic)\n",
        "\n",
        "    number_shots=int(input('Número de veces para ejecutar el circuito: '))\n",
        "    if number_shots < 1:\n",
        "        print('Ejecute el circuito al menos una vez...')\n",
        "        exit()\n",
        "\n",
        "    if number_shots > 1:\n",
        "        print('\\nSi el circuito tarda demasiado en ejecutarse, considere ejecutarlo menos veces\\n')\n",
        "\n",
        "    print('Ejecutando el circuito {0} veces para el mensaje\\n')\n",
        "    print(''.join(map(lambda x: str(x), mensajes_encriptado))) \n",
        "\n",
        "    simulation = execute(circuit, backend=BasicAer.get_backend('qasm_simulator'),shots=number_shots)\n",
        "\n",
        "    sim_result=simulation.result()\n",
        "    counts_result = sim_result.get_counts(circuit)\n",
        "\n",
        "    print('Imprimiendo los diversos resultados seguidos de cuántas veces sucedieron (de los {} casos):\\n'.format(number_shots))\n",
        "    i=0\n",
        "    while i < len(counts_result):\n",
        "        print('Resultado \\\"{0}\\\" sucedió {1} veces de {2}'.format(list(sim_result.get_counts().keys())[i],list(sim_result.get_counts().values())[i],number_shots))\n",
        "        i=i+1\n",
        "\n",
        "    print(' ')\n",
        "\n",
        "    prob_success=0\n",
        "\n",
        "    i=0\n",
        "    while i < len(counts_result):\n",
        "\n",
        "        output_desired = list(sim_result.get_counts().keys())[i]\n",
        "        x_value = int(output_desired, 2)\n",
        "        prob_this_result = 100 * ( int( list(sim_result.get_counts().values())[i] ) ) / (number_shots)\n",
        "\n",
        "        print(\"------> Analizando el resultado {0}. Este resultado ocurrió en {1:.4f} % de todos los casos\\n\".format(output_desired,prob_this_result))\n",
        "\n",
        "        print('En decimal, el valor x_final para este resultado es:{0}\\n'.format(x_value))\n",
        "\n",
        " \n",
        "        success=get_factors(int(x_value),int(2*n),int(N),int(a))\n",
        "        \n",
        "        if success==True:\n",
        "            prob_success = prob_success + prob_this_result\n",
        "\n",
        "        i=i+1\n",
        "        print(' ')  \n",
        "        print(' ')\n",
        "        print(\"Mensaje Descifrado de RSA: \"+message)"
      ],
      "metadata": {
        "id": "W6lTLrq4pYDi"
      },
      "execution_count": null,
      "outputs": []
    },
    {
      "cell_type": "markdown",
      "source": [
        "# **Conclusiones**"
      ],
      "metadata": {
        "id": "xmUNV74zXXp1"
      }
    },
    {
      "cell_type": "markdown",
      "source": [
        "A lo largo de la investigacion se puede concluir que el algortimo cuantico de Shor es una alternativa viable y eficiente al ejecutar varias veces la parte cuantica  de la estimación de fase y puede convertirse en una herramienta útil para romper la criptografía RSA.\n",
        "\n",
        "\n",
        "El algortimo Shor permite visualizar y desarrollar los principales  esultados de la computación cuántica. Desde la definición de qubit y de las diferentes puertas cuánticas hasta poder definir un circuito que nos permita realizar la exponenciación modular o aplicar la transformada de Fourier.\n",
        "\n",
        "Cabe mencionar que para el algortimo RSA o cualquier otro algortimo, el algortimo de Shor requiere de la ejecucion en un sistema de computo no convencional, pues esto es lo que caracteriza al RSA en cuanto a su seguridad, llevandolo a ser el algortimo con alto indice de seguridad y ser el mas fuerte ante ataques por algortimo de factorizacion entera.\n",
        "\n",
        "Para comprender todos los conceptos y la funcionalidad de lo que significa un qubit, las compuertas, superposicion, producto tensorial, etc, fue muy importante la guia, y conocimiento compratido en el curso de Computacion cuantica, haciendolo escencial para entender la optimizacion desde un algoritmo cuantico.\n",
        "\n",
        "Gracias a este proyecto, el analisis de este algortimo denoto la necesidad de una teoria y una practica, llevandolo a un 50-50 teniendo una dependencia en esta experiencia de la computacion cuantica."
      ],
      "metadata": {
        "id": "Jk35vuUcXdAF"
      }
    },
    {
      "cell_type": "markdown",
      "source": [
        "# **Webgrafia**"
      ],
      "metadata": {
        "id": "rcfZuRMexnQ8"
      }
    },
    {
      "cell_type": "markdown",
      "source": [
        "\n",
        "\n",
        "1.   RSA: ¿Cómo funciona este algoritmo de cifrado? - Junco TIC. (s.f.). Junco TIC. https://juncotic.com/rsa-como-funciona-este-algoritmo/\n",
        "\n",
        "2.   Algoritmo de Shor ProcedimientoyExplicación del algoritmo. (s.f.). leer wikipedia con nuevo diseño. https://hmong.es/wiki/Shor's_algorithm\n",
        "\n",
        "3. ¿Qué es RSA en criptografía? | KeepCoding Tech School. (s.f.). KeepCoding Tech School. https://keepcoding.io/blog/que-es-rsa-en-criptografia/#:~:text=El%20RSA%20es%20un%20sistema,«factorización%20de%20números%20enteros».\n",
        "\n",
        "4. Funcionamiento del algoritmo RSA | WeLiveSecurity. (s.f.). WeLiveSecurity. https://www.welivesecurity.com/la-es/2013/01/18/funcionamiento-del-algoritmo-rsa/\n",
        "\n",
        "5. (s.f.). Apache2 Ubuntu Default Page: It works. http://metodos.fam.cie.uva.es/~latex/apuntes/apuntes3.pdf\n",
        "\n",
        "6. RSA > Información, Biografia, Archivo, Historia. (s.f.). WIKIDAT. https://es.wikidat.com/info/rsa\n",
        "\n",
        "7. Qiskit. (2021, 2 de julio). The Story of Shor's Algorithm, Straight From the Source | Peter Shor [Video]. YouTube. https://www.youtube.com/watch?v=6qD9XElTpCE\n",
        "\n",
        "8. RIGOLIN, Gustavo and RIEZNIK, Aníbal A. Introduction to Quantum\n",
        "Cryptography. Revista Brasileira de Ensino de Fisica, v. 27, n. 2005\n",
        "\n",
        "9. Colaboradores de los proyectos Wikimedia. (2005, 23 de enero). Algoritmo de Shor - Wikipedia, la enciclopedia libre. Wikipedia, la enciclopedia libre. https://es.wikipedia.org/wiki/Algoritmo_de_Shor#:~:text=El%20algoritmo%20de%20Shor%20fue,computadora%20cuántica%20con%207%20qubits.\n",
        "\n",
        "10. (s.f.). qiskit.org. https://qiskit.org/documentation/locale/es_UN/tutorials/algorithms/08_factorizers.html\n",
        "\n",
        "11. (s.f.). Dipòsit Digital de la Universitat de Barcelona: Home. http://diposit.ub.edu/dspace/bitstream/2445/189222/3/tfg_cano_pradas_juan.pdf"
      ],
      "metadata": {
        "id": "ZAvUhs4iO2IP"
      }
    }
  ]
}