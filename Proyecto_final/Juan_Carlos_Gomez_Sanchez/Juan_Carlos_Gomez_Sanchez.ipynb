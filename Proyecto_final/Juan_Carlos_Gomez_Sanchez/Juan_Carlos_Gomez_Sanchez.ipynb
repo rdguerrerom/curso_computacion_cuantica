{
  "nbformat": 4,
  "nbformat_minor": 0,
  "metadata": {
    "colab": {
      "provenance": [],
      "authorship_tag": "ABX9TyO3ZUqqA+44BPe+dWAdsfy3",
      "include_colab_link": true
    },
    "kernelspec": {
      "name": "python3",
      "display_name": "Python 3"
    },
    "language_info": {
      "name": "python"
    }
  },
  "cells": [
    {
      "cell_type": "markdown",
      "metadata": {
        "id": "view-in-github",
        "colab_type": "text"
      },
      "source": [
        "<a href=\"https://colab.research.google.com/github/JuanCGomezS/curso_computacion_cuantica/blob/patch-1/Proyecto_final/Juan_Carlos_Gomez_Sanchez/Juan_Carlos_Gomez_Sanchez.ipynb\" target=\"_parent\"><img src=\"https://colab.research.google.com/assets/colab-badge.svg\" alt=\"Open In Colab\"/></a>"
      ]
    },
    {
      "cell_type": "markdown",
      "source": [
        "# PROYECTO FINAL CUÁNTICA\n",
        "NOMBRE: JUAN CARLOS\n",
        " GOMEZ SANCHEZ\n",
        "CÓDIGO: 20212678031"
      ],
      "metadata": {
        "id": "V9C1ahRXoJ1_"
      }
    },
    {
      "cell_type": "markdown",
      "source": [
        "## DESARROLLO INVESTIGACIÓN CIRCUITOS CUÁNTICOS"
      ],
      "metadata": {
        "id": "lZRDBm-7o7JS"
      }
    },
    {
      "cell_type": "markdown",
      "source": [
        "### **¿QUE?**"
      ],
      "metadata": {
        "id": "LGFeEDamo-iB"
      }
    },
    {
      "cell_type": "markdown",
      "source": [
        "Realizaré una investigación sobre diferentes algoritmos utilizados para la computación cuántica, Donde se explicarán conceptos básicos y la forma de implementar cada uno de estos algoritmos cuánticos. Según lo investigado hasta el momento me he encontrado con unos algoritmos como:\n",
        "\n",
        "- Algoritmo de Grover\n",
        "- Algoritmo de Bernstein-Vazirani\n",
        "- Algoritmo de Deutsch-Jozsa\n",
        "- Algoritmo de Shor\n",
        "\n",
        "Considero que indagar sobre estos algoritmos y buscar información para intentar replicar los algoritmos resultaría apropiado para lo que se requiere en la materia, ya que dentro de ellos se ven y analizan muchos conceptos de la computación cuántica. La principal razón por la que se planea realizar esta investigación es para mejorar los conocimientos sobre computación cuántica, así mismo involucrarme con cada algoritmo me abre la puerta para en un futuro poder utilizar esto con diferentes funcionalidades y para otras investigaciones."
      ],
      "metadata": {
        "id": "Fh-O-jIZpDKp"
      }
    },
    {
      "cell_type": "markdown",
      "source": [
        "### **¿COMO?**"
      ],
      "metadata": {
        "id": "zVXBsXYYpNxr"
      }
    },
    {
      "cell_type": "markdown",
      "source": [
        "Inicialmente trazando una línea investigativa donde se presentarán algunos conceptos básicos vistos en clase y otros que no, y que sirvan de apoyo para entender de una mejor manera cada algoritmo, después de esto, procederé a obtener información sobre cada uno utilizando la información original, pero también apoyándome de la información alojada en sitios WEB y foros de internet.\n",
        "Finalmente, tomaré los datos recopilados que sean necesarios para plantear un ejemplo de cada algoritmo y así poder sustentar los resultados de la investigación, mostrando el algoritmo y su funcionamiento, siendo así una parte teórica y otra práctica."
      ],
      "metadata": {
        "id": "YFwL5nbDpT_D"
      }
    },
    {
      "cell_type": "markdown",
      "source": [
        "### **¿CUÁNDO?**"
      ],
      "metadata": {
        "id": "iIH7VWJbpWuj"
      }
    },
    {
      "cell_type": "markdown",
      "source": [
        "Para la elaboración de la investigación se ha dispuesto un cronograma por el profesor, el cual tiene una fecha de inicio desde el 24/10/2022 y fecha de finalización aproximada en 15/12/2022, significa que se tienen alrededor de 52 días para realizar los descrito anteriormente. siendo este el proyecto final de la materia COMPUTACIÓN CUÁNTICA."
      ],
      "metadata": {
        "id": "I-e3hrndpbcq"
      }
    },
    {
      "cell_type": "markdown",
      "source": [
        "###**¿DÓNDE?**"
      ],
      "metadata": {
        "id": "Yv4C6ymTpdH0"
      }
    },
    {
      "cell_type": "markdown",
      "source": [
        "El desarrollo de esta investigación se planea dividir en dos secciones, una teórica y otra práctica. Para la parte teórica que es donde estará la investigación, se realizar inicialmente en Microsoft WORD, donde después será añadido al repositorio. Continuando con la parte práctica que es donde estará el desarrollo de cada algoritmo, se plantea hacer uso de la herramienta COLAB de GOOGLE, utilizando código Python."
      ],
      "metadata": {
        "id": "hHs7bZxbpf7i"
      }
    },
    {
      "cell_type": "code",
      "source": [
        "# Instalación\n",
        "!pip install git+https://github.com/qiskit-community/qiskit-textbook.git#subdirectory=qiskit-textbook-src"
      ],
      "metadata": {
        "colab": {
          "base_uri": "https://localhost:8080/"
        },
        "id": "flUcYioCqwKH",
        "outputId": "f99ba5d8-ab37-40f9-bd23-55751aa34882"
      },
      "execution_count": null,
      "outputs": [
        {
          "output_type": "stream",
          "name": "stdout",
          "text": [
            "Looking in indexes: https://pypi.org/simple, https://us-python.pkg.dev/colab-wheels/public/simple/\n",
            "Collecting git+https://github.com/qiskit-community/qiskit-textbook.git#subdirectory=qiskit-textbook-src\n",
            "  Cloning https://github.com/qiskit-community/qiskit-textbook.git to /tmp/pip-req-build-8epudhcf\n",
            "  Running command git clone -q https://github.com/qiskit-community/qiskit-textbook.git /tmp/pip-req-build-8epudhcf\n",
            "Requirement already satisfied: qiskit in /usr/local/lib/python3.8/dist-packages (from qiskit-textbook==0.1.0) (0.39.4)\n",
            "Requirement already satisfied: ipython in /usr/local/lib/python3.8/dist-packages (from qiskit-textbook==0.1.0) (7.9.0)\n",
            "Requirement already satisfied: ipywidgets in /usr/local/lib/python3.8/dist-packages (from qiskit-textbook==0.1.0) (7.7.1)\n",
            "Requirement already satisfied: numpy in /usr/local/lib/python3.8/dist-packages (from qiskit-textbook==0.1.0) (1.21.6)\n",
            "Requirement already satisfied: matplotlib in /usr/local/lib/python3.8/dist-packages (from qiskit-textbook==0.1.0) (3.2.2)\n",
            "Requirement already satisfied: numexpr in /usr/local/lib/python3.8/dist-packages (from qiskit-textbook==0.1.0) (2.8.4)\n",
            "Requirement already satisfied: pickleshare in /usr/local/lib/python3.8/dist-packages (from ipython->qiskit-textbook==0.1.0) (0.7.5)\n",
            "Requirement already satisfied: setuptools>=18.5 in /usr/local/lib/python3.8/dist-packages (from ipython->qiskit-textbook==0.1.0) (57.4.0)\n",
            "Requirement already satisfied: decorator in /usr/local/lib/python3.8/dist-packages (from ipython->qiskit-textbook==0.1.0) (4.4.2)\n",
            "Requirement already satisfied: pygments in /usr/local/lib/python3.8/dist-packages (from ipython->qiskit-textbook==0.1.0) (2.6.1)\n",
            "Requirement already satisfied: jedi>=0.10 in /usr/local/lib/python3.8/dist-packages (from ipython->qiskit-textbook==0.1.0) (0.18.2)\n",
            "Requirement already satisfied: backcall in /usr/local/lib/python3.8/dist-packages (from ipython->qiskit-textbook==0.1.0) (0.2.0)\n",
            "Requirement already satisfied: prompt-toolkit<2.1.0,>=2.0.0 in /usr/local/lib/python3.8/dist-packages (from ipython->qiskit-textbook==0.1.0) (2.0.10)\n",
            "Requirement already satisfied: pexpect in /usr/local/lib/python3.8/dist-packages (from ipython->qiskit-textbook==0.1.0) (4.8.0)\n",
            "Requirement already satisfied: traitlets>=4.2 in /usr/local/lib/python3.8/dist-packages (from ipython->qiskit-textbook==0.1.0) (5.6.0)\n",
            "Requirement already satisfied: parso<0.9.0,>=0.8.0 in /usr/local/lib/python3.8/dist-packages (from jedi>=0.10->ipython->qiskit-textbook==0.1.0) (0.8.3)\n",
            "Requirement already satisfied: six>=1.9.0 in /usr/local/lib/python3.8/dist-packages (from prompt-toolkit<2.1.0,>=2.0.0->ipython->qiskit-textbook==0.1.0) (1.15.0)\n",
            "Requirement already satisfied: wcwidth in /usr/local/lib/python3.8/dist-packages (from prompt-toolkit<2.1.0,>=2.0.0->ipython->qiskit-textbook==0.1.0) (0.2.5)\n",
            "Requirement already satisfied: widgetsnbextension~=3.6.0 in /usr/local/lib/python3.8/dist-packages (from ipywidgets->qiskit-textbook==0.1.0) (3.6.1)\n",
            "Requirement already satisfied: ipython-genutils~=0.2.0 in /usr/local/lib/python3.8/dist-packages (from ipywidgets->qiskit-textbook==0.1.0) (0.2.0)\n",
            "Requirement already satisfied: jupyterlab-widgets>=1.0.0 in /usr/local/lib/python3.8/dist-packages (from ipywidgets->qiskit-textbook==0.1.0) (3.0.3)\n",
            "Requirement already satisfied: ipykernel>=4.5.1 in /usr/local/lib/python3.8/dist-packages (from ipywidgets->qiskit-textbook==0.1.0) (5.3.4)\n",
            "Requirement already satisfied: jupyter-client in /usr/local/lib/python3.8/dist-packages (from ipykernel>=4.5.1->ipywidgets->qiskit-textbook==0.1.0) (6.1.12)\n",
            "Requirement already satisfied: tornado>=4.2 in /usr/local/lib/python3.8/dist-packages (from ipykernel>=4.5.1->ipywidgets->qiskit-textbook==0.1.0) (6.0.4)\n",
            "Requirement already satisfied: notebook>=4.4.1 in /usr/local/lib/python3.8/dist-packages (from widgetsnbextension~=3.6.0->ipywidgets->qiskit-textbook==0.1.0) (5.7.16)\n",
            "Requirement already satisfied: jinja2<=3.0.0 in /usr/local/lib/python3.8/dist-packages (from notebook>=4.4.1->widgetsnbextension~=3.6.0->ipywidgets->qiskit-textbook==0.1.0) (2.11.3)\n",
            "Requirement already satisfied: prometheus-client in /usr/local/lib/python3.8/dist-packages (from notebook>=4.4.1->widgetsnbextension~=3.6.0->ipywidgets->qiskit-textbook==0.1.0) (0.15.0)\n",
            "Requirement already satisfied: Send2Trash in /usr/local/lib/python3.8/dist-packages (from notebook>=4.4.1->widgetsnbextension~=3.6.0->ipywidgets->qiskit-textbook==0.1.0) (1.8.0)\n",
            "Requirement already satisfied: nbformat in /usr/local/lib/python3.8/dist-packages (from notebook>=4.4.1->widgetsnbextension~=3.6.0->ipywidgets->qiskit-textbook==0.1.0) (5.7.0)\n",
            "Requirement already satisfied: pyzmq>=17 in /usr/local/lib/python3.8/dist-packages (from notebook>=4.4.1->widgetsnbextension~=3.6.0->ipywidgets->qiskit-textbook==0.1.0) (23.2.1)\n",
            "Requirement already satisfied: terminado>=0.8.1 in /usr/local/lib/python3.8/dist-packages (from notebook>=4.4.1->widgetsnbextension~=3.6.0->ipywidgets->qiskit-textbook==0.1.0) (0.13.3)\n",
            "Requirement already satisfied: jupyter-core>=4.4.0 in /usr/local/lib/python3.8/dist-packages (from notebook>=4.4.1->widgetsnbextension~=3.6.0->ipywidgets->qiskit-textbook==0.1.0) (5.1.0)\n",
            "Requirement already satisfied: nbconvert<6.0 in /usr/local/lib/python3.8/dist-packages (from notebook>=4.4.1->widgetsnbextension~=3.6.0->ipywidgets->qiskit-textbook==0.1.0) (5.6.1)\n",
            "Requirement already satisfied: MarkupSafe>=0.23 in /usr/local/lib/python3.8/dist-packages (from jinja2<=3.0.0->notebook>=4.4.1->widgetsnbextension~=3.6.0->ipywidgets->qiskit-textbook==0.1.0) (2.0.1)\n",
            "Requirement already satisfied: python-dateutil>=2.1 in /usr/local/lib/python3.8/dist-packages (from jupyter-client->ipykernel>=4.5.1->ipywidgets->qiskit-textbook==0.1.0) (2.8.2)\n",
            "Requirement already satisfied: platformdirs>=2.5 in /usr/local/lib/python3.8/dist-packages (from jupyter-core>=4.4.0->notebook>=4.4.1->widgetsnbextension~=3.6.0->ipywidgets->qiskit-textbook==0.1.0) (2.5.4)\n",
            "Requirement already satisfied: defusedxml in /usr/local/lib/python3.8/dist-packages (from nbconvert<6.0->notebook>=4.4.1->widgetsnbextension~=3.6.0->ipywidgets->qiskit-textbook==0.1.0) (0.7.1)\n",
            "Requirement already satisfied: mistune<2,>=0.8.1 in /usr/local/lib/python3.8/dist-packages (from nbconvert<6.0->notebook>=4.4.1->widgetsnbextension~=3.6.0->ipywidgets->qiskit-textbook==0.1.0) (0.8.4)\n",
            "Requirement already satisfied: entrypoints>=0.2.2 in /usr/local/lib/python3.8/dist-packages (from nbconvert<6.0->notebook>=4.4.1->widgetsnbextension~=3.6.0->ipywidgets->qiskit-textbook==0.1.0) (0.4)\n",
            "Requirement already satisfied: testpath in /usr/local/lib/python3.8/dist-packages (from nbconvert<6.0->notebook>=4.4.1->widgetsnbextension~=3.6.0->ipywidgets->qiskit-textbook==0.1.0) (0.6.0)\n",
            "Requirement already satisfied: pandocfilters>=1.4.1 in /usr/local/lib/python3.8/dist-packages (from nbconvert<6.0->notebook>=4.4.1->widgetsnbextension~=3.6.0->ipywidgets->qiskit-textbook==0.1.0) (1.5.0)\n",
            "Requirement already satisfied: bleach in /usr/local/lib/python3.8/dist-packages (from nbconvert<6.0->notebook>=4.4.1->widgetsnbextension~=3.6.0->ipywidgets->qiskit-textbook==0.1.0) (5.0.1)\n",
            "Requirement already satisfied: fastjsonschema in /usr/local/lib/python3.8/dist-packages (from nbformat->notebook>=4.4.1->widgetsnbextension~=3.6.0->ipywidgets->qiskit-textbook==0.1.0) (2.16.2)\n",
            "Requirement already satisfied: jsonschema>=2.6 in /usr/local/lib/python3.8/dist-packages (from nbformat->notebook>=4.4.1->widgetsnbextension~=3.6.0->ipywidgets->qiskit-textbook==0.1.0) (4.3.3)\n",
            "Requirement already satisfied: attrs>=17.4.0 in /usr/local/lib/python3.8/dist-packages (from jsonschema>=2.6->nbformat->notebook>=4.4.1->widgetsnbextension~=3.6.0->ipywidgets->qiskit-textbook==0.1.0) (22.1.0)\n",
            "Requirement already satisfied: pyrsistent!=0.17.0,!=0.17.1,!=0.17.2,>=0.14.0 in /usr/local/lib/python3.8/dist-packages (from jsonschema>=2.6->nbformat->notebook>=4.4.1->widgetsnbextension~=3.6.0->ipywidgets->qiskit-textbook==0.1.0) (0.19.2)\n",
            "Requirement already satisfied: importlib-resources>=1.4.0 in /usr/local/lib/python3.8/dist-packages (from jsonschema>=2.6->nbformat->notebook>=4.4.1->widgetsnbextension~=3.6.0->ipywidgets->qiskit-textbook==0.1.0) (5.10.0)\n",
            "Requirement already satisfied: zipp>=3.1.0 in /usr/local/lib/python3.8/dist-packages (from importlib-resources>=1.4.0->jsonschema>=2.6->nbformat->notebook>=4.4.1->widgetsnbextension~=3.6.0->ipywidgets->qiskit-textbook==0.1.0) (3.11.0)\n",
            "Requirement already satisfied: ptyprocess in /usr/local/lib/python3.8/dist-packages (from terminado>=0.8.1->notebook>=4.4.1->widgetsnbextension~=3.6.0->ipywidgets->qiskit-textbook==0.1.0) (0.7.0)\n",
            "Requirement already satisfied: webencodings in /usr/local/lib/python3.8/dist-packages (from bleach->nbconvert<6.0->notebook>=4.4.1->widgetsnbextension~=3.6.0->ipywidgets->qiskit-textbook==0.1.0) (0.5.1)\n",
            "Requirement already satisfied: pyparsing!=2.0.4,!=2.1.2,!=2.1.6,>=2.0.1 in /usr/local/lib/python3.8/dist-packages (from matplotlib->qiskit-textbook==0.1.0) (3.0.9)\n",
            "Requirement already satisfied: kiwisolver>=1.0.1 in /usr/local/lib/python3.8/dist-packages (from matplotlib->qiskit-textbook==0.1.0) (1.4.4)\n",
            "Requirement already satisfied: cycler>=0.10 in /usr/local/lib/python3.8/dist-packages (from matplotlib->qiskit-textbook==0.1.0) (0.11.0)\n",
            "Requirement already satisfied: qiskit-terra==0.22.3 in /usr/local/lib/python3.8/dist-packages (from qiskit->qiskit-textbook==0.1.0) (0.22.3)\n",
            "Requirement already satisfied: qiskit-ibmq-provider==0.19.2 in /usr/local/lib/python3.8/dist-packages (from qiskit->qiskit-textbook==0.1.0) (0.19.2)\n",
            "Requirement already satisfied: qiskit-aer==0.11.2 in /usr/local/lib/python3.8/dist-packages (from qiskit->qiskit-textbook==0.1.0) (0.11.2)\n",
            "Requirement already satisfied: scipy>=1.0 in /usr/local/lib/python3.8/dist-packages (from qiskit-aer==0.11.2->qiskit->qiskit-textbook==0.1.0) (1.7.3)\n",
            "Requirement already satisfied: websockets>=10.0 in /usr/local/lib/python3.8/dist-packages (from qiskit-ibmq-provider==0.19.2->qiskit->qiskit-textbook==0.1.0) (10.4)\n",
            "Requirement already satisfied: requests>=2.19 in /usr/local/lib/python3.8/dist-packages (from qiskit-ibmq-provider==0.19.2->qiskit->qiskit-textbook==0.1.0) (2.23.0)\n",
            "Requirement already satisfied: requests-ntlm>=1.1.0 in /usr/local/lib/python3.8/dist-packages (from qiskit-ibmq-provider==0.19.2->qiskit->qiskit-textbook==0.1.0) (1.1.0)\n",
            "Requirement already satisfied: websocket-client>=1.0.1 in /usr/local/lib/python3.8/dist-packages (from qiskit-ibmq-provider==0.19.2->qiskit->qiskit-textbook==0.1.0) (1.4.2)\n",
            "Requirement already satisfied: urllib3>=1.21.1 in /usr/local/lib/python3.8/dist-packages (from qiskit-ibmq-provider==0.19.2->qiskit->qiskit-textbook==0.1.0) (1.24.3)\n",
            "Requirement already satisfied: stevedore>=3.0.0 in /usr/local/lib/python3.8/dist-packages (from qiskit-terra==0.22.3->qiskit->qiskit-textbook==0.1.0) (4.1.1)\n",
            "Requirement already satisfied: symengine>=0.9 in /usr/local/lib/python3.8/dist-packages (from qiskit-terra==0.22.3->qiskit->qiskit-textbook==0.1.0) (0.9.2)\n",
            "Requirement already satisfied: dill>=0.3 in /usr/local/lib/python3.8/dist-packages (from qiskit-terra==0.22.3->qiskit->qiskit-textbook==0.1.0) (0.3.6)\n",
            "Requirement already satisfied: tweedledum<2.0,>=1.1 in /usr/local/lib/python3.8/dist-packages (from qiskit-terra==0.22.3->qiskit->qiskit-textbook==0.1.0) (1.1.1)\n",
            "Requirement already satisfied: sympy>=1.3 in /usr/local/lib/python3.8/dist-packages (from qiskit-terra==0.22.3->qiskit->qiskit-textbook==0.1.0) (1.7.1)\n",
            "Requirement already satisfied: ply>=3.10 in /usr/local/lib/python3.8/dist-packages (from qiskit-terra==0.22.3->qiskit->qiskit-textbook==0.1.0) (3.11)\n",
            "Requirement already satisfied: psutil>=5 in /usr/local/lib/python3.8/dist-packages (from qiskit-terra==0.22.3->qiskit->qiskit-textbook==0.1.0) (5.4.8)\n",
            "Requirement already satisfied: retworkx>=0.11.0 in /usr/local/lib/python3.8/dist-packages (from qiskit-terra==0.22.3->qiskit->qiskit-textbook==0.1.0) (0.12.1)\n",
            "Requirement already satisfied: idna<3,>=2.5 in /usr/local/lib/python3.8/dist-packages (from requests>=2.19->qiskit-ibmq-provider==0.19.2->qiskit->qiskit-textbook==0.1.0) (2.10)\n",
            "Requirement already satisfied: chardet<4,>=3.0.2 in /usr/local/lib/python3.8/dist-packages (from requests>=2.19->qiskit-ibmq-provider==0.19.2->qiskit->qiskit-textbook==0.1.0) (3.0.4)\n",
            "Requirement already satisfied: certifi>=2017.4.17 in /usr/local/lib/python3.8/dist-packages (from requests>=2.19->qiskit-ibmq-provider==0.19.2->qiskit->qiskit-textbook==0.1.0) (2022.9.24)\n",
            "Requirement already satisfied: ntlm-auth>=1.0.2 in /usr/local/lib/python3.8/dist-packages (from requests-ntlm>=1.1.0->qiskit-ibmq-provider==0.19.2->qiskit->qiskit-textbook==0.1.0) (1.5.0)\n",
            "Requirement already satisfied: cryptography>=1.3 in /usr/local/lib/python3.8/dist-packages (from requests-ntlm>=1.1.0->qiskit-ibmq-provider==0.19.2->qiskit->qiskit-textbook==0.1.0) (38.0.4)\n",
            "Requirement already satisfied: cffi>=1.12 in /usr/local/lib/python3.8/dist-packages (from cryptography>=1.3->requests-ntlm>=1.1.0->qiskit-ibmq-provider==0.19.2->qiskit->qiskit-textbook==0.1.0) (1.15.1)\n",
            "Requirement already satisfied: pycparser in /usr/local/lib/python3.8/dist-packages (from cffi>=1.12->cryptography>=1.3->requests-ntlm>=1.1.0->qiskit-ibmq-provider==0.19.2->qiskit->qiskit-textbook==0.1.0) (2.21)\n",
            "Requirement already satisfied: rustworkx==0.12.1 in /usr/local/lib/python3.8/dist-packages (from retworkx>=0.11.0->qiskit-terra==0.22.3->qiskit->qiskit-textbook==0.1.0) (0.12.1)\n",
            "Requirement already satisfied: pbr!=2.1.0,>=2.0.0 in /usr/local/lib/python3.8/dist-packages (from stevedore>=3.0.0->qiskit-terra==0.22.3->qiskit->qiskit-textbook==0.1.0) (5.11.0)\n",
            "Requirement already satisfied: mpmath>=0.19 in /usr/local/lib/python3.8/dist-packages (from sympy>=1.3->qiskit-terra==0.22.3->qiskit->qiskit-textbook==0.1.0) (1.2.1)\n"
          ]
        }
      ]
    },
    {
      "cell_type": "code",
      "source": [
        "!pip install pylatexenc"
      ],
      "metadata": {
        "colab": {
          "base_uri": "https://localhost:8080/"
        },
        "id": "oMwBCjpJtP0z",
        "outputId": "b255aae7-02cd-4a11-c4eb-9576739b4adc"
      },
      "execution_count": null,
      "outputs": [
        {
          "output_type": "stream",
          "name": "stdout",
          "text": [
            "Looking in indexes: https://pypi.org/simple, https://us-python.pkg.dev/colab-wheels/public/simple/\n",
            "Requirement already satisfied: pylatexenc in /usr/local/lib/python3.8/dist-packages (2.10)\n"
          ]
        }
      ]
    },
    {
      "cell_type": "code",
      "source": [
        "# Importaciones a utilizar en la investigación\n",
        "from qiskit import *;\n",
        "from qiskit.tools.visualization import plot_histogram;\n",
        "import math;\n",
        "import matplotlib as mpl\n",
        "import matplotlib.pyplot as plt"
      ],
      "metadata": {
        "id": "CUNA8LSzq0VF"
      },
      "execution_count": null,
      "outputs": []
    },
    {
      "cell_type": "code",
      "source": [
        "# backends que están disponibles\n",
        "\n",
        "IBMQ.save_account('4d6a67dabfece4e7a41047f5fc76a1c00550cd6719f8b31153a252594224875859dc0c07752a0fc1a6ca10af7e721ed9779d297bca408cfc224263c154ac7db3')\n",
        "\n",
        "provider = IBMQ.load_account()\n",
        "available_cloud_backends = provider.backends() \n",
        "print('\\nHere is the list of cloud backends that are available to you:')\n",
        "for i in available_cloud_backends: print(i)\n",
        "\n",
        "available_local_backends = Aer.backends() \n",
        "print('\\nHere is the list of local backends that are available to you: ')\n",
        "for i in available_local_backends: print(i)"
      ],
      "metadata": {
        "colab": {
          "base_uri": "https://localhost:8080/"
        },
        "id": "YmkPhauczk9N",
        "outputId": "5b5fbd6c-fe73-49a0-a99f-18c3d1080934"
      },
      "execution_count": null,
      "outputs": [
        {
          "output_type": "stream",
          "name": "stderr",
          "text": [
            "configrc.store_credentials:WARNING:2022-12-13 04:52:28,057: Credentials already present. Set overwrite=True to overwrite.\n"
          ]
        },
        {
          "output_type": "stream",
          "name": "stdout",
          "text": [
            "\n",
            "Here is the list of cloud backends that are available to you:\n",
            "ibmq_qasm_simulator\n",
            "ibmq_lima\n",
            "ibmq_belem\n",
            "ibmq_quito\n",
            "simulator_statevector\n",
            "simulator_mps\n",
            "simulator_extended_stabilizer\n",
            "simulator_stabilizer\n",
            "ibmq_manila\n",
            "ibm_nairobi\n",
            "ibm_oslo\n",
            "\n",
            "Here is the list of local backends that are available to you: \n",
            "aer_simulator\n",
            "aer_simulator_statevector\n",
            "aer_simulator_density_matrix\n",
            "aer_simulator_stabilizer\n",
            "aer_simulator_matrix_product_state\n",
            "aer_simulator_extended_stabilizer\n",
            "aer_simulator_unitary\n",
            "aer_simulator_superop\n",
            "qasm_simulator\n",
            "statevector_simulator\n",
            "unitary_simulator\n",
            "pulse_simulator\n"
          ]
        }
      ]
    },
    {
      "cell_type": "markdown",
      "source": [
        "### **Algoritmo de Grover**\n"
      ],
      "metadata": {
        "id": "730pc7TUorYq"
      }
    },
    {
      "cell_type": "markdown",
      "source": [
        "Al buscar elementos en una colección desordenada de tamaño N, debemos buscar uno por uno hasta encontrar el elemento deseado. Esto significa que la tarea de búsqueda tiene un costo lineal O(N). Entonces, suponiendo que tenemos un conjunto de 500 elementos, nos toma un segundo analizar si un elemento es elegible para una búsqueda. En el peor de los casos, tarda 500 segundos. En la mayoría de los casos, tarda un promedio de 250 segundos.\n",
        "\n",
        "Usando el algoritmo de Grover **[1] [2]**, la tarea de búsqueda reducirá su ejecución. Se necesitan **√500 ≈ 23** segundos para completar los requisitos previos anteriores. Esto significa que cuesta **O(√N)** debido a la propiedad de superposición proporcionada por las computadoras cuánticas.\n",
        "\n",
        "**¿Cómo funciona el algoritmo de Grover? **\n",
        "Imagina una bolsa de canicas que contiene una canica roja, y eso es lo que estamos buscando. Primero, cree una función que devuelva **1** si la pelota es roja. y devolver **0** en caso contrario. De ahora en adelante, esta función se llamará función de oráculo. Omita el modo de superposición con esta función, etiquete y encuentre la canica roja."
      ],
      "metadata": {
        "id": "6CKQfJs0c0PJ"
      }
    },
    {
      "cell_type": "markdown",
      "source": [
        "#### **Procedimiento**"
      ],
      "metadata": {
        "id": "ZOhukWjteETS"
      }
    },
    {
      "cell_type": "markdown",
      "source": [
        "El primer paso en el algoritmo de Grover es superponer los qubits aplicando una puerta de Hadamard a todos los qubits. Obtiene el siguiente estado, al que llamamos \"s\".\n",
        "\n",
        "![image.png](data:image/png;base64,iVBORw0KGgoAAAANSUhEUgAAAKkAAABBCAYAAACqwoTAAAAABHNCSVQICAgIfAhkiAAAABl0RVh0U29mdHdhcmUAZ25vbWUtc2NyZWVuc2hvdO8Dvz4AAAAmdEVYdENyZWF0aW9uIFRpbWUAbHVuIDEyIGRpYyAyMDIyIDIyOjE2OjI1smMv6QAADaJJREFUeJztnHtQVOUfxp/dhY3Lgi6L3AQCAwICgoSCQBxjDEKSoMgYbJrG0cnJySaYtEzRbPoxSihjhU1N2XALQ1nSWZEZ4iYCWsgtLhsIi7LckdsGC2f3/P5w3GmDxYXdw654Pn+x57yXZ9lnz/t93/f7LoMkSRI0NHoMU9cCaGgeBm1SGr2HNimN3kOblEbvoU1Ko/fQJqXRe2iT0ug9tElp9B7apDR6z2NrUoIgcPPmTczOzupaCs1DMNC1gJXm9u3buHjxItra2tDa2opLly7BwsJC17JoFuGxe5I6Ojrigw8+wKuvvgoWi6VrOTRq8Ng9SQ0MHru3/Mjz2D1JaR49aJPS6D20SWn0HtqkNHoPbVIaveexneqSJAm5XA5dnp4ZGRlBeHg4/vzzT3h5ecHb23vBciRJQiqVYnx8HHfv3kVXVxfm5uawfv16FBUVwcvLa4WVrzDkEvj7779JgUCgVtny8nKysbFxKc2vCCKRiDx58iQZGRlJWlpakh9++CGZnZ2tMz18Pp80NzcnnZ2dyebmZrXqDAwMkGlpaaSrqyt59OhRreqZnp4ms7Ky1C5PEASZm5tLTkxMaFXHv1mSSa9du0aePHlSrbIVFRVa/weuRmQyGXno0CGSxWKRr7zyCjk2NqZ23b6+PnL//v2kWCzWmp6xsTHyo48+WlKdlJQUsri4WGsa/gtlMamfnx+GhoYgFoup6mJVwGQykZSUhLCwMBQXFyMtLQ1yuVytujY2Nti7dy9GR0cpVrk4L730EsrLy9XWvVQoMymHw4GPjw+uXbtGVRerhrVr1yI1NRX29vZIT0+HQCBQu+7TTz+NZ555hkJ1D8fb2xuTk5MQiUSUtE/p7H7z5s2oqamhM43UwNvbG8ePH8fs7CwOHDiA27dv61qS2hgZGWHjxo2orKykpH2NZ/czMzPIz88Hk8kEm82Gg4MDXnjhBQCAi4sLDA0N0dbWBh8fH43Frnbi4+Nx48YNfPPNN/jkk0/w448/wtTUVNey0NzcjJaWFrS2tiIkJAQikQgjIyN46qmnEBsbCwAIDQ3FqVOn8Oabb8LIyEir/Wts0szMTLDZbOzcuRP19fXIyspSmJTFYiEkJARlZWUqTSoWi5GWlobx8fFF+7G2tkZSUhLWrl2rqWS9xcDAAJ999hnq6upQUFCA559/HomJiTrVJBKJ0NraijfeeAO///47Dhw4gHPnzuHy5csQCoWKco6OjjA3N0dTUxMCAgK0qkFjk9bX12N4eBi+vr5wcHDA/v37le4HBgaiqKhIZX07OzukpqZqpIEgCAQGBmrUhrrY2Njg8uXLlLVvbW2N1NRUxMbGIiUlBf7+/ti8eTNl/T2M6elpBAcHg8lk4u7du3jyySfh7u4+b22WyWQiNDQUpaWl+mfS3bt34+OPP0ZQUBD8/PyQnZ2tdJ/NZoPBYGjazaKwWCycPXuW0j4ewGazKe8jKCgIhw4dQnJyMoaHhynvbzHc3d0Vf1dXV+PFF19Ume7I4XDwzz//aF2DRiYVCoWwtrZGcXExRkZGEB8fj5KSEuzatUtR5tatW7C1tVXZhjaGewaDAX9//yXrn56eXvKOE5NJ/U4yQRAQi8X49NNPERMTQ3l/6nDv3j10dnbirbfeUrxmMBhKn0dpaSklT/1lm3RqagoHDx7E22+/jZiYGPB4PISEhCh98wCgrKwM4eHhKtvRxnC/VORyOYqKihAXF7dkk9rb2yvFYlSQkZGBubk57Nu3b0W+FKqQyWQ4d+4cPD09MTc3h8HBQTg7O0Mul6OkpASbNm1SlB0YGIBYLMZzzz23YFu1tbXo7+9HdHT0knUs26QmJiZISEiAsbExKioq0N7eDg8PD6XYsKenB6Ojo3j22WeX2w0lNDc3o6ysDBKJRNdS5nHhwgXU1dXh9OnTeOKJJ3SqRSqVorq6GjKZDBwOBzt27MDVq1fB5XKxYcMGWFtbK8pWVVXB09MTa9asWbAtgUCA5uZmbN26FSYmJkvSsWyTMplMvP7665idncXw8DBCQkLmfeurqqrg6+u7ZFFUIpfLwefzsW3bNl1LmUd1dTVyc3ORnp6u8sNeSUxMTPDdd99hZGQElpaWYDKZGBkZgZmZmVJsThAEqqur8e6776ps69ixY8vWofFYwmazYWdnN8+gUqkUN27c0OnMdCHa2towPj4+bzWAz+fjvffew86dO9HR0aG4LpFIkJaWhvj4eLz//vtoaGigRJdQKMSJEyeQnJyM9evXq13v+vXrqKmpoUQTcH9SamVlpfh8eTzevMnjg/DHzc2NEg2UBTwtLS0wNjaGs7MzVV0sCz6fj4iIiHlD6WuvvYaAgADU1tYiNzdXcd3U1BS7d++Gg4MDjh8/TknoMjg4iCNHjmDfvn0q0/UWoqqqCt9++y1cXV21rmkplJWVLTrr15QlmZTD4SjFIYtx584dhIeH6zTw/y9CoRCDg4NKAf8DpFIpSJLEnj17wOfzMTQ0pLg3OjqKoKAgSs7nSyQSHD58GJGRkQgLC1u0rEwmQ09PD/Lz87Ft2zZs2bIFLi4u4PF4WtNjYGCw6GrMQppmZmYQEhKiNQ3/hUEudXr7CJOamgoPD48F49Hu7m7U19fD3d0dUVFROHHihGLL7/r162CxWIqdNG1BEASOHDmCU6dOwczMTOV6MkmSmJubg0QiwdzcnOK6paUlrly5sqzlt0eJxyYzv7u7Gz09Pdi7d++C93t7e2FnZwc3NzeEhIQgJycH27dvh4GBAXp7exEcHKx1TQwGA3FxcYsu0S0Gh8PRu5UTSqAsU1UH1NfXk9HR0eQff/wx7156ejpZUFCgsm5eXp4iefjKlSukk5MTWV9fT0qlUvL7778nCYKgTDfN4uhPwKghAwMDEIlEGBsbQ2ZmptK93t5eCIVClTGfVCrF5OQkrKysANzflrS1tUVBQQH6+vrA4/Hon+TRIavGpNbW1ti+fTt27doFgUCA9vZ2xb1Lly4hNDQUZmZmC9YVi8WwtLRUGHHNmjWIi4tDYWEhmpqalrQkpI/09PQgJydHcUqis7MTeXl5aGxs1LEy9Vg1Jn1AREQEzM3NkZ+fDwDo7+9HU1MTXn75ZZV1xGLxPCNGRkZiamoKFy5cgL29PaWaqYbH46G2thYpKSkgCAJcLhf37t2jbF1T26w6k65btw4JCQk4f/48+vr6IBAIEBQUpDIPVS6X46+//oKdnZ3SdVdXV2zatAnj4+NqL7sth6mpKWRkZCAnJ0ejDCKCIFBYWIgvv/wS/f39SvcGBgYQFRWF6elpVFdXY3R0FF5eXlpPTqYK1tGjR4/qWoS2sbW1RWZmJhgMBtra2rBnz54Ft2Y7OjoUSbwSiQT+/v4wNjYGcH/mbW5uDmtra5VJE9pAIBCgoaEBiYmJMDQ0BEEQ+Pnnn9HU1ISysjJwuVxYWloq1enu7savv/6Kr7/+GoGBgeBwOGAymXB3d0d7ezuqq6uV1i3b2tqwbt06uLq6IjMzE05OTrCxsdHq+iqVrMolKCcnJ8TExOB///sfvvrqK5UfhouLC3744QeV7WzZskVjLTKZDIWFhairqwODwQCLxcKOHTvg4eEB4P6k7d9HRMrKytDd3Y1jx46htbUVqampOHPmjNJTz87ODhEREbh69SpkMplSf2ZmZrhz547StcHBQbi7u8PNzQ3nz5/Hb7/9ptFe+kqzKk0KAAkJCejo6EBUVBTlfcnlclRWVqKrqwuenp7o7OyEk5MTgoKCkJWVBVNTU3z++edq7b5VVlYqkkssLCwgEokgFouxYcMGRRk2m6128nVJSQn4fD78/PzA5XLxzjvvoKSkROUkUh9ZdTHpAzw9PZGXl0dpPPmAxsZGxXD7xRdfwNHRETU1NRgYGMDAwABiY2MXNKhcLkdHR4dSfsPg4KAiNDE0NASDwcDk5KTaWmxsbNDX1wepVAoACAsLw08//QRHR0cAQEBAAA4ePKjJ211xVu2TdCXx8vICk8lEXl4efH19ERwcjODgYLS3t6OhoQHJycmKsg+Ge1dXV6Snp+PWrVtKJxmMjY0xMzMDAJibmwNBEDA0NFRbS0BAAPh8PlJSUpCUlKQXp001hTapFhgaGgKHw8HNmzcRGhqK0dFRDA0NwcrKCp6enkhKSlowgTkxMREZGRnIzs5WnAr19/dHZ2cngPvxqqWlJWxtbTE7OwuCIB6am1teXg4mk4nDhw/rVXKPJqyOd6Fjzp49i9OnT2N2dhZCoRAXL16EmZkZuFwuNm7ciDNnzmBqamrBuhYWFpiYmFC83rp1K6RSKSoqKlBQUIDo6GhwuVwIBALF+SKRSIS8vDwIhUL88ssvSu1NTEwoZvurhccqC4oq5HI5ZmZmYGJiAolEAiMjI6Vt1MbGRhQWFmJ2dnbe7D4vLw8tLS1Ks22CICAUCsHj8ZRi6srKygXTDP/NQu096tDDvRZgMpmKYXihGNDHx0flj2PweDyMjIyAIAhF0rCBgQE8PT2VynV3dysmQ4vR1dX1yKx/qgv9JNUxMpkMxcXFGB4eRmxs7LInOjKZDKWlpZicnER4eLhenSvTFNqkNHrP6omuaVYttElp9B7apDR6D21SGr2HNimN3kOblEbvoU1Ko/fQJqXRe2iT0ug9tElp9B7apDR6z/8B+Dg0OfrsCroAAAAASUVORK5CYII=)"
      ],
      "metadata": {
        "id": "eho8F3Rneh8H"
      }
    },
    {
      "cell_type": "markdown",
      "source": [
        "El segundo paso es marcar los elementos a buscar, para ello se construye una puerta cuántica, que actuaría como un oráculo. Este oráculo invierte la probabilidad de estado representada por el elemento buscado |wi. Hacer que todos los elementos tengan la misma probabilidad, excepto el elemento de búsqueda, que tiene una probabilidad negativa\n",
        "\n",
        "![image.png](data:image/png;base64,iVBORw0KGgoAAAANSUhEUgAAAJQAAAA9CAYAAABLL0DyAAAABHNCSVQICAgIfAhkiAAAABl0RVh0U29mdHdhcmUAZ25vbWUtc2NyZWVuc2hvdO8Dvz4AAAAmdEVYdENyZWF0aW9uIFRpbWUAbHVuIDEyIGRpYyAyMDIyIDIyOjE4OjE5cCdHMgAACj5JREFUeJztnGtMk2cbx39dCx2Wo1upnSdmClldZFaMkSHotjoP6IbGRaNLtmk2s31Ysu3bDslO3+bmcGaHxGA2MXFTGbABdYcEGIvMiUSshFVQZNKWkmBFC2ul7fvBrO86Cpb2qQ/vm/uXNCHPffr3uf697rv3cxdFMBgMIhBIxF1yCxD8fyEMJZAUYSiBpAhDCSRFGEogKcJQAkkRhhJIijCUQFKEoQSSIgwlkBSV3AIEMDQ0xC+//MLY2BhFRUXMmjVLbkkxIzKUzHR0dPDZZ5+h1WpRKpVs3ryZr7/+Wm5ZMSMylIz4fD6+/fZbdu7cydy5cwFwu9288847FBYWMm/ePJkVTh2RoWRkZGSEhoYGKioqQtcMBgM3btygt7dXPmFxIDKUjGRmZlJRUcG9994butbT00MgEOCee+6RUVnsCEPJzMKFC0N/e71eLBYLTz31FA888ICMqmJHTHnTiMOHD5OcnMzbb7+NUqmUW05MCENNE1paWujq6qK8vJyMjAy55cSMQhwBlp/z589TV1fHSy+9RGpqKj09PSiVSnJycuSWNmVEhpKZ3t5eamtrKS0tZXBwEJvNxokTJ/jrr7/klhYbwUm4cOFCsL6+frIqEWlqagp2dHRMuV0sjI6OBisrK6Oq29fXF6ypqUmwougZHh4Orl+/PgiEvfLz84NOpzOuvi0WS8xt44nfpBlqYGCA8+fPT2pIv9/Pjz/+SCAQCF1TKBRUVVXF7/Yo8Hq9nDlzJqq6aWlpNDQ0MDg4mGBV0ZGWlkZdXR3BYDDsdfbsWXQ6XVx9d3Z2xtw2nvjFPeW5XC58Ph933fXfrkwmE4ODg9jt9ni7l5TMzEyMRiMnT56UW8q0Jp74xW0op9M57tOUmppKfn4+LS0t8XYvOY888ggtLS34/X65pUxb4olfQgwFsHLlSlpbW/H5fPEOISlGo5GbN2/S3d0tt5RpTazxm5Kh2tvb+fzzzykvL8fn8+H3+xkaGkKn03Hy5Em2b98eWp8YDAaSkpLo6uqakiCpaGpqoqKiguPHj1NTUxO6rlKpKCwspLGxURZdcuD3+6mpqeHDDz+koaEBgEAgwP79+7Farfj9fl577TUOHjwYahNr/KJ+9DIwMMClS5cwm83s3r2bTZs2kZSUREZGBsnJyej1etxuNx6PJ3QUY8WKFTQ2NpKfnx+xz7GxMT799FPOnTs3uUiVihdeeAGTyRSVVqvVSlVVFR988AGjo6O8++67PPnkk6Hy4uJi3n//fTweDxqNJtpb8D/L77//zuzZsxkeHqaqqop169bhcDg4cuQIJSUlKJVK5s6dG5a1o4lfJKI21OjoKEuXLqW5uZnMzEx0Oh2dnZ2h6S4nJwez2Ry2y7t8+XIsFsvEg6tUvPzyy1GLjZbLly/T3NzMiRMnKCkpYffu3WHler0enU5He3s7K1asGNfe5/PR0dGBx+OZcAyFQkFeXl7Ew3BXr17l2Wefjft9RMOCBQvYu3fvpHXUajW5ubl8/PHHrFq1CoALFy6QkpLC/PnzAXj44YfHLcJvF79IRG2onJwcxsbG+P777yktLUWtVuN0OnnwwQeBWzcxOzubrKysUJvk5GQUCsWUBElBUVERxcXF7Nq1C4VCwRdffEFeXl5YHY1Gw40bNyK29/l8WK1W3G73hGMoFAo0Gk1EQ82YMYOdO3fG9yaiJDMz87Z1TCYTPT09XLp0ibfeeguAtrY2DAZDKAF4vV4WLFgQ1i6W+E3ptIHL5cJut7N06dLQ+unvG3r69GmWL18eVr+9vR29Xj9hf4mY8oaGhujv72ffvn189NFH7Nmzhy+//JKysrJQnatXr9Ld3c1zzz0XsY/U1NS4MoxarQ6bYqcDVquVrKwscnJyCAQCnDp1ijVr1oTKr1y5wuLFi8Pa3C5+kZiSoZKSklAqlQwPD+NyuUhPTyc5OZm2tjb8fj8GgyGsfmNjY5jocYMnYMo7ePAgFy9eZN++fahUKkwmEypV+NtsbW0lNzeXmTNnSjp2rAQCAY4ePcqLL7445baLFi2iqanptvW8Xi/p6emo1WrcbjdOpxOtVgvAxYsX0ev1pKWlhbWZLH5OpxOLxUJZWVlYlpySobRaLa+++ioWi4VZs2ahVCo5dOgQer2exx9/PKxuX18fQ0NDPPTQQ1MZIm5WrVrFnDlzaG1txW6343A4wqafQCBAc3MzW7duvaO6JsNqtXL69OmYtjL+/WGZiKKiIn744QeqqqrweDxs3ryZuro6fD4f169fZ8uWLWH1bxc/m83GJ598wpIlS2I3FMDGjRvZuHEjR48eJS8vj0WLFoXtkv/Nr7/+yuLFi5kxY8ZUh4iLgoICCgoKcDgcFBQUcPfdd4eV9/b2Mjo6itFovKO6JiIQCFBdXc2GDRsSmjFnz57NgQMHcLlcaDQaNBoNHo+H4eFhdDrduBjeLn4lJSW0tbWNux7Txqbf78fn82E0GiOayev1curUKVauXBlL95Kg1+vHmQlupfFly5ahVqtlUDWerq4url27Frb+vHbtGuXl5Wzfvp0333wz7ORBd3c3r7zyCtu2beO9996b8njZ2dmhrRKNRoNerx8Xw3jiF5OhXC5XaP8pEp2dnaSkpHD//ffH0n3CGBkZob29neLiYrmlhKiurmbt2rVhBs/IyOCZZ55h5syZHD58OOzht8FgYOvWrSxbtow33ngjIZriid+khkpNTY34WEWr1WI2myds9+eff7JmzZqI2UtqVCpV1N9EnE4nCxcuDP1kSW5sNhsulyuiwe12O2azGYPBwPHjx8PKRkZGMJvNk97f7OzsmHXFEz9xYlNG9uzZg9FopLS0dFzZzz//THZ2Nr/99ht79+7FYrGEPgiVlZWsX79+2nxL/SfixKZM9Pb20tfXF9q5/jd2u505c+awevVqAH766Sfg1vrK7/dPSzOBMFRCOXv2LGVlZRG/DdXW1vLoo49GfJbodrsJBoNkZWUxf/58Vq9ezZEjRxgZGcFut8d9+C6RCEMliIGBAS5fvozb7ebQoUNhZf39/dhsNh577LGIbfv7+8PWhVu2bMFms3HmzBkcDgf33XdfQrXHgzBUgtDpdDzxxBPs2rWL+vp6/vjjj1DZd999R0lJybid6b9xOp1hhjKZTOTm5nLs2LHQVDhdEYZKMGvXriU9PZ1jx44Bt8xy7ty5cU8W/onD4QgzjUajYdu2bVRXV3PlypVpu34CYaiEo9Vq2bFjB9988w0Oh4P6+noKCwsnPCUwMDDA9evXx5WbzWZSUlKm9foJhKHuCJs2beLmzZt89dVXtLW1sW7duoj1amtrefrpp9m/fz+VlZVhZfPmzeP5559nyZIld0Jy7MT84y3BlHj99deDGRkZwQMHDsgtJaGI/75yh9ixYwfd3d1s2LBBbikJReyUCyRFrKEEkiIMJZAUYSiBpAhDCSRFGEogKcJQAkkRhhJIijCUQFKEoQSSIgwlkBRhKIGkCEMJJEUYSiAp/wGJfxqZMmWlYwAAAABJRU5ErkJggg==)"
      ],
      "metadata": {
        "id": "qEwVcOBjfQez"
      }
    },
    {
      "cell_type": "markdown",
      "source": [
        "Luego se usa el denominado operando de Grover, que realiza simetría con respecto a la media de la probabilidad. Esto quiere decir que todas las probabilidades disminuyen ligeramente, excepto la que se invierte, que se amplifica.\n",
        "\n",
        "![image.png](data:image/png;base64,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)"
      ],
      "metadata": {
        "id": "w4PEhBcZfjT2"
      }
    },
    {
      "cell_type": "markdown",
      "source": [
        "A continuación puedes ver el esquema general del algoritmo de Grover.\n",
        "\n",
        "![image.png](data:image/png;base64,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)"
      ],
      "metadata": {
        "id": "iJ4N98Cdf3Hg"
      }
    },
    {
      "cell_type": "markdown",
      "source": [
        "#### **Implementación para 6 qubits**"
      ],
      "metadata": {
        "id": "Orw4T8tKgHRA"
      }
    },
    {
      "cell_type": "markdown",
      "source": [
        "En esta implementación, el objetivo es buscar el elemento **|110010)**. Por esta razón, se construyó Oracle Gate, cambiando esta probabilidad\n",
        "Estado de salud. Para ello, el estado buscado se divide en dos qubits. Según estos dos qubits, agregue el puerto **X** y el puerto de control **Z** para codificarlos. Entonces se busca el elemento **|110010)**.\n",
        "Además, se construyen operandos de Grover que realizan una inversión media. Para construir los operandos Grover, se utilizan puertas Hadamard y puertas **Z** en todos los qubits en paralelo. Luego se usa una puerta de control **Z**, con qubits pares como control y qubits impares como objetivo. Finalmente, la puerta de Hadamard se aplica nuevamente en paralelo.\n",
        "para todos los qubits."
      ],
      "metadata": {
        "id": "cXMbnR81g5w-"
      }
    },
    {
      "cell_type": "markdown",
      "source": [
        "Ahora procedemos a ejecutar el ejemplo en el simulador ideal, la computadora cuántica ibmq_qasm_simulator. En un entorno ideal, solo se devolvería el estado |100011) con un 100 % de probabilidad, lo que se espera."
      ],
      "metadata": {
        "id": "inrsSFGLhQ5c"
      }
    },
    {
      "cell_type": "markdown",
      "source": [
        "#### **Algoritmo de Grover con 6 qubits en Qiskit**"
      ],
      "metadata": {
        "id": "lXVqf3voipeX"
      }
    },
    {
      "cell_type": "code",
      "source": [
        "qua = QuantumRegister(6,'qua')\n",
        "cla = ClassicalRegister(6,'cla')\n",
        "cir = QuantumCircuit(qua, cla)\n",
        "\n",
        "#inicializacion\n",
        "for i in range(0,6):\n",
        "  cir.h(i)\n",
        "  cir.barrier()\n",
        "\n",
        "cir.draw()\n",
        "\n",
        "#oraculo|110010>\n",
        "\n",
        "cir.cz(4,5)\n",
        "cir.x(2)\n",
        "cir.x(3)\n",
        "cir.cz(2,3)\n",
        "cir.x(2)\n",
        "cir.x(3)\n",
        "cir.x(0)\n",
        "cir.cz(0,1)\n",
        "cir.x(0)\n",
        "cir.barrier()\n",
        "\n",
        "cir.draw()\n",
        "\n",
        "#inversa sobre la media\n",
        "for i in range(0,6):\n",
        "  cir.h(i)\n",
        "  cir.z(i)\n",
        "  cir.cz(0,1)\n",
        "  cir.cz(2,3)\n",
        "  cir.cz(4,5)\n",
        "\n",
        "cir.draw()\n",
        "\n",
        "for i in range(0,6):\n",
        "  cir.h(i)\n",
        "  cir.barrier()\n",
        "\n",
        "for i in range(0,6):\n",
        "  cir.measure(qua[i],cla[i])\n",
        "\n",
        "%matplotlib inline\n",
        "cir.draw(output='mpl')\n",
        "simulator=Aer.get_backend('qasm_simulator')\n",
        "result=execute(cir,backend=simulator).result()\n",
        "plot_histogram(result.get_counts(cir))\n"
      ],
      "metadata": {
        "colab": {
          "base_uri": "https://localhost:8080/",
          "height": 364
        },
        "id": "RJx6YuBZrYVn",
        "outputId": "2331d242-b8d4-4fe4-fe71-16e3591cd7d4"
      },
      "execution_count": null,
      "outputs": [
        {
          "output_type": "execute_result",
          "data": {
            "text/plain": [
              "<Figure size 504x360 with 1 Axes>"
            ],
            "image/png": "[encoded data removed]"
          },
          "metadata": {},
          "execution_count": 5
        }
      ]
    },
    {
      "cell_type": "markdown",
      "source": [
        "#### **Circuito**"
      ],
      "metadata": {
        "id": "sNaH4_dwjNdE"
      }
    },
    {
      "cell_type": "code",
      "source": [
        "# Circuito\n",
        "\n",
        "cir.draw()"
      ],
      "metadata": {
        "colab": {
          "base_uri": "https://localhost:8080/",
          "height": 710
        },
        "id": "9YGOevIGwmnK",
        "outputId": "498b5e4d-a16f-4a57-bd3f-84b00d9c9b17"
      },
      "execution_count": null,
      "outputs": [
        {
          "output_type": "execute_result",
          "data": {
            "text/plain": [
              "       ┌───┐ ░       ░       ░       ░       ░       ░ ┌───┐   ┌───┐ ░ ┌───┐»\n",
              "qua_0: ┤ H ├─░───────░───────░───────░───────░───────░─┤ X ├─■─┤ X ├─░─┤ H ├»\n",
              "       └───┘ ░ ┌───┐ ░       ░       ░       ░       ░ └───┘ │ └───┘ ░ └───┘»\n",
              "qua_1: ──────░─┤ H ├─░───────░───────░───────░───────░───────■───────░──────»\n",
              "             ░ └───┘ ░ ┌───┐ ░       ░       ░       ░ ┌───┐   ┌───┐ ░      »\n",
              "qua_2: ──────░───────░─┤ H ├─░───────░───────░───────░─┤ X ├─■─┤ X ├─░───■──»\n",
              "             ░       ░ └───┘ ░ ┌───┐ ░       ░       ░ ├───┤ │ ├───┤ ░   │  »\n",
              "qua_3: ──────░───────░───────░─┤ H ├─░───────░───────░─┤ X ├─■─┤ X ├─░───■──»\n",
              "             ░       ░       ░ └───┘ ░ ┌───┐ ░       ░ └───┘   └───┘ ░      »\n",
              "qua_4: ──────░───────░───────░───────░─┤ H ├─░───────░───■───────────░───■──»\n",
              "             ░       ░       ░       ░ └───┘ ░ ┌───┐ ░   │           ░   │  »\n",
              "qua_5: ──────░───────░───────░───────░───────░─┤ H ├─░───■───────────░───■──»\n",
              "             ░       ░       ░       ░       ░ └───┘ ░               ░      »\n",
              "cla: 6/═════════════════════════════════════════════════════════════════════»\n",
              "                                                                            »\n",
              "«       ┌───┐                                      ┌───┐ ░       ░       ░ »\n",
              "«qua_0: ┤ Z ├──■──────────────■────■────■────■───■─┤ H ├─░───────░───────░─»\n",
              "«       └───┘  │  ┌───┐┌───┐  │    │    │    │   │ └───┘ ░ ┌───┐ ░       ░ »\n",
              "«qua_1: ───────■──┤ H ├┤ Z ├──■────■────■────■───■───────░─┤ H ├─░───────░─»\n",
              "«            ┌───┐├───┤└───┘                             ░ └───┘ ░ ┌───┐ ░ »\n",
              "«qua_2: ──■──┤ H ├┤ Z ├──■──────────────■────■───■───────░───────░─┤ H ├─░─»\n",
              "«         │  └───┘└───┘  │  ┌───┐┌───┐  │    │   │       ░       ░ └───┘ ░ »\n",
              "«qua_3: ──■──────────────■──┤ H ├┤ Z ├──■────■───■───────░───────░───────░─»\n",
              "«                      ┌───┐├───┤└───┘                   ░       ░       ░ »\n",
              "«qua_4: ──■────■────■──┤ H ├┤ Z ├──■─────────────■───────░───────░───────░─»\n",
              "«         │    │    │  └───┘└───┘  │  ┌───┐┌───┐ │       ░       ░       ░ »\n",
              "«qua_5: ──■────■────■──────────────■──┤ H ├┤ Z ├─■───────░───────░───────░─»\n",
              "«                                     └───┘└───┘         ░       ░       ░ »\n",
              "«cla: 6/═══════════════════════════════════════════════════════════════════»\n",
              "«                                                                          »\n",
              "«             ░       ░       ░ ┌─┐               \n",
              "«qua_0: ──────░───────░───────░─┤M├───────────────\n",
              "«             ░       ░       ░ └╥┘┌─┐            \n",
              "«qua_1: ──────░───────░───────░──╫─┤M├────────────\n",
              "«             ░       ░       ░  ║ └╥┘┌─┐         \n",
              "«qua_2: ──────░───────░───────░──╫──╫─┤M├─────────\n",
              "«       ┌───┐ ░       ░       ░  ║  ║ └╥┘┌─┐      \n",
              "«qua_3: ┤ H ├─░───────░───────░──╫──╫──╫─┤M├──────\n",
              "«       └───┘ ░ ┌───┐ ░       ░  ║  ║  ║ └╥┘┌─┐   \n",
              "«qua_4: ──────░─┤ H ├─░───────░──╫──╫──╫──╫─┤M├───\n",
              "«             ░ └───┘ ░ ┌───┐ ░  ║  ║  ║  ║ └╥┘┌─┐\n",
              "«qua_5: ──────░───────░─┤ H ├─░──╫──╫──╫──╫──╫─┤M├\n",
              "«             ░       ░ └───┘ ░  ║  ║  ║  ║  ║ └╥┘\n",
              "«cla: 6/═════════════════════════╩══╩══╩══╩══╩══╩═\n",
              "«                                0  1  2  3  4  5 "
            ],
            "text/html": [
              "<pre style=\"word-wrap: normal;white-space: pre;background: #fff0;line-height: 1.1;font-family: &quot;Courier New&quot;,Courier,monospace\">       ┌───┐ ░       ░       ░       ░       ░       ░ ┌───┐   ┌───┐ ░ ┌───┐»\n",
              "qua_0: ┤ H ├─░───────░───────░───────░───────░───────░─┤ X ├─■─┤ X ├─░─┤ H ├»\n",
              "       └───┘ ░ ┌───┐ ░       ░       ░       ░       ░ └───┘ │ └───┘ ░ └───┘»\n",
              "qua_1: ──────░─┤ H ├─░───────░───────░───────░───────░───────■───────░──────»\n",
              "             ░ └───┘ ░ ┌───┐ ░       ░       ░       ░ ┌───┐   ┌───┐ ░      »\n",
              "qua_2: ──────░───────░─┤ H ├─░───────░───────░───────░─┤ X ├─■─┤ X ├─░───■──»\n",
              "             ░       ░ └───┘ ░ ┌───┐ ░       ░       ░ ├───┤ │ ├───┤ ░   │  »\n",
              "qua_3: ──────░───────░───────░─┤ H ├─░───────░───────░─┤ X ├─■─┤ X ├─░───■──»\n",
              "             ░       ░       ░ └───┘ ░ ┌───┐ ░       ░ └───┘   └───┘ ░      »\n",
              "qua_4: ──────░───────░───────░───────░─┤ H ├─░───────░───■───────────░───■──»\n",
              "             ░       ░       ░       ░ └───┘ ░ ┌───┐ ░   │           ░   │  »\n",
              "qua_5: ──────░───────░───────░───────░───────░─┤ H ├─░───■───────────░───■──»\n",
              "             ░       ░       ░       ░       ░ └───┘ ░               ░      »\n",
              "cla: 6/═════════════════════════════════════════════════════════════════════»\n",
              "                                                                            »\n",
              "«       ┌───┐                                      ┌───┐ ░       ░       ░ »\n",
              "«qua_0: ┤ Z ├──■──────────────■────■────■────■───■─┤ H ├─░───────░───────░─»\n",
              "«       └───┘  │  ┌───┐┌───┐  │    │    │    │   │ └───┘ ░ ┌───┐ ░       ░ »\n",
              "«qua_1: ───────■──┤ H ├┤ Z ├──■────■────■────■───■───────░─┤ H ├─░───────░─»\n",
              "«            ┌───┐├───┤└───┘                             ░ └───┘ ░ ┌───┐ ░ »\n",
              "«qua_2: ──■──┤ H ├┤ Z ├──■──────────────■────■───■───────░───────░─┤ H ├─░─»\n",
              "«         │  └───┘└───┘  │  ┌───┐┌───┐  │    │   │       ░       ░ └───┘ ░ »\n",
              "«qua_3: ──■──────────────■──┤ H ├┤ Z ├──■────■───■───────░───────░───────░─»\n",
              "«                      ┌───┐├───┤└───┘                   ░       ░       ░ »\n",
              "«qua_4: ──■────■────■──┤ H ├┤ Z ├──■─────────────■───────░───────░───────░─»\n",
              "«         │    │    │  └───┘└───┘  │  ┌───┐┌───┐ │       ░       ░       ░ »\n",
              "«qua_5: ──■────■────■──────────────■──┤ H ├┤ Z ├─■───────░───────░───────░─»\n",
              "«                                     └───┘└───┘         ░       ░       ░ »\n",
              "«cla: 6/═══════════════════════════════════════════════════════════════════»\n",
              "«                                                                          »\n",
              "«             ░       ░       ░ ┌─┐               \n",
              "«qua_0: ──────░───────░───────░─┤M├───────────────\n",
              "«             ░       ░       ░ └╥┘┌─┐            \n",
              "«qua_1: ──────░───────░───────░──╫─┤M├────────────\n",
              "«             ░       ░       ░  ║ └╥┘┌─┐         \n",
              "«qua_2: ──────░───────░───────░──╫──╫─┤M├─────────\n",
              "«       ┌───┐ ░       ░       ░  ║  ║ └╥┘┌─┐      \n",
              "«qua_3: ┤ H ├─░───────░───────░──╫──╫──╫─┤M├──────\n",
              "«       └───┘ ░ ┌───┐ ░       ░  ║  ║  ║ └╥┘┌─┐   \n",
              "«qua_4: ──────░─┤ H ├─░───────░──╫──╫──╫──╫─┤M├───\n",
              "«             ░ └───┘ ░ ┌───┐ ░  ║  ║  ║  ║ └╥┘┌─┐\n",
              "«qua_5: ──────░───────░─┤ H ├─░──╫──╫──╫──╫──╫─┤M├\n",
              "«             ░       ░ └───┘ ░  ║  ║  ║  ║  ║ └╥┘\n",
              "«cla: 6/═════════════════════════╩══╩══╩══╩══╩══╩═\n",
              "«                                0  1  2  3  4  5 </pre>"
            ]
          },
          "metadata": {},
          "execution_count": 6
        }
      ]
    },
    {
      "cell_type": "markdown",
      "source": [
        "### **Algoritmo de Bernstein-Vazirani**"
      ],
      "metadata": {
        "id": "XmmThg6lw8az"
      }
    },
    {
      "cell_type": "markdown",
      "source": [
        "El algoritmo de Bernstein-Vazirani [3] es una extensión del algoritmo de Deutsch-Jozs, pero en este caso resuelve un problema más complejo. Dada una función f, cuya entrada es una cadena de 0s y 1s, cuya salida es 0 o 1, de la forma:\n",
        "\n",
        "![image.png](data:image/png;base64,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)\n",
        "\n",
        "y el número secreto binario S. El algoritmo de Bernstein-Vazirani adivina este número. En términos matemáticos, la función f realiza una multiplicación bit a bit de la entrada con un número S módulo 2. Si f(x), donde x = xn, xn−1, ..., x0, la siguiente forma:\n",
        "\n",
        "![image.png](data:image/png;base64,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)\n",
        "\n",
        "El operador \"·\" es un producto escalar bit a bit módulo dos, que es una forma clásica de implementar la solución. Por ejemplo, ingrese x = 00001 y el número S con 5 dígitos. Esta función devuelve el valor x0 del bit S. También se utiliza para determinar el valor simbólico de los qubits [17] en soluciones de computación cuántica, que explicaremos más adelante con ejemplos. Otra forma de implementar este problema en la computación clásica es realizar una operación AND entre la cadena de entrada y el número a calcular.\n",
        "adivinar Entonces el problema se resuelve de la siguiente manera:\n",
        "Dado un número S= 10011 que se pretende adivinar. Realizaríamos 5\n",
        "comprobaciones, aplicando una mascara con todo ceros y un uno en el bit i\n",
        "de la comprobación i, de la siguiente forma:\n",
        "\n",
        "![image.png](data:image/png;base64,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)\n",
        "![image.png](data:image/png;base64,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)\n",
        "\n",
        "Esto significa que si tenemos n bits, necesitamos n comprobaciones. Dado que la entrada a la función es cero y uno. Entonces el costo es O(N), donde N es el número de cheques. En computación cuántica, este problema se resuelve de la misma manera que un algoritmo\n",
        "Deutsch-Jozsa, en una prueba, que explicaremos a continuación. \n",
        "\n",
        "**¿Cómo funciona el algoritmo de Bernstein-Vazirani?**\n",
        "\n",
        "El algoritmo funciona debido al cambio de fase descrito anteriormente en este artículo. En el esquema de este algoritmo, podemos ver el esquema de rebote de fase, observamos que el objetivo está en\n",
        "|−>."
      ],
      "metadata": {
        "id": "LAvHN_d4j7jj"
      }
    },
    {
      "cell_type": "markdown",
      "source": [
        "#### **Procedimiento**"
      ],
      "metadata": {
        "id": "8ovPjsnUmd8H"
      }
    },
    {
      "cell_type": "markdown",
      "source": [
        "Como mencioné anteriormente, el problema se puede resolver con una verificación de acuerdo con el siguiente algoritmo:\n",
        "\n",
        "1. Primero establecemos el registro de entrada |0>⊗n en cero, y luego establecemos el qubit de salida en |−>. \n",
        "\n",
        "2. Aplicamos la transformación de Hadamard H⊗n a los registros de entrada. \n",
        "\n",
        "3. Aplicamos rebote de fase a los qubits. \n",
        "\n",
        "4. Aplicamos la transformación de Hadamard H⊗n al registro de salida. \n",
        "\n",
        "5. Seguimos midiendo y sacamos el número S. Para comprender mejor el algoritmo, desarrollaremos un ejemplo paso a paso. Elegimos S = |11> como el número aproximado porque la operación que vamos a realizar es más clara con este número. Anteriormente, especificamos y demostramos los pasos que daremos con la amplitud de los qubits que representan el rebote de fase. Esta operación es la segunda forma de módulo del producto escalar bit a bit:\n",
        "\n",
        "![image.png](data:image/png;base64,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)\n",
        "\n",
        "El número x representa el estado del qubit, y S el número a adivinar. De\n",
        "esta forma en nuestras aplicaciones, los siguientes casos nos quedarán:\n",
        "\n",
        "![image.png](data:image/png;base64,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)\n",
        "\n",
        "Partimos del estado:\n",
        "\n",
        "![image.png](data:image/png;base64,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)\n",
        "\n",
        "Como primer paso aplicamos la trasformada de Hadamard:\n",
        "\n",
        "![image.png](data:image/png;base64,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)\n",
        "\n",
        "Aplicamos el oráculo o query function de la forma |x> = (−1)fs(x) |xi>\n",
        "\n",
        "![image.png](data:image/png;base64,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)\n",
        "\n",
        "Finalmente, aplicamos la transformada de Hadamard para invertir el es-\n",
        "tado de superposición |ψ1>. De modo que obtenemos:\n",
        "\n",
        "|ψ> = |11>\n",
        "\n",
        "Como observamos, hemos encontrado el número oculto S=11\n"
      ],
      "metadata": {
        "id": "d1v0eTBbmhNd"
      }
    },
    {
      "cell_type": "markdown",
      "source": [
        "#### **Implementación del algoritmo genérico de Bernstein-Vazirani**"
      ],
      "metadata": {
        "id": "lzr8_h8VoLFT"
      }
    },
    {
      "cell_type": "markdown",
      "source": [
        "La dificultad con este algoritmo es construir la función fs(x) sin conocer el número S. En este experimento, construye La función fs(x) usando una puerta CNOT controlada por el qubit correspondiente al bit de 1 valor en S y dirigida a\n",
        "Registros de salida. Si hay un 1 en la posición correspondiente al número adivinado, el cambio de fase realizará una rotación de fase de |−> a |−−> y su valor medido colapsará a |11> para producir el 1 deseado. no ir allí,\n",
        "Hadamard se aplicará a |0>, dando como resultado el estado | >, el Hadamard también se volverá a aplicar a |0>, colapsando así el valor 0. \n",
        "\n",
        "**El resultado en un entorno perfecto**\n",
        "\n",
        "Procedemos con una única ejecución del algoritmo en un entorno ideal. Como podemos ver, obtenemos el número S con un 100% de probabilidad."
      ],
      "metadata": {
        "id": "89nGbU4ioNVQ"
      }
    },
    {
      "cell_type": "markdown",
      "source": [
        "#### **Algoritmo de Bernstein-Vazirani Generico**"
      ],
      "metadata": {
        "id": "cK_7JAZ8pcXK"
      }
    },
    {
      "cell_type": "code",
      "source": [
        "IBMQ.load_account()\n",
        "\n",
        "#In[1]:\n",
        "from qiskit import *;\n",
        "get_ipython().run_line_magic('matplotlib','inline')\n",
        "\n",
        "from qiskit.tools.visualization import plot_histogram\n",
        "\n",
        "#In[2]:\n",
        "numero_secreto='1010101'\n",
        "\n",
        "#In[4]:\n",
        "circuit=QuantumCircuit(len(numero_secreto)+1,len(numero_secreto))\n",
        "\n",
        "#Aplicamos transformada de Hadamar del registro de entrada\n",
        "circuit.h(range(len(numero_secreto)))\n",
        "circuit.x(len(numero_secreto))\n",
        "circuit.h(len(numero_secreto))\n",
        "circuit.barrier()\n",
        "\n",
        "for i,val in enumerate(reversed(numero_secreto)):\n",
        "    if val=='1':\n",
        "        circuit.cx(i,len(numero_secreto))\n",
        "        circuit.barrier()\n",
        "        circuit.h(range(len(numero_secreto)))\n",
        "        circuit.barrier()\n",
        "        circuit.measure(range(len(numero_secreto)),range(len(numero_secreto)))\n",
        "\n",
        "#In[5]:\n",
        "circuit.draw(output='mpl')\n",
        "\n",
        "#In[6]:\n",
        "simulador=Aer.get_backend('qasm_simulator')\n",
        "res=execute(circuit,backend=simulador,shots=1).result()\n",
        "plot_histogram(res.get_counts(circuit))\n",
        "\n",
        "#In[8]:\n",
        "IBMQ.load_account()\n",
        "\n",
        "#In[9]:\n",
        "provider = IBMQ.get_provider('ibm-q')\n",
        "\n",
        "#In[10]:\n",
        "qcomp = provider.get_backend('ibmq_qasm_simulator')\n",
        "qcomp.configuration()\n",
        "\n",
        "#qcomp=provider.get_backend('ibm_oslo')\n",
        "#In[11]:\n",
        "job=execute(circuit,backend=qcomp)\n",
        "\n",
        "#In[12]:\n",
        "from qiskit.tools.monitor import job_monitor\n",
        "\n",
        "#In[13]:\n",
        "job_monitor(job)\n",
        "\n",
        "#In[14]:\n",
        "resultado1=job.result()\n",
        "\n",
        "#In[15]:\n",
        "plot_histogram(resultado1.get_counts(circuit))\n",
        "\n",
        "#In[16]:\n",
        "job2=execute(circuit,backend=qcomp,shots=1)\n",
        "\n",
        "#In[17]:\n",
        "job_monitor(job2)\n",
        "\n",
        "#In[18]:\n",
        "resultado2=job2.result()\n",
        "\n",
        "#In[19]:\n",
        "plot_histogram(resultado2.get_counts(circuit))"
      ],
      "metadata": {
        "colab": {
          "base_uri": "https://localhost:8080/",
          "height": 441
        },
        "id": "rllABDBAyaT_",
        "outputId": "3e27ebdc-ee57-4be7-b860-6c91da2436e8"
      },
      "execution_count": null,
      "outputs": [
        {
          "output_type": "stream",
          "name": "stderr",
          "text": [
            "ibmqfactory.load_account:WARNING:2022-12-13 04:52:33,318: Credentials are already in use. The existing account in the session will be replaced.\n",
            "ibmqfactory.load_account:WARNING:2022-12-13 04:52:37,945: Credentials are already in use. The existing account in the session will be replaced.\n"
          ]
        },
        {
          "output_type": "stream",
          "name": "stdout",
          "text": [
            "Job Status: job has successfully run\n",
            "Job Status: job has successfully run\n"
          ]
        },
        {
          "output_type": "execute_result",
          "data": {
            "text/plain": [
              "<Figure size 504x360 with 1 Axes>"
            ],
            "image/png": "[encoded data removed]"
          },
          "metadata": {},
          "execution_count": 7
        }
      ]
    },
    {
      "cell_type": "markdown",
      "source": [
        "#### **Circuito**"
      ],
      "metadata": {
        "id": "Ln57wrpDpg4H"
      }
    },
    {
      "cell_type": "code",
      "source": [
        "# Circuito\n",
        "circuit.draw()"
      ],
      "metadata": {
        "colab": {
          "base_uri": "https://localhost:8080/",
          "height": 894
        },
        "id": "l76mVoTG0deQ",
        "outputId": "22c68685-61aa-4861-95a3-bf0239ca70a0"
      },
      "execution_count": null,
      "outputs": [
        {
          "output_type": "execute_result",
          "data": {
            "text/plain": [
              "     ┌───┐      ░       ░ ┌───┐ ░ ┌─┐                        ░ ┌───┐ ░ ┌─┐   »\n",
              "q_0: ┤ H ├──────░───■───░─┤ H ├─░─┤M├────────────────────────░─┤ H ├─░─┤M├───»\n",
              "     ├───┤      ░   │   ░ ├───┤ ░ └╥┘┌─┐                     ░ ├───┤ ░ └╥┘┌─┐»\n",
              "q_1: ┤ H ├──────░───┼───░─┤ H ├─░──╫─┤M├─────────────────────░─┤ H ├─░──╫─┤M├»\n",
              "     ├───┤      ░   │   ░ ├───┤ ░  ║ └╥┘┌─┐                  ░ ├───┤ ░  ║ └╥┘»\n",
              "q_2: ┤ H ├──────░───┼───░─┤ H ├─░──╫──╫─┤M├──────────────■───░─┤ H ├─░──╫──╫─»\n",
              "     ├───┤      ░   │   ░ ├───┤ ░  ║  ║ └╥┘┌─┐           │   ░ ├───┤ ░  ║  ║ »\n",
              "q_3: ┤ H ├──────░───┼───░─┤ H ├─░──╫──╫──╫─┤M├───────────┼───░─┤ H ├─░──╫──╫─»\n",
              "     ├───┤      ░   │   ░ ├───┤ ░  ║  ║  ║ └╥┘┌─┐        │   ░ ├───┤ ░  ║  ║ »\n",
              "q_4: ┤ H ├──────░───┼───░─┤ H ├─░──╫──╫──╫──╫─┤M├────────┼───░─┤ H ├─░──╫──╫─»\n",
              "     ├───┤      ░   │   ░ ├───┤ ░  ║  ║  ║  ║ └╥┘┌─┐     │   ░ ├───┤ ░  ║  ║ »\n",
              "q_5: ┤ H ├──────░───┼───░─┤ H ├─░──╫──╫──╫──╫──╫─┤M├─────┼───░─┤ H ├─░──╫──╫─»\n",
              "     ├───┤      ░   │   ░ ├───┤ ░  ║  ║  ║  ║  ║ └╥┘┌─┐  │   ░ ├───┤ ░  ║  ║ »\n",
              "q_6: ┤ H ├──────░───┼───░─┤ H ├─░──╫──╫──╫──╫──╫──╫─┤M├──┼───░─┤ H ├─░──╫──╫─»\n",
              "     ├───┤┌───┐ ░ ┌─┴─┐ ░ └───┘ ░  ║  ║  ║  ║  ║  ║ └╥┘┌─┴─┐ ░ └───┘ ░  ║  ║ »\n",
              "q_7: ┤ X ├┤ H ├─░─┤ X ├─░───────░──╫──╫──╫──╫──╫──╫──╫─┤ X ├─░───────░──╫──╫─»\n",
              "     └───┘└───┘ ░ └───┘ ░       ░  ║  ║  ║  ║  ║  ║  ║ └───┘ ░       ░  ║  ║ »\n",
              "c: 7/══════════════════════════════╩══╩══╩══╩══╩══╩══╩══════════════════╩══╩═»\n",
              "                                   0  1  2  3  4  5  6                  0  1 »\n",
              "«                          ░ ┌───┐ ░ ┌─┐                        ░ ┌───┐ ░ ┌─┐»\n",
              "«q_0: ─────────────────────░─┤ H ├─░─┤M├────────────────────────░─┤ H ├─░─┤M├»\n",
              "«                          ░ ├───┤ ░ └╥┘┌─┐                     ░ ├───┤ ░ └╥┘»\n",
              "«q_1: ─────────────────────░─┤ H ├─░──╫─┤M├─────────────────────░─┤ H ├─░──╫─»\n",
              "«     ┌─┐                  ░ ├───┤ ░  ║ └╥┘┌─┐                  ░ ├───┤ ░  ║ »\n",
              "«q_2: ┤M├──────────────────░─┤ H ├─░──╫──╫─┤M├──────────────────░─┤ H ├─░──╫─»\n",
              "«     └╥┘┌─┐               ░ ├───┤ ░  ║  ║ └╥┘┌─┐               ░ ├───┤ ░  ║ »\n",
              "«q_3: ─╫─┤M├───────────────░─┤ H ├─░──╫──╫──╫─┤M├───────────────░─┤ H ├─░──╫─»\n",
              "«      ║ └╥┘┌─┐            ░ ├───┤ ░  ║  ║  ║ └╥┘┌─┐            ░ ├───┤ ░  ║ »\n",
              "«q_4: ─╫──╫─┤M├────────■───░─┤ H ├─░──╫──╫──╫──╫─┤M├────────────░─┤ H ├─░──╫─»\n",
              "«      ║  ║ └╥┘┌─┐     │   ░ ├───┤ ░  ║  ║  ║  ║ └╥┘┌─┐         ░ ├───┤ ░  ║ »\n",
              "«q_5: ─╫──╫──╫─┤M├─────┼───░─┤ H ├─░──╫──╫──╫──╫──╫─┤M├─────────░─┤ H ├─░──╫─»\n",
              "«      ║  ║  ║ └╥┘┌─┐  │   ░ ├───┤ ░  ║  ║  ║  ║  ║ └╥┘┌─┐      ░ ├───┤ ░  ║ »\n",
              "«q_6: ─╫──╫──╫──╫─┤M├──┼───░─┤ H ├─░──╫──╫──╫──╫──╫──╫─┤M├──■───░─┤ H ├─░──╫─»\n",
              "«      ║  ║  ║  ║ └╥┘┌─┴─┐ ░ └───┘ ░  ║  ║  ║  ║  ║  ║ └╥┘┌─┴─┐ ░ └───┘ ░  ║ »\n",
              "«q_7: ─╫──╫──╫──╫──╫─┤ X ├─░───────░──╫──╫──╫──╫──╫──╫──╫─┤ X ├─░───────░──╫─»\n",
              "«      ║  ║  ║  ║  ║ └───┘ ░       ░  ║  ║  ║  ║  ║  ║  ║ └───┘ ░       ░  ║ »\n",
              "«c: 7/═╩══╩══╩══╩══╩══════════════════╩══╩══╩══╩══╩══╩══╩══════════════════╩═»\n",
              "«      2  3  4  5  6                  0  1  2  3  4  5  6                  0 »\n",
              "«                       \n",
              "«q_0: ──────────────────\n",
              "«     ┌─┐               \n",
              "«q_1: ┤M├───────────────\n",
              "«     └╥┘┌─┐            \n",
              "«q_2: ─╫─┤M├────────────\n",
              "«      ║ └╥┘┌─┐         \n",
              "«q_3: ─╫──╫─┤M├─────────\n",
              "«      ║  ║ └╥┘┌─┐      \n",
              "«q_4: ─╫──╫──╫─┤M├──────\n",
              "«      ║  ║  ║ └╥┘┌─┐   \n",
              "«q_5: ─╫──╫──╫──╫─┤M├───\n",
              "«      ║  ║  ║  ║ └╥┘┌─┐\n",
              "«q_6: ─╫──╫──╫──╫──╫─┤M├\n",
              "«      ║  ║  ║  ║  ║ └╥┘\n",
              "«q_7: ─╫──╫──╫──╫──╫──╫─\n",
              "«      ║  ║  ║  ║  ║  ║ \n",
              "«c: 7/═╩══╩══╩══╩══╩══╩═\n",
              "«      1  2  3  4  5  6 "
            ],
            "text/html": [
              "<pre style=\"word-wrap: normal;white-space: pre;background: #fff0;line-height: 1.1;font-family: &quot;Courier New&quot;,Courier,monospace\">     ┌───┐      ░       ░ ┌───┐ ░ ┌─┐                        ░ ┌───┐ ░ ┌─┐   »\n",
              "q_0: ┤ H ├──────░───■───░─┤ H ├─░─┤M├────────────────────────░─┤ H ├─░─┤M├───»\n",
              "     ├───┤      ░   │   ░ ├───┤ ░ └╥┘┌─┐                     ░ ├───┤ ░ └╥┘┌─┐»\n",
              "q_1: ┤ H ├──────░───┼───░─┤ H ├─░──╫─┤M├─────────────────────░─┤ H ├─░──╫─┤M├»\n",
              "     ├───┤      ░   │   ░ ├───┤ ░  ║ └╥┘┌─┐                  ░ ├───┤ ░  ║ └╥┘»\n",
              "q_2: ┤ H ├──────░───┼───░─┤ H ├─░──╫──╫─┤M├──────────────■───░─┤ H ├─░──╫──╫─»\n",
              "     ├───┤      ░   │   ░ ├───┤ ░  ║  ║ └╥┘┌─┐           │   ░ ├───┤ ░  ║  ║ »\n",
              "q_3: ┤ H ├──────░───┼───░─┤ H ├─░──╫──╫──╫─┤M├───────────┼───░─┤ H ├─░──╫──╫─»\n",
              "     ├───┤      ░   │   ░ ├───┤ ░  ║  ║  ║ └╥┘┌─┐        │   ░ ├───┤ ░  ║  ║ »\n",
              "q_4: ┤ H ├──────░───┼───░─┤ H ├─░──╫──╫──╫──╫─┤M├────────┼───░─┤ H ├─░──╫──╫─»\n",
              "     ├───┤      ░   │   ░ ├───┤ ░  ║  ║  ║  ║ └╥┘┌─┐     │   ░ ├───┤ ░  ║  ║ »\n",
              "q_5: ┤ H ├──────░───┼───░─┤ H ├─░──╫──╫──╫──╫──╫─┤M├─────┼───░─┤ H ├─░──╫──╫─»\n",
              "     ├───┤      ░   │   ░ ├───┤ ░  ║  ║  ║  ║  ║ └╥┘┌─┐  │   ░ ├───┤ ░  ║  ║ »\n",
              "q_6: ┤ H ├──────░───┼───░─┤ H ├─░──╫──╫──╫──╫──╫──╫─┤M├──┼───░─┤ H ├─░──╫──╫─»\n",
              "     ├───┤┌───┐ ░ ┌─┴─┐ ░ └───┘ ░  ║  ║  ║  ║  ║  ║ └╥┘┌─┴─┐ ░ └───┘ ░  ║  ║ »\n",
              "q_7: ┤ X ├┤ H ├─░─┤ X ├─░───────░──╫──╫──╫──╫──╫──╫──╫─┤ X ├─░───────░──╫──╫─»\n",
              "     └───┘└───┘ ░ └───┘ ░       ░  ║  ║  ║  ║  ║  ║  ║ └───┘ ░       ░  ║  ║ »\n",
              "c: 7/══════════════════════════════╩══╩══╩══╩══╩══╩══╩══════════════════╩══╩═»\n",
              "                                   0  1  2  3  4  5  6                  0  1 »\n",
              "«                          ░ ┌───┐ ░ ┌─┐                        ░ ┌───┐ ░ ┌─┐»\n",
              "«q_0: ─────────────────────░─┤ H ├─░─┤M├────────────────────────░─┤ H ├─░─┤M├»\n",
              "«                          ░ ├───┤ ░ └╥┘┌─┐                     ░ ├───┤ ░ └╥┘»\n",
              "«q_1: ─────────────────────░─┤ H ├─░──╫─┤M├─────────────────────░─┤ H ├─░──╫─»\n",
              "«     ┌─┐                  ░ ├───┤ ░  ║ └╥┘┌─┐                  ░ ├───┤ ░  ║ »\n",
              "«q_2: ┤M├──────────────────░─┤ H ├─░──╫──╫─┤M├──────────────────░─┤ H ├─░──╫─»\n",
              "«     └╥┘┌─┐               ░ ├───┤ ░  ║  ║ └╥┘┌─┐               ░ ├───┤ ░  ║ »\n",
              "«q_3: ─╫─┤M├───────────────░─┤ H ├─░──╫──╫──╫─┤M├───────────────░─┤ H ├─░──╫─»\n",
              "«      ║ └╥┘┌─┐            ░ ├───┤ ░  ║  ║  ║ └╥┘┌─┐            ░ ├───┤ ░  ║ »\n",
              "«q_4: ─╫──╫─┤M├────────■───░─┤ H ├─░──╫──╫──╫──╫─┤M├────────────░─┤ H ├─░──╫─»\n",
              "«      ║  ║ └╥┘┌─┐     │   ░ ├───┤ ░  ║  ║  ║  ║ └╥┘┌─┐         ░ ├───┤ ░  ║ »\n",
              "«q_5: ─╫──╫──╫─┤M├─────┼───░─┤ H ├─░──╫──╫──╫──╫──╫─┤M├─────────░─┤ H ├─░──╫─»\n",
              "«      ║  ║  ║ └╥┘┌─┐  │   ░ ├───┤ ░  ║  ║  ║  ║  ║ └╥┘┌─┐      ░ ├───┤ ░  ║ »\n",
              "«q_6: ─╫──╫──╫──╫─┤M├──┼───░─┤ H ├─░──╫──╫──╫──╫──╫──╫─┤M├──■───░─┤ H ├─░──╫─»\n",
              "«      ║  ║  ║  ║ └╥┘┌─┴─┐ ░ └───┘ ░  ║  ║  ║  ║  ║  ║ └╥┘┌─┴─┐ ░ └───┘ ░  ║ »\n",
              "«q_7: ─╫──╫──╫──╫──╫─┤ X ├─░───────░──╫──╫──╫──╫──╫──╫──╫─┤ X ├─░───────░──╫─»\n",
              "«      ║  ║  ║  ║  ║ └───┘ ░       ░  ║  ║  ║  ║  ║  ║  ║ └───┘ ░       ░  ║ »\n",
              "«c: 7/═╩══╩══╩══╩══╩══════════════════╩══╩══╩══╩══╩══╩══╩══════════════════╩═»\n",
              "«      2  3  4  5  6                  0  1  2  3  4  5  6                  0 »\n",
              "«                       \n",
              "«q_0: ──────────────────\n",
              "«     ┌─┐               \n",
              "«q_1: ┤M├───────────────\n",
              "«     └╥┘┌─┐            \n",
              "«q_2: ─╫─┤M├────────────\n",
              "«      ║ └╥┘┌─┐         \n",
              "«q_3: ─╫──╫─┤M├─────────\n",
              "«      ║  ║ └╥┘┌─┐      \n",
              "«q_4: ─╫──╫──╫─┤M├──────\n",
              "«      ║  ║  ║ └╥┘┌─┐   \n",
              "«q_5: ─╫──╫──╫──╫─┤M├───\n",
              "«      ║  ║  ║  ║ └╥┘┌─┐\n",
              "«q_6: ─╫──╫──╫──╫──╫─┤M├\n",
              "«      ║  ║  ║  ║  ║ └╥┘\n",
              "«q_7: ─╫──╫──╫──╫──╫──╫─\n",
              "«      ║  ║  ║  ║  ║  ║ \n",
              "«c: 7/═╩══╩══╩══╩══╩══╩═\n",
              "«      1  2  3  4  5  6 </pre>"
            ]
          },
          "metadata": {},
          "execution_count": 8
        }
      ]
    },
    {
      "cell_type": "markdown",
      "source": [
        "### **Algoritmo de Deutsch-Jozsa**"
      ],
      "metadata": {
        "id": "tAkJS2LXb8Qv"
      }
    },
    {
      "cell_type": "markdown",
      "source": [
        "Para una primera aproximación a los algoritmos cuánticos, presentamos el algoritmo de Deutsch-Jozsa [4] [5]. Este algoritmo evalúa si una función f : f(xn...x1, x0) con entradas 0 y 1 y salidas 0 o 1 tiene propiedades constantes o balanceadas. Anteriormente se garantizó que esta función f tiene esta propiedad. Una función es inmutable si siempre devuelve cero o uno para cualquier entrada. Por el contrario, si su salida es mitad a mitad cero, está balanceada. Como ejemplo, tomemos una función que toma como entrada un número binario de la forma f(x2, x1, x0), donde N=2^3 entradas posibles. La función tendrá un valor de 0 cuando x0 = 1 y un valor de 1 cuando x0 = 0. En el mejor de los casos, encontramos dos valores diferentes en dos pruebas, f(1, 0, 1) = 0 y f( 0 , 0, 0) = 1. Es decir, saber que las funciones están equilibradas. Pero en el peor de los casos hacemos 2\n",
        "\n",
        "3−1 1 = 5 verifica qué tipo de función es. En resumen, si hay 2n entradas posibles, la función debe evaluarse como 2n\n",
        "2 1 vez para determinar qué tipo de función es. El algoritmo de Deutsch-Jozsa mejora exponencialmente su desempeño para este problema en particular. Como acabamos de mencionar, en la computadora\n",
        "La ecuación clásica para el peor de los casos con 2^3 entradas posibles es\n",
        "\n",
        "Es necesario evaluar la función 8/2 1 = 5 veces para determinar qué tipo de función es. Pero en computación cuántica será necesario\n",
        "Solo una evaluación sabrá el resultado del problema, por lo que no hay duda de que la computación cuántica es mejor para este problema. Antes de generalizar el problema a n qubits, analizaremos el problema de Deutsch, que es una implementación de un qubit. El algoritmo es el primero en superar a los algoritmos desarrollados en la computación clásica en términos de costo computacional. El algoritmo utiliza la superposición para crear un solo estado que contiene todas las salidas posibles para una entrada determinada. a\n",
        "Para este desarrollo necesitamos usar funciones de consulta Uf y puertas de Hadamard. Hay muchas formas de implementar una función de consulta, y su ecuación práctica es:\n",
        "\n",
        "|x> = (−1)^f(x) |x>\n",
        "\n",
        "Vamos a observar el efecto que tiene la ecuación (5), en un estado en superposición |+> y estudiar sus implicaciones. Dado el estado en superposi-\n",
        "ción:\n",
        "\n",
        "|ψ1> = 1/√2(|0> + |1>)\n",
        "\n",
        "Al aplicarle Uf , definida en la ecuación (5) a |ψ1> nos queda:\n",
        "\n",
        "|ψ2> = 1√2((−1)^f(0) |0> + (−1)^f(1) |1>).\n",
        "\n",
        "Dependiendo de la query function, el valor del qubit será positivo o ne-\n",
        "gativo. Es en este punto donde procedemos a suponer los posibles valores de la query function.\n",
        "\n",
        "Supongamos f(0) ≠ f(1) entonces:\n",
        "\n",
        "|ψ3> = ±1/√2(|0> − |1>)\n",
        "\n",
        "Si por el contrario f(0) = f(1):\n",
        "|ψ4i = ±1/√2(|0> + |1>)\n",
        "\n",
        "Ahora aplicamos Hadamard a |ψ3> y nos queda:\n",
        "|ψ5> = ± |1>\n",
        "\n",
        "También aplicamos Hadamard a |ψ4i y nos queda:\n",
        "|ψ6> = ± |0>\n",
        "\n",
        "Recordemos el efecto que tiene aplicar Hadamard a un estado en superposición H |−>\n",
        "\n",
        "![image.png](data:image/png;base64,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)\n",
        "\n",
        "Para el desarrollo y explicación de este algoritmo, definimos la query\n",
        "function de forma general Uf como sigue:\n",
        "\n",
        "Uf = |x, y ⊕ f(x)>\n",
        "\n",
        "La función f realiza la transformación que se muestra en la fórmula (6), que es una función booleana. Como requisito se deben implementar funciones de determinación de constantes o balances. Recuerde que debido a la naturaleza de la computación cuántica, cuando se mide un estado de superposición, colapsa en un estado de la forma\n",
        "\n",
        "|x, f(x)> lo que significa que el algoritmo no nos mostrará el valor de evaluación f(0) o f(1). En cambio, nos dará información global, en este caso f(0) = f(1) o f(0) 6 = f(1), más precisamente, como mencionamos anteriormente, nos dirá si la función dada es constante o equilibrada.\n"
      ],
      "metadata": {
        "id": "y7ddrcuHrTPX"
      }
    },
    {
      "cell_type": "markdown",
      "source": [
        "#### **Implementación del algoritmo de Deutsch**"
      ],
      "metadata": {
        "id": "5xaOi647uIoC"
      }
    },
    {
      "cell_type": "markdown",
      "source": [
        "Presentaremos un ejemplo de Qiskit. El resultado es un entorno perfecto. Para la interpretación de los resultados sólo nos interesa la información del primer qubit."
      ],
      "metadata": {
        "id": "xsEcqA-uuLF7"
      }
    },
    {
      "cell_type": "code",
      "source": [
        "provider = IBMQ.get_provider('ibm-q')\n",
        "qcomp = provider.get_backend('ibmq_qasm_simulator')\n",
        "job = execute(circuit, backend=qcomp)\n",
        "from qiskit.tools.monitor import job_monitor\n",
        "from qiskit.providers.ibmq.job import job_monitor\n",
        "job_monitor(job)\n",
        "result = job.result()"
      ],
      "metadata": {
        "colab": {
          "base_uri": "https://localhost:8080/"
        },
        "id": "WMGTRK_Qjooo",
        "outputId": "df15e8cb-4527-47b1-c11b-a85eb5f3c773"
      },
      "execution_count": null,
      "outputs": [
        {
          "output_type": "stream",
          "name": "stdout",
          "text": [
            "Job Status: job has successfully run\n"
          ]
        }
      ]
    },
    {
      "cell_type": "code",
      "source": [
        "from qiskit import *\n",
        "\n",
        "#Registrocuantico3qubits\n",
        "qr=QuantumRegister(3)\n",
        "\n",
        "#registroclasicodondealmacenaremoslosresultados\n",
        "cr=ClassicalRegister(3)\n",
        "circuit=QuantumCircuit(qr,cr)\n",
        "\n",
        "#herramientasparalavisuzaliacion\n",
        "get_ipython().run_line_magic('matplotlib','inline')\n",
        "circuit.draw()\n",
        "\n",
        "#TransformadadeHadamard\n",
        "circuit.h(qr[0])\n",
        "circuit.h(qr[1])\n",
        "circuit.h(qr[2])\n",
        "circuit.draw()\n",
        "circuit.draw(output='mpl')\n",
        "\n",
        "#aplicamoslaqueryfunction\n",
        "circuit.z(qr[0])\n",
        "circuit.h(qr[2])\n",
        "circuit.cx(qr[1],qr[2])\n",
        "circuit.h(qr[2])\n",
        "circuit.draw(output='mpl')\n",
        "\n",
        "#transformadadeHadamard\n",
        "circuit.h(qr[0])\n",
        "circuit.h(qr[1])\n",
        "circuit.h(qr[2])\n",
        "circuit.draw(output='mpl')\n",
        "\n",
        "circuit.measure(qr,cr)\n",
        "circuit.draw(output='mpl')\n",
        "#Procedemosaejecutarenentornoideal\n",
        "simulator=Aer.get_backend('qasm_simulator')\n",
        "result=execute(circuit,backend=simulator).result()\n",
        "#visualizacionresultado\n",
        "from qiskit.tools.visualization import plot_histogram\n",
        "plot_histogram(result.get_counts(circuit))\n",
        "from qiskit.tools.visualization import plot_bloch_multivector\n",
        "#plot_bloch_multivector(result.get_counts(circuit))\n",
        "from qiskit.tools.visualization import plot_gate_map\n",
        "#plot_gate_map(result.get_counts(circuit))\n",
        "#ejecucionenentornoreal\n",
        "\n",
        "IBMQ.save_account('4d6a67dabfece4e7a41047f5fc76a1c00550cd6719f8b31153a252594224875859dc0c07752a0fc1a6ca10af7e721ed9779d297bca408cfc224263c154ac7db3')\n",
        "IBMQ.load_account()\n",
        "provider = IBMQ.get_provider('ibm-q')\n",
        "qcomp=provider.get_backend('ibmq_qasm_simulator')\n",
        "job=execute(circuit,backend=qcomp)\n",
        "from qiskit.tools.monitor import job_monitor\n",
        "job_monitor(job)\n",
        "result=job.result()\n",
        "plot_histogram(result.get_counts(circuit))"
      ],
      "metadata": {
        "colab": {
          "base_uri": "https://localhost:8080/",
          "height": 392
        },
        "id": "UnrRoNSYcsXF",
        "outputId": "d7145ba9-68b4-4a9b-c8ef-61f8522ebb6a"
      },
      "execution_count": null,
      "outputs": [
        {
          "output_type": "stream",
          "name": "stderr",
          "text": [
            "configrc.store_credentials:WARNING:2022-12-13 04:54:02,846: Credentials already present. Set overwrite=True to overwrite.\n",
            "ibmqfactory.load_account:WARNING:2022-12-13 04:54:03,599: Credentials are already in use. The existing account in the session will be replaced.\n"
          ]
        },
        {
          "output_type": "stream",
          "name": "stdout",
          "text": [
            "Job Status: job has successfully run\n"
          ]
        },
        {
          "output_type": "execute_result",
          "data": {
            "text/plain": [
              "<Figure size 504x360 with 1 Axes>"
            ],
            "image/png": "[encoded data removed]"
          },
          "metadata": {},
          "execution_count": 10
        }
      ]
    },
    {
      "cell_type": "markdown",
      "source": [
        "#### **Circuito**"
      ],
      "metadata": {
        "id": "sWxuA1mduhK4"
      }
    },
    {
      "cell_type": "code",
      "source": [
        "# Circuito\n",
        "\n",
        "circuit.draw()"
      ],
      "metadata": {
        "colab": {
          "base_uri": "https://localhost:8080/",
          "height": 156
        },
        "id": "CYJjuvjBV2Qz",
        "outputId": "e02f3474-590c-4eab-d05f-e80916bbfd46"
      },
      "execution_count": null,
      "outputs": [
        {
          "output_type": "execute_result",
          "data": {
            "text/plain": [
              "       ┌───┐┌───┐┌───┐     ┌─┐           \n",
              "q26_0: ┤ H ├┤ Z ├┤ H ├─────┤M├───────────\n",
              "       ├───┤└───┘└───┘┌───┐└╥┘     ┌─┐   \n",
              "q26_1: ┤ H ├───────■──┤ H ├─╫──────┤M├───\n",
              "       ├───┤┌───┐┌─┴─┐├───┤ ║ ┌───┐└╥┘┌─┐\n",
              "q26_2: ┤ H ├┤ H ├┤ X ├┤ H ├─╫─┤ H ├─╫─┤M├\n",
              "       └───┘└───┘└───┘└───┘ ║ └───┘ ║ └╥┘\n",
              " c0: 3/═════════════════════╩═══════╩══╩═\n",
              "                            0       1  2 "
            ],
            "text/html": [
              "<pre style=\"word-wrap: normal;white-space: pre;background: #fff0;line-height: 1.1;font-family: &quot;Courier New&quot;,Courier,monospace\">       ┌───┐┌───┐┌───┐     ┌─┐           \n",
              "q26_0: ┤ H ├┤ Z ├┤ H ├─────┤M├───────────\n",
              "       ├───┤└───┘└───┘┌───┐└╥┘     ┌─┐   \n",
              "q26_1: ┤ H ├───────■──┤ H ├─╫──────┤M├───\n",
              "       ├───┤┌───┐┌─┴─┐├───┤ ║ ┌───┐└╥┘┌─┐\n",
              "q26_2: ┤ H ├┤ H ├┤ X ├┤ H ├─╫─┤ H ├─╫─┤M├\n",
              "       └───┘└───┘└───┘└───┘ ║ └───┘ ║ └╥┘\n",
              " c0: 3/═════════════════════╩═══════╩══╩═\n",
              "                            0       1  2 </pre>"
            ]
          },
          "metadata": {},
          "execution_count": 11
        }
      ]
    },
    {
      "cell_type": "markdown",
      "source": [
        "### **Algoritmo de Shor**"
      ],
      "metadata": {
        "id": "hO--2y9fkLK_"
      }
    },
    {
      "cell_type": "markdown",
      "source": [
        "Actualmente, la criptografía de clave pública como RSA se basa en un gran múltiplo de números primos, en torno a 10.300, que aumenta con la potencia informática de los ordenadores. Para números muy grandes N, actualmente no se conocen algoritmos de factorización eficientes. Por esta dificultad\n",
        "Los algoritmos de cifrado utilizan este problema como base para el cifrado. El algoritmo de factorización más famoso, el orden objetivo general del campo numérico [6] es:\n",
        "\n",
        "O(e^(lnN)^1/3 (lnlnN)^2/3)\n",
        "\n",
        "Esto significa que tomará alrededor de 20 330 años superarlo una vez para tamaños múltiples como 1015. El algoritmo de Shor [7], por otro lado, resuelve el problema en O((logN)^3) tiempo y O(logN) espacio . donde N es el coeficiente. Por lo tanto, el tiempo requerido es solo de aproximadamente 1 hora. El problema de factorización se plantea de una forma muy sencilla, ¿es posible encontrar dos factores primos p y q tales que N = p ∗ q? Para hacer esto, primero transformó el problema de factorización en el problema de encontrar el orden de la función f(x) = a^x modN. El período de esta función se encuentra luego usando un algoritmo cuántico."
      ],
      "metadata": {
        "id": "089dKtu9vnKS"
      }
    },
    {
      "cell_type": "markdown",
      "source": [
        "#### **Procedimiento**"
      ],
      "metadata": {
        "id": "UytcEn80wXVp"
      }
    },
    {
      "cell_type": "markdown",
      "source": [
        "- Cree un circuito con dos registros (un registro de período y un registro de cálculo), cada uno de tamaño L = log2N qubits. Redondea L al siguiente número entero. \n",
        "\n",
        "- Se aplica una puerta de Hadamard a la primera entrada y, por lo tanto, se impone.\n",
        "\n",
        "- Construir la función f(x) como una función cuántica y aplicarla al estado anterior. \n",
        "\n",
        "- La transformación IQFT se aplica a la primera entrada. \n",
        "\n",
        "- Medir el primer registro. \n",
        "\n",
        "- Convertir el cociente 2/2^L en un cociente irreducible. Obtiene el denominador r' que es candidato a r. \n",
        "\n",
        "- Comprobar que f(x r0) = f(x):\n",
        "Finaliza si se cumple la condición. \n",
        "\n",
        "Si no, obtenga más r's usando múltiplos de r' o valores cercanos de a.\n"
      ],
      "metadata": {
        "id": "gA9a1Lj-wZ0E"
      }
    },
    {
      "cell_type": "markdown",
      "source": [
        "#### **Código Shor N=21,A=5 en Qiskit**"
      ],
      "metadata": {
        "id": "kejEZOTnxs9Q"
      }
    },
    {
      "cell_type": "code",
      "source": [
        "from qiskit import *;\n",
        "from qiskit.tools.visualization import plot_histogram;\n",
        "\n",
        "circuit=QuantumCircuit(10,10)\n",
        "for i in range(0,5):\n",
        "    circuit.h(i)\n",
        "\n",
        "circuit.x(5)\n",
        "circuit.barrier()\n",
        "    \n",
        "#si el qbit 0 esta a 1 se realiza 1X5\n",
        "circuit.cx(0,7)\n",
        "circuit.barrier()\n",
        "#5^2mod21=X4\n",
        "circuit.ccx(1,8,9)\n",
        "circuit.ccx(1,8,6)\n",
        "circuit.cswap(1,8,6)\n",
        "circuit.cswap(1,7,9)\n",
        "circuit.cswap(1,5,7)\n",
        "circuit.barrier()\n",
        "#5^4mod21=x16\n",
        "circuit.cswap(2,5,7)\n",
        "circuit.cswap(2,7,9)\n",
        "circuit.cswap(2,8,6)\n",
        "circuit.ccx(2,8,6)\n",
        "circuit.ccx(2,8,9)\n",
        "circuit.barrier()\n",
        "#5^8mod21=X4\n",
        "circuit.ccx(3,8,9)\n",
        "circuit.ccx(3,8,6)\n",
        "circuit.cswap(3,8,6)\n",
        "circuit.cswap(3,7,9)\n",
        "circuit.cswap(3,5,7)\n",
        "circuit.barrier()\n",
        "#5^16mod21=X16\n",
        "circuit.cswap(4,5,7)\n",
        "circuit.cswap(4,7,9)\n",
        "\n",
        "circuit.cswap(4,8,6)\n",
        "circuit.ccx(4,8,6)\n",
        "circuit.ccx(4,8,9)\n",
        "circuit.barrier()\n",
        "\n",
        "for j in range(4,-1, -1):\n",
        "    circuit.h(j)\n",
        "    for k in range(j-1,-1,-1):\n",
        "      circuit.cu1(-1*math.pi/float(2**(j-k)),k,j)\n",
        "circuit.barrier()\n",
        "\n",
        "for i in range(5):\n",
        "    circuit.measure(i,4-i)\n",
        "simulator=Aer.get_backend('qasm_simulator')\n",
        "result=execute(circuit,backend=simulator).result()\n",
        "plot_histogram(result.get_counts(circuit))\n",
        "\n",
        "%matplotlib inline\n",
        "circuit.draw(output='mpl')"
      ],
      "metadata": {
        "colab": {
          "base_uri": "https://localhost:8080/",
          "height": 1000
        },
        "id": "JZvV5-56kRTr",
        "outputId": "84271849-3062-4371-c946-e4abf207bcb1"
      },
      "execution_count": null,
      "outputs": [
        {
          "output_type": "stream",
          "name": "stderr",
          "text": [
            "<ipython-input-12-6965c878883e>:47: DeprecationWarning: The QuantumCircuit.cu1 method is deprecated as of 0.16.0. It will be removed no earlier than 3 months after the release date. You should use the QuantumCircuit.cp method instead, which acts identically.\n",
            "  circuit.cu1(-1*math.pi/float(2**(j-k)),k,j)\n"
          ]
        },
        {
          "output_type": "execute_result",
          "data": {
            "text/plain": [
              "<Figure size 1591.6x2131.08 with 1 Axes>"
            ],
            "image/png": "[encoded data removed]"
          },
          "metadata": {},
          "execution_count": 12
        }
      ]
    },
    {
      "cell_type": "markdown",
      "source": [
        "#### **Circuito**"
      ],
      "metadata": {
        "id": "B6tSb6tvxyvs"
      }
    },
    {
      "cell_type": "code",
      "source": [
        "# Circuito\n",
        "\n",
        "circuit.draw()"
      ],
      "metadata": {
        "colab": {
          "base_uri": "https://localhost:8080/",
          "height": 1000
        },
        "id": "wSWDkWl1V9BO",
        "outputId": "f439ab1b-bf31-45cc-cd77-13cdb10b17d4"
      },
      "execution_count": null,
      "outputs": [
        {
          "output_type": "execute_result",
          "data": {
            "text/plain": [
              "      ┌───┐ ░       ░                     ░                     ░              »\n",
              " q_0: ┤ H ├─░───■───░─────────────────────░─────────────────────░──────────────»\n",
              "      ├───┤ ░   │   ░                     ░                     ░              »\n",
              " q_1: ┤ H ├─░───┼───░───■────■───■──■──■──░─────────────────────░──────────────»\n",
              "      ├───┤ ░   │   ░   │    │   │  │  │  ░                     ░              »\n",
              " q_2: ┤ H ├─░───┼───░───┼────┼───┼──┼──┼──░──■──■──■───■────■───░──────────────»\n",
              "      ├───┤ ░   │   ░   │    │   │  │  │  ░  │  │  │   │    │   ░              »\n",
              " q_3: ┤ H ├─░───┼───░───┼────┼───┼──┼──┼──░──┼──┼──┼───┼────┼───░───■────■───■─»\n",
              "      ├───┤ ░   │   ░   │    │   │  │  │  ░  │  │  │   │    │   ░   │    │   │ »\n",
              " q_4: ┤ H ├─░───┼───░───┼────┼───┼──┼──┼──░──┼──┼──┼───┼────┼───░───┼────┼───┼─»\n",
              "      ├───┤ ░   │   ░   │    │   │  │  │  ░  │  │  │   │    │   ░   │    │   │ »\n",
              " q_5: ┤ X ├─░───┼───░───┼────┼───┼──┼──X──░──X──┼──┼───┼────┼───░───┼────┼───┼─»\n",
              "      └───┘ ░   │   ░   │  ┌─┴─┐ │  │  │  ░  │  │  │ ┌─┴─┐  │   ░   │  ┌─┴─┐ │ »\n",
              " q_6: ──────░───┼───░───┼──┤ X ├─X──┼──┼──░──┼──┼──X─┤ X ├──┼───░───┼──┤ X ├─X─»\n",
              "            ░ ┌─┴─┐ ░   │  └─┬─┘ │  │  │  ░  │  │  │ └─┬─┘  │   ░   │  └─┬─┘ │ »\n",
              " q_7: ──────░─┤ X ├─░───┼────┼───┼──X──X──░──X──X──┼───┼────┼───░───┼────┼───┼─»\n",
              "            ░ └───┘ ░   │    │   │  │     ░     │  │   │    │   ░   │    │   │ »\n",
              " q_8: ──────░───────░───■────■───X──┼─────░─────┼──X───■────■───░───■────■───X─»\n",
              "            ░       ░ ┌─┴─┐         │     ░     │         ┌─┴─┐ ░ ┌─┴─┐        »\n",
              " q_9: ──────░───────░─┤ X ├─────────X─────░─────X─────────┤ X ├─░─┤ X ├────────»\n",
              "            ░       ░ └───┘               ░               └───┘ ░ └───┘        »\n",
              "c: 10/═════════════════════════════════════════════════════════════════════════»\n",
              "                                                                               »\n",
              "«             ░                     ░                                 »\n",
              "« q_0: ───────░─────────────────────░─────────────────────────────────»\n",
              "«             ░                     ░                                 »\n",
              "« q_1: ───────░─────────────────────░─────────────────────────────────»\n",
              "«             ░                     ░                                 »\n",
              "« q_2: ───────░─────────────────────░──────────────────■──────────────»\n",
              "«             ░                     ░                  │         ┌───┐»\n",
              "« q_3: ─■──■──░─────────────────────░───────■──────────┼─────────┤ H ├»\n",
              "«       │  │  ░                     ░ ┌───┐ │U1(-π/2)  │U1(-π/4) └───┘»\n",
              "« q_4: ─┼──┼──░──■──■──■───■────■───░─┤ H ├─■──────────■──────────────»\n",
              "«       │  │  ░  │  │  │   │    │   ░ └───┘                           »\n",
              "« q_5: ─┼──X──░──X──┼──┼───┼────┼───░─────────────────────────────────»\n",
              "«       │  │  ░  │  │  │ ┌─┴─┐  │   ░                                 »\n",
              "« q_6: ─┼──┼──░──┼──┼──X─┤ X ├──┼───░─────────────────────────────────»\n",
              "«       │  │  ░  │  │  │ └─┬─┘  │   ░                                 »\n",
              "« q_7: ─X──X──░──X──X──┼───┼────┼───░─────────────────────────────────»\n",
              "«       │     ░     │  │   │    │   ░                                 »\n",
              "« q_8: ─┼─────░─────┼──X───■────■───░─────────────────────────────────»\n",
              "«       │     ░     │         ┌─┴─┐ ░                                 »\n",
              "« q_9: ─X─────░─────X─────────┤ X ├─░─────────────────────────────────»\n",
              "«             ░               └───┘ ░                                 »\n",
              "«c: 10/═══════════════════════════════════════════════════════════════»\n",
              "«                                                                     »\n",
              "«                                                                              »\n",
              "« q_0: ───────────────────────■───────────────────────────■────────────────────»\n",
              "«                             │                           │                    »\n",
              "« q_1: ─■─────────────────────┼───────────■───────────────┼──────────■─────────»\n",
              "«       │                     │           │         ┌───┐ │          │U1(-π/2) »\n",
              "« q_2: ─┼──────────■──────────┼───────────┼─────────┤ H ├─┼──────────■─────────»\n",
              "«       │          │U1(-π/2)  │           │U1(-π/4) └───┘ │U1(-π/8)            »\n",
              "« q_3: ─┼──────────■──────────┼───────────■───────────────■────────────────────»\n",
              "«       │U1(-π/8)             │U1(-π/16)                                       »\n",
              "« q_4: ─■─────────────────────■────────────────────────────────────────────────»\n",
              "«                                                                              »\n",
              "« q_5: ────────────────────────────────────────────────────────────────────────»\n",
              "«                                                                              »\n",
              "« q_6: ────────────────────────────────────────────────────────────────────────»\n",
              "«                                                                              »\n",
              "« q_7: ────────────────────────────────────────────────────────────────────────»\n",
              "«                                                                              »\n",
              "« q_8: ────────────────────────────────────────────────────────────────────────»\n",
              "«                                                                              »\n",
              "« q_9: ────────────────────────────────────────────────────────────────────────»\n",
              "«                                                                              »\n",
              "«c: 10/════════════════════════════════════════════════════════════════════════»\n",
              "«                                                                              »\n",
              "«                                 ┌───┐ ░ ┌─┐            \n",
              "« q_0: ─■───────────────■─────────┤ H ├─░─┤M├────────────\n",
              "«       │         ┌───┐ │U1(-π/2) └───┘ ░ └╥┘┌─┐         \n",
              "« q_1: ─┼─────────┤ H ├─■───────────────░──╫─┤M├─────────\n",
              "«       │U1(-π/4) └───┘                 ░  ║ └╥┘┌─┐      \n",
              "« q_2: ─■───────────────────────────────░──╫──╫─┤M├──────\n",
              "«                                       ░  ║  ║ └╥┘┌─┐   \n",
              "« q_3: ─────────────────────────────────░──╫──╫──╫─┤M├───\n",
              "«                                       ░  ║  ║  ║ └╥┘┌─┐\n",
              "« q_4: ─────────────────────────────────░──╫──╫──╫──╫─┤M├\n",
              "«                                       ░  ║  ║  ║  ║ └╥┘\n",
              "« q_5: ─────────────────────────────────░──╫──╫──╫──╫──╫─\n",
              "«                                       ░  ║  ║  ║  ║  ║ \n",
              "« q_6: ─────────────────────────────────░──╫──╫──╫──╫──╫─\n",
              "«                                       ░  ║  ║  ║  ║  ║ \n",
              "« q_7: ─────────────────────────────────░──╫──╫──╫──╫──╫─\n",
              "«                                       ░  ║  ║  ║  ║  ║ \n",
              "« q_8: ─────────────────────────────────░──╫──╫──╫──╫──╫─\n",
              "«                                       ░  ║  ║  ║  ║  ║ \n",
              "« q_9: ─────────────────────────────────░──╫──╫──╫──╫──╫─\n",
              "«                                       ░  ║  ║  ║  ║  ║ \n",
              "«c: 10/════════════════════════════════════╩══╩══╩══╩══╩═\n",
              "«                                          4  3  2  1  0 "
            ],
            "text/html": [
              "<pre style=\"word-wrap: normal;white-space: pre;background: #fff0;line-height: 1.1;font-family: &quot;Courier New&quot;,Courier,monospace\">      ┌───┐ ░       ░                     ░                     ░              »\n",
              " q_0: ┤ H ├─░───■───░─────────────────────░─────────────────────░──────────────»\n",
              "      ├───┤ ░   │   ░                     ░                     ░              »\n",
              " q_1: ┤ H ├─░───┼───░───■────■───■──■──■──░─────────────────────░──────────────»\n",
              "      ├───┤ ░   │   ░   │    │   │  │  │  ░                     ░              »\n",
              " q_2: ┤ H ├─░───┼───░───┼────┼───┼──┼──┼──░──■──■──■───■────■───░──────────────»\n",
              "      ├───┤ ░   │   ░   │    │   │  │  │  ░  │  │  │   │    │   ░              »\n",
              " q_3: ┤ H ├─░───┼───░───┼────┼───┼──┼──┼──░──┼──┼──┼───┼────┼───░───■────■───■─»\n",
              "      ├───┤ ░   │   ░   │    │   │  │  │  ░  │  │  │   │    │   ░   │    │   │ »\n",
              " q_4: ┤ H ├─░───┼───░───┼────┼───┼──┼──┼──░──┼──┼──┼───┼────┼───░───┼────┼───┼─»\n",
              "      ├───┤ ░   │   ░   │    │   │  │  │  ░  │  │  │   │    │   ░   │    │   │ »\n",
              " q_5: ┤ X ├─░───┼───░───┼────┼───┼──┼──X──░──X──┼──┼───┼────┼───░───┼────┼───┼─»\n",
              "      └───┘ ░   │   ░   │  ┌─┴─┐ │  │  │  ░  │  │  │ ┌─┴─┐  │   ░   │  ┌─┴─┐ │ »\n",
              " q_6: ──────░───┼───░───┼──┤ X ├─X──┼──┼──░──┼──┼──X─┤ X ├──┼───░───┼──┤ X ├─X─»\n",
              "            ░ ┌─┴─┐ ░   │  └─┬─┘ │  │  │  ░  │  │  │ └─┬─┘  │   ░   │  └─┬─┘ │ »\n",
              " q_7: ──────░─┤ X ├─░───┼────┼───┼──X──X──░──X──X──┼───┼────┼───░───┼────┼───┼─»\n",
              "            ░ └───┘ ░   │    │   │  │     ░     │  │   │    │   ░   │    │   │ »\n",
              " q_8: ──────░───────░───■────■───X──┼─────░─────┼──X───■────■───░───■────■───X─»\n",
              "            ░       ░ ┌─┴─┐         │     ░     │         ┌─┴─┐ ░ ┌─┴─┐        »\n",
              " q_9: ──────░───────░─┤ X ├─────────X─────░─────X─────────┤ X ├─░─┤ X ├────────»\n",
              "            ░       ░ └───┘               ░               └───┘ ░ └───┘        »\n",
              "c: 10/═════════════════════════════════════════════════════════════════════════»\n",
              "                                                                               »\n",
              "«             ░                     ░                                 »\n",
              "« q_0: ───────░─────────────────────░─────────────────────────────────»\n",
              "«             ░                     ░                                 »\n",
              "« q_1: ───────░─────────────────────░─────────────────────────────────»\n",
              "«             ░                     ░                                 »\n",
              "« q_2: ───────░─────────────────────░──────────────────■──────────────»\n",
              "«             ░                     ░                  │         ┌───┐»\n",
              "« q_3: ─■──■──░─────────────────────░───────■──────────┼─────────┤ H ├»\n",
              "«       │  │  ░                     ░ ┌───┐ │U1(-π/2)  │U1(-π/4) └───┘»\n",
              "« q_4: ─┼──┼──░──■──■──■───■────■───░─┤ H ├─■──────────■──────────────»\n",
              "«       │  │  ░  │  │  │   │    │   ░ └───┘                           »\n",
              "« q_5: ─┼──X──░──X──┼──┼───┼────┼───░─────────────────────────────────»\n",
              "«       │  │  ░  │  │  │ ┌─┴─┐  │   ░                                 »\n",
              "« q_6: ─┼──┼──░──┼──┼──X─┤ X ├──┼───░─────────────────────────────────»\n",
              "«       │  │  ░  │  │  │ └─┬─┘  │   ░                                 »\n",
              "« q_7: ─X──X──░──X──X──┼───┼────┼───░─────────────────────────────────»\n",
              "«       │     ░     │  │   │    │   ░                                 »\n",
              "« q_8: ─┼─────░─────┼──X───■────■───░─────────────────────────────────»\n",
              "«       │     ░     │         ┌─┴─┐ ░                                 »\n",
              "« q_9: ─X─────░─────X─────────┤ X ├─░─────────────────────────────────»\n",
              "«             ░               └───┘ ░                                 »\n",
              "«c: 10/═══════════════════════════════════════════════════════════════»\n",
              "«                                                                     »\n",
              "«                                                                              »\n",
              "« q_0: ───────────────────────■───────────────────────────■────────────────────»\n",
              "«                             │                           │                    »\n",
              "« q_1: ─■─────────────────────┼───────────■───────────────┼──────────■─────────»\n",
              "«       │                     │           │         ┌───┐ │          │U1(-π/2) »\n",
              "« q_2: ─┼──────────■──────────┼───────────┼─────────┤ H ├─┼──────────■─────────»\n",
              "«       │          │U1(-π/2)  │           │U1(-π/4) └───┘ │U1(-π/8)            »\n",
              "« q_3: ─┼──────────■──────────┼───────────■───────────────■────────────────────»\n",
              "«       │U1(-π/8)             │U1(-π/16)                                       »\n",
              "« q_4: ─■─────────────────────■────────────────────────────────────────────────»\n",
              "«                                                                              »\n",
              "« q_5: ────────────────────────────────────────────────────────────────────────»\n",
              "«                                                                              »\n",
              "« q_6: ────────────────────────────────────────────────────────────────────────»\n",
              "«                                                                              »\n",
              "« q_7: ────────────────────────────────────────────────────────────────────────»\n",
              "«                                                                              »\n",
              "« q_8: ────────────────────────────────────────────────────────────────────────»\n",
              "«                                                                              »\n",
              "« q_9: ────────────────────────────────────────────────────────────────────────»\n",
              "«                                                                              »\n",
              "«c: 10/════════════════════════════════════════════════════════════════════════»\n",
              "«                                                                              »\n",
              "«                                 ┌───┐ ░ ┌─┐            \n",
              "« q_0: ─■───────────────■─────────┤ H ├─░─┤M├────────────\n",
              "«       │         ┌───┐ │U1(-π/2) └───┘ ░ └╥┘┌─┐         \n",
              "« q_1: ─┼─────────┤ H ├─■───────────────░──╫─┤M├─────────\n",
              "«       │U1(-π/4) └───┘                 ░  ║ └╥┘┌─┐      \n",
              "« q_2: ─■───────────────────────────────░──╫──╫─┤M├──────\n",
              "«                                       ░  ║  ║ └╥┘┌─┐   \n",
              "« q_3: ─────────────────────────────────░──╫──╫──╫─┤M├───\n",
              "«                                       ░  ║  ║  ║ └╥┘┌─┐\n",
              "« q_4: ─────────────────────────────────░──╫──╫──╫──╫─┤M├\n",
              "«                                       ░  ║  ║  ║  ║ └╥┘\n",
              "« q_5: ─────────────────────────────────░──╫──╫──╫──╫──╫─\n",
              "«                                       ░  ║  ║  ║  ║  ║ \n",
              "« q_6: ─────────────────────────────────░──╫──╫──╫──╫──╫─\n",
              "«                                       ░  ║  ║  ║  ║  ║ \n",
              "« q_7: ─────────────────────────────────░──╫──╫──╫──╫──╫─\n",
              "«                                       ░  ║  ║  ║  ║  ║ \n",
              "« q_8: ─────────────────────────────────░──╫──╫──╫──╫──╫─\n",
              "«                                       ░  ║  ║  ║  ║  ║ \n",
              "« q_9: ─────────────────────────────────░──╫──╫──╫──╫──╫─\n",
              "«                                       ░  ║  ║  ║  ║  ║ \n",
              "«c: 10/════════════════════════════════════╩══╩══╩══╩══╩═\n",
              "«                                          4  3  2  1  0 </pre>"
            ]
          },
          "metadata": {},
          "execution_count": 13
        }
      ]
    },
    {
      "cell_type": "markdown",
      "source": [
        "### **Concluciones**"
      ],
      "metadata": {
        "id": "K7lkAXDXzUT_"
      }
    },
    {
      "cell_type": "markdown",
      "source": [
        "Al implementar los algoritmos de Deutsch-Jozsa, Bernstein-Vazirani, Shor y Grover, aprendimos los fundamentos de la computación cuántica y adquirimos experiencia con las herramientas, especialmente con Qiskit. Tenemos una comprensión más concreta del progreso realizado en la computación cuántica y dónde nos encontramos en su desarrollo. \n",
        "\n",
        "Con esto en mente, comenzó el desarrollo y la investigación, lo que condujo a resultados y una comprensión de las limitaciones actuales de la computación cuántica.\n",
        "\n",
        "Por último, cabe mencionar que todo lo estudiado también da satisfacción personal, pudiendo comprender varios conceptos de computación cuántica que antes no estaban."
      ],
      "metadata": {
        "id": "ILQHT8ROzYEe"
      }
    },
    {
      "cell_type": "markdown",
      "source": [
        "### **Bibliografia**"
      ],
      "metadata": {
        "id": "tDmvRLJ9zZaJ"
      }
    },
    {
      "cell_type": "markdown",
      "source": [
        "[1] Grover, L. K. (1996, July). A fast quantum mechanical algorithm for database search. In Proceedings of the twenty-eighth annual ACM symposium on Theory of computing (pp. 212-219).\n",
        "\n",
        "[2] Figgatt, C., Maslov, D., Landsman, K. A., Linke, N. M., Debnath, S., Monroe, C. (2017). Complete 3-Qubit Grover search on a programmable\n",
        "quantum computer. Nature communications, 8(1), 1-9.\n",
        "\n",
        "[3] Du, J., Shi, M., Zhou, X., Fan, Y., Ye, B., Han, R., Wu, J. (2001).\n",
        "Implementation of a quantum algorithm to solve the Bernstein-Vazirani\n",
        "parity problem without entanglement on an ensemble quantum computer.\n",
        "Physical Review A, 64(4), 042306.\n",
        "\n",
        "[4] Nielsen, M. A., Chuang, I. L. (2000). Quantum information and quantum computation. Cambridge: Cambridge University Press, 2(8), 23.\n",
        "\n",
        "[5] McMahon, D. (2007). Quantum computing explained. John Wiley Sons.\n",
        "\n",
        "[6] Lenstra, A. K., Hendrik Jr, W. (1993). The development of the number\n",
        "field sieve (Vol. 1554). Springer Science Business Media.\n",
        "\n",
        "[7] Shor, P. W. (1994, November). Algorithms for quantum computation:\n",
        "discrete logarithms and factoring. In Proceedings 35th annual symposium\n",
        "on foundations of computer science (pp. 124-134). Ieee."
      ],
      "metadata": {
        "id": "0FhZ4OKozdHF"
      }
    }
  ]
}