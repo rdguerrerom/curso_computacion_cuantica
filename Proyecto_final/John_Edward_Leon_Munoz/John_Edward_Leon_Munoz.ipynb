{
  "nbformat": 4,
  "nbformat_minor": 0,
  "metadata": {
    "colab": {
      "provenance": [],
      "collapsed_sections": [
        "qMjK6SZrqwV2",
        "9MTJQ1UyF3Io",
        "AyXhyrkWF-Qt",
        "TqHArzhRGDdj",
        "ZZPw25O6h-eX",
        "DDMaue1kIX1V",
        "uiPxkMUSnbmo",
        "XecWOs82n6-1",
        "2WYeEWiooe6M",
        "nlo5CgS_oe3J",
        "TNLmp5qDpNbP",
        "XwX2jD7zpQVY",
        "jIXP03vYziO7",
        "loCAJ0S22aQc",
        "_uoWXZOI6vwu",
        "K9SnsIFLFTHI",
        "7Vv-JIUjeQh1",
        "TXt4lCoCpUPA",
        "JTlaV29hpV8w",
        "JMboHOXboHWP",
        "mOKIXb9IcWfo",
        "Afbi0xbLxV_9",
        "MyOZznIAlxO0",
        "I7uyqLiHnUl3",
        "M9Dx1PUDpBVO",
        "gBFaMDhxx5bt",
        "aIu6NUpNvSaN"
      ],
      "include_colab_link": true
    },
    "kernelspec": {
      "name": "python3",
      "display_name": "Python 3"
    },
    "language_info": {
      "name": "python"
    }
  },
  "cells": [
    {
      "cell_type": "markdown",
      "metadata": {
        "id": "view-in-github",
        "colab_type": "text"
      },
      "source": [
        "<a href=\"https://colab.research.google.com/github/jleon253/curso_computacion_cuantica/blob/main/Proyecto_final/John_Edward_Leon_Munoz/John_Edward_Leon_Munoz.ipynb\" target=\"_parent\"><img src=\"https://colab.research.google.com/assets/colab-badge.svg\" alt=\"Open In Colab\"/></a>"
      ]
    },
    {
      "cell_type": "markdown",
      "source": [
        "# **Applying Grover’s algorithm to AES:**\n",
        "### *Quantum resource estimates*"
      ],
      "metadata": {
        "id": "qMjK6SZrqwV2"
      }
    },
    {
      "cell_type": "markdown",
      "source": [
        "# Initial install: ⏭ 👀 Needs IBM Quantum Token (please, expand this section) 👀 ⏮"
      ],
      "metadata": {
        "id": "9MTJQ1UyF3Io"
      }
    },
    {
      "cell_type": "markdown",
      "source": [
        "## Quiskit"
      ],
      "metadata": {
        "id": "AyXhyrkWF-Qt"
      }
    },
    {
      "cell_type": "code",
      "source": [
        "!pip install git+https://github.com/qiskit-community/qiskit-textbook.git#subdirectory=qiskit-textbook-src"
      ],
      "metadata": {
        "id": "hrRewahyGBbc"
      },
      "execution_count": null,
      "outputs": []
    },
    {
      "cell_type": "markdown",
      "source": [
        "## Imports"
      ],
      "metadata": {
        "id": "TqHArzhRGDdj"
      }
    },
    {
      "cell_type": "code",
      "source": [
        "from qiskit import QuantumCircuit, execute\n",
        "from qiskit.visualization import array_to_latex, plot_histogram\n",
        "\n",
        "from qiskit import IBMQ, Aer, assemble, transpile\n",
        "from qiskit.providers.ibmq import least_busy\n",
        "from qiskit.tools.monitor import job_monitor\n",
        "\n",
        "from math import *\n",
        "from random import randrange\n",
        "import matplotlib.pyplot as plt\n",
        "import numpy as np"
      ],
      "metadata": {
        "id": "AREC-CbVGGiQ"
      },
      "execution_count": 2,
      "outputs": []
    },
    {
      "cell_type": "markdown",
      "source": [
        "## IBM Quantum Token:"
      ],
      "metadata": {
        "id": "ZZPw25O6h-eX"
      }
    },
    {
      "cell_type": "code",
      "source": [
        "API_TOKEN = input(\"Enter token for IBM Quantum: \")\n",
        "\n",
        "IBMQ.enable_account(API_TOKEN)"
      ],
      "metadata": {
        "id": "Hfz34e0xiFR5"
      },
      "execution_count": null,
      "outputs": []
    },
    {
      "cell_type": "markdown",
      "source": [
        "## Utilities"
      ],
      "metadata": {
        "id": "DDMaue1kIX1V"
      }
    },
    {
      "cell_type": "code",
      "source": [
        "def display_unitary(qc, prefix=\"U_\\\\text{oracle}=\"):\n",
        "    sim = Aer.get_backend('aer_simulator')\n",
        "    qc = qc.copy()\n",
        "    qc.save_unitary()\n",
        "    unitary = sim.run(qc).result().get_unitary()\n",
        "    display(array_to_latex(unitary, prefix=prefix))"
      ],
      "metadata": {
        "id": "OfG8bmxiIdBN"
      },
      "execution_count": 4,
      "outputs": []
    },
    {
      "cell_type": "markdown",
      "source": [
        "# **Personal info**\n",
        "\n"
      ],
      "metadata": {
        "id": "uiPxkMUSnbmo"
      }
    },
    {
      "cell_type": "code",
      "execution_count": 5,
      "metadata": {
        "id": "-WOa7Gq0nQOX"
      },
      "outputs": [],
      "source": [
        "__author__    = \"John Edward León Muñoz\"\n",
        "__credits__   = [\"John Edward León Muñoz\"]\n",
        "__copyright_amp__ = \"(c) John Edward León Muñoz\"\n",
        "__code__ = \"20212678013\"\n",
        "__email__   = \"jeleonm@correo.udistrital.edu.co\""
      ]
    },
    {
      "cell_type": "markdown",
      "source": [
        "\n",
        "\n",
        "---\n",
        "\n"
      ],
      "metadata": {
        "id": "0-Xx1ZgLrQmX"
      }
    },
    {
      "cell_type": "markdown",
      "source": [
        "# **01: Investigation**"
      ],
      "metadata": {
        "id": "XecWOs82n6-1"
      }
    },
    {
      "cell_type": "markdown",
      "source": [
        "## Glosary"
      ],
      "metadata": {
        "id": "2WYeEWiooe6M"
      }
    },
    {
      "cell_type": "markdown",
      "source": [
        "### **Quantum Oracle:**"
      ],
      "metadata": {
        "id": "nlo5CgS_oe3J"
      }
    },
    {
      "cell_type": "markdown",
      "source": [
        "Is a black box used extensively in quantum algorithms for the estimation of functions using qubits. Estimation in a classical computer is set up with an $n$-dimensional input $x$ producing an $m$-dimensional output $f(x)$\n",
        "\n",
        "\n",
        "$$\n",
        "f : \\left\\{ 0,1 \\right\\}^{n} \\longrightarrow \\left\\{ 0,1 \\right\\}^{m}\n",
        "$$\n",
        "\n",
        "The $n$-dimensional vector $x$ is encoded as quantum information by considering $n$ qubits each storing a single bit of information as below\n",
        "\n",
        "$$\n",
        "|x \\rangle = \\ |x_0 \\rangle \\ \\otimes |x_1 \\rangle \\ \\otimes \\ ... \\ \\otimes \\ |x_{n-1} \\rangle\n",
        "$$\n",
        "\n",
        "Quantum oracles help transform a system from a quantum state $|x \\rangle$ into a state $|f(x) \\rangle$, through the evolution of quantum states."
      ],
      "metadata": {
        "id": "X8r6qyysutYT"
      }
    },
    {
      "cell_type": "markdown",
      "source": [
        "## What?"
      ],
      "metadata": {
        "id": "TNLmp5qDpNbP"
      }
    },
    {
      "cell_type": "markdown",
      "source": [
        "**Grover's algorithm** refers to a quantum algorithm for unstructured search that finds with high probability the unique input to a black box function that produces a particular output value, using just $ O(\\sqrt{N})$ evaluations of the function, where $ N $ is the size of the function domain."
      ],
      "metadata": {
        "id": "_DATbKHt39sy"
      }
    },
    {
      "cell_type": "markdown",
      "source": [
        "The analogous problem in classical computation can't be solved in fewer that $ O(N) $ evaluations (because, on average, one has to check half of the domain to get a 50% chance of finding the right input).\n",
        "\n",
        "Unlike other quantum algorithms, wich may provide exponential speed up over their classical counterparts, Grover's algorithm provides only a quadratic speed up. However, even quadratic speed up is considerable when $ N $ is large and Grover's algorithm can be applied to speed up broad classes of algorithms.\n",
        "\n",
        "Also, it can serve as a general trick or subroutine to obtain quadratic run time improvements for a variety of other algorithms. This is called *the amplitude amplification trick*."
      ],
      "metadata": {
        "id": "Cm0FGitv6lJi"
      }
    },
    {
      "cell_type": "markdown",
      "source": [
        "Grover's algorithm could apply **brute force** a 128-bit symmetric cryptographic key in roughly $2^{64}$ iterations, or a 256-bits key in roughly $2^{128}$ iterations.\n",
        "\n",
        "As a result, it is sometimes suggested that symmetric key lengths be doubled to protect against future quantum attacks."
      ],
      "metadata": {
        "id": "H6AS2TFQ8xhP"
      }
    },
    {
      "cell_type": "markdown",
      "source": [
        "Grover's algorithm essentially solves the task of *function inversion*. Namely, if we have a fucntion $y = f(x)$ that can be evaluated on a quantum computer, Grover's algorithm allows us to calculate $x$ when given $y$."
      ],
      "metadata": {
        "id": "J58WRL4xnCcV"
      }
    },
    {
      "cell_type": "markdown",
      "source": [
        "It's of a probabilistic nature, which is why it produces the correct answer with a certain probability of error, however, it can be obtained as low as desired through iterations."
      ],
      "metadata": {
        "id": "U_J7FMGZkpN9"
      }
    },
    {
      "cell_type": "markdown",
      "source": [
        "## How?"
      ],
      "metadata": {
        "id": "XwX2jD7zpQVY"
      }
    },
    {
      "cell_type": "markdown",
      "source": [
        "### Unstructured Search"
      ],
      "metadata": {
        "id": "jIXP03vYziO7"
      }
    },
    {
      "cell_type": "markdown",
      "source": [
        "Suppose you are given a large list of $N$ items. Among these items there is one item with a unique property that we wish to locate; we will call this one the winner $w$. Think of each item in the list as a box of a particular color. Say all items in the list are gray except the winner $w$, which is purple.\n",
        "\n",
        "![image1](https://qiskit.org/textbook/ch-algorithms/images/grover_list.png)\n",
        "\n",
        "To find the purple box -- the *marked item* -- using classical computation, one would have to check on average $N/2$ of these boxes, and in the worst case, all $N$ of them. On a quantum computer, however, we can find the marked item in roughly $\\sqrt{N}$ steps with Grover's amplitude amplification trick.\n",
        "\n",
        "Additionally, the algorithm does not use the list's internal structure, which makes it *generic;* this is why it immediately provides a quadratic quantum speed-up for many classical problems."
      ],
      "metadata": {
        "id": "SsUSALUQ1mk4"
      }
    },
    {
      "cell_type": "markdown",
      "source": [
        "### Creating an Oracle"
      ],
      "metadata": {
        "id": "loCAJ0S22aQc"
      }
    },
    {
      "cell_type": "markdown",
      "source": [
        "Our 'database' is comprised of all the possible computational basis states our qubits can be in. For example, if we have 3 qubits, our list is the states $|000\\rangle, |001\\rangle, \\dots |111\\rangle$ (i.e the states $|0\\rangle \\rightarrow |7\\rangle$).\n",
        "\n",
        "Grover’s algorithm solves oracles that add a negative phase to the solution states. I.e. for any state $|x\\rangle$ in the computational basis:\n",
        "\n",
        "$$\n",
        "U_\\omega|x\\rangle = \\bigg\\{\n",
        "\\begin{aligned}\n",
        "\\phantom{-}|x\\rangle \\quad \\text{if} \\; x \\neq \\omega \\\\\n",
        "-|x\\rangle \\quad \\text{if} \\; x = \\omega \\\\\n",
        "\\end{aligned}\n",
        "$$\n",
        "\n",
        "This oracle will be a diagonal matrix, where the entry that correspond to the marked item will have a negative phase. For example, if we have three qubits and $\\omega = \\text{101}$, our oracle will have the matrix:\n",
        "\n",
        "$$\n",
        "U_\\omega = \n",
        "\\begin{bmatrix}\n",
        "1 & 0 & 0 & 0 & 0 & 0 & 0 & 0 \\\\\n",
        "0 & 1 & 0 & 0 & 0 & 0 & 0 & 0 \\\\\n",
        "0 & 0 & 1 & 0 & 0 & 0 & 0 & 0 \\\\\n",
        "0 & 0 & 0 & 1 & 0 & 0 & 0 & 0 \\\\\n",
        "0 & 0 & 0 & 0 & 1 & 0 & 0 & 0 \\\\\n",
        "0 & 0 & 0 & 0 & 0 & -1 & 0 & 0 \\\\\n",
        "0 & 0 & 0 & 0 & 0 & 0 & 1 & 0 \\\\\n",
        "0 & 0 & 0 & 0 & 0 & 0 & 0 & 1 \\\\\n",
        "\\end{bmatrix}\n",
        "\\begin{aligned}\n",
        "\\\\\n",
        "\\\\\n",
        "\\\\\n",
        "\\\\\n",
        "\\\\\n",
        "\\\\\n",
        "\\leftarrow \\omega = \\text{101}\\\\\n",
        "\\\\\n",
        "\\\\\n",
        "\\\\\n",
        "\\end{aligned}\n",
        "$$\n",
        "\n",
        "For these problems, we can create a function $f$ that takes a proposed solution $x$, and returns $f(x) = 0$ if $x$ is not a solution ($x \\neq \\omega$) and $f(x) = 1$ for a valid solution ($x = \\omega$). Our oracle can then be described as:\n",
        "\n",
        "$$\n",
        "U_\\omega|x\\rangle = (-1)^{f(x)}|x\\rangle\n",
        "$$\n",
        "\n",
        "and the oracle's matrix will be a diagonal matrix of the form:\n",
        "\n",
        "$$\n",
        "U_\\omega = \n",
        "\\begin{bmatrix}\n",
        "(-1)^{f(0)} &   0         & \\cdots &   0         \\\\\n",
        "0           & (-1)^{f(1)} & \\cdots &   0         \\\\\n",
        "\\vdots      &   0         & \\ddots & \\vdots      \\\\\n",
        "0           &   0         & \\cdots & (-1)^{f(2^n-1)} \\\\\n",
        "\\end{bmatrix}\n",
        "$$"
      ],
      "metadata": {
        "id": "i4FIdp_Y2gq3"
      }
    },
    {
      "cell_type": "markdown",
      "source": [
        "### Amplitude amplification procedure"
      ],
      "metadata": {
        "id": "_uoWXZOI6vwu"
      }
    },
    {
      "cell_type": "markdown",
      "source": [
        "We haven't idea where the marked item is. Therefore, any guess of its location is as good as any other, which can be expressed in terms of a\n",
        "uniform superposition: $|s \\rangle = \\frac{1}{\\sqrt{N}} \\sum_{x = 0}^{N -1} | x\n",
        "\\rangle.$\n",
        "\n",
        "If at this point we were to measure in the standard basis $\\{ | x \\rangle \\}$, this superposition would collapse, according to the fifth quantum law, to any one of the basis states with the same probability of $\\frac{1}{N} = \\frac{1}{2^n}$. Our chances of guessing the right value $w$ is therefore $1$ in $2^n$, as could be expected. Hence, on average we would need to try about $N/2 = 2^{n-1}$ times to guess the correct item.\n",
        "\n",
        "Here enter the procedure called **amplitude amplification**, which is how a quantum computer significantly enhances this probability. This procedure stretches out (amplifies) the amplitude of the marked item, which shrinks the other items' amplitude, so that measuring the final state will return the right item with near-certainty. \n",
        "\n",
        "The procedure is the next:"
      ],
      "metadata": {
        "id": "DhhS-JY66zrx"
      }
    },
    {
      "cell_type": "markdown",
      "source": [
        "**Step 1:**\n",
        "\n",
        "The amplitude amplification procedure starts out in the uniform superposition $| s \\rangle$, which is easily constructed from $| s \\rangle = H^{\\otimes n} | 0 \\rangle^n$.\n",
        "\n",
        "![image2](https://qiskit.org/textbook/ch-algorithms/images/grover_step1.jpg)\n",
        "\n",
        "The left graphic corresponds to the two-dimensional plane spanned by perpendicular vectors $|w\\rangle$ and $|s'\\rangle$ which allows to express the initial state as $|s\\rangle = \\sin \\theta | w \\rangle + \\cos \\theta | s' \\rangle,$ where $\\theta = \\arcsin \\langle s | w \\rangle = \\arcsin \\frac{1}{\\sqrt{N}}$. The right graphic is a bar graph of the amplitudes of the state $| s \\rangle$."
      ],
      "metadata": {
        "id": "xpnj-LLt_ieR"
      }
    },
    {
      "cell_type": "markdown",
      "source": [
        "**Step 2:**\n",
        "\n",
        "We apply the oracle reflection $U_f$ to the state $|s\\rangle$.\n",
        "\n",
        "![image3](https://qiskit.org/textbook/ch-algorithms/images/grover_step2.jpg)\n",
        "\n",
        "Geometrically this corresponds to a reflection of the state $|s\\rangle$ about $|s'\\rangle$. This transformation means that the amplitude in front of the $|w\\rangle$ state becomes negative, which in turn means that the average amplitude (indicated by a dashed line) has been lowered."
      ],
      "metadata": {
        "id": "ZKEW_ZB2ALg9"
      }
    },
    {
      "cell_type": "markdown",
      "source": [
        "**Step 3:**\n",
        "\n",
        "We now apply an additional reflection ($U_s$) about the state $|s\\rangle$: $U_s = 2|s\\rangle\\langle s| - I$ . This transformation maps the state to $U_s U_f| s \\rangle$ and completes the transformation.\n",
        "\n",
        "![image4](https://qiskit.org/textbook/ch-algorithms/images/grover_step3.jpg)\n",
        "\n",
        "Two reflections always correspond to a rotation. The transformation $U_s U_f$ rotates the initial state $|s\\rangle$ closer towards the winner $|w\\rangle$. The action of the reflection $U_s$ in the amplitude bar diagram can be understood as a reflection about the average amplitude. Since the average amplitude has been lowered by the first reflection, this transformation boosts the negative amplitude of $|w\\rangle$ to roughly three times its original value, while it decreases the other amplitudes. We then go to **step 2** to repeat the application. This procedure will be repeated several times to zero in on the winner. \n",
        "\n",
        "After $t$ steps we will be in the state $|\\psi_t\\rangle$ where: $| \\psi_t \\rangle = (U_s U_f)^t  | s \\rangle.$"
      ],
      "metadata": {
        "id": "74sVUaMMBvjB"
      }
    },
    {
      "cell_type": "markdown",
      "source": [
        "**How many times do we need to apply the rotation?**\n",
        "\n",
        "It turns out that roughly $\\sqrt{N}$ rotations suffice. This becomes clear when looking at the amplitudes of the state $| \\psi \\rangle$. We can see that the amplitude of $| w \\rangle$ grows linearly with the number of applications $\\sim t N^{-1/2}$. However, since we are dealing with amplitudes and not probabilities, the vector space's dimension enters as a square root. Therefore it is the amplitude, and not just the probability, that is being amplified in this procedure.\n",
        "\n",
        "In the case that there are multiple solutions, $M$, it can be shown that roughly $\\sqrt{(N/M)}$ rotations will suffice.\n",
        "\n",
        "![image5](https://qiskit.org/textbook/ch-algorithms/images/grover_circuit_high_level.png)"
      ],
      "metadata": {
        "id": "BhAfJQagCwvU"
      }
    },
    {
      "cell_type": "markdown",
      "source": [
        "### Example with 2 Qubits"
      ],
      "metadata": {
        "id": "K9SnsIFLFTHI"
      }
    },
    {
      "cell_type": "markdown",
      "source": [
        "We now implement Grover's algorithm for 2 qubits and $\\lvert w \\rangle = |11\\rangle$."
      ],
      "metadata": {
        "id": "g5xLVVzRKvjD"
      }
    },
    {
      "cell_type": "code",
      "source": [
        "# We start by preparing a quantum circuit with two qubits:\n",
        "n = 2\n",
        "groverC = QuantumCircuit(n)"
      ],
      "metadata": {
        "id": "yBuGMPCRFcIX"
      },
      "execution_count": 6,
      "outputs": []
    },
    {
      "cell_type": "markdown",
      "source": [
        "we need to initialize the state $|s\\rangle$. Let's create a general function (for any number of qubits) so we can use it again later:"
      ],
      "metadata": {
        "id": "NtWvdvBsLx1D"
      }
    },
    {
      "cell_type": "code",
      "source": [
        "def initialize_s(qc, qubits):\n",
        "    \"\"\"Apply a H-gate to 'qubits' in qc\"\"\"\n",
        "    for q in qubits:\n",
        "        qc.h(q)\n",
        "    return qc"
      ],
      "metadata": {
        "id": "wZ1lIPLhIuL-"
      },
      "execution_count": 7,
      "outputs": []
    },
    {
      "cell_type": "code",
      "source": [
        "groverC = initialize_s(groverC, [0,1])\n",
        "groverC.draw()"
      ],
      "metadata": {
        "id": "8R72oiG_MMSk",
        "colab": {
          "base_uri": "https://localhost:8080/",
          "height": 94
        },
        "outputId": "5b450069-764b-4ead-ae12-326a03232dc5"
      },
      "execution_count": 8,
      "outputs": [
        {
          "output_type": "execute_result",
          "data": {
            "text/plain": [
              "     ┌───┐\n",
              "q_0: ┤ H ├\n",
              "     ├───┤\n",
              "q_1: ┤ H ├\n",
              "     └───┘"
            ],
            "text/html": [
              "<pre style=\"word-wrap: normal;white-space: pre;background: #fff0;line-height: 1.1;font-family: &quot;Courier New&quot;,Courier,monospace\">     ┌───┐\n",
              "q_0: ┤ H ├\n",
              "     ├───┤\n",
              "q_1: ┤ H ├\n",
              "     └───┘</pre>"
            ]
          },
          "metadata": {},
          "execution_count": 8
        }
      ]
    },
    {
      "cell_type": "markdown",
      "source": [
        "We'll invert the phase applying the Oracle for the state $|w\\rangle = |11\\rangle$"
      ],
      "metadata": {
        "id": "cmWjMptvM62w"
      }
    },
    {
      "cell_type": "code",
      "source": [
        "# Oracle\n",
        "\n",
        "oracle = QuantumCircuit(n)\n",
        "oracle.cz(0,1)\n",
        "\n",
        "oracle.draw()"
      ],
      "metadata": {
        "id": "3b7MXFQ1NHbx",
        "colab": {
          "base_uri": "https://localhost:8080/",
          "height": 94
        },
        "outputId": "a875bc5d-2161-42dc-9c7d-d49b5c93eda6"
      },
      "execution_count": 9,
      "outputs": [
        {
          "output_type": "execute_result",
          "data": {
            "text/plain": [
              "        \n",
              "q_0: ─■─\n",
              "      │ \n",
              "q_1: ─■─\n",
              "        "
            ],
            "text/html": [
              "<pre style=\"word-wrap: normal;white-space: pre;background: #fff0;line-height: 1.1;font-family: &quot;Courier New&quot;,Courier,monospace\">        \n",
              "q_0: ─■─\n",
              "      │ \n",
              "q_1: ─■─\n",
              "        </pre>"
            ]
          },
          "metadata": {},
          "execution_count": 9
        }
      ]
    },
    {
      "cell_type": "markdown",
      "source": [
        "We now want to apply the diffuser ($U_s$)"
      ],
      "metadata": {
        "id": "z2RrJpBeOnq1"
      }
    },
    {
      "cell_type": "code",
      "source": [
        "# Diffusion operator U_s\n",
        "\n",
        "diffuser = QuantumCircuit(n)\n",
        "diffuser = initialize_s(diffuser, [0,1])\n",
        "diffuser.z([0,1])\n",
        "diffuser.cz(0,1)\n",
        "diffuser.h([0,1])\n",
        "\n",
        "diffuser.draw()"
      ],
      "metadata": {
        "id": "7Hlgj5ORO6q9",
        "colab": {
          "base_uri": "https://localhost:8080/",
          "height": 94
        },
        "outputId": "494a149c-5de1-43f3-a7b8-df23dd9f682c"
      },
      "execution_count": 10,
      "outputs": [
        {
          "output_type": "execute_result",
          "data": {
            "text/plain": [
              "     ┌───┐┌───┐   ┌───┐\n",
              "q_0: ┤ H ├┤ Z ├─■─┤ H ├\n",
              "     ├───┤├───┤ │ ├───┤\n",
              "q_1: ┤ H ├┤ Z ├─■─┤ H ├\n",
              "     └───┘└───┘   └───┘"
            ],
            "text/html": [
              "<pre style=\"word-wrap: normal;white-space: pre;background: #fff0;line-height: 1.1;font-family: &quot;Courier New&quot;,Courier,monospace\">     ┌───┐┌───┐   ┌───┐\n",
              "q_0: ┤ H ├┤ Z ├─■─┤ H ├\n",
              "     ├───┤├───┤ │ ├───┤\n",
              "q_1: ┤ H ├┤ Z ├─■─┤ H ├\n",
              "     └───┘└───┘   └───┘</pre>"
            ]
          },
          "metadata": {},
          "execution_count": 10
        }
      ]
    },
    {
      "cell_type": "markdown",
      "source": [
        "We now have two circuits, oracle and diffuser, so we can put this together into a circuit that performs Grover's algorithm. Remember the three steps:\n",
        "\n",
        "\n",
        "1.   Initialise the qubits to the state $|s\\rangle$\n",
        "2.   Perform the oracle\n",
        "3.   Perform the diffuser\n",
        "\n"
      ],
      "metadata": {
        "id": "u6VkURgDRHKv"
      }
    },
    {
      "cell_type": "code",
      "source": [
        "# Adding the oracle to Grover circuit\n",
        "groverC = groverC.compose(oracle)\n",
        "\n",
        "# Adding the diffuser to Grover circuit\n",
        "groverC = groverC.compose(diffuser)\n",
        "\n",
        "groverC.measure_all()\n",
        "groverC.draw()"
      ],
      "metadata": {
        "id": "kLMc2DrmRgjF",
        "colab": {
          "base_uri": "https://localhost:8080/",
          "height": 125
        },
        "outputId": "16376dcc-1c56-45b2-cc3e-aa3bd737dfe6"
      },
      "execution_count": 11,
      "outputs": [
        {
          "output_type": "execute_result",
          "data": {
            "text/plain": [
              "        ┌───┐   ┌───┐┌───┐   ┌───┐ ░ ┌─┐   \n",
              "   q_0: ┤ H ├─■─┤ H ├┤ Z ├─■─┤ H ├─░─┤M├───\n",
              "        ├───┤ │ ├───┤├───┤ │ ├───┤ ░ └╥┘┌─┐\n",
              "   q_1: ┤ H ├─■─┤ H ├┤ Z ├─■─┤ H ├─░──╫─┤M├\n",
              "        └───┘   └───┘└───┘   └───┘ ░  ║ └╥┘\n",
              "meas: 2/══════════════════════════════╩══╩═\n",
              "                                      0  1 "
            ],
            "text/html": [
              "<pre style=\"word-wrap: normal;white-space: pre;background: #fff0;line-height: 1.1;font-family: &quot;Courier New&quot;,Courier,monospace\">        ┌───┐   ┌───┐┌───┐   ┌───┐ ░ ┌─┐   \n",
              "   q_0: ┤ H ├─■─┤ H ├┤ Z ├─■─┤ H ├─░─┤M├───\n",
              "        ├───┤ │ ├───┤├───┤ │ ├───┤ ░ └╥┘┌─┐\n",
              "   q_1: ┤ H ├─■─┤ H ├┤ Z ├─■─┤ H ├─░──╫─┤M├\n",
              "        └───┘   └───┘└───┘   └───┘ ░  ║ └╥┘\n",
              "meas: 2/══════════════════════════════╩══╩═\n",
              "                                      0  1 </pre>"
            ]
          },
          "metadata": {},
          "execution_count": 11
        }
      ]
    },
    {
      "cell_type": "markdown",
      "source": [
        "And when we simulate, we can see a 100% probability of measuring , which was the solution to our oracle!"
      ],
      "metadata": {
        "id": "1TKfR_ibTHfg"
      }
    },
    {
      "cell_type": "code",
      "source": [
        "sim = Aer.get_backend('aer_simulator')\n",
        "sim.run(groverC).result().get_counts()"
      ],
      "metadata": {
        "id": "VfEU4ai1TWCD",
        "colab": {
          "base_uri": "https://localhost:8080/"
        },
        "outputId": "652e494d-05bf-408a-e07e-7f126686adea"
      },
      "execution_count": 12,
      "outputs": [
        {
          "output_type": "execute_result",
          "data": {
            "text/plain": [
              "{'11': 1024}"
            ]
          },
          "metadata": {},
          "execution_count": 12
        }
      ]
    },
    {
      "cell_type": "code",
      "source": [
        "groverC_sim = groverC.copy()\n",
        "groverC_sim.save_statevector()\n",
        "qObj = assemble(groverC_sim)\n",
        "result = sim.run(qObj).result().get_statevector()\n",
        "\n",
        "array_to_latex(result, prefix=\"|\\\\psi\\\\rangle =\")"
      ],
      "metadata": {
        "id": "n_HzQnT1UXUU",
        "colab": {
          "base_uri": "https://localhost:8080/",
          "height": 38
        },
        "outputId": "0531b044-29e2-4337-d8dd-f67fed32a2da"
      },
      "execution_count": 13,
      "outputs": [
        {
          "output_type": "execute_result",
          "data": {
            "text/plain": [
              "<IPython.core.display.Latex object>"
            ],
            "text/latex": "$$\n|\\psi\\rangle =\n\\begin{bmatrix}\n0 & 0 & 0 & 1  \\\\\n \\end{bmatrix}\n$$"
          },
          "metadata": {},
          "execution_count": 13
        }
      ]
    },
    {
      "cell_type": "markdown",
      "source": [
        "As expected, the amplitude of every state that is not $|11\\rangle$ is 0, this means we have a 100% chance of measuring $|11\\rangle$:"
      ],
      "metadata": {
        "id": "n3Ig-v5dYDEq"
      }
    },
    {
      "cell_type": "code",
      "source": [
        "counts = sim.run(groverC).result().get_counts()\n",
        "plot_histogram(counts)"
      ],
      "metadata": {
        "id": "O91rkcr_XS7u",
        "colab": {
          "base_uri": "https://localhost:8080/",
          "height": 331
        },
        "outputId": "9263c461-412f-4817-ed41-9fae01deb8a2"
      },
      "execution_count": 14,
      "outputs": [
        {
          "output_type": "execute_result",
          "data": {
            "text/plain": [
              "<Figure size 504x360 with 1 Axes>"
            ],
            "image/png": "[encoded data removed]"
          },
          "metadata": {},
          "execution_count": 14
        }
      ]
    },
    {
      "cell_type": "markdown",
      "source": [
        "Experiment with real devices"
      ],
      "metadata": {
        "id": "m27JeXrGZ_el"
      }
    },
    {
      "cell_type": "code",
      "source": [
        "provider = IBMQ.get_provider(hub='ibm-q')\n",
        "\n",
        "device = least_busy(provider.backends(filters=lambda x: int(x.configuration().n_qubits) >= 3 and \n",
        "                                   not x.configuration().simulator and x.status().operational==True))\n",
        "print(\"Running on current least busy device: \", device)\n",
        "\n",
        "groverC_transpiled = transpile(groverC, device, optimization_level=3)\n",
        "job = device.run(groverC_transpiled)\n",
        "print('Executing Job...\\n')\n",
        "job_monitor(job, interval=2)\n",
        "\n",
        "answer = job.result().get_counts(groverC)\n",
        "plot_histogram(answer)"
      ],
      "metadata": {
        "id": "1RYjn1vUaGID",
        "colab": {
          "base_uri": "https://localhost:8080/",
          "height": 405
        },
        "outputId": "591105a9-a08e-4610-d0d5-90096503276a"
      },
      "execution_count": 15,
      "outputs": [
        {
          "output_type": "stream",
          "name": "stdout",
          "text": [
            "Running on current least busy device:  ibmq_belem\n",
            "Executing Job...\n",
            "\n",
            "Job Status: job has successfully run\n"
          ]
        },
        {
          "output_type": "execute_result",
          "data": {
            "text/plain": [
              "<Figure size 504x360 with 1 Axes>"
            ],
            "image/png": "[encoded data removed]"
          },
          "metadata": {},
          "execution_count": 15
        }
      ]
    },
    {
      "cell_type": "markdown",
      "source": [
        "We confirm that in the majority of the cases the state $|11\\rangle$ is measured. The other results are due to errors in the quantum computation."
      ],
      "metadata": {
        "id": "eikVjJSoc6K_"
      }
    },
    {
      "cell_type": "markdown",
      "source": [
        "### Overview of Grover's algorithm"
      ],
      "metadata": {
        "id": "7Vv-JIUjeQh1"
      }
    },
    {
      "cell_type": "markdown",
      "source": [
        "![image6](https://upload.wikimedia.org/wikipedia/commons/thumb/b/b9/Grover%27s_algorithm_circuit.svg/1024px-Grover%27s_algorithm_circuit.svg.png)"
      ],
      "metadata": {
        "id": "S_2eONueesvA"
      }
    },
    {
      "cell_type": "markdown",
      "source": [
        "![Screen Shot 2022-12-15 at 1.53.04 AM.png](data:image/png;base64,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)"
      ],
      "metadata": {
        "id": "5sxvyUeyjuZZ"
      }
    },
    {
      "cell_type": "markdown",
      "source": [
        "## When?"
      ],
      "metadata": {
        "id": "TXt4lCoCpUPA"
      }
    },
    {
      "cell_type": "markdown",
      "source": [
        "It was devised by Lov Grover in 1996 and won renown as the second major algorithm proposed for quantum computing (after Shor's 1994 algorithm), and in 2017 was finally implemented in a scalable physical quantum system.\n",
        "\n",
        "\\\\\n",
        "\n",
        "In his paper \"*From Schrödinger's Equation to the Quantum Search Algorithm*\", Lov Grover wrote on how he came up with his search algorithm and there are three main sources of inspiration:\n",
        "\n"
      ],
      "metadata": {
        "id": "8wSH7lZCdoFx"
      }
    },
    {
      "cell_type": "markdown",
      "source": [
        "**Physical inspiration:**\n",
        "\n",
        "He talks about how quantum systems just like classical ones \"move\" towards points with low potential. Such a system let to evolve \"finds\"/\"searches\" for the point with the lowest potential because after some time left for the system to evolve, that state accumulates more probability amplitude."
      ],
      "metadata": {
        "id": "zwNChqNliMt8"
      }
    },
    {
      "cell_type": "markdown",
      "source": [
        "**Discretisation:**\n",
        "\n",
        "He uses Schrodinger's equation but considers evolution for one infinitesimal amount of time and he also considers a quantum state over a finite set of points. He derives matrices whose effect is to evolve this quantum system for an infinitesimal amount of time where all of the finite set of points have the same potential, except one marked point with lower potential. He mentions Trotterisation, which is delightful because on reflection Grover's algorithm does indeed have that alternation of two unitary operators like a Trotter approximation."
      ],
      "metadata": {
        "id": "AQ6ZcaAviV2s"
      }
    },
    {
      "cell_type": "markdown",
      "source": [
        "**Unitarification:**\n",
        "\n",
        "He tries to find Unitary versions of his discretised evolution matrices. For a while in the explanation he goes \"off road\" to just think about the \"diffusion\" of amplitude towards the marked state in terms of matrices which are Markovian but not unitary. He later tries to find unitary approximations to these so that they can be implemented on a quantum computer."
      ],
      "metadata": {
        "id": "Djjy-Zubifpi"
      }
    },
    {
      "cell_type": "markdown",
      "source": [
        "## Where?"
      ],
      "metadata": {
        "id": "JTlaV29hpV8w"
      }
    },
    {
      "cell_type": "markdown",
      "source": [
        "The Grover's algorithm can be applied in different areas, such as:"
      ],
      "metadata": {
        "id": "XxvBa002ArpZ"
      }
    },
    {
      "cell_type": "markdown",
      "source": [
        "**NP-complete problems:**\n",
        "\n",
        "This algorithms contain exhaustive search as a subroutine, which can be speed up by Grover's algorithm. E.g: 3SAT"
      ],
      "metadata": {
        "id": "CvOHxjBODHBV"
      }
    },
    {
      "cell_type": "markdown",
      "source": [
        "**Generic constraint satisfaction problems:**\n",
        "\n",
        "This problems also see quadratic speed ups with Grover, because this algorithms don't require that the input be given in the form of an oracle, since Grover's algorithm is being applied with an explicit function."
      ],
      "metadata": {
        "id": "FayQlRY6Fo6w"
      }
    },
    {
      "cell_type": "markdown",
      "source": [
        "**Black-box problems in quantum query complexity:**\n",
        "\n",
        "Decision tree model, includin element distinctness and the collision problem. In these type of problems, one treats the oracle function $f$ as a database, and the goal is to use the quantum query to this function as few times as possible."
      ],
      "metadata": {
        "id": "gqHgechvG9Ik"
      }
    },
    {
      "cell_type": "markdown",
      "source": [
        "**Cryptography:**\n",
        "\n",
        "Grover's algorithm essentially solves the task of *function inversion*. Consequently, Gorver's gives board asymptotic speed ups to many kinds of brute-force attacks on symmetric-key cryptography, including collision attacks and pre image attacks."
      ],
      "metadata": {
        "id": "GDYZ45V9IOxC"
      }
    },
    {
      "cell_type": "markdown",
      "source": [
        "# **02: Implementation**"
      ],
      "metadata": {
        "id": "JMboHOXboHWP"
      }
    },
    {
      "cell_type": "markdown",
      "source": [
        "## Description"
      ],
      "metadata": {
        "id": "mOKIXb9IcWfo"
      }
    },
    {
      "cell_type": "markdown",
      "source": [
        "We now present an implementation of Grover's algorithm using IBM's Qiskit framework. The program considers a variable n-qubit register,\n",
        "whose possible states encode the elements of the search space. Since the algorithm itself relies\n",
        "on repeated applications of the same transformation, the implementation takes into account\n",
        "this modular feature and it contains subcircuits, which are then attached together to build the\n",
        "larger circuit."
      ],
      "metadata": {
        "id": "aGNdncc4cZSD"
      }
    },
    {
      "cell_type": "markdown",
      "source": [
        "The program allows us to explicitly specify the solution state as an $n$-bit string or it can\n",
        "be chosen randomly from the set of all $N = 2^{n}$ values. Either way, the function that de nes\n",
        "the e ect of the oracle has a general implementation that will properly mark the selected state."
      ],
      "metadata": {
        "id": "rSTnc_OgdCT-"
      }
    },
    {
      "cell_type": "markdown",
      "source": [
        "Furthermore, the oracle and the di usion transformation are subcircuits that adapt with the chosen number of qubits $n$. The algorithm can be either simulated using Qiskit's internal simulator or it can be executed remotely on IBM's available backends, including real devices.\n",
        "The output of the program gives information about the backend that is being used, the searched state, the ideal number of iterations and an associative array indicating the statistical results following measurements."
      ],
      "metadata": {
        "id": "gELqyi_idqPC"
      }
    },
    {
      "cell_type": "markdown",
      "source": [
        "After of that,  we'll establish\n",
        "precise bounds for the number of qubits and the number of elementary logical quantum gates that are needed to\n",
        "implement Grover’s quantum algorithm for all three variants of AES (key size 128, 192, and 256 bit)"
      ],
      "metadata": {
        "id": "9nxRCjTzeQj3"
      }
    },
    {
      "cell_type": "markdown",
      "source": [
        "## Simulation"
      ],
      "metadata": {
        "id": "Afbi0xbLxV_9"
      }
    },
    {
      "cell_type": "code",
      "source": [
        "#=== FUNCTION DEFINITIONS #===\n",
        "# n-bit binary representation of integer\n",
        "def bst(n,s):\n",
        "    return str(bin(s)[2:].rjust(n,'0'))\n",
        "\n",
        "\n",
        "# subcircuit applying gates given as arguments to every qubit\n",
        "def gn(n,*args):\n",
        "    qc = QuantumCircuit(n,n)\n",
        "    for i in range(n):\n",
        "        for gate in args:\n",
        "            getattr(qc, gate)(i)\n",
        "    return qc\n",
        "\n",
        "\n",
        "# subcircuit implementing the oracle\n",
        "def oracle(n,s):\n",
        "    # adds phase shift only to state corresponding to \"s\"\n",
        "    qc = QuantumCircuit(n,n)\n",
        "    for i in range(n):\n",
        "        if s[n-1-i] == \"0\":\n",
        "            qc.x(i)\n",
        "\n",
        "    # applies CZ gate with controls 0:n-2 and target n-1\n",
        "    qc.h(n-1)\n",
        "    qc.mcx(list(range(n-1)),n-1)\n",
        "    qc.h(n-1)\n",
        "    for i in range(n):\n",
        "        if s[n-1-i] == \"0\":\n",
        "            qc.x(i)\n",
        "\n",
        "    qc.barrier()\n",
        "    return qc\n",
        "\n",
        "\n",
        "# subcircuit implementing the diffusion transformation\n",
        "def diffusion(n):\n",
        "    # amplifies the probability amplitude of the solution state\n",
        "    qc = QuantumCircuit(n,n)\n",
        "    qc.compose(gn(n,\"h\",\"x\"))\n",
        "\n",
        "    qc.h(n-1)\n",
        "    qc.mcx(list(range(n-1)),n-1)\n",
        "\n",
        "    qc.h(n-1)\n",
        "\n",
        "    qc.compose(gn(n,\"x\",\"h\"))\n",
        "\n",
        "    qc.barrier()\n",
        "    return qc\n",
        "\n",
        "\n",
        "# subcircuit implementing a single Grover iteration\n",
        "def grover_iteration(n,s):\n",
        "    qc = QuantumCircuit(n,n)\n",
        "    qc.compose(oracle(n,s))\n",
        "    qc.compose(diffusion(n))\n",
        "    return qc\n",
        "\n",
        "# custom histogram plot\n",
        "def show_results(counts,shots,iterations,comment):\n",
        "    states = list(counts.keys())\n",
        "    outcomes = list(counts.values())\n",
        "    prob = [round(i/shots,3) for i in outcomes]\n",
        "\n",
        "    d = dict(zip(states,prob))\n",
        "    d = dict(sorted(d.items()))\n",
        "    states = list(d.keys())\n",
        "    prob = list(d.values())\n",
        "\n",
        "    bp = plt.bar(states,prob,color='deepskyblue',zorder=2)\n",
        "\n",
        "    for i in bp:\n",
        "        h = i.get_height()\n",
        "        if h > 0.001:\n",
        "            plt.text(i.get_x(), h + 0.025, h)\n",
        "\n",
        "    plt.ylim(0,1.1)\n",
        "    plt.yticks(np.arange(0,1.25,0.25))\n",
        "    plt.ylabel(\"Probabilities\")\n",
        "    plt.grid(axis='y',linestyle='dashed',zorder=0)\n",
        "    plt.title(\"Results after \" + str(iterations) + \" iteration(s), \" + comment)\n",
        "    plt.show()"
      ],
      "metadata": {
        "id": "QU0wTgiIfOwt"
      },
      "execution_count": 16,
      "outputs": []
    },
    {
      "cell_type": "code",
      "source": [
        "#=== INITIAL PARAMETERS #===\n",
        "\n",
        "# size of quantum and classical registers\n",
        "n = 2\n",
        "\n",
        "# size of the search space\n",
        "N = 2**n\n",
        "\n",
        "# ideal number of iterations\n",
        "k = floor(pi/4*sqrt(N))"
      ],
      "metadata": {
        "id": "EhyAnd6KfRzk"
      },
      "execution_count": 17,
      "outputs": []
    },
    {
      "cell_type": "code",
      "source": [
        "#=== EXPERIMENT TYPE #===\n",
        "# local simulation, remote simulation, execution on real device\n",
        "exp_type = \"real\"\n",
        "\n",
        "if exp_type == \"local\":\n",
        "    backend = Aer.get_backend('qasm_simulator')\n",
        "else:\n",
        "    #provider = IBMQ.load_account()\n",
        "    provider = IBMQ.get_provider(hub='ibm-q')\n",
        "    if exp_type == \"real\":\n",
        "        backend = least_busy(provider.backends(filters=lambda x: x.configuration().n_qubits >= n and not x.configuration().simulator and x.status().operational==True))\n",
        "    elif exp_type == \"hpc\":\n",
        "        backend = provider.get_backend('ibmq_qasm_simulator')"
      ],
      "metadata": {
        "id": "_VtsKpKBfTkl"
      },
      "execution_count": 18,
      "outputs": []
    },
    {
      "cell_type": "code",
      "source": [
        "#=== SEARCHED ELEMENT #===\n",
        "\n",
        "s = randrange(N)\n",
        "s = bst(n,s)\n",
        "#s = \"001\"\n",
        "print(\"BACKEND: \" + str(backend))\n",
        "print(\"SEARCHING FOR |\" + s + \">\")\n",
        "print(\"REQUIRED ITERATIONS: \" + str(k))\n",
        "\n",
        "grc = QuantumCircuit(n,n)\n",
        "\n",
        "# CREATE INITIAL SUPERPOSITION\n",
        "grc.compose(gn(n,\"h\"))\n",
        "\n",
        "# REPEAT UNTIL THE IDEAL NUMBER OF ITERATIONS IS REACHED\n",
        "for iteration in range(k):\n",
        "    grc.compose(grover_iteration(n,s))\n",
        "\n",
        "# MEASURE AT THE END\n",
        "grc.measure(list(range(n)),list(range(n)))\n",
        "\n",
        "# number of circuit instances to be measured\n",
        "shots = 2000\n",
        "\n",
        "if exp_type == \"local\":\n",
        "    result = execute(grc,backend,shots=shots).result()\n",
        "    comment = \"locally simulated\"\n",
        "\n",
        "elif exp_type == \"real\" or exp_type == \"hpc\":\n",
        "    job_grc = execute(grc, backend, shots=shots)\n",
        "    job_monitor(job_grc)\n",
        "    result = job_grc.result()\n",
        "    comment = \"executed on '\" + str(backend) + \"'\"\n",
        "\n",
        "counts = result.get_counts(grc)\n",
        "print(\"RESULTS: \" + str(counts))\n",
        "\n",
        "show_results(counts,shots,k,comment)\n",
        "plot_histogram(counts, title=\"Results after \" + str(k) + \" iteration(s), \" + comment)"
      ],
      "metadata": {
        "id": "sJshq39bfXKS",
        "colab": {
          "base_uri": "https://localhost:8080/",
          "height": 703
        },
        "outputId": "02144f6e-22b5-4e74-df4d-f1b9cdeb7de8"
      },
      "execution_count": 19,
      "outputs": [
        {
          "output_type": "stream",
          "name": "stdout",
          "text": [
            "BACKEND: ibmq_belem\n",
            "SEARCHING FOR |11>\n",
            "REQUIRED ITERATIONS: 1\n",
            "Job Status: job has successfully run\n",
            "RESULTS: {'00': 1985, '01': 9, '10': 6}\n"
          ]
        },
        {
          "output_type": "display_data",
          "data": {
            "text/plain": [
              "<Figure size 432x288 with 1 Axes>"
            ],
            "image/png": "[encoded data removed]"
          },
          "metadata": {
            "needs_background": "light"
          }
        },
        {
          "output_type": "execute_result",
          "data": {
            "text/plain": [
              "<Figure size 504x360 with 1 Axes>"
            ],
            "image/png": "[encoded data removed]"
          },
          "metadata": {},
          "execution_count": 19
        }
      ]
    },
    {
      "cell_type": "markdown",
      "source": [
        "### Simulation"
      ],
      "metadata": {
        "id": "MyOZznIAlxO0"
      }
    },
    {
      "cell_type": "markdown",
      "source": [
        "As $n$ increases, the probability $p$ associated with the marked state approaches 1 after the required number of iterations $k$ is reached."
      ],
      "metadata": {
        "id": "oYdOWHwXk54A"
      }
    },
    {
      "cell_type": "markdown",
      "source": [
        "![Screen Shot 2022-12-15 at 8.38.45 PM.png](data:image/png;base64,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)"
      ],
      "metadata": {
        "id": "pbqjLVH-lneQ"
      }
    },
    {
      "cell_type": "markdown",
      "source": [
        "* For $n = 2$ actually indicates an impressive start. After just one iteration, the probability of the solution state is boosted to exactly 1. In this case, state $|10\\rangle$ was selected at random and out of all 2000 preparations of the qubit register and runs of the algorithm, the desired\n",
        "state came out every time after measurement. \n",
        "\n",
        "* For $n = 3$, the calculated probability of finding the solution after $k = 2$ iterations is about 0.945. One experiment reveals that state $|010\\rangle$ is found with probability 0.946, while the others are negligible.\n",
        "\n",
        "* For $n = 5$, the histogram shows that the measurement returned $|01100\\rangle$ almost every time (1998 instances), with only two other states observed very rarely (one instance each). \n",
        "\n",
        "* For an even larger $n = 16$, some executions might return the marked state with probability 1, which justifies the eficiency of the algorithm."
      ],
      "metadata": {
        "id": "YXJ83FoDmChU"
      }
    },
    {
      "cell_type": "markdown",
      "source": [
        "### Execution on real devices"
      ],
      "metadata": {
        "id": "I7uyqLiHnUl3"
      }
    },
    {
      "cell_type": "markdown",
      "source": [
        "Running Grover's algorithm on a real quantum computer comes with reasonable limitations.\n",
        "\n",
        "* First of all, the size of the quantum register can be no greater than the actual number of qubits\n",
        "of the physical chip. Then, the experiments are no longer noise-free and the performance\n",
        "of the algorithm strongly depends on other factors, such as the partial connectivity of the\n",
        "architecture, qubit quality and gate errors.\n",
        "\n",
        "* Each backend has a queue where jobs are pending\n",
        "for execution. In order to manage this aspect more easily, IBM's framework can select the\n",
        "least busy backend when someone decides to run a program. \n",
        "\n",
        "* For $n = 2$, the algorithm ran on ibmq london, a 5-qubit processor. The results are visibly di erent from the ideal case we previously discussed. Now, marked state $|11\\rangle$ returns from the 2000 measurements only 1781 times, thus having a probability of about 0.89 instead of exactly 1. The other states\n",
        "have non-zero amplitudes because of the processor's intrinsic computation errors.\n",
        "\n",
        "* For $n = 3$, the probability of the state is increased to merely 0.256 after the iterations are finished. The distribution is still unimodal, although the performance degrades once $n$ increases and the solution is no longer distinguishable."
      ],
      "metadata": {
        "id": "hS8D_dJInY0N"
      }
    },
    {
      "cell_type": "markdown",
      "source": [
        "### Resource estimates: Grover algorithm"
      ],
      "metadata": {
        "id": "M9Dx1PUDpBVO"
      }
    },
    {
      "cell_type": "markdown",
      "source": [
        "Denoting by $s_k$ the total number of qubits, $t_k$ the total number of $T$-gates, $c_k$ the total number of Clifford gates, $\\delta_k$ the overall $T$-depth and $\\Delta_k$ the overall depht, where $k=$128, 192, 156, the we obtain the following estimates for the overall Grover's algorithm. \n",
        "\n",
        "The space requirements are: \n",
        "* $3s_{128}$ + 1 qubits for AES-128\n",
        "* $4s_{192}$ + 1 qubits for AES-192\n",
        "* $5s_{256}$ + 1 qubits for AES-256"
      ],
      "metadata": {
        "id": "INt0sKJypH-H"
      }
    },
    {
      "cell_type": "markdown",
      "source": [
        "For the overall circuit depht we obtain the number of rounds times 2 times $\\delta_k$, respectly $\\Delta_k$, ignoring some of the gates which do not contribute significantly to the bottom line. The overall quantum resource estimates are:"
      ],
      "metadata": {
        "id": "7xu5a1phzA-J"
      }
    },
    {
      "cell_type": "markdown",
      "source": [
        "![Screen Shot 2022-12-15 at 9.42.58 PM.png](data:image/png;base64,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)"
      ],
      "metadata": {
        "id": "H7vuz1je0BFB"
      }
    },
    {
      "cell_type": "markdown",
      "source": [
        "# 03: Conclusion"
      ],
      "metadata": {
        "id": "gBFaMDhxx5bt"
      }
    },
    {
      "cell_type": "markdown",
      "source": [
        "One of our main findings is that the number of logical qubits required to implement a Grover attack on AES is relatively low, namely between around 3.000 and 7.000 logical qubits. However, due to the large circuit depth of unrolling the entire Grover iteration, it seems challenging to implement this algorithm on an actual physical quantum computer, even if the gates are not error corrected. It is worth noting that much of the circuit cost within each Grover iteration originates from the key expansion, i. e., from deriving the round keys and that the overall depth is a direct result of the serial nature of Grover’s algorithm."
      ],
      "metadata": {
        "id": "5YXMq3CT0Jaz"
      }
    },
    {
      "cell_type": "markdown",
      "source": [
        "With the promising advancements in the realization of quantum computation devices, the threat to modern cryptographic schemes becomes an issue of importance for the future.\n",
        "\n",
        "As we have explored in this work, Grover's algorithm cannot be fully exploited yet because of the practical limitations and challenges that hinder the accuracy of quantum computation. However, its theoretical e ciency makes it a highly valuable tool as a searching algorithm. \n",
        "\n",
        "From a security perspective, it is even more captivating, as it signi cantly improves the primary and most straightforward type of attack against symmetric ciphers."
      ],
      "metadata": {
        "id": "uRl86yQN09-3"
      }
    },
    {
      "cell_type": "markdown",
      "source": [
        "# 04: References"
      ],
      "metadata": {
        "id": "aIu6NUpNvSaN"
      }
    },
    {
      "cell_type": "markdown",
      "source": [
        "* https://qiskit.org/textbook/ch-algorithms/grover.html\n",
        "* https://learn.qiskit.org/course/introduction/grovers-search-algorithm#grovers-19-0\n",
        "* https://qiskit.org/documentation/locale/es_UN/tutorials/algorithms/06_grover.html\n",
        "* https://en.wikipedia.org/wiki/Grover%27s_algorithm\n",
        "* https://medium.com/@brcsomnath/qml-quantum-oracle-c8a48cdaf851\n",
        "* https://arxiv.org/abs/quant-ph/0109116\n",
        "\n",
        "\n"
      ],
      "metadata": {
        "id": "yHzoHLnkvXYd"
      }
    },
    {
      "cell_type": "code",
      "source": [
        "import qiskit.tools.jupyter\n",
        "%qiskit_version_table"
      ],
      "metadata": {
        "id": "NOtkYeYjiwot",
        "colab": {
          "base_uri": "https://localhost:8080/",
          "height": 0
        },
        "outputId": "b617acc5-9392-48c6-ef82-695a25061a77"
      },
      "execution_count": 20,
      "outputs": [
        {
          "output_type": "display_data",
          "data": {
            "text/plain": [
              "<IPython.core.display.HTML object>"
            ],
            "text/html": [
              "<h3>Version Information</h3><table><tr><th>Qiskit Software</th><th>Version</th></tr><tr><td><code>qiskit-terra</code></td><td>0.22.3</td></tr><tr><td><code>qiskit-aer</code></td><td>0.11.2</td></tr><tr><td><code>qiskit-ibmq-provider</code></td><td>0.19.2</td></tr><tr><td><code>qiskit</code></td><td>0.39.4</td></tr><tr><th>System information</th></tr><tr><td>Python version</td><td>3.8.16</td></tr><tr><td>Python compiler</td><td>GCC 7.5.0</td></tr><tr><td>Python build</td><td>default, Dec  7 2022 01:12:13</td></tr><tr><td>OS</td><td>Linux</td></tr><tr><td>CPUs</td><td>1</td></tr><tr><td>Memory (Gb)</td><td>12.681224822998047</td></tr><tr><td colspan='2'>Fri Dec 16 02:53:31 2022 UTC</td></tr></table>"
            ]
          },
          "metadata": {}
        }
      ]
    }
  ]
}