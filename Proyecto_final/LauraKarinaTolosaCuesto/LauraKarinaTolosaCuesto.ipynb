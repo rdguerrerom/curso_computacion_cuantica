{
  "nbformat": 4,
  "nbformat_minor": 0,
  "metadata": {
    "colab": {
      "provenance": []
    },
    "kernelspec": {
      "name": "python3",
      "display_name": "Python 3"
    },
    "language_info": {
      "name": "python"
    }
  },
  "cells": [
    {
      "cell_type": "markdown",
      "source": [
        "#Coloracion de grafos :\n",
        "\n",
        "Autor: Laura Karina Tolosa Cuesto\n",
        "\n",
        "Universidad Distrital Francisco Jose de caldas"
      ],
      "metadata": {
        "id": "1i-ELFxOAyyV"
      }
    },
    {
      "cell_type": "markdown",
      "source": [
        "## Prerequisitos para la lectura del documento \n",
        "\n",
        "---\n",
        "\n"
      ],
      "metadata": {
        "id": "ZNEDIPdbnnBW"
      }
    },
    {
      "cell_type": "code",
      "source": [
        "!pip install git+https://github.com/qiskit-community/qiskit-textbook.git#subdirectory=qiskit-textbook-src"
      ],
      "metadata": {
        "id": "pnCoQgrPHsJx"
      },
      "execution_count": null,
      "outputs": []
    },
    {
      "cell_type": "markdown",
      "source": [
        "##Origen\n",
        "\n",
        "---\n",
        "\n",
        "\n"
      ],
      "metadata": {
        "id": "6sf3cGD3lb7_"
      }
    },
    {
      "cell_type": "markdown",
      "source": [
        "### ¿Que es la coloración de grafos?\n",
        "\n"
      ],
      "metadata": {
        "id": "ktkPmCs5lfl0"
      }
    },
    {
      "cell_type": "markdown",
      "source": [
        "*En Teoría de grafos, la coloración de grafos es un caso especial de etiquetado de grafos; es una asignación de etiquetas llamadas colores a elementos del grafo. De manera simple, una coloración de los vértices de un grafo tal que ningún vértice adyacente comparta el mismo color es llamado vértice coloración. Similarmente, una arista coloración asigna colores a cada arista talque aristas adyacentes no compartan el mismo color, y una coloración de caras de un grafo plano a la asignación de un color a cada cara o región tal que caras que compartan una frontera común tengan colores diferentes. El vértice coloración es el punto de inicio de la coloración, y los otros problemas de coloreo pueden ser transformados a una versión con vértices. Por ejemplo, una arista coloración de un grafo es justamente una vértice coloración del grafo línea respectivo, y una coloración de caras de un grafo plano es una vértice coloración del grafo dual.*"
      ],
      "metadata": {
        "id": "s5swoGxEw7yN"
      }
    },
    {
      "cell_type": "markdown",
      "source": [
        "####¿Que es el algoritmo de grover?"
      ],
      "metadata": {
        "id": "lgqJzSdMpo8l"
      }
    },
    {
      "cell_type": "markdown",
      "source": [
        "En el caso de la coloración de grafos se puede resolver mediante el algoritmo cuántico de **Grover**, que busca una secuencia no ordenada de datos con N componentes en un determinado tiempo O y necesitando un espacio adicional de almacenamiento O (Log N), usando así una matriz de colores con N vértices.  \n",
        "\n",
        "\n"
      ],
      "metadata": {
        "id": "uVmNac3kpvjd"
      }
    },
    {
      "cell_type": "markdown",
      "source": [
        "### ¿Como funciona la coloración de grafos?\n",
        "\n",
        "\n",
        " \n",
        "\n",
        "\n",
        "\n"
      ],
      "metadata": {
        "id": "v4J6TsZaluMW"
      }
    },
    {
      "cell_type": "markdown",
      "source": [
        "Como funciona matematicamente la coloracion de grafos\n",
        "###Conceptos Basicos\n",
        "Primero unso conceptos basicos que ayudaran a entender mejor las definiciones proporcionadas\n",
        "\n",
        "*   **Grafo:** Es un Objeto compuesto por dos conjuntos finitos, un conjunto E de aristas o arcos, \n",
        "y un conjunto V de vértices (nodos). Para ambos conjuntos se aplican las siguientes \n",
        "normas:\n",
        "o 𝑆𝑖 𝑒 𝜖 𝐸 => (𝑣, 𝑢) ∈ 𝑉𝑥𝑉 | 𝑣 ∈ 𝑒 𝑦 𝑢 ∈ 𝑒\n",
        "o 𝑆𝑖 𝑒 ∈ 𝐸 =>, 𝑦 𝑎𝑑𝑒𝑚á𝑠 𝑑𝑒(𝑣, 𝑢) ∃ (𝑥, 𝑦) ∈ 𝑉𝑥𝑉 => 𝑥 ∈ 𝑒 𝑦 𝑣 ∈ 𝑒 =>\n",
        "{𝑣, 𝑢} = {𝑥, 𝑦}\n",
        "*   **Aristas:** Una arista e ∈ E es dirigida si el primer y el segundo vértice en la anterior condición son iguales, esto es: v=x y y=u.\n",
        "\n",
        "\n",
        "*   **Bucle:** Una arista que conecta un vértice consigo mismo.\n",
        "*   Subgrafo: Se considera G1=(V1,E1) un subgrafo de G, si se cumple que 𝑣1 ⊆ 𝑉, 𝐸1 ⊆ 𝐸 y las condiciones del inicio se mantienen.\n",
        "*   **Conexión:** Los vértices (v,u) ∈ V están conectados si existe un camino de v a u tal que (v1,v2), (v2,v3),…, (v(k-1),u) ∈ E.\n",
        "*   **Grado:** Número total de aristas que confluyen en un vértice.\n",
        "\n",
        "*   **Densidad:** La relación entre el número de aristas de un grafo G y el número máximo de posibles aristas, es decir, el número de aristas de un grafo totalmente conectado.\n",
        "\n",
        "\n",
        "*   **Métricas** \n",
        " *   Distancia: Representada como d(v,u) entre los vértices v y u, es la distancia más corta entre ambos vértices.\n",
        " *  **Diámetro:** Representado como d(G) de un grafo G, es la máxima distancia \n",
        "d(v,u) para todo v,u ∈ V.\n",
        " * Orden: Número de vértices de un grafo G."
      ],
      "metadata": {
        "id": "OCobW3LSrQF9"
      }
    },
    {
      "cell_type": "markdown",
      "source": [
        "### ¿Cuando comenzo a ser objeto de estudio?\n"
      ],
      "metadata": {
        "id": "FHLdiwp8mskN"
      }
    },
    {
      "cell_type": "markdown",
      "source": [
        "Este problema se conoció en 1842 como resultado de intentar colorear el mapa de Inglaterra, Francis Guthrie postulo que con 4 colores era suficiente para pintar un mapa en el cual dos regiones que comparten un borde en común no obtendrían el mismo color. En el año 1879 el matemático Arthur Cayley envía este problema a la Sociedad Matemática de Londres, en ese tiempo Kemper público un artículo donde resolvía el problema y por 10 años el problema de los 4 colores se consideró resuelto ,en 1890 se descubrió que la teoría de Kempe contenía un error, en el artículo que refutaba los 4 colores se propuso el teorema de 5 colores , usando como fundamento las ideas de Kempe, con el pasar de los años las teorías fueron evolucionando para reducir nuevamente  la cantidad de colores a 4 , el cual le da seguimiento y logra su resolución en 1970 y con su debida aprobación en 1976, por esto la coloración de grafos se considera un problema que se  puede postular de algorítmico a exponencial y así pasando a formar parte de los 21 NP Problemas."
      ],
      "metadata": {
        "id": "MEpJ3XqTwhSc"
      }
    },
    {
      "cell_type": "markdown",
      "source": [
        "### ¿Donde es usado comúnmente?\n",
        "\n",
        "\n"
      ],
      "metadata": {
        "id": "x5lEBVLpms4O"
      }
    },
    {
      "cell_type": "markdown",
      "source": [
        "Su uso en la actualidad abarca amplios sectores , nombrando algunos tales como la asignación de registros en compiladores, horarios universitarios, estrategias de mercado, diseño de circuitos eléctricos, cartografía , mapas conceptuales, planificación de procesos , reducción de interferencia al optimizar las conexiones de distintos dispositivos en puntos de acceso disponibles ;Uno de sus usos más curiosos fue en el teorema de la amistad donde se plantea un coloreado impropio , que  explica que en toda 2-arista de coloración de grafo completo de seis vértices habrá un triángulo monocromático, que en personas se puede definir como en un grupo con seis integrantes siempre habrá 3 que se conozcan mutuamente o tres que no se conocen, identificando condiciones generales y regularidad en un concepto desordenado, usando un concepto parecido al algoritmo cuántico de Grover que realiza búsquedas entre una secuencia no ordenada de datos."
      ],
      "metadata": {
        "id": "C2DSGWSWwmIk"
      }
    },
    {
      "cell_type": "markdown",
      "source": [
        "# Implementación"
      ],
      "metadata": {
        "id": "GQvtF8i3ugik"
      }
    },
    {
      "cell_type": "markdown",
      "source": [
        "En este documento trataremos la implementacion con pyhton de la coloracion de grafos en computacion cuantica usando del algoritmo de Grover , es importante ejecutar la seccion de **Prerequisitos para la lectura del documento**."
      ],
      "metadata": {
        "id": "GCmx3AtRu1dj"
      }
    },
    {
      "cell_type": "markdown",
      "source": [
        "##Implementación de la búsqueda cuántica genérica\n",
        "\n"
      ],
      "metadata": {
        "id": "LZLRVtvPsj3J"
      }
    },
    {
      "cell_type": "markdown",
      "source": [
        "###Este es el código de Python que implementa la base del algoritmo de Grover."
      ],
      "metadata": {
        "id": "nnAdayuwsz0Q"
      }
    },
    {
      "cell_type": "markdown",
      "source": [
        "El algoritmo de búsqueda de Grover se puede utilizar para acelerar el proceso de encontrar el color óptimo de un gráfico. En la coloración de gráficos, el objetivo es asignar colores a los vértices de un gráfico de modo que no haya dos vértices adyacentes que tengan el mismo color. El número mínimo de colores necesarios para colorear un gráfico se conoce como el número cromático del gráfico.\n",
        "\n",
        "Para usar el algoritmo de búsqueda de Grover para este problema, podemos codificar los posibles colores del gráfico como los estados básicos de un registro cuántico. La función de oráculo de fase se puede usar para aplicar un cambio de fase al estado que corresponde a la coloración óptima del gráfico. El algoritmo de búsqueda de Grover se puede usar para amplificar la amplitud de este estado, lo que hace que sea más probable que se mida cuando se mide el registro. Esto nos permite encontrar la coloración óptima del gráfico con un número de operaciones cuánticas que es significativamente menor que lo que requeriría un algoritmo de búsqueda clásico."
      ],
      "metadata": {
        "id": "y1pOHZrVOpTg"
      }
    },
    {
      "cell_type": "markdown",
      "source": [
        "El código también toma el número de iteraciones para ejecutarse como un parámetro. De nuevo, esto nos permite mantener la lógica de elegir el número de iteraciones (ya sea en función del conocimiento del problema o de forma aleatoria) fuera de la implementación del algoritmo genérico.\n",
        "\n",
        "Por último, la lógica específica del problema de medir el resultado e interpretarlo también se mantiene fuera de la implementación. En cambio, la operación toma una matriz de bits cúbicos como una de las entradas y el código que la llama puede medir el estado de esos bits cúbicos después."
      ],
      "metadata": {
        "id": "Dh3FdNfbtIG4"
      }
    },
    {
      "cell_type": "code",
      "source": [
        "from qiskit import QuantumCircuit, QuantumRegister, ClassicalRegister\n",
        "\n",
        "# Set up the quantum circuit\n",
        "qr = QuantumRegister(3)\n",
        "cr = ClassicalRegister(3)\n",
        "circuit = QuantumCircuit(qr, cr)\n",
        "\n",
        "# Apply the Grover diffusion operator\n",
        "circuit.h(qr[0])\n",
        "circuit.x(qr[0])\n",
        "circuit.t(qr[0])\n",
        "circuit.cnot(qr[0], qr[1])\n",
        "circuit.tdg(qr[0])\n",
        "circuit.cnot(qr[0], qr[1])\n",
        "circuit.x(qr[0])\n",
        "circuit.h(qr[0])\n",
        "circuit.t(qr[0])\n",
        "circuit.tdg(qr[0])\n",
        "\n",
        "# Apply the Grover search operator\n",
        "circuit.h(qr[1])\n",
        "circuit.h(qr[2])\n",
        "circuit.x(qr[1])\n",
        "circuit.x(qr[2])\n",
        "circuit.h(qr[1])\n",
        "circuit.cnot(qr[1], qr[2])\n",
        "circuit.h(qr[1])\n",
        "circuit.x(qr[1])\n",
        "circuit.x(qr[2])\n",
        "circuit.h(qr[1])\n",
        "circuit.h(qr[2])\n",
        "\n",
        "# Measure the final state\n",
        "circuit.measure(qr, cr)\n",
        "circuit.draw()"
      ],
      "metadata": {
        "colab": {
          "base_uri": "https://localhost:8080/",
          "height": 294
        },
        "id": "9T40GRZ_FGts",
        "outputId": "74d4eee4-738e-4d3c-97e2-5c0e156d0786"
      },
      "execution_count": null,
      "outputs": [
        {
          "output_type": "execute_result",
          "data": {
            "text/plain": [
              "      ┌───┐┌───┐┌───┐     ┌─────┐     ┌───┐┌───┐┌───┐┌─────┐     ┌─┐          »\n",
              "q6_0: ┤ H ├┤ X ├┤ T ├──■──┤ Tdg ├──■──┤ X ├┤ H ├┤ T ├┤ Tdg ├─────┤M├──────────»\n",
              "      └───┘└───┘└───┘┌─┴─┐└─────┘┌─┴─┐├───┤├───┤├───┤└─────┘┌───┐└╥┘┌───┐┌───┐»\n",
              "q6_1: ───────────────┤ X ├───────┤ X ├┤ H ├┤ X ├┤ H ├───■───┤ H ├─╫─┤ X ├┤ H ├»\n",
              "      ┌───┐┌───┐     └───┘       └───┘└───┘└───┘└───┘ ┌─┴─┐ ├───┤ ║ ├───┤└┬─┬┘»\n",
              "q6_2: ┤ H ├┤ X ├──────────────────────────────────────┤ X ├─┤ X ├─╫─┤ H ├─┤M├─»\n",
              "      └───┘└───┘                                      └───┘ └───┘ ║ └───┘ └╥┘ »\n",
              "c6: 3/════════════════════════════════════════════════════════════╩════════╩══»\n",
              "                                                                  0        2  »\n",
              "«         \n",
              "«q6_0: ───\n",
              "«      ┌─┐\n",
              "«q6_1: ┤M├\n",
              "«      └╥┘\n",
              "«q6_2: ─╫─\n",
              "«       ║ \n",
              "«c6: 3/═╩═\n",
              "«       1 "
            ],
            "text/html": [
              "<pre style=\"word-wrap: normal;white-space: pre;background: #fff0;line-height: 1.1;font-family: &quot;Courier New&quot;,Courier,monospace\">      ┌───┐┌───┐┌───┐     ┌─────┐     ┌───┐┌───┐┌───┐┌─────┐     ┌─┐          »\n",
              "q6_0: ┤ H ├┤ X ├┤ T ├──■──┤ Tdg ├──■──┤ X ├┤ H ├┤ T ├┤ Tdg ├─────┤M├──────────»\n",
              "      └───┘└───┘└───┘┌─┴─┐└─────┘┌─┴─┐├───┤├───┤├───┤└─────┘┌───┐└╥┘┌───┐┌───┐»\n",
              "q6_1: ───────────────┤ X ├───────┤ X ├┤ H ├┤ X ├┤ H ├───■───┤ H ├─╫─┤ X ├┤ H ├»\n",
              "      ┌───┐┌───┐     └───┘       └───┘└───┘└───┘└───┘ ┌─┴─┐ ├───┤ ║ ├───┤└┬─┬┘»\n",
              "q6_2: ┤ H ├┤ X ├──────────────────────────────────────┤ X ├─┤ X ├─╫─┤ H ├─┤M├─»\n",
              "      └───┘└───┘                                      └───┘ └───┘ ║ └───┘ └╥┘ »\n",
              "c6: 3/════════════════════════════════════════════════════════════╩════════╩══»\n",
              "                                                                  0        2  »\n",
              "«         \n",
              "«q6_0: ───\n",
              "«      ┌─┐\n",
              "«q6_1: ┤M├\n",
              "«      └╥┘\n",
              "«q6_2: ─╫─\n",
              "«       ║ \n",
              "«c6: 3/═╩═\n",
              "«       1 </pre>"
            ]
          },
          "metadata": {},
          "execution_count": 14
        }
      ]
    },
    {
      "cell_type": "markdown",
      "source": [
        "## Implementacion algoritmo de grover como solucion a la coloracion de grafos"
      ],
      "metadata": {
        "id": "9nIUKo4NSSB-"
      }
    },
    {
      "cell_type": "markdown",
      "source": [
        "En este fragmento se dara la solucion a un grafo de 3 vertices con el algoritmo de busqueda Grover"
      ],
      "metadata": {
        "id": "f7Cvup4GSVeS"
      }
    },
    {
      "cell_type": "code",
      "source": [
        "from qiskit import *\n",
        "from qiskit import Aer\n",
        "from qiskit.visualization import plot_histogram\n",
        "backend_sim = Aer.get_backend('qasm_simulator')\n",
        "nNodes=3\n",
        "nColors=3 # nColors <= nNodes\n",
        "nc=nColors+1\n",
        "nqbits=nc*nNodes\n",
        "\n",
        "# Create a Quantum Circuit\n",
        "q = QuantumRegister(nqbits)\n",
        "c=ClassicalRegister(nColors*nNodes)\n",
        "qc = QuantumCircuit(q,c)"
      ],
      "metadata": {
        "id": "ftvtoAUtkgtS"
      },
      "execution_count": null,
      "outputs": []
    },
    {
      "cell_type": "markdown",
      "source": [
        "Inicializamos la matriz de datos con la cual trabajara el algoritmo de Grover"
      ],
      "metadata": {
        "id": "l0nzctOn8EM-"
      }
    },
    {
      "cell_type": "code",
      "source": [
        "s=0\n",
        "for n in range(nNodes):\n",
        "  for k in range(nColors):\n",
        "    qc.h(s+k)\n",
        "  s=s+nc"
      ],
      "metadata": {
        "id": "wLNqwdhKriuM"
      },
      "execution_count": null,
      "outputs": []
    },
    {
      "cell_type": "code",
      "source": [
        "# Constraints\n",
        "s=0\n",
        "for n in range(nNodes):\n",
        "  for k in range(nColors-1):\n",
        "    for l in range(k+1,nColors):\n",
        "      # \"\"Eliminando\"\" 11\n",
        "      qc.ccx (s+k,s+l,s+nColors)\n",
        "      qc.cx (s+nColors,s+k)\n",
        "qc.reset(s+nColors)"
      ],
      "metadata": {
        "colab": {
          "base_uri": "https://localhost:8080/"
        },
        "id": "YTrueD6Prnwe",
        "outputId": "c20c40eb-8fa9-47c8-8152-766fb6906ce9"
      },
      "execution_count": null,
      "outputs": [
        {
          "output_type": "execute_result",
          "data": {
            "text/plain": [
              "<qiskit.circuit.instructionset.InstructionSet at 0x7fa102f124c0>"
            ]
          },
          "metadata": {},
          "execution_count": 6
        }
      ]
    },
    {
      "cell_type": "markdown",
      "source": [
        "Se puede tomar a modo de \"eliminacion\" pero lo que se hace es cambiar de fase aquellos qubits que ya presentan un color repetido en el vertice"
      ],
      "metadata": {
        "id": "qYufhfiS8CJB"
      }
    },
    {
      "cell_type": "code",
      "source": [
        "\n",
        "for k in range(nColors):\n",
        "  qc.x(s+k)\n",
        "cb=list(range(s,s+nColors))\n",
        "qc.mcx (cb,s+nColors)\n",
        "\n",
        "for k in range(nColors):\n",
        "  qc.x(s+k)\n",
        "  qc.cx (s+nColors,s+nColors-1)\n",
        "  qc.reset(s+nColors)\n",
        "s=s+nc"
      ],
      "metadata": {
        "id": "NJQVjXUfrr5a"
      },
      "execution_count": null,
      "outputs": []
    },
    {
      "cell_type": "markdown",
      "source": [
        "Tomando los datos generados por el algoritmo tenemos el siguiente circuito: "
      ],
      "metadata": {
        "id": "qTMxD8SA_TCV"
      }
    },
    {
      "cell_type": "code",
      "source": [
        "# Measure\n",
        "cb=0\n",
        "for n in range(nNodes):\n",
        "  s=n*(nColors+1)\n",
        "  for k in range(nColors):\n",
        "    qb=s+k\n",
        "    qc.measure(qb,cb)\n",
        "    cb=cb+1\n",
        "    \n",
        "# Ejecutar el circuito en el simulador qasm\n",
        "job = execute(qc, backend_sim, shots=20) # modificar el shot para verificar la variacion en valores\n",
        "# Se guardan los datos obtenidos  .\n",
        "result_sim = job.result()\n",
        "counts = result_sim.get_counts(qc)\n",
        "print(counts)\n",
        "plot_histogram(counts)\n"
      ],
      "metadata": {
        "colab": {
          "base_uri": "https://localhost:8080/",
          "height": 426
        },
        "id": "OoWFcKDCrv2z",
        "outputId": "5d5bdfed-6124-4e92-ac59-af07259b20a1"
      },
      "execution_count": null,
      "outputs": [
        {
          "output_type": "stream",
          "name": "stdout",
          "text": [
            "{'111011111': 1, '100010111': 1, '101001010': 1, '011101001': 1, '100011100': 1, '110000100': 2, '100110100': 1, '101111001': 1, '100110001': 1, '000000100': 1, '000101111': 1, '110000111': 1, '011100100': 1, '101111010': 1, '101010001': 1, '101101100': 1, '101101110': 1, '111001001': 1, '000011100': 1}\n"
          ]
        },
        {
          "output_type": "execute_result",
          "data": {
            "text/plain": [
              "<Figure size 504x360 with 1 Axes>"
            ],
            "image/png": "[encoded data removed]"
          },
          "metadata": {},
          "execution_count": 26
        }
      ]
    },
    {
      "cell_type": "code",
      "source": [
        "qc.draw()"
      ],
      "metadata": {
        "colab": {
          "base_uri": "https://localhost:8080/",
          "height": 1000
        },
        "id": "XcB1S-0mNoeX",
        "outputId": "57a0644a-62f1-4b8a-d71a-8793661d8c8b"
      },
      "execution_count": null,
      "outputs": [
        {
          "output_type": "execute_result",
          "data": {
            "text/plain": [
              "       ┌───┐     ┌───┐     ┌───┐               ┌───┐     ┌───┐               »\n",
              " q1_0: ┤ H ├──■──┤ X ├──■──┤ X ├────────────■──┤ X ├──■──┤ X ├────────────■──»\n",
              "       ├───┤  │  └─┬─┘  │  └─┬─┘     ┌───┐  │  └─┬─┘  │  └─┬─┘     ┌───┐  │  »\n",
              " q1_1: ┤ H ├──■────┼────┼────┼────■──┤ X ├──■────┼────┼────┼────■──┤ X ├──■──»\n",
              "       ├───┤  │    │    │    │    │  └─┬─┘  │    │    │    │    │  └─┬─┘  │  »\n",
              " q1_2: ┤ H ├──┼────┼────■────┼────■────┼────┼────┼────■────┼────■────┼────┼──»\n",
              "       └───┘┌─┴─┐  │  ┌─┴─┐  │  ┌─┴─┐  │  ┌─┴─┐  │  ┌─┴─┐  │  ┌─┴─┐  │  ┌─┴─┐»\n",
              " q1_3: ─────┤ X ├──■──┤ X ├──■──┤ X ├──■──┤ X ├──■──┤ X ├──■──┤ X ├──■──┤ X ├»\n",
              "       ┌───┐└┬─┬┘     └───┘     └───┘     └┬─┬┘     └───┘     └───┘     └┬─┬┘»\n",
              " q1_4: ┤ H ├─┤M├───────────────────────────┤M├───────────────────────────┤M├─»\n",
              "       ├───┤ └╥┘  ┌─┐                      └╥┘  ┌─┐                      └╥┘ »\n",
              " q1_5: ┤ H ├──╫───┤M├───────────────────────╫───┤M├───────────────────────╫──»\n",
              "       ├───┤  ║   └╥┘  ┌─┐                  ║   └╥┘  ┌─┐                  ║  »\n",
              " q1_6: ┤ H ├──╫────╫───┤M├──────────────────╫────╫───┤M├──────────────────╫──»\n",
              "       └───┘  ║    ║   └╥┘                  ║    ║   └╥┘                  ║  »\n",
              " q1_7: ───────╫────╫────╫───────────────────╫────╫────╫───────────────────╫──»\n",
              "       ┌───┐  ║    ║    ║   ┌─┐             ║    ║    ║   ┌─┐             ║  »\n",
              " q1_8: ┤ H ├──╫────╫────╫───┤M├─────────────╫────╫────╫───┤M├─────────────╫──»\n",
              "       ├───┤  ║    ║    ║   └╥┘  ┌─┐        ║    ║    ║   └╥┘  ┌─┐        ║  »\n",
              " q1_9: ┤ H ├──╫────╫────╫────╫───┤M├────────╫────╫────╫────╫───┤M├────────╫──»\n",
              "       ├───┤  ║    ║    ║    ║   └╥┘  ┌─┐   ║    ║    ║    ║   └╥┘  ┌─┐   ║  »\n",
              "q1_10: ┤ H ├──╫────╫────╫────╫────╫───┤M├───╫────╫────╫────╫────╫───┤M├───╫──»\n",
              "       └───┘  ║    ║    ║    ║    ║   └╥┘   ║    ║    ║    ║    ║   └╥┘   ║  »\n",
              "q1_11: ───────╫────╫────╫────╫────╫────╫────╫────╫────╫────╫────╫────╫────╫──»\n",
              "              ║    ║    ║    ║    ║    ║    ║    ║    ║    ║    ║    ║    ║  »\n",
              " c1: 9/═══════╩════╩════╩════╩════╩════╩════╩════╩════╩════╩════╩════╩════╩══»\n",
              "              3    4    5    6    7    8    3    4    5    6    7    8    3  »\n",
              "«       ┌───┐     ┌───┐┌───┐               ┌───┐                               »\n",
              "« q1_0: ┤ X ├──■──┤ X ├┤ X ├────────────■──┤ X ├───────────────────────────────»\n",
              "«       └─┬─┘  │  └─┬─┘└───┘┌───┐┌───┐  │  ├───┤                               »\n",
              "« q1_1: ──┼────┼────┼────■──┤ X ├┤ X ├──■──┤ X ├───────────────────────────────»\n",
              "«         │    │    │    │  └─┬─┘├───┤  │  ├───┤     ┌───┐┌───┐┌───┐           »\n",
              "« q1_2: ──┼────■────┼────■────┼──┤ X ├──■──┤ X ├─────┤ X ├┤ X ├┤ X ├───────────»\n",
              "«         │  ┌─┴─┐  │  ┌─┴─┐  │  └───┘┌─┴─┐└─┬─┘     └─┬─┘└───┘└─┬─┘           »\n",
              "« q1_3: ──■──┤ X ├──■──┤ X ├──■───|0>─┤ X ├──■───|0>───■───|0>───■───|0>───────»\n",
              "«            └───┘     └───┘      ┌─┐ └───┘                     ┌─┐            »\n",
              "« q1_4: ──────────────────────────┤M├───────────────────────────┤M├────────────»\n",
              "«        ┌─┐                      └╥┘  ┌─┐                      └╥┘  ┌─┐       »\n",
              "« q1_5: ─┤M├───────────────────────╫───┤M├───────────────────────╫───┤M├───────»\n",
              "«        └╥┘  ┌─┐                  ║   └╥┘  ┌─┐                  ║   └╥┘ ┌─┐   »\n",
              "« q1_6: ──╫───┤M├──────────────────╫────╫───┤M├──────────────────╫────╫──┤M├───»\n",
              "«         ║   └╥┘                  ║    ║   └╥┘                  ║    ║  └╥┘   »\n",
              "« q1_7: ──╫────╫───────────────────╫────╫────╫───────────────────╫────╫───╫────»\n",
              "«         ║    ║   ┌─┐             ║    ║    ║   ┌─┐             ║    ║   ║ ┌─┐»\n",
              "« q1_8: ──╫────╫───┤M├─────────────╫────╫────╫───┤M├─────────────╫────╫───╫─┤M├»\n",
              "«         ║    ║   └╥┘  ┌─┐        ║    ║    ║   └╥┘  ┌─┐        ║    ║   ║ └╥┘»\n",
              "« q1_9: ──╫────╫────╫───┤M├────────╫────╫────╫────╫───┤M├────────╫────╫───╫──╫─»\n",
              "«         ║    ║    ║   └╥┘  ┌─┐   ║    ║    ║    ║   └╥┘  ┌─┐   ║    ║   ║  ║ »\n",
              "«q1_10: ──╫────╫────╫────╫───┤M├───╫────╫────╫────╫────╫───┤M├───╫────╫───╫──╫─»\n",
              "«         ║    ║    ║    ║   └╥┘   ║    ║    ║    ║    ║   └╥┘   ║    ║   ║  ║ »\n",
              "«q1_11: ──╫────╫────╫────╫────╫────╫────╫────╫────╫────╫────╫────╫────╫───╫──╫─»\n",
              "«         ║    ║    ║    ║    ║    ║    ║    ║    ║    ║    ║    ║    ║   ║  ║ »\n",
              "« c1: 9/══╩════╩════╩════╩════╩════╩════╩════╩════╩════╩════╩════╩════╩═══╩══╩═»\n",
              "«         4    5    6    7    8    3    4    5    6    7    8    3    4   5  6 »\n",
              "«                                                                            »\n",
              "« q1_0: ─────────────────────────────────────────────────────────────────────»\n",
              "«                                                                            »\n",
              "« q1_1: ─────────────────────────────────────────────────────────────────────»\n",
              "«                                                                            »\n",
              "« q1_2: ─────────────────────────────────────────────────────────────────────»\n",
              "«                                                                            »\n",
              "« q1_3: ─────────────────────────────────────────────────────────────────────»\n",
              "«             ┌─┐               ┌─┐               ┌─┐               ┌─┐      »\n",
              "« q1_4: ──────┤M├───────────────┤M├───────────────┤M├───────────────┤M├──────»\n",
              "«             └╥┘┌─┐            └╥┘┌─┐            └╥┘┌─┐            └╥┘┌─┐   »\n",
              "« q1_5: ───────╫─┤M├─────────────╫─┤M├─────────────╫─┤M├─────────────╫─┤M├───»\n",
              "«              ║ └╥┘┌─┐          ║ └╥┘┌─┐          ║ └╥┘┌─┐          ║ └╥┘┌─┐»\n",
              "« q1_6: ───────╫──╫─┤M├──────────╫──╫─┤M├──────────╫──╫─┤M├──────────╫──╫─┤M├»\n",
              "«              ║  ║ └╥┘          ║  ║ └╥┘          ║  ║ └╥┘          ║  ║ └╥┘»\n",
              "« q1_7: ───────╫──╫──╫───────────╫──╫──╫───────────╫──╫──╫───────────╫──╫──╫─»\n",
              "«              ║  ║  ║ ┌─┐       ║  ║  ║ ┌─┐       ║  ║  ║ ┌─┐       ║  ║  ║ »\n",
              "« q1_8: ───────╫──╫──╫─┤M├───────╫──╫──╫─┤M├───────╫──╫──╫─┤M├───────╫──╫──╫─»\n",
              "«       ┌─┐    ║  ║  ║ └╥┘┌─┐    ║  ║  ║ └╥┘┌─┐    ║  ║  ║ └╥┘┌─┐    ║  ║  ║ »\n",
              "« q1_9: ┤M├────╫──╫──╫──╫─┤M├────╫──╫──╫──╫─┤M├────╫──╫──╫──╫─┤M├────╫──╫──╫─»\n",
              "«       └╥┘┌─┐ ║  ║  ║  ║ └╥┘┌─┐ ║  ║  ║  ║ └╥┘┌─┐ ║  ║  ║  ║ └╥┘┌─┐ ║  ║  ║ »\n",
              "«q1_10: ─╫─┤M├─╫──╫──╫──╫──╫─┤M├─╫──╫──╫──╫──╫─┤M├─╫──╫──╫──╫──╫─┤M├─╫──╫──╫─»\n",
              "«        ║ └╥┘ ║  ║  ║  ║  ║ └╥┘ ║  ║  ║  ║  ║ └╥┘ ║  ║  ║  ║  ║ └╥┘ ║  ║  ║ »\n",
              "«q1_11: ─╫──╫──╫──╫──╫──╫──╫──╫──╫──╫──╫──╫──╫──╫──╫──╫──╫──╫──╫──╫──╫──╫──╫─»\n",
              "«        ║  ║  ║  ║  ║  ║  ║  ║  ║  ║  ║  ║  ║  ║  ║  ║  ║  ║  ║  ║  ║  ║  ║ »\n",
              "« c1: 9/═╩══╩══╩══╩══╩══╩══╩══╩══╩══╩══╩══╩══╩══╩══╩══╩══╩══╩══╩══╩══╩══╩══╩═»\n",
              "«        7  8  3  4  5  6  7  8  3  4  5  6  7  8  3  4  5  6  7  8  3  4  5 »\n",
              "«                                                    ┌─┐   ┌─┐   ┌─┐   ┌─┐   »\n",
              "« q1_0: ─────────────────────────────────────────────┤M├───┤M├───┤M├───┤M├───»\n",
              "«                                                    └╥┘┌─┐└╥┘┌─┐└╥┘┌─┐└╥┘┌─┐»\n",
              "« q1_1: ──────────────────────────────────────────────╫─┤M├─╫─┤M├─╫─┤M├─╫─┤M├»\n",
              "«                                                     ║ └╥┘ ║ └╥┘ ║ └╥┘ ║ └╥┘»\n",
              "« q1_2: ──────────────────────────────────────────────╫──╫──╫──╫──╫──╫──╫──╫─»\n",
              "«                                                     ║  ║  ║  ║  ║  ║  ║  ║ »\n",
              "« q1_3: ──────────────────────────────────────────────╫──╫──╫──╫──╫──╫──╫──╫─»\n",
              "«                ┌─┐               ┌─┐                ║  ║  ║  ║  ║  ║  ║  ║ »\n",
              "« q1_4: ─────────┤M├───────────────┤M├────────────────╫──╫──╫──╫──╫──╫──╫──╫─»\n",
              "«                └╥┘┌─┐            └╥┘┌─┐             ║  ║  ║  ║  ║  ║  ║  ║ »\n",
              "« q1_5: ──────────╫─┤M├─────────────╫─┤M├─────────────╫──╫──╫──╫──╫──╫──╫──╫─»\n",
              "«                 ║ └╥┘┌─┐          ║ └╥┘┌─┐          ║  ║  ║  ║  ║  ║  ║  ║ »\n",
              "« q1_6: ──────────╫──╫─┤M├──────────╫──╫─┤M├──────────╫──╫──╫──╫──╫──╫──╫──╫─»\n",
              "«                 ║  ║ └╥┘          ║  ║ └╥┘          ║  ║  ║  ║  ║  ║  ║  ║ »\n",
              "« q1_7: ──────────╫──╫──╫───────────╫──╫──╫───────────╫──╫──╫──╫──╫──╫──╫──╫─»\n",
              "«       ┌─┐       ║  ║  ║ ┌─┐       ║  ║  ║ ┌─┐       ║  ║  ║  ║  ║  ║  ║  ║ »\n",
              "« q1_8: ┤M├───────╫──╫──╫─┤M├───────╫──╫──╫─┤M├───────╫──╫──╫──╫──╫──╫──╫──╫─»\n",
              "«       └╥┘┌─┐    ║  ║  ║ └╥┘┌─┐    ║  ║  ║ └╥┘┌─┐    ║  ║  ║  ║  ║  ║  ║  ║ »\n",
              "« q1_9: ─╫─┤M├────╫──╫──╫──╫─┤M├────╫──╫──╫──╫─┤M├────╫──╫──╫──╫──╫──╫──╫──╫─»\n",
              "«        ║ └╥┘┌─┐ ║  ║  ║  ║ └╥┘┌─┐ ║  ║  ║  ║ └╥┘┌─┐ ║  ║  ║  ║  ║  ║  ║  ║ »\n",
              "«q1_10: ─╫──╫─┤M├─╫──╫──╫──╫──╫─┤M├─╫──╫──╫──╫──╫─┤M├─╫──╫──╫──╫──╫──╫──╫──╫─»\n",
              "«        ║  ║ └╥┘ ║  ║  ║  ║  ║ └╥┘ ║  ║  ║  ║  ║ └╥┘ ║  ║  ║  ║  ║  ║  ║  ║ »\n",
              "«q1_11: ─╫──╫──╫──╫──╫──╫──╫──╫──╫──╫──╫──╫──╫──╫──╫──╫──╫──╫──╫──╫──╫──╫──╫─»\n",
              "«        ║  ║  ║  ║  ║  ║  ║  ║  ║  ║  ║  ║  ║  ║  ║  ║  ║  ║  ║  ║  ║  ║  ║ »\n",
              "« c1: 9/═╩══╩══╩══╩══╩══╩══╩══╩══╩══╩══╩══╩══╩══╩══╩══╩══╩══╩══╩══╩══╩══╩══╩═»\n",
              "«        6  7  8  3  4  5  6  7  8  3  4  5  6  7  8  0  1  0  1  0  1  0  1 »\n",
              "«          ┌─┐      ┌─┐      ┌─┐      ┌─┐      ┌─┐      ┌─┐      ┌─┐         »\n",
              "« q1_0: ───┤M├──────┤M├──────┤M├──────┤M├──────┤M├──────┤M├──────┤M├─────────»\n",
              "«          └╥┘┌─┐   └╥┘┌─┐   └╥┘┌─┐   └╥┘┌─┐   └╥┘┌─┐   └╥┘┌─┐   └╥┘┌─┐      »\n",
              "« q1_1: ────╫─┤M├────╫─┤M├────╫─┤M├────╫─┤M├────╫─┤M├────╫─┤M├────╫─┤M├──────»\n",
              "«       ┌─┐ ║ └╥┘┌─┐ ║ └╥┘┌─┐ ║ └╥┘┌─┐ ║ └╥┘┌─┐ ║ └╥┘┌─┐ ║ └╥┘┌─┐ ║ └╥┘┌─┐┌─┐»\n",
              "« q1_2: ┤M├─╫──╫─┤M├─╫──╫─┤M├─╫──╫─┤M├─╫──╫─┤M├─╫──╫─┤M├─╫──╫─┤M├─╫──╫─┤M├┤M├»\n",
              "«       └╥┘ ║  ║ └╥┘ ║  ║ └╥┘ ║  ║ └╥┘ ║  ║ └╥┘ ║  ║ └╥┘ ║  ║ └╥┘ ║  ║ └╥┘└╥┘»\n",
              "« q1_3: ─╫──╫──╫──╫──╫──╫──╫──╫──╫──╫──╫──╫──╫──╫──╫──╫──╫──╫──╫──╫──╫──╫──╫─»\n",
              "«        ║  ║  ║  ║  ║  ║  ║  ║  ║  ║  ║  ║  ║  ║  ║  ║  ║  ║  ║  ║  ║  ║  ║ »\n",
              "« q1_4: ─╫──╫──╫──╫──╫──╫──╫──╫──╫──╫──╫──╫──╫──╫──╫──╫──╫──╫──╫──╫──╫──╫──╫─»\n",
              "«        ║  ║  ║  ║  ║  ║  ║  ║  ║  ║  ║  ║  ║  ║  ║  ║  ║  ║  ║  ║  ║  ║  ║ »\n",
              "« q1_5: ─╫──╫──╫──╫──╫──╫──╫──╫──╫──╫──╫──╫──╫──╫──╫──╫──╫──╫──╫──╫──╫──╫──╫─»\n",
              "«        ║  ║  ║  ║  ║  ║  ║  ║  ║  ║  ║  ║  ║  ║  ║  ║  ║  ║  ║  ║  ║  ║  ║ »\n",
              "« q1_6: ─╫──╫──╫──╫──╫──╫──╫──╫──╫──╫──╫──╫──╫──╫──╫──╫──╫──╫──╫──╫──╫──╫──╫─»\n",
              "«        ║  ║  ║  ║  ║  ║  ║  ║  ║  ║  ║  ║  ║  ║  ║  ║  ║  ║  ║  ║  ║  ║  ║ »\n",
              "« q1_7: ─╫──╫──╫──╫──╫──╫──╫──╫──╫──╫──╫──╫──╫──╫──╫──╫──╫──╫──╫──╫──╫──╫──╫─»\n",
              "«        ║  ║  ║  ║  ║  ║  ║  ║  ║  ║  ║  ║  ║  ║  ║  ║  ║  ║  ║  ║  ║  ║  ║ »\n",
              "« q1_8: ─╫──╫──╫──╫──╫──╫──╫──╫──╫──╫──╫──╫──╫──╫──╫──╫──╫──╫──╫──╫──╫──╫──╫─»\n",
              "«        ║  ║  ║  ║  ║  ║  ║  ║  ║  ║  ║  ║  ║  ║  ║  ║  ║  ║  ║  ║  ║  ║  ║ »\n",
              "« q1_9: ─╫──╫──╫──╫──╫──╫──╫──╫──╫──╫──╫──╫──╫──╫──╫──╫──╫──╫──╫──╫──╫──╫──╫─»\n",
              "«        ║  ║  ║  ║  ║  ║  ║  ║  ║  ║  ║  ║  ║  ║  ║  ║  ║  ║  ║  ║  ║  ║  ║ »\n",
              "«q1_10: ─╫──╫──╫──╫──╫──╫──╫──╫──╫──╫──╫──╫──╫──╫──╫──╫──╫──╫──╫──╫──╫──╫──╫─»\n",
              "«        ║  ║  ║  ║  ║  ║  ║  ║  ║  ║  ║  ║  ║  ║  ║  ║  ║  ║  ║  ║  ║  ║  ║ »\n",
              "«q1_11: ─╫──╫──╫──╫──╫──╫──╫──╫──╫──╫──╫──╫──╫──╫──╫──╫──╫──╫──╫──╫──╫──╫──╫─»\n",
              "«        ║  ║  ║  ║  ║  ║  ║  ║  ║  ║  ║  ║  ║  ║  ║  ║  ║  ║  ║  ║  ║  ║  ║ »\n",
              "« c1: 9/═╩══╩══╩══╩══╩══╩══╩══╩══╩══╩══╩══╩══╩══╩══╩══╩══╩══╩══╩══╩══╩══╩══╩═»\n",
              "«        2  0  1  2  0  1  2  0  1  2  0  1  2  0  1  2  0  1  2  0  1  2  2 »\n",
              "«             \n",
              "« q1_0: ──────\n",
              "«             \n",
              "« q1_1: ──────\n",
              "«       ┌─┐┌─┐\n",
              "« q1_2: ┤M├┤M├\n",
              "«       └╥┘└╥┘\n",
              "« q1_3: ─╫──╫─\n",
              "«        ║  ║ \n",
              "« q1_4: ─╫──╫─\n",
              "«        ║  ║ \n",
              "« q1_5: ─╫──╫─\n",
              "«        ║  ║ \n",
              "« q1_6: ─╫──╫─\n",
              "«        ║  ║ \n",
              "« q1_7: ─╫──╫─\n",
              "«        ║  ║ \n",
              "« q1_8: ─╫──╫─\n",
              "«        ║  ║ \n",
              "« q1_9: ─╫──╫─\n",
              "«        ║  ║ \n",
              "«q1_10: ─╫──╫─\n",
              "«        ║  ║ \n",
              "«q1_11: ─╫──╫─\n",
              "«        ║  ║ \n",
              "« c1: 9/═╩══╩═\n",
              "«        2  2 "
            ],
            "text/html": [
              "<pre style=\"word-wrap: normal;white-space: pre;background: #fff0;line-height: 1.1;font-family: &quot;Courier New&quot;,Courier,monospace\">       ┌───┐     ┌───┐     ┌───┐               ┌───┐     ┌───┐               »\n",
              " q1_0: ┤ H ├──■──┤ X ├──■──┤ X ├────────────■──┤ X ├──■──┤ X ├────────────■──»\n",
              "       ├───┤  │  └─┬─┘  │  └─┬─┘     ┌───┐  │  └─┬─┘  │  └─┬─┘     ┌───┐  │  »\n",
              " q1_1: ┤ H ├──■────┼────┼────┼────■──┤ X ├──■────┼────┼────┼────■──┤ X ├──■──»\n",
              "       ├───┤  │    │    │    │    │  └─┬─┘  │    │    │    │    │  └─┬─┘  │  »\n",
              " q1_2: ┤ H ├──┼────┼────■────┼────■────┼────┼────┼────■────┼────■────┼────┼──»\n",
              "       └───┘┌─┴─┐  │  ┌─┴─┐  │  ┌─┴─┐  │  ┌─┴─┐  │  ┌─┴─┐  │  ┌─┴─┐  │  ┌─┴─┐»\n",
              " q1_3: ─────┤ X ├──■──┤ X ├──■──┤ X ├──■──┤ X ├──■──┤ X ├──■──┤ X ├──■──┤ X ├»\n",
              "       ┌───┐└┬─┬┘     └───┘     └───┘     └┬─┬┘     └───┘     └───┘     └┬─┬┘»\n",
              " q1_4: ┤ H ├─┤M├───────────────────────────┤M├───────────────────────────┤M├─»\n",
              "       ├───┤ └╥┘  ┌─┐                      └╥┘  ┌─┐                      └╥┘ »\n",
              " q1_5: ┤ H ├──╫───┤M├───────────────────────╫───┤M├───────────────────────╫──»\n",
              "       ├───┤  ║   └╥┘  ┌─┐                  ║   └╥┘  ┌─┐                  ║  »\n",
              " q1_6: ┤ H ├──╫────╫───┤M├──────────────────╫────╫───┤M├──────────────────╫──»\n",
              "       └───┘  ║    ║   └╥┘                  ║    ║   └╥┘                  ║  »\n",
              " q1_7: ───────╫────╫────╫───────────────────╫────╫────╫───────────────────╫──»\n",
              "       ┌───┐  ║    ║    ║   ┌─┐             ║    ║    ║   ┌─┐             ║  »\n",
              " q1_8: ┤ H ├──╫────╫────╫───┤M├─────────────╫────╫────╫───┤M├─────────────╫──»\n",
              "       ├───┤  ║    ║    ║   └╥┘  ┌─┐        ║    ║    ║   └╥┘  ┌─┐        ║  »\n",
              " q1_9: ┤ H ├──╫────╫────╫────╫───┤M├────────╫────╫────╫────╫───┤M├────────╫──»\n",
              "       ├───┤  ║    ║    ║    ║   └╥┘  ┌─┐   ║    ║    ║    ║   └╥┘  ┌─┐   ║  »\n",
              "q1_10: ┤ H ├──╫────╫────╫────╫────╫───┤M├───╫────╫────╫────╫────╫───┤M├───╫──»\n",
              "       └───┘  ║    ║    ║    ║    ║   └╥┘   ║    ║    ║    ║    ║   └╥┘   ║  »\n",
              "q1_11: ───────╫────╫────╫────╫────╫────╫────╫────╫────╫────╫────╫────╫────╫──»\n",
              "              ║    ║    ║    ║    ║    ║    ║    ║    ║    ║    ║    ║    ║  »\n",
              " c1: 9/═══════╩════╩════╩════╩════╩════╩════╩════╩════╩════╩════╩════╩════╩══»\n",
              "              3    4    5    6    7    8    3    4    5    6    7    8    3  »\n",
              "«       ┌───┐     ┌───┐┌───┐               ┌───┐                               »\n",
              "« q1_0: ┤ X ├──■──┤ X ├┤ X ├────────────■──┤ X ├───────────────────────────────»\n",
              "«       └─┬─┘  │  └─┬─┘└───┘┌───┐┌───┐  │  ├───┤                               »\n",
              "« q1_1: ──┼────┼────┼────■──┤ X ├┤ X ├──■──┤ X ├───────────────────────────────»\n",
              "«         │    │    │    │  └─┬─┘├───┤  │  ├───┤     ┌───┐┌───┐┌───┐           »\n",
              "« q1_2: ──┼────■────┼────■────┼──┤ X ├──■──┤ X ├─────┤ X ├┤ X ├┤ X ├───────────»\n",
              "«         │  ┌─┴─┐  │  ┌─┴─┐  │  └───┘┌─┴─┐└─┬─┘     └─┬─┘└───┘└─┬─┘           »\n",
              "« q1_3: ──■──┤ X ├──■──┤ X ├──■───|0>─┤ X ├──■───|0>───■───|0>───■───|0>───────»\n",
              "«            └───┘     └───┘      ┌─┐ └───┘                     ┌─┐            »\n",
              "« q1_4: ──────────────────────────┤M├───────────────────────────┤M├────────────»\n",
              "«        ┌─┐                      └╥┘  ┌─┐                      └╥┘  ┌─┐       »\n",
              "« q1_5: ─┤M├───────────────────────╫───┤M├───────────────────────╫───┤M├───────»\n",
              "«        └╥┘  ┌─┐                  ║   └╥┘  ┌─┐                  ║   └╥┘ ┌─┐   »\n",
              "« q1_6: ──╫───┤M├──────────────────╫────╫───┤M├──────────────────╫────╫──┤M├───»\n",
              "«         ║   └╥┘                  ║    ║   └╥┘                  ║    ║  └╥┘   »\n",
              "« q1_7: ──╫────╫───────────────────╫────╫────╫───────────────────╫────╫───╫────»\n",
              "«         ║    ║   ┌─┐             ║    ║    ║   ┌─┐             ║    ║   ║ ┌─┐»\n",
              "« q1_8: ──╫────╫───┤M├─────────────╫────╫────╫───┤M├─────────────╫────╫───╫─┤M├»\n",
              "«         ║    ║   └╥┘  ┌─┐        ║    ║    ║   └╥┘  ┌─┐        ║    ║   ║ └╥┘»\n",
              "« q1_9: ──╫────╫────╫───┤M├────────╫────╫────╫────╫───┤M├────────╫────╫───╫──╫─»\n",
              "«         ║    ║    ║   └╥┘  ┌─┐   ║    ║    ║    ║   └╥┘  ┌─┐   ║    ║   ║  ║ »\n",
              "«q1_10: ──╫────╫────╫────╫───┤M├───╫────╫────╫────╫────╫───┤M├───╫────╫───╫──╫─»\n",
              "«         ║    ║    ║    ║   └╥┘   ║    ║    ║    ║    ║   └╥┘   ║    ║   ║  ║ »\n",
              "«q1_11: ──╫────╫────╫────╫────╫────╫────╫────╫────╫────╫────╫────╫────╫───╫──╫─»\n",
              "«         ║    ║    ║    ║    ║    ║    ║    ║    ║    ║    ║    ║    ║   ║  ║ »\n",
              "« c1: 9/══╩════╩════╩════╩════╩════╩════╩════╩════╩════╩════╩════╩════╩═══╩══╩═»\n",
              "«         4    5    6    7    8    3    4    5    6    7    8    3    4   5  6 »\n",
              "«                                                                            »\n",
              "« q1_0: ─────────────────────────────────────────────────────────────────────»\n",
              "«                                                                            »\n",
              "« q1_1: ─────────────────────────────────────────────────────────────────────»\n",
              "«                                                                            »\n",
              "« q1_2: ─────────────────────────────────────────────────────────────────────»\n",
              "«                                                                            »\n",
              "« q1_3: ─────────────────────────────────────────────────────────────────────»\n",
              "«             ┌─┐               ┌─┐               ┌─┐               ┌─┐      »\n",
              "« q1_4: ──────┤M├───────────────┤M├───────────────┤M├───────────────┤M├──────»\n",
              "«             └╥┘┌─┐            └╥┘┌─┐            └╥┘┌─┐            └╥┘┌─┐   »\n",
              "« q1_5: ───────╫─┤M├─────────────╫─┤M├─────────────╫─┤M├─────────────╫─┤M├───»\n",
              "«              ║ └╥┘┌─┐          ║ └╥┘┌─┐          ║ └╥┘┌─┐          ║ └╥┘┌─┐»\n",
              "« q1_6: ───────╫──╫─┤M├──────────╫──╫─┤M├──────────╫──╫─┤M├──────────╫──╫─┤M├»\n",
              "«              ║  ║ └╥┘          ║  ║ └╥┘          ║  ║ └╥┘          ║  ║ └╥┘»\n",
              "« q1_7: ───────╫──╫──╫───────────╫──╫──╫───────────╫──╫──╫───────────╫──╫──╫─»\n",
              "«              ║  ║  ║ ┌─┐       ║  ║  ║ ┌─┐       ║  ║  ║ ┌─┐       ║  ║  ║ »\n",
              "« q1_8: ───────╫──╫──╫─┤M├───────╫──╫──╫─┤M├───────╫──╫──╫─┤M├───────╫──╫──╫─»\n",
              "«       ┌─┐    ║  ║  ║ └╥┘┌─┐    ║  ║  ║ └╥┘┌─┐    ║  ║  ║ └╥┘┌─┐    ║  ║  ║ »\n",
              "« q1_9: ┤M├────╫──╫──╫──╫─┤M├────╫──╫──╫──╫─┤M├────╫──╫──╫──╫─┤M├────╫──╫──╫─»\n",
              "«       └╥┘┌─┐ ║  ║  ║  ║ └╥┘┌─┐ ║  ║  ║  ║ └╥┘┌─┐ ║  ║  ║  ║ └╥┘┌─┐ ║  ║  ║ »\n",
              "«q1_10: ─╫─┤M├─╫──╫──╫──╫──╫─┤M├─╫──╫──╫──╫──╫─┤M├─╫──╫──╫──╫──╫─┤M├─╫──╫──╫─»\n",
              "«        ║ └╥┘ ║  ║  ║  ║  ║ └╥┘ ║  ║  ║  ║  ║ └╥┘ ║  ║  ║  ║  ║ └╥┘ ║  ║  ║ »\n",
              "«q1_11: ─╫──╫──╫──╫──╫──╫──╫──╫──╫──╫──╫──╫──╫──╫──╫──╫──╫──╫──╫──╫──╫──╫──╫─»\n",
              "«        ║  ║  ║  ║  ║  ║  ║  ║  ║  ║  ║  ║  ║  ║  ║  ║  ║  ║  ║  ║  ║  ║  ║ »\n",
              "« c1: 9/═╩══╩══╩══╩══╩══╩══╩══╩══╩══╩══╩══╩══╩══╩══╩══╩══╩══╩══╩══╩══╩══╩══╩═»\n",
              "«        7  8  3  4  5  6  7  8  3  4  5  6  7  8  3  4  5  6  7  8  3  4  5 »\n",
              "«                                                    ┌─┐   ┌─┐   ┌─┐   ┌─┐   »\n",
              "« q1_0: ─────────────────────────────────────────────┤M├───┤M├───┤M├───┤M├───»\n",
              "«                                                    └╥┘┌─┐└╥┘┌─┐└╥┘┌─┐└╥┘┌─┐»\n",
              "« q1_1: ──────────────────────────────────────────────╫─┤M├─╫─┤M├─╫─┤M├─╫─┤M├»\n",
              "«                                                     ║ └╥┘ ║ └╥┘ ║ └╥┘ ║ └╥┘»\n",
              "« q1_2: ──────────────────────────────────────────────╫──╫──╫──╫──╫──╫──╫──╫─»\n",
              "«                                                     ║  ║  ║  ║  ║  ║  ║  ║ »\n",
              "« q1_3: ──────────────────────────────────────────────╫──╫──╫──╫──╫──╫──╫──╫─»\n",
              "«                ┌─┐               ┌─┐                ║  ║  ║  ║  ║  ║  ║  ║ »\n",
              "« q1_4: ─────────┤M├───────────────┤M├────────────────╫──╫──╫──╫──╫──╫──╫──╫─»\n",
              "«                └╥┘┌─┐            └╥┘┌─┐             ║  ║  ║  ║  ║  ║  ║  ║ »\n",
              "« q1_5: ──────────╫─┤M├─────────────╫─┤M├─────────────╫──╫──╫──╫──╫──╫──╫──╫─»\n",
              "«                 ║ └╥┘┌─┐          ║ └╥┘┌─┐          ║  ║  ║  ║  ║  ║  ║  ║ »\n",
              "« q1_6: ──────────╫──╫─┤M├──────────╫──╫─┤M├──────────╫──╫──╫──╫──╫──╫──╫──╫─»\n",
              "«                 ║  ║ └╥┘          ║  ║ └╥┘          ║  ║  ║  ║  ║  ║  ║  ║ »\n",
              "« q1_7: ──────────╫──╫──╫───────────╫──╫──╫───────────╫──╫──╫──╫──╫──╫──╫──╫─»\n",
              "«       ┌─┐       ║  ║  ║ ┌─┐       ║  ║  ║ ┌─┐       ║  ║  ║  ║  ║  ║  ║  ║ »\n",
              "« q1_8: ┤M├───────╫──╫──╫─┤M├───────╫──╫──╫─┤M├───────╫──╫──╫──╫──╫──╫──╫──╫─»\n",
              "«       └╥┘┌─┐    ║  ║  ║ └╥┘┌─┐    ║  ║  ║ └╥┘┌─┐    ║  ║  ║  ║  ║  ║  ║  ║ »\n",
              "« q1_9: ─╫─┤M├────╫──╫──╫──╫─┤M├────╫──╫──╫──╫─┤M├────╫──╫──╫──╫──╫──╫──╫──╫─»\n",
              "«        ║ └╥┘┌─┐ ║  ║  ║  ║ └╥┘┌─┐ ║  ║  ║  ║ └╥┘┌─┐ ║  ║  ║  ║  ║  ║  ║  ║ »\n",
              "«q1_10: ─╫──╫─┤M├─╫──╫──╫──╫──╫─┤M├─╫──╫──╫──╫──╫─┤M├─╫──╫──╫──╫──╫──╫──╫──╫─»\n",
              "«        ║  ║ └╥┘ ║  ║  ║  ║  ║ └╥┘ ║  ║  ║  ║  ║ └╥┘ ║  ║  ║  ║  ║  ║  ║  ║ »\n",
              "«q1_11: ─╫──╫──╫──╫──╫──╫──╫──╫──╫──╫──╫──╫──╫──╫──╫──╫──╫──╫──╫──╫──╫──╫──╫─»\n",
              "«        ║  ║  ║  ║  ║  ║  ║  ║  ║  ║  ║  ║  ║  ║  ║  ║  ║  ║  ║  ║  ║  ║  ║ »\n",
              "« c1: 9/═╩══╩══╩══╩══╩══╩══╩══╩══╩══╩══╩══╩══╩══╩══╩══╩══╩══╩══╩══╩══╩══╩══╩═»\n",
              "«        6  7  8  3  4  5  6  7  8  3  4  5  6  7  8  0  1  0  1  0  1  0  1 »\n",
              "«          ┌─┐      ┌─┐      ┌─┐      ┌─┐      ┌─┐      ┌─┐      ┌─┐         »\n",
              "« q1_0: ───┤M├──────┤M├──────┤M├──────┤M├──────┤M├──────┤M├──────┤M├─────────»\n",
              "«          └╥┘┌─┐   └╥┘┌─┐   └╥┘┌─┐   └╥┘┌─┐   └╥┘┌─┐   └╥┘┌─┐   └╥┘┌─┐      »\n",
              "« q1_1: ────╫─┤M├────╫─┤M├────╫─┤M├────╫─┤M├────╫─┤M├────╫─┤M├────╫─┤M├──────»\n",
              "«       ┌─┐ ║ └╥┘┌─┐ ║ └╥┘┌─┐ ║ └╥┘┌─┐ ║ └╥┘┌─┐ ║ └╥┘┌─┐ ║ └╥┘┌─┐ ║ └╥┘┌─┐┌─┐»\n",
              "« q1_2: ┤M├─╫──╫─┤M├─╫──╫─┤M├─╫──╫─┤M├─╫──╫─┤M├─╫──╫─┤M├─╫──╫─┤M├─╫──╫─┤M├┤M├»\n",
              "«       └╥┘ ║  ║ └╥┘ ║  ║ └╥┘ ║  ║ └╥┘ ║  ║ └╥┘ ║  ║ └╥┘ ║  ║ └╥┘ ║  ║ └╥┘└╥┘»\n",
              "« q1_3: ─╫──╫──╫──╫──╫──╫──╫──╫──╫──╫──╫──╫──╫──╫──╫──╫──╫──╫──╫──╫──╫──╫──╫─»\n",
              "«        ║  ║  ║  ║  ║  ║  ║  ║  ║  ║  ║  ║  ║  ║  ║  ║  ║  ║  ║  ║  ║  ║  ║ »\n",
              "« q1_4: ─╫──╫──╫──╫──╫──╫──╫──╫──╫──╫──╫──╫──╫──╫──╫──╫──╫──╫──╫──╫──╫──╫──╫─»\n",
              "«        ║  ║  ║  ║  ║  ║  ║  ║  ║  ║  ║  ║  ║  ║  ║  ║  ║  ║  ║  ║  ║  ║  ║ »\n",
              "« q1_5: ─╫──╫──╫──╫──╫──╫──╫──╫──╫──╫──╫──╫──╫──╫──╫──╫──╫──╫──╫──╫──╫──╫──╫─»\n",
              "«        ║  ║  ║  ║  ║  ║  ║  ║  ║  ║  ║  ║  ║  ║  ║  ║  ║  ║  ║  ║  ║  ║  ║ »\n",
              "« q1_6: ─╫──╫──╫──╫──╫──╫──╫──╫──╫──╫──╫──╫──╫──╫──╫──╫──╫──╫──╫──╫──╫──╫──╫─»\n",
              "«        ║  ║  ║  ║  ║  ║  ║  ║  ║  ║  ║  ║  ║  ║  ║  ║  ║  ║  ║  ║  ║  ║  ║ »\n",
              "« q1_7: ─╫──╫──╫──╫──╫──╫──╫──╫──╫──╫──╫──╫──╫──╫──╫──╫──╫──╫──╫──╫──╫──╫──╫─»\n",
              "«        ║  ║  ║  ║  ║  ║  ║  ║  ║  ║  ║  ║  ║  ║  ║  ║  ║  ║  ║  ║  ║  ║  ║ »\n",
              "« q1_8: ─╫──╫──╫──╫──╫──╫──╫──╫──╫──╫──╫──╫──╫──╫──╫──╫──╫──╫──╫──╫──╫──╫──╫─»\n",
              "«        ║  ║  ║  ║  ║  ║  ║  ║  ║  ║  ║  ║  ║  ║  ║  ║  ║  ║  ║  ║  ║  ║  ║ »\n",
              "« q1_9: ─╫──╫──╫──╫──╫──╫──╫──╫──╫──╫──╫──╫──╫──╫──╫──╫──╫──╫──╫──╫──╫──╫──╫─»\n",
              "«        ║  ║  ║  ║  ║  ║  ║  ║  ║  ║  ║  ║  ║  ║  ║  ║  ║  ║  ║  ║  ║  ║  ║ »\n",
              "«q1_10: ─╫──╫──╫──╫──╫──╫──╫──╫──╫──╫──╫──╫──╫──╫──╫──╫──╫──╫──╫──╫──╫──╫──╫─»\n",
              "«        ║  ║  ║  ║  ║  ║  ║  ║  ║  ║  ║  ║  ║  ║  ║  ║  ║  ║  ║  ║  ║  ║  ║ »\n",
              "«q1_11: ─╫──╫──╫──╫──╫──╫──╫──╫──╫──╫──╫──╫──╫──╫──╫──╫──╫──╫──╫──╫──╫──╫──╫─»\n",
              "«        ║  ║  ║  ║  ║  ║  ║  ║  ║  ║  ║  ║  ║  ║  ║  ║  ║  ║  ║  ║  ║  ║  ║ »\n",
              "« c1: 9/═╩══╩══╩══╩══╩══╩══╩══╩══╩══╩══╩══╩══╩══╩══╩══╩══╩══╩══╩══╩══╩══╩══╩═»\n",
              "«        2  0  1  2  0  1  2  0  1  2  0  1  2  0  1  2  0  1  2  0  1  2  2 »\n",
              "«             \n",
              "« q1_0: ──────\n",
              "«             \n",
              "« q1_1: ──────\n",
              "«       ┌─┐┌─┐\n",
              "« q1_2: ┤M├┤M├\n",
              "«       └╥┘└╥┘\n",
              "« q1_3: ─╫──╫─\n",
              "«        ║  ║ \n",
              "« q1_4: ─╫──╫─\n",
              "«        ║  ║ \n",
              "« q1_5: ─╫──╫─\n",
              "«        ║  ║ \n",
              "« q1_6: ─╫──╫─\n",
              "«        ║  ║ \n",
              "« q1_7: ─╫──╫─\n",
              "«        ║  ║ \n",
              "« q1_8: ─╫──╫─\n",
              "«        ║  ║ \n",
              "« q1_9: ─╫──╫─\n",
              "«        ║  ║ \n",
              "«q1_10: ─╫──╫─\n",
              "«        ║  ║ \n",
              "«q1_11: ─╫──╫─\n",
              "«        ║  ║ \n",
              "« c1: 9/═╩══╩═\n",
              "«        2  2 </pre>"
            ]
          },
          "metadata": {},
          "execution_count": 24
        }
      ]
    },
    {
      "cell_type": "markdown",
      "source": [
        "## Conclusión"
      ],
      "metadata": {
        "id": "PWI2hzNSSmyV"
      }
    },
    {
      "cell_type": "markdown",
      "source": [
        "\n",
        "Al obtener los resultados de trabajo , con estos datos se pasa a tomar decisiones en el caso que la solucion pueda necesaiar menos colores de los que se habian predispuesto con algebra.\n",
        "\n",
        "Asi tambien como la busqueda de Grover convirtio un problema que en multiples intentos podria convertirse en un inconveniente para la computacion clasica en una busqueda que puede conllevar menos de 5 segundos de tiempo."
      ],
      "metadata": {
        "id": "hD0_U_DYSpmw"
      }
    },
    {
      "cell_type": "markdown",
      "source": [
        "## Bibliografia"
      ],
      "metadata": {
        "id": "GXDV1BZYA0lN"
      }
    },
    {
      "cell_type": "markdown",
      "source": [
        "[1] Stephen S. Bullock and Igor L. Markov. Arbitrary two-qubit computation in 23 elementary gates.\n",
        "Physical Review A, 68(1):012318, July 2003. Publisher: American Physical Society.\n",
        "\n",
        "[2] E. O. Kiktenko, A. S. Nikolaeva, Peng Xu, G. V. Shlyapnikov, and A. K. Fedorov. Scalable quantum\n",
        "computing with qudits on a graph. Physical Review A, 101(2):022304, February 2020. arXiv: 1909.08973.\n",
        "\n",
        "[3] Muskan Saha, Bikash Behera, and Prasanta Panigrahi. Quantum Algorithms for Colouring of Graphs.\n",
        "January 2019."
      ],
      "metadata": {
        "id": "WVsPPyBpA6fA"
      }
    }
  ]
}