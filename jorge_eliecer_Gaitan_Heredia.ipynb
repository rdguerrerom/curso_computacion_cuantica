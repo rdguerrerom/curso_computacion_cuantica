{
  "nbformat": 4,
  "nbformat_minor": 0,
  "metadata": {
    "colab": {
      "provenance": [],
      "authorship_tag": "ABX9TyP/CIRI4UoQvBHFrZtycrFX",
      "include_colab_link": true
    },
    "kernelspec": {
      "name": "python3",
      "display_name": "Python 3"
    },
    "language_info": {
      "name": "python"
    }
  },
  "cells": [
    {
      "cell_type": "markdown",
      "metadata": {
        "id": "view-in-github",
        "colab_type": "text"
      },
      "source": [
        "<a href=\"https://colab.research.google.com/github/JorgeGaitanDev/curso_computacion_cuantica/blob/patch-6/jorge_eliecer_Gaitan_Heredia.ipynb\" target=\"_parent\"><img src=\"https://colab.research.google.com/assets/colab-badge.svg\" alt=\"Open In Colab\"/></a>"
      ]
    },
    {
      "cell_type": "code",
      "source": [
        "__authors__    = \"Jorge Eliecer Gaitan Heredia\"\n",
        "__credits__   = [\"Jorge Eliecer Gaitan Heredia\"]\n",
        "__copyright_amp__ = \"(c) Jorge Eliecer Gaitan Heredia\"\n",
        "__email__   = \"jegaitanh@correo.udistrital.edu.co\"\n",
        "\n",
        "# uutilizamos unittest en python para este proyecto"
      ],
      "metadata": {
        "id": "_h-V_tpJw31X"
      },
      "execution_count": null,
      "outputs": []
    },
    {
      "cell_type": "markdown",
      "source": [
        "#Primero que todo debemos saber que es el \"Algoritmo de Grover\".\n",
        "- El algoritmo de Grover es uno de los algoritmos cuánticos más famosos introducido por Lov Grover en 1996. Inicialmente, se propuso para problemas de búsqueda no estructurados, es decir, para encontrar un elemento marcado en una base de datos no estructurada. Sin embargo, el algoritmo de Grover es ahora una subrutina de varios otros algoritmos, como Grover Adaptive Search [2]. Para obtener más información sobre el algoritmo de Grover, consulta Grover’s Algorithm en el libro de texto de Qiskit.\n",
        "\n",
        "Qiskit implementa el algoritmo de Grover en la clase Grover. Esta clase también incluye la versión generalizada, Amplificación de Amplitud [3], y permite configurar iteraciones individuales y otros meta-ajustes para el algoritmo de Grover."
      ],
      "metadata": {
        "id": "JbIjf2Wv4b2g"
      }
    },
    {
      "cell_type": "markdown",
      "source": [
        "#Para ejecutar el algoritmo de Grover.\n",
        "- Cuando ejecutamos el algoritmo de Grover con la clase \"Grover\", en primer lugar, necesitamos especificar un oráculo para el circuito del algoritmo de Grover yuamos QuantumCircuit como el oráculo del algoritmo de Grover. Sin embargo, hay varias otras clases que podemos usar como oráculo del algoritmo de Grover.\n",
        "\n",
        "Para este algoritmo hay que tener en cuenta que el oráculo para Grover debe ser un oráculo de cambio de fase. Es decir, multiplica las amplitudes de los “estados correctos” por un factor de (punto)."
      ],
      "metadata": {
        "id": "iF8XKjy4FB24"
      }
    },
    {
      "cell_type": "markdown",
      "source": [
        "##Inicialmente configuramos una cuenta en ***IBM Quantum Experience*** para poder desarrollar esta aplicación."
      ],
      "metadata": {
        "id": "26E3ixX7xvg9"
      }
    },
    {
      "cell_type": "code",
      "source": [
        "!pip install git+https://github.com/qiskit-community/qiskit-textbook.git#subdirectory=qiskit-textbook-src"
      ],
      "metadata": {
        "colab": {
          "base_uri": "https://localhost:8080/"
        },
        "id": "WkjHbl6f0yL4",
        "outputId": "d0e8ec9b-d91c-48fd-8c11-9544bfb20084"
      },
      "execution_count": null,
      "outputs": [
        {
          "output_type": "stream",
          "name": "stdout",
          "text": [
            "Looking in indexes: https://pypi.org/simple, https://us-python.pkg.dev/colab-wheels/public/simple/\n",
            "Collecting git+https://github.com/qiskit-community/qiskit-textbook.git#subdirectory=qiskit-textbook-src\n",
            "  Cloning https://github.com/qiskit-community/qiskit-textbook.git to /tmp/pip-req-build-qu7_p6s_\n",
            "  Running command git clone -q https://github.com/qiskit-community/qiskit-textbook.git /tmp/pip-req-build-qu7_p6s_\n",
            "Requirement already satisfied: qiskit in /usr/local/lib/python3.8/dist-packages (from qiskit-textbook==0.1.0) (0.39.4)\n",
            "Requirement already satisfied: ipython in /usr/local/lib/python3.8/dist-packages (from qiskit-textbook==0.1.0) (7.9.0)\n",
            "Requirement already satisfied: ipywidgets in /usr/local/lib/python3.8/dist-packages (from qiskit-textbook==0.1.0) (7.7.1)\n",
            "Requirement already satisfied: numpy in /usr/local/lib/python3.8/dist-packages (from qiskit-textbook==0.1.0) (1.21.6)\n",
            "Requirement already satisfied: matplotlib in /usr/local/lib/python3.8/dist-packages (from qiskit-textbook==0.1.0) (3.2.2)\n",
            "Requirement already satisfied: numexpr in /usr/local/lib/python3.8/dist-packages (from qiskit-textbook==0.1.0) (2.8.4)\n",
            "Requirement already satisfied: traitlets>=4.2 in /usr/local/lib/python3.8/dist-packages (from ipython->qiskit-textbook==0.1.0) (5.6.0)\n",
            "Requirement already satisfied: jedi>=0.10 in /usr/local/lib/python3.8/dist-packages (from ipython->qiskit-textbook==0.1.0) (0.18.2)\n",
            "Requirement already satisfied: pygments in /usr/local/lib/python3.8/dist-packages (from ipython->qiskit-textbook==0.1.0) (2.6.1)\n",
            "Requirement already satisfied: backcall in /usr/local/lib/python3.8/dist-packages (from ipython->qiskit-textbook==0.1.0) (0.2.0)\n",
            "Requirement already satisfied: pickleshare in /usr/local/lib/python3.8/dist-packages (from ipython->qiskit-textbook==0.1.0) (0.7.5)\n",
            "Requirement already satisfied: setuptools>=18.5 in /usr/local/lib/python3.8/dist-packages (from ipython->qiskit-textbook==0.1.0) (57.4.0)\n",
            "Requirement already satisfied: decorator in /usr/local/lib/python3.8/dist-packages (from ipython->qiskit-textbook==0.1.0) (4.4.2)\n",
            "Requirement already satisfied: prompt-toolkit<2.1.0,>=2.0.0 in /usr/local/lib/python3.8/dist-packages (from ipython->qiskit-textbook==0.1.0) (2.0.10)\n",
            "Requirement already satisfied: pexpect in /usr/local/lib/python3.8/dist-packages (from ipython->qiskit-textbook==0.1.0) (4.8.0)\n",
            "Requirement already satisfied: parso<0.9.0,>=0.8.0 in /usr/local/lib/python3.8/dist-packages (from jedi>=0.10->ipython->qiskit-textbook==0.1.0) (0.8.3)\n",
            "Requirement already satisfied: wcwidth in /usr/local/lib/python3.8/dist-packages (from prompt-toolkit<2.1.0,>=2.0.0->ipython->qiskit-textbook==0.1.0) (0.2.5)\n",
            "Requirement already satisfied: six>=1.9.0 in /usr/local/lib/python3.8/dist-packages (from prompt-toolkit<2.1.0,>=2.0.0->ipython->qiskit-textbook==0.1.0) (1.15.0)\n",
            "Requirement already satisfied: jupyterlab-widgets>=1.0.0 in /usr/local/lib/python3.8/dist-packages (from ipywidgets->qiskit-textbook==0.1.0) (3.0.3)\n",
            "Requirement already satisfied: ipython-genutils~=0.2.0 in /usr/local/lib/python3.8/dist-packages (from ipywidgets->qiskit-textbook==0.1.0) (0.2.0)\n",
            "Requirement already satisfied: ipykernel>=4.5.1 in /usr/local/lib/python3.8/dist-packages (from ipywidgets->qiskit-textbook==0.1.0) (5.3.4)\n",
            "Requirement already satisfied: widgetsnbextension~=3.6.0 in /usr/local/lib/python3.8/dist-packages (from ipywidgets->qiskit-textbook==0.1.0) (3.6.1)\n",
            "Requirement already satisfied: tornado>=4.2 in /usr/local/lib/python3.8/dist-packages (from ipykernel>=4.5.1->ipywidgets->qiskit-textbook==0.1.0) (6.0.4)\n",
            "Requirement already satisfied: jupyter-client in /usr/local/lib/python3.8/dist-packages (from ipykernel>=4.5.1->ipywidgets->qiskit-textbook==0.1.0) (6.1.12)\n",
            "Requirement already satisfied: notebook>=4.4.1 in /usr/local/lib/python3.8/dist-packages (from widgetsnbextension~=3.6.0->ipywidgets->qiskit-textbook==0.1.0) (5.7.16)\n",
            "Requirement already satisfied: nbconvert<6.0 in /usr/local/lib/python3.8/dist-packages (from notebook>=4.4.1->widgetsnbextension~=3.6.0->ipywidgets->qiskit-textbook==0.1.0) (5.6.1)\n",
            "Requirement already satisfied: terminado>=0.8.1 in /usr/local/lib/python3.8/dist-packages (from notebook>=4.4.1->widgetsnbextension~=3.6.0->ipywidgets->qiskit-textbook==0.1.0) (0.13.3)\n",
            "Requirement already satisfied: jupyter-core>=4.4.0 in /usr/local/lib/python3.8/dist-packages (from notebook>=4.4.1->widgetsnbextension~=3.6.0->ipywidgets->qiskit-textbook==0.1.0) (5.1.0)\n",
            "Requirement already satisfied: pyzmq>=17 in /usr/local/lib/python3.8/dist-packages (from notebook>=4.4.1->widgetsnbextension~=3.6.0->ipywidgets->qiskit-textbook==0.1.0) (23.2.1)\n",
            "Requirement already satisfied: nbformat in /usr/local/lib/python3.8/dist-packages (from notebook>=4.4.1->widgetsnbextension~=3.6.0->ipywidgets->qiskit-textbook==0.1.0) (5.7.0)\n",
            "Requirement already satisfied: prometheus-client in /usr/local/lib/python3.8/dist-packages (from notebook>=4.4.1->widgetsnbextension~=3.6.0->ipywidgets->qiskit-textbook==0.1.0) (0.15.0)\n",
            "Requirement already satisfied: jinja2<=3.0.0 in /usr/local/lib/python3.8/dist-packages (from notebook>=4.4.1->widgetsnbextension~=3.6.0->ipywidgets->qiskit-textbook==0.1.0) (2.11.3)\n",
            "Requirement already satisfied: Send2Trash in /usr/local/lib/python3.8/dist-packages (from notebook>=4.4.1->widgetsnbextension~=3.6.0->ipywidgets->qiskit-textbook==0.1.0) (1.8.0)\n",
            "Requirement already satisfied: MarkupSafe>=0.23 in /usr/local/lib/python3.8/dist-packages (from jinja2<=3.0.0->notebook>=4.4.1->widgetsnbextension~=3.6.0->ipywidgets->qiskit-textbook==0.1.0) (2.0.1)\n",
            "Requirement already satisfied: python-dateutil>=2.1 in /usr/local/lib/python3.8/dist-packages (from jupyter-client->ipykernel>=4.5.1->ipywidgets->qiskit-textbook==0.1.0) (2.8.2)\n",
            "Requirement already satisfied: platformdirs>=2.5 in /usr/local/lib/python3.8/dist-packages (from jupyter-core>=4.4.0->notebook>=4.4.1->widgetsnbextension~=3.6.0->ipywidgets->qiskit-textbook==0.1.0) (2.5.4)\n",
            "Requirement already satisfied: testpath in /usr/local/lib/python3.8/dist-packages (from nbconvert<6.0->notebook>=4.4.1->widgetsnbextension~=3.6.0->ipywidgets->qiskit-textbook==0.1.0) (0.6.0)\n",
            "Requirement already satisfied: pandocfilters>=1.4.1 in /usr/local/lib/python3.8/dist-packages (from nbconvert<6.0->notebook>=4.4.1->widgetsnbextension~=3.6.0->ipywidgets->qiskit-textbook==0.1.0) (1.5.0)\n",
            "Requirement already satisfied: defusedxml in /usr/local/lib/python3.8/dist-packages (from nbconvert<6.0->notebook>=4.4.1->widgetsnbextension~=3.6.0->ipywidgets->qiskit-textbook==0.1.0) (0.7.1)\n",
            "Requirement already satisfied: mistune<2,>=0.8.1 in /usr/local/lib/python3.8/dist-packages (from nbconvert<6.0->notebook>=4.4.1->widgetsnbextension~=3.6.0->ipywidgets->qiskit-textbook==0.1.0) (0.8.4)\n",
            "Requirement already satisfied: entrypoints>=0.2.2 in /usr/local/lib/python3.8/dist-packages (from nbconvert<6.0->notebook>=4.4.1->widgetsnbextension~=3.6.0->ipywidgets->qiskit-textbook==0.1.0) (0.4)\n",
            "Requirement already satisfied: bleach in /usr/local/lib/python3.8/dist-packages (from nbconvert<6.0->notebook>=4.4.1->widgetsnbextension~=3.6.0->ipywidgets->qiskit-textbook==0.1.0) (5.0.1)\n",
            "Requirement already satisfied: fastjsonschema in /usr/local/lib/python3.8/dist-packages (from nbformat->notebook>=4.4.1->widgetsnbextension~=3.6.0->ipywidgets->qiskit-textbook==0.1.0) (2.16.2)\n",
            "Requirement already satisfied: jsonschema>=2.6 in /usr/local/lib/python3.8/dist-packages (from nbformat->notebook>=4.4.1->widgetsnbextension~=3.6.0->ipywidgets->qiskit-textbook==0.1.0) (4.3.3)\n",
            "Requirement already satisfied: importlib-resources>=1.4.0 in /usr/local/lib/python3.8/dist-packages (from jsonschema>=2.6->nbformat->notebook>=4.4.1->widgetsnbextension~=3.6.0->ipywidgets->qiskit-textbook==0.1.0) (5.10.0)\n",
            "Requirement already satisfied: attrs>=17.4.0 in /usr/local/lib/python3.8/dist-packages (from jsonschema>=2.6->nbformat->notebook>=4.4.1->widgetsnbextension~=3.6.0->ipywidgets->qiskit-textbook==0.1.0) (22.1.0)\n",
            "Requirement already satisfied: pyrsistent!=0.17.0,!=0.17.1,!=0.17.2,>=0.14.0 in /usr/local/lib/python3.8/dist-packages (from jsonschema>=2.6->nbformat->notebook>=4.4.1->widgetsnbextension~=3.6.0->ipywidgets->qiskit-textbook==0.1.0) (0.19.2)\n",
            "Requirement already satisfied: zipp>=3.1.0 in /usr/local/lib/python3.8/dist-packages (from importlib-resources>=1.4.0->jsonschema>=2.6->nbformat->notebook>=4.4.1->widgetsnbextension~=3.6.0->ipywidgets->qiskit-textbook==0.1.0) (3.11.0)\n",
            "Requirement already satisfied: ptyprocess in /usr/local/lib/python3.8/dist-packages (from terminado>=0.8.1->notebook>=4.4.1->widgetsnbextension~=3.6.0->ipywidgets->qiskit-textbook==0.1.0) (0.7.0)\n",
            "Requirement already satisfied: webencodings in /usr/local/lib/python3.8/dist-packages (from bleach->nbconvert<6.0->notebook>=4.4.1->widgetsnbextension~=3.6.0->ipywidgets->qiskit-textbook==0.1.0) (0.5.1)\n",
            "Requirement already satisfied: kiwisolver>=1.0.1 in /usr/local/lib/python3.8/dist-packages (from matplotlib->qiskit-textbook==0.1.0) (1.4.4)\n",
            "Requirement already satisfied: cycler>=0.10 in /usr/local/lib/python3.8/dist-packages (from matplotlib->qiskit-textbook==0.1.0) (0.11.0)\n",
            "Requirement already satisfied: pyparsing!=2.0.4,!=2.1.2,!=2.1.6,>=2.0.1 in /usr/local/lib/python3.8/dist-packages (from matplotlib->qiskit-textbook==0.1.0) (3.0.9)\n",
            "Requirement already satisfied: qiskit-ibmq-provider==0.19.2 in /usr/local/lib/python3.8/dist-packages (from qiskit->qiskit-textbook==0.1.0) (0.19.2)\n",
            "Requirement already satisfied: qiskit-aer==0.11.2 in /usr/local/lib/python3.8/dist-packages (from qiskit->qiskit-textbook==0.1.0) (0.11.2)\n",
            "Requirement already satisfied: qiskit-terra==0.22.3 in /usr/local/lib/python3.8/dist-packages (from qiskit->qiskit-textbook==0.1.0) (0.22.3)\n",
            "Requirement already satisfied: scipy>=1.0 in /usr/local/lib/python3.8/dist-packages (from qiskit-aer==0.11.2->qiskit->qiskit-textbook==0.1.0) (1.7.3)\n",
            "Requirement already satisfied: websockets>=10.0 in /usr/local/lib/python3.8/dist-packages (from qiskit-ibmq-provider==0.19.2->qiskit->qiskit-textbook==0.1.0) (10.4)\n",
            "Requirement already satisfied: requests-ntlm>=1.1.0 in /usr/local/lib/python3.8/dist-packages (from qiskit-ibmq-provider==0.19.2->qiskit->qiskit-textbook==0.1.0) (1.1.0)\n",
            "Requirement already satisfied: websocket-client>=1.0.1 in /usr/local/lib/python3.8/dist-packages (from qiskit-ibmq-provider==0.19.2->qiskit->qiskit-textbook==0.1.0) (1.4.2)\n",
            "Requirement already satisfied: requests>=2.19 in /usr/local/lib/python3.8/dist-packages (from qiskit-ibmq-provider==0.19.2->qiskit->qiskit-textbook==0.1.0) (2.23.0)\n",
            "Requirement already satisfied: urllib3>=1.21.1 in /usr/local/lib/python3.8/dist-packages (from qiskit-ibmq-provider==0.19.2->qiskit->qiskit-textbook==0.1.0) (1.24.3)\n",
            "Requirement already satisfied: retworkx>=0.11.0 in /usr/local/lib/python3.8/dist-packages (from qiskit-terra==0.22.3->qiskit->qiskit-textbook==0.1.0) (0.12.1)\n",
            "Requirement already satisfied: psutil>=5 in /usr/local/lib/python3.8/dist-packages (from qiskit-terra==0.22.3->qiskit->qiskit-textbook==0.1.0) (5.4.8)\n",
            "Requirement already satisfied: sympy>=1.3 in /usr/local/lib/python3.8/dist-packages (from qiskit-terra==0.22.3->qiskit->qiskit-textbook==0.1.0) (1.7.1)\n",
            "Requirement already satisfied: tweedledum<2.0,>=1.1 in /usr/local/lib/python3.8/dist-packages (from qiskit-terra==0.22.3->qiskit->qiskit-textbook==0.1.0) (1.1.1)\n",
            "Requirement already satisfied: stevedore>=3.0.0 in /usr/local/lib/python3.8/dist-packages (from qiskit-terra==0.22.3->qiskit->qiskit-textbook==0.1.0) (4.1.1)\n",
            "Requirement already satisfied: symengine>=0.9 in /usr/local/lib/python3.8/dist-packages (from qiskit-terra==0.22.3->qiskit->qiskit-textbook==0.1.0) (0.9.2)\n",
            "Requirement already satisfied: ply>=3.10 in /usr/local/lib/python3.8/dist-packages (from qiskit-terra==0.22.3->qiskit->qiskit-textbook==0.1.0) (3.11)\n",
            "Requirement already satisfied: dill>=0.3 in /usr/local/lib/python3.8/dist-packages (from qiskit-terra==0.22.3->qiskit->qiskit-textbook==0.1.0) (0.3.6)\n",
            "Requirement already satisfied: idna<3,>=2.5 in /usr/local/lib/python3.8/dist-packages (from requests>=2.19->qiskit-ibmq-provider==0.19.2->qiskit->qiskit-textbook==0.1.0) (2.10)\n",
            "Requirement already satisfied: certifi>=2017.4.17 in /usr/local/lib/python3.8/dist-packages (from requests>=2.19->qiskit-ibmq-provider==0.19.2->qiskit->qiskit-textbook==0.1.0) (2022.9.24)\n",
            "Requirement already satisfied: chardet<4,>=3.0.2 in /usr/local/lib/python3.8/dist-packages (from requests>=2.19->qiskit-ibmq-provider==0.19.2->qiskit->qiskit-textbook==0.1.0) (3.0.4)\n",
            "Requirement already satisfied: cryptography>=1.3 in /usr/local/lib/python3.8/dist-packages (from requests-ntlm>=1.1.0->qiskit-ibmq-provider==0.19.2->qiskit->qiskit-textbook==0.1.0) (38.0.4)\n",
            "Requirement already satisfied: ntlm-auth>=1.0.2 in /usr/local/lib/python3.8/dist-packages (from requests-ntlm>=1.1.0->qiskit-ibmq-provider==0.19.2->qiskit->qiskit-textbook==0.1.0) (1.5.0)\n",
            "Requirement already satisfied: cffi>=1.12 in /usr/local/lib/python3.8/dist-packages (from cryptography>=1.3->requests-ntlm>=1.1.0->qiskit-ibmq-provider==0.19.2->qiskit->qiskit-textbook==0.1.0) (1.15.1)\n",
            "Requirement already satisfied: pycparser in /usr/local/lib/python3.8/dist-packages (from cffi>=1.12->cryptography>=1.3->requests-ntlm>=1.1.0->qiskit-ibmq-provider==0.19.2->qiskit->qiskit-textbook==0.1.0) (2.21)\n",
            "Requirement already satisfied: rustworkx==0.12.1 in /usr/local/lib/python3.8/dist-packages (from retworkx>=0.11.0->qiskit-terra==0.22.3->qiskit->qiskit-textbook==0.1.0) (0.12.1)\n",
            "Requirement already satisfied: pbr!=2.1.0,>=2.0.0 in /usr/local/lib/python3.8/dist-packages (from stevedore>=3.0.0->qiskit-terra==0.22.3->qiskit->qiskit-textbook==0.1.0) (5.11.0)\n",
            "Requirement already satisfied: mpmath>=0.19 in /usr/local/lib/python3.8/dist-packages (from sympy>=1.3->qiskit-terra==0.22.3->qiskit->qiskit-textbook==0.1.0) (1.2.1)\n"
          ]
        }
      ]
    },
    {
      "cell_type": "markdown",
      "source": [
        "Importamos en este notebook la implemenatación del algoritmo de busqueda de Grover y utilizaremos Qiskit con diferentes oraculos para su desarrollo.\n",
        "- Iniciamos importando pylab y numpy y a su vez qiskit para poder utilizar \"aer_simulator\" y otros factores para su visible implementación"
      ],
      "metadata": {
        "id": "EF4RmzYwx9UG"
      }
    },
    {
      "cell_type": "code",
      "source": [
        "import pylab\n",
        "import numpy as np\n",
        "from qiskit import Aer\n",
        "from qiskit.utils import QuantumInstance\n",
        "from qiskit.tools.visualization import plot_histogram\n",
        "from qiskit.algorithms import Grover, AmplificationProblem\n",
        "from qiskit.circuit.library.phase_oracle import PhaseOracle"
      ],
      "metadata": {
        "id": "ylu-NPp00zKY"
      },
      "execution_count": null,
      "outputs": []
    },
    {
      "cell_type": "markdown",
      "source": [
        "Primero veremos como ncontrar soluciones a los problemas 3-SAT.\n",
        "\n",
        "1. Vemos una solucion del problema de 3-Satisfabilidad (3-SAT) y vamos cómo podemos usar la búsqueda cuántica para encontrar sus soluciones satisfactorias. Los problemas de 3-SAT buscando la informacion necesaria, generalmente se expresan en Formas normales conjuntivas (Conjunctive Normal Forms, CNF) y se escriben en el formato DIMACS-CNF (segun lo investigado).\n",
        "\n",
        "2. Traere unos valores de prueba como se muestra a continuación"
      ],
      "metadata": {
        "id": "IZgJRjayy53d"
      }
    },
    {
      "cell_type": "code",
      "source": [
        "input_3sat_instance = '''\n",
        "c example DIMACS-CNF 3-SAT\n",
        "p cnf 3 5\n",
        "-1 -2 -3 0\n",
        "1 -2 3 0\n",
        "1 2 -3 0\n",
        "1 -2 -3 0\n",
        "-1 2 3 0\n",
        "'''"
      ],
      "metadata": {
        "id": "hWslJttM07zo"
      },
      "execution_count": null,
      "outputs": []
    },
    {
      "cell_type": "markdown",
      "source": [
        "En el CNF de esta instancia 3-SAT se observa que contiene 3 variables y 5 cláusulas:\n",
        "\n",
        "![image.png](data:image/png;base64,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)\n",
        "\n",
        "Podemos verificar que esta instancia de problema 3-SAT tiene tres soluciones satisfactorias:\n",
        "\n",
        " Donde V1, V2, V3 son iguales a (T, F, T) a (F, F, F) y (T, T, F)\n",
        "\n",
        "O expresado usando la notación DIMACS donde los numeros negativos son \"FALSE\" y los positivos son \"TRUE\":\n",
        "$$\n",
        "\\begin{array}{l}\n",
        "(1, -2, 3) \\\\\n",
        "(-1, -2, -3) \\\\\n",
        "(1, 2, -3)\n",
        "\\end{array}\n",
        "$$\n",
        "\n",
        "Con esta entrada a este problema, creamos el oracle correspondiente para nuestra búsqueda de Grover. En particular, utilizamos el componente PhaseOracle, que admite el análisis de cadenas de formato DIMACS-CNF y la construcción del correspondiente circuito de oráculo necesariamente."
      ],
      "metadata": {
        "id": "RO9Ot_XizyRx"
      }
    },
    {
      "cell_type": "code",
      "source": [
        "import os\n",
        "import tempfile\n",
        "from qiskit.exceptions import MissingOptionalLibraryError\n",
        "\n",
        "fp = tempfile.NamedTemporaryFile(mode='w+t', delete=False)\n",
        "fp.write(input_3sat_instance)\n",
        "file_name = fp.name\n",
        "fp.close()\n",
        "oracle = None\n",
        "try:\n",
        "    oracle = PhaseOracle.from_dimacs_file(file_name)\n",
        "except MissingOptionalLibraryError as ex:\n",
        "    print(ex)\n",
        "finally:\n",
        "    os.remove(file_name)"
      ],
      "metadata": {
        "id": "KNqEHqaP0-RP"
      },
      "execution_count": null,
      "outputs": []
    },
    {
      "cell_type": "markdown",
      "source": [
        "Digitado lo anterior podemos afirmar que \"oracle\" se puede utilizar para la instacia de Grover."
      ],
      "metadata": {
        "id": "cmPoBtOC1dav"
      }
    },
    {
      "cell_type": "code",
      "source": [
        "problem = None\n",
        "if oracle is not None:\n",
        "    problem = AmplificationProblem(oracle, is_good_state=oracle.evaluate_bitstring)"
      ],
      "metadata": {
        "id": "4uRTqz071BDG"
      },
      "execution_count": null,
      "outputs": []
    },
    {
      "cell_type": "markdown",
      "source": [
        "Después podemos configurar el backend y ejecutar la instancia de Grover para obtener el resultado:\n",
        "\n",
        "- Usaremos \"Aer\" para simular todo el proceso."
      ],
      "metadata": {
        "id": "7cih_8lG1xk6"
      }
    },
    {
      "cell_type": "code",
      "source": [
        "backend = Aer.get_backend('aer_simulator')\n",
        "quantum_instance = QuantumInstance(backend, shots=1024)\n",
        "grover = Grover(quantum_instance=quantum_instance)\n",
        "result = None\n",
        "if problem is not None:\n",
        "    result = grover.amplify(problem)\n",
        "    print(result.assignment)"
      ],
      "metadata": {
        "colab": {
          "base_uri": "https://localhost:8080/"
        },
        "id": "xYAXPli21DPe",
        "outputId": "ff78d8b8-e124-4ab7-9823-9aa0653cea1c"
      },
      "execution_count": null,
      "outputs": [
        {
          "output_type": "stream",
          "name": "stdout",
          "text": [
            "011\n"
          ]
        }
      ]
    },
    {
      "cell_type": "markdown",
      "source": [
        "Como se vio anteriormente, se obtiene una solución satisfactoria al problema 3-SAT especificado. Y de hecho es una de las tres soluciones satisfactorias.\n",
        "\n",
        "- Dado que utilizamos el 'aer_simulator', también es devuelto el resultado de la medición completa, como se muestra en la gráfica a continuación, donde se puede ver que las cadenas binarias \n",
        "$$\n",
        "\\begin{array}{l}\n",
        "000 \\\\\n",
        "011 \\\\\n",
        "101\n",
        "\\end{array}\n",
        "$$\n",
        "\n",
        "Observamos el orden de los bits en cada cadena, correspondientes a las tres soluciones satisfactorias, tienen todas altas probabilidades asociadas."
      ],
      "metadata": {
        "id": "PnOrkMVp1992"
      }
    },
    {
      "cell_type": "code",
      "source": [
        "if result is not None:\n",
        "    display(plot_histogram(result.circuit_results[0]))"
      ],
      "metadata": {
        "colab": {
          "base_uri": "https://localhost:8080/",
          "height": 340
        },
        "id": "D-VrldtG1FK_",
        "outputId": "9101f512-7915-474b-8f89-6766af74301c"
      },
      "execution_count": null,
      "outputs": [
        {
          "output_type": "display_data",
          "data": {
            "text/plain": [
              "<Figure size 504x360 with 1 Axes>"
            ],
            "image/png": "[encoded data removed]"
          },
          "metadata": {}
        }
      ]
    },
    {
      "cell_type": "markdown",
      "source": [
        "Luego vamos a realizar unas expresiones lógicas booleanas para ver su comportamiento.\n",
        "\n",
        "- Observamos que el Grover de Qiskit también se puede utilizar para realizar búsquedas cuánticas en un Oracle construido a partir de otros medios, además de DIMACS. Con esto quiero decir que, el PhaseOracle se puede configurar utilizando expresiones lógicas booleanas arbitrarias, como se muestra en el apartado de siguiente."
      ],
      "metadata": {
        "id": "23UR1Nao29O7"
      }
    },
    {
      "cell_type": "code",
      "source": [
        "expression = '(w ^ x) & ~(y ^ z) & (x & y & z)'\n",
        "try:\n",
        "    oracle = PhaseOracle(expression)\n",
        "    problem = AmplificationProblem(oracle, is_good_state=oracle.evaluate_bitstring)\n",
        "    grover = Grover(quantum_instance=QuantumInstance(Aer.get_backend('aer_simulator'), shots=1024))\n",
        "    result = grover.amplify(problem)\n",
        "    display(plot_histogram(result.circuit_results[0]))\n",
        "except MissingOptionalLibraryError as ex:\n",
        "    print(ex)"
      ],
      "metadata": {
        "colab": {
          "base_uri": "https://localhost:8080/",
          "height": 348
        },
        "id": "cHbZvAy11I3X",
        "outputId": "dce94abc-13ce-4908-913a-8b3715ae2852"
      },
      "execution_count": null,
      "outputs": [
        {
          "output_type": "display_data",
          "data": {
            "text/plain": [
              "<Figure size 504x360 with 1 Axes>"
            ],
            "image/png": "[encoded data removed]"
          },
          "metadata": {}
        }
      ]
    },
    {
      "cell_type": "markdown",
      "source": [
        "La estructura anterior, la expresión lógica booleana de entrada '(w ^ x) & ~(y ^ z) & (x & y & z)' es bastante comprendida, debido a que ^, ~, y & representan los operadores lógicos booleanos XOR, NOT y AND, como se aprendio a lo largo del curso de cuántica. \n",
        "- En base a esto es bastante fácil descubrir la solución satisfactoria examinando sus partes: w ^ x que requiere que w y x tomen valores diferentes; ~(y ^ z) requiere que y y z sean iguales; x & y & z dicta que los tres sean True. Al juntarlos, obtenemos la solución satisfactoria (w, x, y, z) = (False, True, True, True), con lo que el resultado de nuestro Grover concuerda."
      ],
      "metadata": {
        "id": "suy_0_LJ3aeA"
      }
    },
    {
      "cell_type": "markdown",
      "source": [
        "Ahora vamos a implementar la \"Amplificación de Amplitud\" en el proyecto."
      ],
      "metadata": {
        "id": "-00y0A13LAZG"
      }
    },
    {
      "cell_type": "code",
      "source": [
        "from qiskit import QuantumCircuit\n",
        "from qiskit.algorithms import AmplificationProblem\n",
        "\n"
      ],
      "metadata": {
        "id": "31RPTny7ND-D"
      },
      "execution_count": null,
      "outputs": []
    },
    {
      "cell_type": "code",
      "source": [
        "pip install pylatexenc"
      ],
      "metadata": {
        "colab": {
          "base_uri": "https://localhost:8080/"
        },
        "id": "2JtOB966OXw8",
        "outputId": "bab207aa-99fb-462b-aab7-9965398dcb24"
      },
      "execution_count": null,
      "outputs": [
        {
          "output_type": "stream",
          "name": "stdout",
          "text": [
            "Looking in indexes: https://pypi.org/simple, https://us-python.pkg.dev/colab-wheels/public/simple/\n",
            "Requirement already satisfied: pylatexenc in /usr/local/lib/python3.8/dist-packages (2.10)\n"
          ]
        }
      ]
    },
    {
      "cell_type": "markdown",
      "source": [
        "#El estado que deseamos encontrar en este caso es '11'.\n",
        "- Enotnces especificamos el oráculo que marca el estado \"11\" como una buena solución.\n",
        "- Definimos el algoritmo de Grover \n",
        "- Ahora podemos echar un vistazo al operador Grover que se utiliza en la ejecución del algoritmo"
      ],
      "metadata": {
        "id": "96NTFqcyPUa6"
      }
    },
    {
      "cell_type": "code",
      "source": [
        "good_state = ['11']\n",
        "\n",
        "oracle = QuantumCircuit(2)\n",
        "oracle.cz(0, 1)\n",
        "\n",
        "problem = AmplificationProblem(oracle, is_good_state=good_state)\n",
        "\n",
        "# Los circuitos del algoritmo se envuelven en una puerta para aparecer en la composición como un bloque\n",
        "# así que tenemos que descomponer() el op para verlo expandido en sus compuertas componentes.\n",
        "problem.grover_operator.decompose().draw(output='mpl')"
      ],
      "metadata": {
        "colab": {
          "base_uri": "https://localhost:8080/",
          "height": 150
        },
        "id": "1d7kgFoONg4X",
        "outputId": "5e4ab04f-fc61-4b23-b710-826ef45937ed"
      },
      "execution_count": null,
      "outputs": [
        {
          "output_type": "execute_result",
          "data": {
            "text/plain": [
              "<Figure size 607.568x144.48 with 1 Axes>"
            ],
            "image/png": "[encoded data removed]"
          },
          "metadata": {},
          "execution_count": 12
        }
      ]
    },
    {
      "cell_type": "code",
      "source": [
        "from qiskit import Aer\n",
        "from qiskit.utils import QuantumInstance\n",
        "from qiskit.algorithms import Grover\n",
        "\n",
        "aer_simulator = Aer.get_backend('aer_simulator')\n",
        "grover = Grover(quantum_instance=aer_simulator)\n",
        "result = grover.amplify(problem)\n",
        "print('Result type:', type(result))\n",
        "print()\n",
        "print('Success!' if result.oracle_evaluation else 'Failure!')\n",
        "print('Top measurement:', result.top_measurement)"
      ],
      "metadata": {
        "colab": {
          "base_uri": "https://localhost:8080/"
        },
        "id": "b9VPwQbINdCM",
        "outputId": "150d8e7c-c0e4-406c-9ed7-61e198989f2e"
      },
      "execution_count": null,
      "outputs": [
        {
          "output_type": "stream",
          "name": "stdout",
          "text": [
            "Result type: <class 'qiskit.algorithms.amplitude_amplifiers.grover.GroverResult'>\n",
            "\n",
            "Success!\n",
            "Top measurement: 11\n"
          ]
        }
      ]
    },
    {
      "cell_type": "markdown",
      "source": [
        "En el proyecto, el resultado de top_measurement es 11 que es un “estado correcto”. Por lo tanto, logramos encontrar la respuesta usando Grover.\n",
        "\n",
        "- En el apartado anterior, usamos QuantumCircuit como el oráculo de Grover. Sin embargo, también podemos usar qiskit.quantum_info.Statevector como oráculo. De esa manera todos los siguientes procesos |11> son el “estado correcto”."
      ],
      "metadata": {
        "id": "Edt7haP4Qdli"
      }
    },
    {
      "cell_type": "code",
      "source": [
        "from qiskit.quantum_info import Statevector\n",
        "oracle = Statevector.from_label('11')\n",
        "problem = AmplificationProblem(oracle, is_good_state=['11'])\n",
        "\n",
        "grover = Grover(quantum_instance=aer_simulator)\n",
        "result = grover.amplify(problem)\n",
        "print('Result type:', type(result))\n",
        "print()\n",
        "print('Success!' if result.oracle_evaluation else 'Failure!')\n",
        "print('Top measurement:', result.top_measurement)"
      ],
      "metadata": {
        "colab": {
          "base_uri": "https://localhost:8080/"
        },
        "id": "o_d8CylBQ65Y",
        "outputId": "b7defb52-7488-4fb1-d24d-07b0b776f341"
      },
      "execution_count": null,
      "outputs": [
        {
          "output_type": "stream",
          "name": "stdout",
          "text": [
            "Result type: <class 'qiskit.algorithms.amplitude_amplifiers.grover.GroverResult'>\n",
            "\n",
            "Success!\n",
            "Top measurement: 11\n"
          ]
        }
      ]
    },
    {
      "cell_type": "markdown",
      "source": [
        "#Ahora internamente asignamos a un circuito cuántico para ver si comportamiento."
      ],
      "metadata": {
        "id": "9Ma0vyYTQrzG"
      }
    },
    {
      "cell_type": "code",
      "source": [
        "problem.grover_operator.oracle.decompose().draw(output='mpl')"
      ],
      "metadata": {
        "colab": {
          "base_uri": "https://localhost:8080/",
          "height": 150
        },
        "id": "SG0P3iH6QdMm",
        "outputId": "180ad7f2-ea52-4d96-8bc8-96bdd2e2ff4f"
      },
      "execution_count": null,
      "outputs": [
        {
          "output_type": "execute_result",
          "data": {
            "text/plain": [
              "<Figure size 206.852x144.48 with 1 Axes>"
            ],
            "image/png": "[encoded data removed]"
          },
          "metadata": {},
          "execution_count": 15
        }
      ]
    },
    {
      "cell_type": "markdown",
      "source": [
        "Lo bueno de implementar Qiskit, es que permite una fácil construcción de oráculos más complejos: PhaseOracle: para analizar expresiones lógicas como '~a | b'. Esto es especialmente útil para resolver problemas de 3-SAT.\n",
        "\n",
        "- Aquí usaremos el PhaseOracle para el ejemplo simple de encontrar el estado |11>, que corresponde a 'a & b'."
      ],
      "metadata": {
        "id": "YSmR5T_mR2wM"
      }
    },
    {
      "cell_type": "code",
      "source": [
        "from qiskit.circuit.library.phase_oracle import PhaseOracle\n",
        "from qiskit.exceptions import MissingOptionalLibraryError\n",
        "\n",
        "# `Oracle` (`PhaseOracle`) as the `oracle` argument\n",
        "expression = '(a & b)'\n",
        "try:\n",
        "    oracle = PhaseOracle(expression)\n",
        "    problem = AmplificationProblem(oracle)\n",
        "    display(problem.grover_operator.oracle.decompose().draw(output='mpl'))\n",
        "except MissingOptionalLibraryError as ex:\n",
        "    print(ex)"
      ],
      "metadata": {
        "colab": {
          "base_uri": "https://localhost:8080/",
          "height": 140
        },
        "id": "A173Poq8STIl",
        "outputId": "b54fa1a7-dd6b-4a20-e31f-06673e45503b"
      },
      "execution_count": null,
      "outputs": [
        {
          "output_type": "display_data",
          "data": {
            "text/plain": [
              "<Figure size 267.052x144.48 with 1 Axes>"
            ],
            "image/png": "[encoded data removed]"
          },
          "metadata": {}
        }
      ]
    },
    {
      "cell_type": "markdown",
      "source": [
        "#Preparamos el estado para este caso.\n",
        "Utilizamos un argumento state_preparation para especificar un circuito cuántico que prepara un estado cuántico para el punto de inicio de la amplificación de amplitud. Por defecto, un circuito con  se usa para preparar una superposición uniforme (por lo que será la búsqueda de Grover). El circuito de difusión de la amplificación de amplitud refleja el state_preparation automáticamente."
      ],
      "metadata": {
        "id": "c8Wj3-OjSbsX"
      }
    },
    {
      "cell_type": "code",
      "source": [
        "\n",
        "# Especificando `state_preparation` para preparar una superposición de |01>, |10>, y |11>\n",
        "oracle = QuantumCircuit(3)\n",
        "oracle.h(2)\n",
        "oracle.ccx(0,1,2)\n",
        "oracle.h(2)\n",
        "\n",
        "theta = 2 * np.arccos(1 / np.sqrt(3))\n",
        "state_preparation = QuantumCircuit(3)\n",
        "state_preparation.ry(theta, 0)\n",
        "state_preparation.ch(0,1)\n",
        "state_preparation.x(1)\n",
        "state_preparation.h(2)\n",
        "\n",
        "# Sólo nos importa que los dos primeros bits estén en estado 1, por lo que añadimos ambas posibilidades para el último qubit\n",
        "problem = AmplificationProblem(oracle, state_preparation=state_preparation, is_good_state=['110', '111'])\n",
        "\n",
        "# state_preparation\n",
        "print('state preparation circuit:')\n",
        "problem.grover_operator.state_preparation.draw(output='mpl')"
      ],
      "metadata": {
        "colab": {
          "base_uri": "https://localhost:8080/",
          "height": 203
        },
        "id": "s-afpNUUSZmx",
        "outputId": "2aa6ff07-76e2-4efe-bac7-c84356e88853"
      },
      "execution_count": null,
      "outputs": [
        {
          "output_type": "stream",
          "name": "stdout",
          "text": [
            "state preparation circuit:\n"
          ]
        },
        {
          "output_type": "execute_result",
          "data": {
            "text/plain": [
              "<Figure size 267.197x204.68 with 1 Axes>"
            ],
            "image/png": "[encoded data removed]"
          },
          "metadata": {},
          "execution_count": 17
        }
      ]
    },
    {
      "cell_type": "markdown",
      "source": [
        "Importamos GroverOperator para:\n",
        "- imaginemos que el estado correcto es un estado de tres qubits  pero usamos 2 qubits adicionales como qubits auxiliares."
      ],
      "metadata": {
        "id": "_70AHYceS_J-"
      }
    },
    {
      "cell_type": "code",
      "source": [
        "from qiskit.circuit.library import GroverOperator, ZGate\n",
        "\n",
        "oracle = QuantumCircuit(5)\n",
        "oracle.append(ZGate().control(2), [0, 1, 2])\n",
        "oracle.draw(output='mpl')"
      ],
      "metadata": {
        "colab": {
          "base_uri": "https://localhost:8080/",
          "height": 276
        },
        "id": "MaDpwRPZS_rK",
        "outputId": "3b0bf1e1-0aa3-40a0-a721-092c891b401b"
      },
      "execution_count": null,
      "outputs": [
        {
          "output_type": "execute_result",
          "data": {
            "text/plain": [
              "<Figure size 146.797x325.08 with 1 Axes>"
            ],
            "image/png": "[encoded data removed]"
          },
          "metadata": {},
          "execution_count": 18
        }
      ]
    },
    {
      "cell_type": "markdown",
      "source": [
        "Luego, por defecto, el operador Grover implementa la reflexión cero en los cinco qubits."
      ],
      "metadata": {
        "id": "V2TerhoMSY7p"
      }
    },
    {
      "cell_type": "code",
      "source": [
        "grover_op = GroverOperator(oracle, insert_barriers=True)\n",
        "grover_op.decompose().draw(output='mpl')"
      ],
      "metadata": {
        "colab": {
          "base_uri": "https://localhost:8080/",
          "height": 286
        },
        "id": "Exd3xp9GTbKG",
        "outputId": "8825f75d-3a5e-4547-ef99-9e62b93f48ad"
      },
      "execution_count": null,
      "outputs": [
        {
          "output_type": "execute_result",
          "data": {
            "text/plain": [
              "<Figure size 788.314x325.08 with 1 Axes>"
            ],
            "image/png": "[encoded data removed]"
          },
          "metadata": {},
          "execution_count": 19
        }
      ]
    },
    {
      "cell_type": "markdown",
      "source": [
        "Pero sabemos que solo debemos considerar los tres primeros:"
      ],
      "metadata": {
        "id": "j3S8CoYCThyX"
      }
    },
    {
      "cell_type": "code",
      "source": [
        "grover_op = GroverOperator(oracle, reflection_qubits=[0, 1, 2], insert_barriers=True)\n",
        "grover_op.decompose().draw(output='mpl')"
      ],
      "metadata": {
        "colab": {
          "base_uri": "https://localhost:8080/",
          "height": 286
        },
        "id": "q6Q_cqJKTguG",
        "outputId": "6de6ede4-a036-4c32-b486-e20169fbc8d7"
      },
      "execution_count": null,
      "outputs": [
        {
          "output_type": "execute_result",
          "data": {
            "text/plain": [
              "<Figure size 788.314x325.08 with 1 Axes>"
            ],
            "image/png": "[encoded data removed]"
          },
          "metadata": {},
          "execution_count": 20
        }
      ]
    },
    {
      "cell_type": "markdown",
      "source": [
        "#Luego especificamos el \"good_state\"."
      ],
      "metadata": {
        "id": "uWzJT-YmToKH"
      }
    },
    {
      "cell_type": "code",
      "source": [
        "# una lista de cadenas binarias buen estado\n",
        "oracle = QuantumCircuit(2)\n",
        "oracle.cz(0, 1)\n",
        "good_state = ['11', '00']\n",
        "problem = AmplificationProblem(oracle, is_good_state=good_state)\n",
        "print(problem.is_good_state('11'))"
      ],
      "metadata": {
        "colab": {
          "base_uri": "https://localhost:8080/"
        },
        "id": "8VMOTAQtTwCO",
        "outputId": "158ce148-0799-49f9-9cb5-d20d9d4b5db8"
      },
      "execution_count": null,
      "outputs": [
        {
          "output_type": "stream",
          "name": "stdout",
          "text": [
            "True\n"
          ]
        }
      ]
    },
    {
      "cell_type": "code",
      "source": [
        "# una lista de enteros buen estado\n",
        "oracle = QuantumCircuit(2)\n",
        "oracle.cz(0, 1)\n",
        "good_state = [0, 1]\n",
        "problem = AmplificationProblem(oracle, is_good_state=good_state)\n",
        "print(problem.is_good_state('11'))"
      ],
      "metadata": {
        "colab": {
          "base_uri": "https://localhost:8080/"
        },
        "id": "vgmBDLbkT6Wc",
        "outputId": "0521f9d9-8c76-46bd-e60d-33bcc5963980"
      },
      "execution_count": null,
      "outputs": [
        {
          "output_type": "stream",
          "name": "stdout",
          "text": [
            "True\n"
          ]
        }
      ]
    },
    {
      "cell_type": "code",
      "source": [
        "from qiskit.quantum_info import Statevector\n",
        "\n",
        "# `Statevector` buen estado\n",
        "oracle = QuantumCircuit(2)\n",
        "oracle.cz(0, 1)\n",
        "good_state = Statevector.from_label('11')\n",
        "problem = AmplificationProblem(oracle, is_good_state=good_state)\n",
        "print(problem.is_good_state('11'))"
      ],
      "metadata": {
        "colab": {
          "base_uri": "https://localhost:8080/"
        },
        "id": "nJXb5_ZQUBj2",
        "outputId": "46974cc6-0274-4f7d-87b1-f717659b91f6"
      },
      "execution_count": null,
      "outputs": [
        {
          "output_type": "stream",
          "name": "stdout",
          "text": [
            "True\n"
          ]
        }
      ]
    },
    {
      "cell_type": "code",
      "source": [
        "# Buen estado invocable\n",
        "def callable_good_state(bitstr):\n",
        "    if bitstr == \"11\":\n",
        "        return True\n",
        "    return False\n",
        "\n",
        "oracle = QuantumCircuit(2)\n",
        "oracle.cz(0, 1)\n",
        "problem = AmplificationProblem(oracle, is_good_state=good_state)\n",
        "print(problem.is_good_state('11'))"
      ],
      "metadata": {
        "colab": {
          "base_uri": "https://localhost:8080/"
        },
        "id": "UQ5GDvgPULKO",
        "outputId": "22032df1-d1ba-484a-b630-20935679320e"
      },
      "execution_count": null,
      "outputs": [
        {
          "output_type": "stream",
          "name": "stdout",
          "text": [
            "True\n"
          ]
        }
      ]
    },
    {
      "cell_type": "markdown",
      "source": [
        "#El número de \"iterations\"\n",
        "El número de repeticiones de aplicar el operador de Grover es importante para obtener el resultado correcto con el algoritmo de Grover. El número de iteraciones se puede establecer mediante el argumento \"iteration\" de \"Grover\"."
      ],
      "metadata": {
        "id": "5FMS4oAkUcge"
      }
    },
    {
      "cell_type": "code",
      "source": [
        "# iteracion entera\n",
        "oracle = QuantumCircuit(2)\n",
        "oracle.cz(0, 1)\n",
        "problem = AmplificationProblem(oracle, is_good_state=['11'])\n",
        "grover = Grover(iterations=1)"
      ],
      "metadata": {
        "id": "wPRJmk4gUokv"
      },
      "execution_count": null,
      "outputs": []
    },
    {
      "cell_type": "code",
      "source": [
        "# iteración de listas\n",
        "oracle = QuantumCircuit(2)\n",
        "oracle.cz(0, 1)\n",
        "problem = AmplificationProblem(oracle, is_good_state=['11'])\n",
        "grover = Grover(iterations=[1, 2, 3])"
      ],
      "metadata": {
        "id": "zwpxJodGUrwG"
      },
      "execution_count": null,
      "outputs": []
    },
    {
      "cell_type": "code",
      "source": [
        "# using sample_from_iterations\n",
        "oracle = QuantumCircuit(2)\n",
        "oracle.cz(0, 1)\n",
        "problem = AmplificationProblem(oracle, is_good_state=['11'])\n",
        "grover = Grover(iterations=[1, 2, 3], sample_from_iterations=True)"
      ],
      "metadata": {
        "id": "sD-4QPl6UuCJ"
      },
      "execution_count": null,
      "outputs": []
    },
    {
      "cell_type": "markdown",
      "source": [
        "Cuando se conoce el número de soluciones, también podemos usar un método estático optimal_num_iterations para encontrar el número óptimo de iteraciones. Pero hay que tener en cuenta que las iteraciones de salida son un valor aproximado. Cuando el número de qubits es pequeño, las iteraciones de salida pueden no ser óptimas.\n"
      ],
      "metadata": {
        "id": "2JVp8ngdUwwv"
      }
    },
    {
      "cell_type": "code",
      "source": [
        "iterations = Grover.optimal_num_iterations(num_solutions=1, num_qubits=8)\n",
        "iterations"
      ],
      "metadata": {
        "colab": {
          "base_uri": "https://localhost:8080/"
        },
        "id": "zIHidn2OUxH-",
        "outputId": "183ec0e0-1584-473a-8863-bcd72928d9db"
      },
      "execution_count": null,
      "outputs": [
        {
          "output_type": "execute_result",
          "data": {
            "text/plain": [
              "12"
            ]
          },
          "metadata": {},
          "execution_count": 28
        }
      ]
    },
    {
      "cell_type": "markdown",
      "source": [
        "##PARA FINALIZAR CON EL PROYECTO\n",
        "Aplicamos post_processing\n",
        "- Podemos aplicar un posprocesamiento opcional a la medición superior para facilitar la lectura. Se puede utilizar, por ejemplo, para convertir de la representación de bits de la medición [1, 0, 1] a un formato DIMACS CNF [1, -2, 3]."
      ],
      "metadata": {
        "id": "hy2rdRhiVahl"
      }
    },
    {
      "cell_type": "code",
      "source": [
        "def to_DIAMACS_CNF_format(bit_rep):\n",
        "    return [index+1 if val==1 else -1 * (index + 1) for index, val in enumerate(bit_rep)]\n",
        "\n",
        "oracle = QuantumCircuit(2)\n",
        "oracle.cz(0, 1)\n",
        "problem = AmplificationProblem(oracle, is_good_state=['11'], post_processing=to_DIAMACS_CNF_format)\n",
        "problem.post_processing([1, 0, 1])"
      ],
      "metadata": {
        "colab": {
          "base_uri": "https://localhost:8080/"
        },
        "id": "6yTiA-AxUc5t",
        "outputId": "d0a4bace-7a95-4c96-d0af-b4ba76098813"
      },
      "execution_count": null,
      "outputs": [
        {
          "output_type": "execute_result",
          "data": {
            "text/plain": [
              "[1, -2, 3]"
            ]
          },
          "metadata": {},
          "execution_count": 29
        }
      ]
    },
    {
      "cell_type": "markdown",
      "source": [
        "##PROYECTO FINALIZADO.\n",
        "- GRACIAS POR TOMARSE EL TIEMPO DE REVISAR TODO EL PROYECTO."
      ],
      "metadata": {
        "id": "o2JBbFL3WCwE"
      }
    }
  ]
}